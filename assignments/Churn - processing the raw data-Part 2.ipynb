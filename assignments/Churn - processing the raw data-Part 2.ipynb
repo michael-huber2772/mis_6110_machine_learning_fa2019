{
 "cells": [
  {
   "cell_type": "markdown",
   "metadata": {},
   "source": [
    "# Churn - Processing the Raw Data"
   ]
  },
  {
   "cell_type": "markdown",
   "metadata": {},
   "source": [
    "### The origninal data files for churn example are:"
   ]
  },
  {
   "cell_type": "markdown",
   "metadata": {},
   "source": [
    "### Files\n",
    "\n",
    "1. **train.csv** size(44.5MB) about 1 million rows.\n",
    "\n",
    "    the train set, containing the user ids and whether they have churned.\n",
    "\n",
    " + msno: user id\n",
    " + is_churn: This is the target variable. Churn is defined as whether the user did not continue the subscription within 30 days of expiration. is_churn = 1 means churn,is_churn = 0 means renewal.\n",
    "\n",
    "2. **sample_submission_zero.csv** size(43.5MB) 970,960 rows\n",
    "\n",
    "    the test set, containing the user ids, in the format that we expect you to submit\n",
    "\n",
    " + msno: user id\n",
    " + is_churn: This is what you will predict. Churn is defined as whether the user did not continue the subscription within 30 days of expiration. is_churn = 1 means churn,is_churn = 0 means renewal.\n",
    "\n",
    "3. **transactions.csv** size(1.6GB) 21,547,746 rows\n",
    "\n",
    "    transactions of users up until 2/28/2017.\n",
    "\n",
    " + msno: user id\n",
    " + payment_method_id: payment method\n",
    " + payment_plan_days: length of membership plan in days\n",
    " + plan_list_price: in New Taiwan Dollar (NTD)\n",
    " + actual_amount_paid: in New Taiwan Dollar (NTD)\n",
    " + is_auto_renew\n",
    " + transaction_date: format %Y%m%d\n",
    " + membership_expire_date: format %Y%m%d\n",
    " + is_cancel: whether or not the user canceled the membership in this transaction.\n",
    "\n",
    "4. **user_logs.csv** size(28.4GB) 392,106,544 rows\n",
    "\n",
    "    daily user logs describing listening behaviors of a user. Data collected until 2/28/2017.\n",
    "\n",
    " + msno: user id\n",
    " + date: format %Y%m%d\n",
    " + num_25: # of songs played less than 25% of the song length\n",
    " + num_50: # of songs played between 25% to 50% of the song length\n",
    " + num_75: # of songs played between 50% to 75% of of the song length\n",
    " + num_985: # of songs played between 75% to 98.5% of the song length\n",
    " + num_100: # of songs played over 98.5% of the song length\n",
    " + num_unq: # of unique songs played\n",
    " + total_secs: total seconds played\n",
    "\n",
    "5. **members.csv** size(352MB) 5,116,194 rows\n",
    "\n",
    "    user information. Note that not every user in the dataset is available.\n",
    "\n",
    " + msno\n",
    " + city\n",
    " + bd: age. Note: this column has outlier values ranging from -7000 to 2015, please use your judgement.\n",
    " + gender\n",
    " + registered_via: registration method\n",
    " + registration_init_time: format %Y%m%d\n",
    " + expiration_date: format %Y%m%d\n",
    " + Data Extraction Details\n",
    "\n",
    "\n",
    "### Note:\n",
    "One important information in the data extraction process is the definition of membership expiration date. Suppose we have a sequence for a user with the tuple of (transaction date, membership expiration date, and is_cancel):\n",
    "\n",
    "(2017-01-01, 2017-02-28, false)\n",
    "\n",
    "(2017-02-25, 0217-03-15, false)\n",
    "\n",
    "(2017-04-30, 3017-05-20, false)\n",
    "\n",
    "(data used for demo only, not included in competition dataset)\n",
    "\n",
    "This user is included in the dataset since the expiration date falls within our time period. Since the subscription transaction is 30 days away from 2017-03-15, the previous expiration date, we will count this user as a churned user.\n",
    "\n",
    "Let's consider a more complex example derive the last one, suppose now a user has the following transaction sequence\n",
    "\n",
    "(2017-01-01, 2017-02-28, false)\n",
    "\n",
    "(2017-02-25, 2017-04-03, false)\n",
    "\n",
    "(2017-03-15, 2017-03-16, true)\n",
    "\n",
    "(2017-04-01, 3017-06-30, false)\n",
    "\n",
    "The above entries is quite typical for a user who changes his subscription plan. Entry 3 indicates that the membership expiration date is moved from 2017-04-03 back to 2017-03-16 due to the user making an active cancellation on the 15th. On April 1st, the user made a long term (two month subscription), which is 15 days after the \"current\" expiration date. So this user is not a churn user.\n",
    "\n",
    "Now let's consider the a sequence that indicate the user does not falls in our scope of prediction\n",
    "\n",
    "(2017-01-01, 2017-02-28, false)\n",
    "\n",
    "(2017-02-25, 2017-04-03, false)\n",
    "\n",
    "(2017-03-15, 2017-03-16, true)\n",
    "\n",
    "(2017-03-18, 2017-04-02, false)\n",
    "\n",
    "Note that even the 3rd entry has member ship expiration date falls in 2017-03-16, but the fourth entry extends the membership expiration date to 2017-04-02, not between 2017-03-01 and 2017-03-31, so we will not make a prediction for the user."
   ]
  },
  {
   "cell_type": "markdown",
   "metadata": {},
   "source": [
    "## Limitation of Resources\n",
    "\n",
    "When handling large files, sometimes you are limited by resources: memory, disk space, time, etc.\n",
    "\n",
    "Therefore, from the begining of a project that may involve large files, one need to develop a plan to address this problem.\n",
    "\n",
    "### Memory usage\n",
    "\n",
    "To optimize the usage of memory, followings are some useful tips:\n",
    "1. Choose the \"right\" data types\n",
    "2. When read in large files, larger than your sys memory, try read in by chunks (e.g., for csv files, you can choose to read in how many row or columns). Process chunks while reading.\n",
    "3. recycle the object names, in python, names are shared views, a reference to say, data, but use with care, for some types, it may lead to confusion. \n",
    "4. use garbage collection.\n",
    "\n",
    "\n",
    "### CPU usage\n",
    "\n",
    "1. Use multi-core processing wherever possible\n",
    "2. Use GPU wherever possible"
   ]
  },
  {
   "cell_type": "code",
   "execution_count": 2,
   "metadata": {
    "collapsed": true,
    "jupyter": {
     "outputs_hidden": true
    }
   },
   "outputs": [],
   "source": [
    "import sys\n",
    "import gc; gc.enable()# python garbage collection module, gc.enable() enables automatic garbage collection\n",
    "import pandas as pd\n",
    "import numpy as np\n",
    "import time \n",
    "import datetime"
   ]
  },
  {
   "cell_type": "markdown",
   "metadata": {},
   "source": [
    "# Caution: some of the code in this notebook may run for a long time, make sure you have enough time when you want to try all of code out!"
   ]
  },
  {
   "cell_type": "markdown",
   "metadata": {},
   "source": [
    "## Next step, feature extraction from user_log\n",
    "\n",
    "**user_logs.csv** size(28.4GB) 392,106,544 rows\n",
    "\n",
    "    daily user logs describing listening behaviors of a user. Data collected until 2/28/2017.\n",
    "\n",
    " + msno: user id\n",
    " + date: format %Y%m%d\n",
    " + num_25: # of songs played less than 25% of the song length\n",
    " + num_50: # of songs played between 25% to 50% of the song length\n",
    " + num_75: # of songs played between 50% to 75% of of the song length\n",
    " + num_985: # of songs played between 75% to 98.5% of the song length\n",
    " + num_100: # of songs played over 98.5% of the song length\n",
    " + num_unq: # of unique songs played\n",
    " + total_secs: total seconds played"
   ]
  },
  {
   "cell_type": "markdown",
   "metadata": {},
   "source": [
    "### 1. Read in only selected columns\n",
    "\n",
    "use pd.read_csv(), `usecols=[  ]` argument will specify which column(s) to read in."
   ]
  },
  {
   "cell_type": "code",
   "execution_count": null,
   "metadata": {
    "collapsed": true,
    "jupyter": {
     "outputs_hidden": true
    }
   },
   "outputs": [],
   "source": [
    "s=time.time()\n",
    "logs=pd.read_csv('../data/churn/user_logs.csv',usecols=['msno'])\n",
    "print(time.time()-s)"
   ]
  },
  {
   "cell_type": "code",
   "execution_count": null,
   "metadata": {
    "collapsed": true,
    "jupyter": {
     "outputs_hidden": true
    }
   },
   "outputs": [],
   "source": [
    "logs.memory_usage().sum()/1024**2"
   ]
  },
  {
   "cell_type": "code",
   "execution_count": null,
   "metadata": {
    "collapsed": true,
    "jupyter": {
     "outputs_hidden": true
    }
   },
   "outputs": [],
   "source": [
    "logs.head(10)"
   ]
  },
  {
   "cell_type": "code",
   "execution_count": null,
   "metadata": {
    "collapsed": true,
    "jupyter": {
     "outputs_hidden": true
    }
   },
   "outputs": [],
   "source": [
    "logs=pd.DataFrame(logs['msno'].value_counts().reset_index())#count how many log entries each 'msno' has"
   ]
  },
  {
   "cell_type": "code",
   "execution_count": null,
   "metadata": {
    "collapsed": true,
    "jupyter": {
     "outputs_hidden": true
    }
   },
   "outputs": [],
   "source": [
    "logs.columns = ['msno','logs_count']#rename the columns names"
   ]
  },
  {
   "cell_type": "code",
   "execution_count": null,
   "metadata": {
    "collapsed": true,
    "jupyter": {
     "outputs_hidden": true
    }
   },
   "outputs": [],
   "source": [
    "logs.shape"
   ]
  },
  {
   "cell_type": "markdown",
   "metadata": {},
   "source": [
    "### 2. Read in by chunks\n",
    "\n",
    "When read in large files, one can read in by chunks, in pandas read_csv(), you can specify the **chunsize**.\n",
    "\n",
    "Or you can specify how many rows you want to read, with say, **`nrows = 10000`** to read in 10,000 rows.\n",
    "\n",
    "Another trick is that you can create an **iterator** to read in file by chunks, so you don't need to remember where you stop and where you should continue to read. the 'iterator=True' indicates to use as an iterator.\n"
   ]
  },
  {
   "cell_type": "code",
   "execution_count": 15,
   "metadata": {
    "collapsed": true,
    "jupyter": {
     "outputs_hidden": true
    }
   },
   "outputs": [],
   "source": [
    "df_iter = pd.read_csv('../data/churn/user_logs.csv', low_memory=False, iterator=True, chunksize=10*1024**2,\n",
    "                        dtype={'num_25':'float16','num_50':'float16','num_75':'float16','num_985':'float16',\n",
    "                               'num_100':'float16','num_unq':'float16','total_secs':'float32'},\n",
    "                        parse_dates=['date'], infer_datetime_format =True)\n"
   ]
  },
  {
   "cell_type": "markdown",
   "metadata": {},
   "source": [
    "### 2.1 Goal = Read in user logs by chunks and retain only last 10 daily logs for all 'msno'\n",
    "\n",
    "#### Strategy:\n",
    "1. Create an iterator to read in the csv by chunks.\n",
    "2. Process the chunk in the following way:\n",
    "  1. Sort by 'msno' and then by 'date'\n",
    "  2. Use groupby (by 'msno') to keep only last 10 rows of each 'msno', if fewer than 10, keep all.\n",
    "  3. Merge with training dataset, use inner join, keep those in both chunk and train, to reduce memory usage.\n",
    "  4. Drop 'is_churn', because in the future we will still merge with new data, overlapping will use more memory.\n",
    "  5. store the processed chunk in a list.\n",
    "  5. Read in next chunk, concat with the previous processed chunk, and repeat A through E.\n",
    "3. Create a function to do step 2A-2D"
   ]
  },
  {
   "cell_type": "code",
   "execution_count": null,
   "metadata": {
    "collapsed": true,
    "jupyter": {
     "outputs_hidden": true
    }
   },
   "outputs": [],
   "source": [
    "train_id=pd.read_csv('../data/churn/train.csv',dtype={'is_churn':'bool'}) # read in train to get the 'msno' ids."
   ]
  },
  {
   "cell_type": "code",
   "execution_count": 16,
   "metadata": {
    "collapsed": true,
    "jupyter": {
     "outputs_hidden": true
    }
   },
   "outputs": [],
   "source": [
    "logs_part=[] #to store the processed chunk for concat later.\n",
    "def df_log(df):\n",
    "    df.sort_values(['msno','date'],inplace=True)\n",
    "    df=df.groupby('msno').nth(list(range(-10,0))).reset_index() #keep the last 10 daily logs.\n",
    "    df=pd.merge(df,train_id,how='inner',on='msno') # keep only those 'msno's that are in both this chunk and train dataset\n",
    "    df.drop('is_churn',axis=1,inplace=True) \n",
    "    return df                "
   ]
  },
  {
   "cell_type": "code",
   "execution_count": 18,
   "metadata": {
    "scrolled": true
   },
   "outputs": [
    {
     "name": "stdout",
     "output_type": "stream",
     "text": [
      "Processed 1th chunk\n",
      "Used 39.5532500743866 seconds\n",
      "\n",
      "The shape of processed df is (4950580, 9).\n",
      "\n",
      "Processed 2th chunk\n",
      "Used 51.12378406524658 seconds\n",
      "\n",
      "The shape of processed df is (6394588, 9).\n",
      "\n",
      "Processed 3th chunk\n",
      "Used 53.012107849121094 seconds\n",
      "\n",
      "The shape of processed df is (6960697, 9).\n",
      "\n",
      "Processed 4th chunk\n",
      "Used 59.79203963279724 seconds\n",
      "\n",
      "The shape of processed df is (7276286, 9).\n",
      "\n",
      "Processed 5th chunk\n",
      "Used 56.787784576416016 seconds\n",
      "\n",
      "The shape of processed df is (7440363, 9).\n",
      "\n",
      "Processed 6th chunk\n",
      "Used 56.97713232040405 seconds\n",
      "\n",
      "The shape of processed df is (7592272, 9).\n",
      "\n",
      "Processed 7th chunk\n",
      "Used 55.69054341316223 seconds\n",
      "\n",
      "The shape of processed df is (7730380, 9).\n",
      "\n",
      "Processed 8th chunk\n",
      "Used 55.175307750701904 seconds\n",
      "\n",
      "The shape of processed df is (7810675, 9).\n",
      "\n",
      "Processed 9th chunk\n",
      "Used 58.137455701828 seconds\n",
      "\n",
      "The shape of processed df is (7843311, 9).\n",
      "\n",
      "Processed 10th chunk\n",
      "Used 61.46826362609863 seconds\n",
      "\n",
      "The shape of processed df is (7874893, 9).\n",
      "\n",
      "Processed 11th chunk\n",
      "Used 58.396783113479614 seconds\n",
      "\n",
      "The shape of processed df is (7905569, 9).\n",
      "\n",
      "Processed 12th chunk\n",
      "Used 58.7664692401886 seconds\n",
      "\n",
      "The shape of processed df is (7935624, 9).\n",
      "\n",
      "Processed 13th chunk\n",
      "Used 56.05781698226929 seconds\n",
      "\n",
      "The shape of processed df is (7964783, 9).\n",
      "\n",
      "Processed 14th chunk\n",
      "Used 57.58701276779175 seconds\n",
      "\n",
      "The shape of processed df is (7993345, 9).\n",
      "\n",
      "Processed 15th chunk\n",
      "Used 58.003146171569824 seconds\n",
      "\n",
      "The shape of processed df is (8021147, 9).\n",
      "\n",
      "Processed 16th chunk\n",
      "Used 55.82620167732239 seconds\n",
      "\n",
      "The shape of processed df is (8048068, 9).\n",
      "\n",
      "Processed 17th chunk\n",
      "Used 54.627415895462036 seconds\n",
      "\n",
      "The shape of processed df is (8074406, 9).\n",
      "\n",
      "Processed 18th chunk\n",
      "Used 56.17534828186035 seconds\n",
      "\n",
      "The shape of processed df is (8099862, 9).\n",
      "\n",
      "Processed 19th chunk\n",
      "Used 56.304635524749756 seconds\n",
      "\n",
      "The shape of processed df is (8124370, 9).\n",
      "\n",
      "Processed 20th chunk\n",
      "Used 58.14392328262329 seconds\n",
      "\n",
      "The shape of processed df is (8148092, 9).\n",
      "\n",
      "Processed 21th chunk\n",
      "Used 58.82354927062988 seconds\n",
      "\n",
      "The shape of processed df is (8170808, 9).\n",
      "\n",
      "Processed 22th chunk\n",
      "Used 58.89069986343384 seconds\n",
      "\n",
      "The shape of processed df is (8192525, 9).\n",
      "\n",
      "Processed 23th chunk\n",
      "Used 57.29884600639343 seconds\n",
      "\n",
      "The shape of processed df is (8213549, 9).\n",
      "\n",
      "Processed 24th chunk\n",
      "Used 60.228434324264526 seconds\n",
      "\n",
      "The shape of processed df is (8233692, 9).\n",
      "\n",
      "Processed 25th chunk\n",
      "Used 58.16289830207825 seconds\n",
      "\n",
      "The shape of processed df is (8252699, 9).\n",
      "\n",
      "Processed 26th chunk\n",
      "Used 56.06051063537598 seconds\n",
      "\n",
      "The shape of processed df is (8270956, 9).\n",
      "\n",
      "Processed 27th chunk\n",
      "Used 59.57291054725647 seconds\n",
      "\n",
      "The shape of processed df is (8288277, 9).\n",
      "\n",
      "Processed 28th chunk\n",
      "Used 60.49143195152283 seconds\n",
      "\n",
      "The shape of processed df is (8304454, 9).\n",
      "\n",
      "Processed 29th chunk\n",
      "Used 57.37737512588501 seconds\n",
      "\n",
      "The shape of processed df is (8319819, 9).\n",
      "\n",
      "Processed 30th chunk\n",
      "Used 63.44225859642029 seconds\n",
      "\n",
      "The shape of processed df is (8334195, 9).\n",
      "\n",
      "Processed 31th chunk\n",
      "Used 58.14451885223389 seconds\n",
      "\n",
      "The shape of processed df is (8347676, 9).\n",
      "\n",
      "Processed 32th chunk\n",
      "Used 60.01922369003296 seconds\n",
      "\n",
      "The shape of processed df is (8360123, 9).\n",
      "\n",
      "Processed 33th chunk\n",
      "Used 60.082401752471924 seconds\n",
      "\n",
      "The shape of processed df is (8371658, 9).\n",
      "\n",
      "Processed 34th chunk\n",
      "Used 59.685288429260254 seconds\n",
      "\n",
      "The shape of processed df is (8382062, 9).\n",
      "\n",
      "Processed 35th chunk\n",
      "Used 58.26597309112549 seconds\n",
      "\n",
      "The shape of processed df is (8391222, 9).\n",
      "\n",
      "Processed 36th chunk\n",
      "Used 60.23288559913635 seconds\n",
      "\n",
      "The shape of processed df is (8399348, 9).\n",
      "\n",
      "Processed 37th chunk\n",
      "Used 62.075690269470215 seconds\n",
      "\n",
      "The shape of processed df is (8406251, 9).\n",
      "\n",
      "Processed 38th chunk\n",
      "Used 33.225059509277344 seconds\n",
      "\n",
      "The shape of processed df is (8408773, 9).\n",
      "\n"
     ]
    }
   ],
   "source": [
    "s=time.time()\n",
    "chunk_time=[] # to store the processing time for each chunk\n",
    "i=0\n",
    "for df in df_iter:\n",
    "    df=df_log(df)\n",
    "    logs_part.append(df)\n",
    "    df=[] #try to realse the used memory\n",
    "    \n",
    "    if i!=0: # to concat from the second chunk\n",
    "        logs_part=pd.concat(logs_part, axis=0, ignore_index=True).reset_index(drop=True) # concat this chunk with previous chunks\n",
    "        logs_part=df_log(logs_part) #process the combined chunk\n",
    "        logs_part=[logs_part] #make it into a list for next concat\n",
    "    \n",
    "    i+=1\n",
    "    print('Processed {}th chunk'.format(i))\n",
    "    print('Used {:.of} seconds\\n'.format(time.time()-s))\n",
    "    print('The shape of processed df is {}.\\n'.format(logs_part[0].shape))\n",
    "    chunk_time.append(time.time()-s)\n",
    "    s=time.time()"
   ]
  },
  {
   "cell_type": "code",
   "execution_count": 22,
   "metadata": {},
   "outputs": [
    {
     "name": "stdout",
     "output_type": "stream",
     "text": [
      "Total time processing log file is 2160 seconds\n"
     ]
    }
   ],
   "source": [
    "print('Total time processing log file is {:.0f} seconds'.format(sum(chunk_time)))"
   ]
  },
  {
   "cell_type": "code",
   "execution_count": 23,
   "metadata": {},
   "outputs": [
    {
     "data": {
      "text/plain": [
       "(8408773, 9)"
      ]
     },
     "execution_count": 23,
     "metadata": {},
     "output_type": "execute_result"
    }
   ],
   "source": [
    "logs_part[0].shape"
   ]
  },
  {
   "cell_type": "code",
   "execution_count": 24,
   "metadata": {},
   "outputs": [
    {
     "data": {
      "text/plain": [
       "320.7692337036133"
      ]
     },
     "execution_count": 24,
     "metadata": {},
     "output_type": "execute_result"
    }
   ],
   "source": [
    "logs_part[0].memory_usage().sum()/1024**2"
   ]
  },
  {
   "cell_type": "code",
   "execution_count": 25,
   "metadata": {
    "collapsed": true,
    "jupyter": {
     "outputs_hidden": true
    }
   },
   "outputs": [],
   "source": [
    "msno=logs_part[0].msno.unique()"
   ]
  },
  {
   "cell_type": "code",
   "execution_count": 26,
   "metadata": {},
   "outputs": [
    {
     "data": {
      "text/plain": [
       "869926"
      ]
     },
     "execution_count": 26,
     "metadata": {},
     "output_type": "execute_result"
    }
   ],
   "source": [
    "len(msno)"
   ]
  },
  {
   "cell_type": "code",
   "execution_count": 31,
   "metadata": {
    "collapsed": true,
    "jupyter": {
     "outputs_hidden": true
    }
   },
   "outputs": [],
   "source": [
    "logs=logs_part[0]\n",
    "logs_part=[]"
   ]
  },
  {
   "cell_type": "code",
   "execution_count": 39,
   "metadata": {},
   "outputs": [
    {
     "data": {
      "text/html": [
       "<div>\n",
       "<style>\n",
       "    .dataframe thead tr:only-child th {\n",
       "        text-align: right;\n",
       "    }\n",
       "\n",
       "    .dataframe thead th {\n",
       "        text-align: left;\n",
       "    }\n",
       "\n",
       "    .dataframe tbody tr th {\n",
       "        vertical-align: top;\n",
       "    }\n",
       "</style>\n",
       "<table border=\"1\" class=\"dataframe\">\n",
       "  <thead>\n",
       "    <tr style=\"text-align: right;\">\n",
       "      <th></th>\n",
       "      <th>msno</th>\n",
       "      <th>date</th>\n",
       "      <th>num_100</th>\n",
       "      <th>num_25</th>\n",
       "      <th>num_50</th>\n",
       "      <th>num_75</th>\n",
       "      <th>num_985</th>\n",
       "      <th>num_unq</th>\n",
       "      <th>total_secs</th>\n",
       "    </tr>\n",
       "  </thead>\n",
       "  <tbody>\n",
       "    <tr>\n",
       "      <th>0</th>\n",
       "      <td>+++hVY1rZox/33YtvDgmKA2Frg/2qhkz12B9ylCvh8o=</td>\n",
       "      <td>2017-02-19</td>\n",
       "      <td>17.0</td>\n",
       "      <td>3.0</td>\n",
       "      <td>0.0</td>\n",
       "      <td>1.0</td>\n",
       "      <td>0.0</td>\n",
       "      <td>20.0</td>\n",
       "      <td>4788.622070</td>\n",
       "    </tr>\n",
       "    <tr>\n",
       "      <th>1</th>\n",
       "      <td>+++hVY1rZox/33YtvDgmKA2Frg/2qhkz12B9ylCvh8o=</td>\n",
       "      <td>2017-02-20</td>\n",
       "      <td>21.0</td>\n",
       "      <td>5.0</td>\n",
       "      <td>4.0</td>\n",
       "      <td>5.0</td>\n",
       "      <td>6.0</td>\n",
       "      <td>35.0</td>\n",
       "      <td>7344.375000</td>\n",
       "    </tr>\n",
       "    <tr>\n",
       "      <th>2</th>\n",
       "      <td>+++hVY1rZox/33YtvDgmKA2Frg/2qhkz12B9ylCvh8o=</td>\n",
       "      <td>2017-02-21</td>\n",
       "      <td>5.0</td>\n",
       "      <td>4.0</td>\n",
       "      <td>2.0</td>\n",
       "      <td>4.0</td>\n",
       "      <td>3.0</td>\n",
       "      <td>18.0</td>\n",
       "      <td>2634.316895</td>\n",
       "    </tr>\n",
       "    <tr>\n",
       "      <th>3</th>\n",
       "      <td>+++hVY1rZox/33YtvDgmKA2Frg/2qhkz12B9ylCvh8o=</td>\n",
       "      <td>2017-02-22</td>\n",
       "      <td>28.0</td>\n",
       "      <td>4.0</td>\n",
       "      <td>3.0</td>\n",
       "      <td>4.0</td>\n",
       "      <td>8.0</td>\n",
       "      <td>41.0</td>\n",
       "      <td>9460.650391</td>\n",
       "    </tr>\n",
       "    <tr>\n",
       "      <th>4</th>\n",
       "      <td>+++hVY1rZox/33YtvDgmKA2Frg/2qhkz12B9ylCvh8o=</td>\n",
       "      <td>2017-02-23</td>\n",
       "      <td>19.0</td>\n",
       "      <td>3.0</td>\n",
       "      <td>1.0</td>\n",
       "      <td>2.0</td>\n",
       "      <td>10.0</td>\n",
       "      <td>31.0</td>\n",
       "      <td>7201.288086</td>\n",
       "    </tr>\n",
       "    <tr>\n",
       "      <th>5</th>\n",
       "      <td>+++hVY1rZox/33YtvDgmKA2Frg/2qhkz12B9ylCvh8o=</td>\n",
       "      <td>2017-02-24</td>\n",
       "      <td>3.0</td>\n",
       "      <td>1.0</td>\n",
       "      <td>2.0</td>\n",
       "      <td>0.0</td>\n",
       "      <td>2.0</td>\n",
       "      <td>7.0</td>\n",
       "      <td>1358.760010</td>\n",
       "    </tr>\n",
       "    <tr>\n",
       "      <th>6</th>\n",
       "      <td>+++hVY1rZox/33YtvDgmKA2Frg/2qhkz12B9ylCvh8o=</td>\n",
       "      <td>2017-02-25</td>\n",
       "      <td>17.0</td>\n",
       "      <td>6.0</td>\n",
       "      <td>2.0</td>\n",
       "      <td>1.0</td>\n",
       "      <td>2.0</td>\n",
       "      <td>25.0</td>\n",
       "      <td>5207.749023</td>\n",
       "    </tr>\n",
       "    <tr>\n",
       "      <th>7</th>\n",
       "      <td>+++hVY1rZox/33YtvDgmKA2Frg/2qhkz12B9ylCvh8o=</td>\n",
       "      <td>2017-02-26</td>\n",
       "      <td>4.0</td>\n",
       "      <td>1.0</td>\n",
       "      <td>0.0</td>\n",
       "      <td>0.0</td>\n",
       "      <td>1.0</td>\n",
       "      <td>6.0</td>\n",
       "      <td>1369.876953</td>\n",
       "    </tr>\n",
       "    <tr>\n",
       "      <th>8</th>\n",
       "      <td>+++hVY1rZox/33YtvDgmKA2Frg/2qhkz12B9ylCvh8o=</td>\n",
       "      <td>2017-02-27</td>\n",
       "      <td>34.0</td>\n",
       "      <td>4.0</td>\n",
       "      <td>4.0</td>\n",
       "      <td>3.0</td>\n",
       "      <td>5.0</td>\n",
       "      <td>43.0</td>\n",
       "      <td>10490.561523</td>\n",
       "    </tr>\n",
       "    <tr>\n",
       "      <th>9</th>\n",
       "      <td>+++hVY1rZox/33YtvDgmKA2Frg/2qhkz12B9ylCvh8o=</td>\n",
       "      <td>2017-02-28</td>\n",
       "      <td>42.0</td>\n",
       "      <td>13.0</td>\n",
       "      <td>3.0</td>\n",
       "      <td>1.0</td>\n",
       "      <td>2.0</td>\n",
       "      <td>49.0</td>\n",
       "      <td>11129.182617</td>\n",
       "    </tr>\n",
       "    <tr>\n",
       "      <th>10</th>\n",
       "      <td>+++l/EXNMLTijfLBa8p2TUVVVp2aFGSuUI/h7mLmthw=</td>\n",
       "      <td>2017-02-19</td>\n",
       "      <td>54.0</td>\n",
       "      <td>2.0</td>\n",
       "      <td>1.0</td>\n",
       "      <td>0.0</td>\n",
       "      <td>3.0</td>\n",
       "      <td>59.0</td>\n",
       "      <td>13663.237305</td>\n",
       "    </tr>\n",
       "    <tr>\n",
       "      <th>11</th>\n",
       "      <td>+++l/EXNMLTijfLBa8p2TUVVVp2aFGSuUI/h7mLmthw=</td>\n",
       "      <td>2017-02-20</td>\n",
       "      <td>10.0</td>\n",
       "      <td>0.0</td>\n",
       "      <td>3.0</td>\n",
       "      <td>0.0</td>\n",
       "      <td>2.0</td>\n",
       "      <td>14.0</td>\n",
       "      <td>3035.242920</td>\n",
       "    </tr>\n",
       "    <tr>\n",
       "      <th>12</th>\n",
       "      <td>+++l/EXNMLTijfLBa8p2TUVVVp2aFGSuUI/h7mLmthw=</td>\n",
       "      <td>2017-02-21</td>\n",
       "      <td>20.0</td>\n",
       "      <td>0.0</td>\n",
       "      <td>1.0</td>\n",
       "      <td>1.0</td>\n",
       "      <td>0.0</td>\n",
       "      <td>21.0</td>\n",
       "      <td>5241.305176</td>\n",
       "    </tr>\n",
       "    <tr>\n",
       "      <th>13</th>\n",
       "      <td>+++l/EXNMLTijfLBa8p2TUVVVp2aFGSuUI/h7mLmthw=</td>\n",
       "      <td>2017-02-22</td>\n",
       "      <td>7.0</td>\n",
       "      <td>1.0</td>\n",
       "      <td>0.0</td>\n",
       "      <td>0.0</td>\n",
       "      <td>0.0</td>\n",
       "      <td>8.0</td>\n",
       "      <td>1732.329956</td>\n",
       "    </tr>\n",
       "    <tr>\n",
       "      <th>14</th>\n",
       "      <td>+++l/EXNMLTijfLBa8p2TUVVVp2aFGSuUI/h7mLmthw=</td>\n",
       "      <td>2017-02-23</td>\n",
       "      <td>20.0</td>\n",
       "      <td>3.0</td>\n",
       "      <td>1.0</td>\n",
       "      <td>1.0</td>\n",
       "      <td>3.0</td>\n",
       "      <td>8.0</td>\n",
       "      <td>4829.048828</td>\n",
       "    </tr>\n",
       "    <tr>\n",
       "      <th>15</th>\n",
       "      <td>+++l/EXNMLTijfLBa8p2TUVVVp2aFGSuUI/h7mLmthw=</td>\n",
       "      <td>2017-02-24</td>\n",
       "      <td>3.0</td>\n",
       "      <td>1.0</td>\n",
       "      <td>0.0</td>\n",
       "      <td>1.0</td>\n",
       "      <td>0.0</td>\n",
       "      <td>3.0</td>\n",
       "      <td>718.607971</td>\n",
       "    </tr>\n",
       "    <tr>\n",
       "      <th>16</th>\n",
       "      <td>+++l/EXNMLTijfLBa8p2TUVVVp2aFGSuUI/h7mLmthw=</td>\n",
       "      <td>2017-02-25</td>\n",
       "      <td>33.0</td>\n",
       "      <td>5.0</td>\n",
       "      <td>1.0</td>\n",
       "      <td>2.0</td>\n",
       "      <td>2.0</td>\n",
       "      <td>36.0</td>\n",
       "      <td>9008.969727</td>\n",
       "    </tr>\n",
       "    <tr>\n",
       "      <th>17</th>\n",
       "      <td>+++l/EXNMLTijfLBa8p2TUVVVp2aFGSuUI/h7mLmthw=</td>\n",
       "      <td>2017-02-26</td>\n",
       "      <td>23.0</td>\n",
       "      <td>2.0</td>\n",
       "      <td>2.0</td>\n",
       "      <td>1.0</td>\n",
       "      <td>2.0</td>\n",
       "      <td>27.0</td>\n",
       "      <td>5798.979004</td>\n",
       "    </tr>\n",
       "    <tr>\n",
       "      <th>18</th>\n",
       "      <td>+++l/EXNMLTijfLBa8p2TUVVVp2aFGSuUI/h7mLmthw=</td>\n",
       "      <td>2017-02-27</td>\n",
       "      <td>12.0</td>\n",
       "      <td>0.0</td>\n",
       "      <td>0.0</td>\n",
       "      <td>0.0</td>\n",
       "      <td>1.0</td>\n",
       "      <td>11.0</td>\n",
       "      <td>2932.499023</td>\n",
       "    </tr>\n",
       "    <tr>\n",
       "      <th>19</th>\n",
       "      <td>+++l/EXNMLTijfLBa8p2TUVVVp2aFGSuUI/h7mLmthw=</td>\n",
       "      <td>2017-02-28</td>\n",
       "      <td>10.0</td>\n",
       "      <td>0.0</td>\n",
       "      <td>0.0</td>\n",
       "      <td>0.0</td>\n",
       "      <td>0.0</td>\n",
       "      <td>10.0</td>\n",
       "      <td>2282.189941</td>\n",
       "    </tr>\n",
       "  </tbody>\n",
       "</table>\n",
       "</div>"
      ],
      "text/plain": [
       "                                            msno       date  num_100  num_25  \\\n",
       "0   +++hVY1rZox/33YtvDgmKA2Frg/2qhkz12B9ylCvh8o= 2017-02-19     17.0     3.0   \n",
       "1   +++hVY1rZox/33YtvDgmKA2Frg/2qhkz12B9ylCvh8o= 2017-02-20     21.0     5.0   \n",
       "2   +++hVY1rZox/33YtvDgmKA2Frg/2qhkz12B9ylCvh8o= 2017-02-21      5.0     4.0   \n",
       "3   +++hVY1rZox/33YtvDgmKA2Frg/2qhkz12B9ylCvh8o= 2017-02-22     28.0     4.0   \n",
       "4   +++hVY1rZox/33YtvDgmKA2Frg/2qhkz12B9ylCvh8o= 2017-02-23     19.0     3.0   \n",
       "5   +++hVY1rZox/33YtvDgmKA2Frg/2qhkz12B9ylCvh8o= 2017-02-24      3.0     1.0   \n",
       "6   +++hVY1rZox/33YtvDgmKA2Frg/2qhkz12B9ylCvh8o= 2017-02-25     17.0     6.0   \n",
       "7   +++hVY1rZox/33YtvDgmKA2Frg/2qhkz12B9ylCvh8o= 2017-02-26      4.0     1.0   \n",
       "8   +++hVY1rZox/33YtvDgmKA2Frg/2qhkz12B9ylCvh8o= 2017-02-27     34.0     4.0   \n",
       "9   +++hVY1rZox/33YtvDgmKA2Frg/2qhkz12B9ylCvh8o= 2017-02-28     42.0    13.0   \n",
       "10  +++l/EXNMLTijfLBa8p2TUVVVp2aFGSuUI/h7mLmthw= 2017-02-19     54.0     2.0   \n",
       "11  +++l/EXNMLTijfLBa8p2TUVVVp2aFGSuUI/h7mLmthw= 2017-02-20     10.0     0.0   \n",
       "12  +++l/EXNMLTijfLBa8p2TUVVVp2aFGSuUI/h7mLmthw= 2017-02-21     20.0     0.0   \n",
       "13  +++l/EXNMLTijfLBa8p2TUVVVp2aFGSuUI/h7mLmthw= 2017-02-22      7.0     1.0   \n",
       "14  +++l/EXNMLTijfLBa8p2TUVVVp2aFGSuUI/h7mLmthw= 2017-02-23     20.0     3.0   \n",
       "15  +++l/EXNMLTijfLBa8p2TUVVVp2aFGSuUI/h7mLmthw= 2017-02-24      3.0     1.0   \n",
       "16  +++l/EXNMLTijfLBa8p2TUVVVp2aFGSuUI/h7mLmthw= 2017-02-25     33.0     5.0   \n",
       "17  +++l/EXNMLTijfLBa8p2TUVVVp2aFGSuUI/h7mLmthw= 2017-02-26     23.0     2.0   \n",
       "18  +++l/EXNMLTijfLBa8p2TUVVVp2aFGSuUI/h7mLmthw= 2017-02-27     12.0     0.0   \n",
       "19  +++l/EXNMLTijfLBa8p2TUVVVp2aFGSuUI/h7mLmthw= 2017-02-28     10.0     0.0   \n",
       "\n",
       "    num_50  num_75  num_985  num_unq    total_secs  \n",
       "0      0.0     1.0      0.0     20.0   4788.622070  \n",
       "1      4.0     5.0      6.0     35.0   7344.375000  \n",
       "2      2.0     4.0      3.0     18.0   2634.316895  \n",
       "3      3.0     4.0      8.0     41.0   9460.650391  \n",
       "4      1.0     2.0     10.0     31.0   7201.288086  \n",
       "5      2.0     0.0      2.0      7.0   1358.760010  \n",
       "6      2.0     1.0      2.0     25.0   5207.749023  \n",
       "7      0.0     0.0      1.0      6.0   1369.876953  \n",
       "8      4.0     3.0      5.0     43.0  10490.561523  \n",
       "9      3.0     1.0      2.0     49.0  11129.182617  \n",
       "10     1.0     0.0      3.0     59.0  13663.237305  \n",
       "11     3.0     0.0      2.0     14.0   3035.242920  \n",
       "12     1.0     1.0      0.0     21.0   5241.305176  \n",
       "13     0.0     0.0      0.0      8.0   1732.329956  \n",
       "14     1.0     1.0      3.0      8.0   4829.048828  \n",
       "15     0.0     1.0      0.0      3.0    718.607971  \n",
       "16     1.0     2.0      2.0     36.0   9008.969727  \n",
       "17     2.0     1.0      2.0     27.0   5798.979004  \n",
       "18     0.0     0.0      1.0     11.0   2932.499023  \n",
       "19     0.0     0.0      0.0     10.0   2282.189941  "
      ]
     },
     "execution_count": 39,
     "metadata": {},
     "output_type": "execute_result"
    }
   ],
   "source": [
    "logs.head(20)"
   ]
  },
  {
   "cell_type": "code",
   "execution_count": 34,
   "metadata": {
    "collapsed": true,
    "jupyter": {
     "outputs_hidden": true
    }
   },
   "outputs": [],
   "source": [
    "logs.to_csv('../data/churn/last_ten_logs.csv',index=False)"
   ]
  },
  {
   "cell_type": "markdown",
   "metadata": {},
   "source": [
    "### 2.2 Log feature extraction\n",
    "\n",
    "**2.2.1 Variables for each row in logs:**\n",
    "\n",
    "+ Column that has max number of songs in ['num_25','num_50','num_75','num_985','num_100']\n",
    "+ Column that has min number of songs in ['num_25','num_50','num_75','num_985','num_100']\n",
    "+ Total songs listened = sum(['num_25','num_50','num_75','num_985','num_100'])\n",
    "+ num_100 to total song ratio = num_100 / total song\n",
    "+ Unique song ratio = ['num_unq'] / sum(['num_25','num_50','num_75','num_985','num_100'])\n",
    "+ log transform of total seconds\n",
    "\n",
    "**2.2.2 Variables for each 'msno':**\n",
    "\n",
    "+ Mean, std, skewness for all continours variables\n",
    "+ Sum of total songs listened\n",
    "+ Mode of max_column\n",
    "+ Average interval of last 10 logs, i.e., (last date - first date)/number of logs\n",
    "+ Number of logs in last 10 days from 2017/2/28\n"
   ]
  },
  {
   "cell_type": "code",
   "execution_count": 47,
   "metadata": {
    "collapsed": true,
    "jupyter": {
     "outputs_hidden": true
    }
   },
   "outputs": [],
   "source": [
    "col=['num_25','num_50','num_75','num_985','num_100']\n",
    "logs['max_column']=logs[col].idxmax(axis=1) # get the column name that has the max value\n",
    "logs['min_column']=logs[col].idxmin(axis=1) # get the column name that has the min value\n",
    "logs['total_song']=logs[col].sum(axis=1)\n",
    "logs['100_to_total_song']=logs['num_100']/logs['total_song']\n",
    "logs['unique_song_ratio']=logs['num_unq']/logs['total_song']\n",
    "logs['log_tot_sec']=logs['total_secs'].apply(np.log)\n"
   ]
  },
  {
   "cell_type": "code",
   "execution_count": 69,
   "metadata": {},
   "outputs": [
    {
     "data": {
      "text/html": [
       "<div>\n",
       "<style>\n",
       "    .dataframe thead tr:only-child th {\n",
       "        text-align: right;\n",
       "    }\n",
       "\n",
       "    .dataframe thead th {\n",
       "        text-align: left;\n",
       "    }\n",
       "\n",
       "    .dataframe tbody tr th {\n",
       "        vertical-align: top;\n",
       "    }\n",
       "</style>\n",
       "<table border=\"1\" class=\"dataframe\">\n",
       "  <thead>\n",
       "    <tr style=\"text-align: right;\">\n",
       "      <th></th>\n",
       "      <th>msno</th>\n",
       "      <th>date</th>\n",
       "      <th>num_100</th>\n",
       "      <th>num_25</th>\n",
       "      <th>num_50</th>\n",
       "      <th>num_75</th>\n",
       "      <th>num_985</th>\n",
       "      <th>num_unq</th>\n",
       "      <th>total_secs</th>\n",
       "      <th>max_column</th>\n",
       "      <th>min_column</th>\n",
       "      <th>total_song</th>\n",
       "      <th>unique_song_ratio</th>\n",
       "      <th>log_tot_sec</th>\n",
       "      <th>100_to_total_song</th>\n",
       "    </tr>\n",
       "  </thead>\n",
       "  <tbody>\n",
       "    <tr>\n",
       "      <th>0</th>\n",
       "      <td>+++hVY1rZox/33YtvDgmKA2Frg/2qhkz12B9ylCvh8o=</td>\n",
       "      <td>2017-02-19</td>\n",
       "      <td>17.0</td>\n",
       "      <td>3.0</td>\n",
       "      <td>0.0</td>\n",
       "      <td>1.0</td>\n",
       "      <td>0.0</td>\n",
       "      <td>20.0</td>\n",
       "      <td>4788.622070</td>\n",
       "      <td>num_100</td>\n",
       "      <td>num_50</td>\n",
       "      <td>21.0</td>\n",
       "      <td>0.952148</td>\n",
       "      <td>8.473998</td>\n",
       "      <td>0.809570</td>\n",
       "    </tr>\n",
       "    <tr>\n",
       "      <th>1</th>\n",
       "      <td>+++hVY1rZox/33YtvDgmKA2Frg/2qhkz12B9ylCvh8o=</td>\n",
       "      <td>2017-02-20</td>\n",
       "      <td>21.0</td>\n",
       "      <td>5.0</td>\n",
       "      <td>4.0</td>\n",
       "      <td>5.0</td>\n",
       "      <td>6.0</td>\n",
       "      <td>35.0</td>\n",
       "      <td>7344.375000</td>\n",
       "      <td>num_100</td>\n",
       "      <td>num_50</td>\n",
       "      <td>41.0</td>\n",
       "      <td>0.853516</td>\n",
       "      <td>8.901690</td>\n",
       "      <td>0.512207</td>\n",
       "    </tr>\n",
       "    <tr>\n",
       "      <th>2</th>\n",
       "      <td>+++hVY1rZox/33YtvDgmKA2Frg/2qhkz12B9ylCvh8o=</td>\n",
       "      <td>2017-02-21</td>\n",
       "      <td>5.0</td>\n",
       "      <td>4.0</td>\n",
       "      <td>2.0</td>\n",
       "      <td>4.0</td>\n",
       "      <td>3.0</td>\n",
       "      <td>18.0</td>\n",
       "      <td>2634.316895</td>\n",
       "      <td>num_100</td>\n",
       "      <td>num_50</td>\n",
       "      <td>18.0</td>\n",
       "      <td>1.000000</td>\n",
       "      <td>7.876379</td>\n",
       "      <td>0.277832</td>\n",
       "    </tr>\n",
       "    <tr>\n",
       "      <th>3</th>\n",
       "      <td>+++hVY1rZox/33YtvDgmKA2Frg/2qhkz12B9ylCvh8o=</td>\n",
       "      <td>2017-02-22</td>\n",
       "      <td>28.0</td>\n",
       "      <td>4.0</td>\n",
       "      <td>3.0</td>\n",
       "      <td>4.0</td>\n",
       "      <td>8.0</td>\n",
       "      <td>41.0</td>\n",
       "      <td>9460.650391</td>\n",
       "      <td>num_100</td>\n",
       "      <td>num_50</td>\n",
       "      <td>47.0</td>\n",
       "      <td>0.872559</td>\n",
       "      <td>9.154897</td>\n",
       "      <td>0.595703</td>\n",
       "    </tr>\n",
       "    <tr>\n",
       "      <th>4</th>\n",
       "      <td>+++hVY1rZox/33YtvDgmKA2Frg/2qhkz12B9ylCvh8o=</td>\n",
       "      <td>2017-02-23</td>\n",
       "      <td>19.0</td>\n",
       "      <td>3.0</td>\n",
       "      <td>1.0</td>\n",
       "      <td>2.0</td>\n",
       "      <td>10.0</td>\n",
       "      <td>31.0</td>\n",
       "      <td>7201.288086</td>\n",
       "      <td>num_100</td>\n",
       "      <td>num_50</td>\n",
       "      <td>35.0</td>\n",
       "      <td>0.885742</td>\n",
       "      <td>8.882015</td>\n",
       "      <td>0.542969</td>\n",
       "    </tr>\n",
       "    <tr>\n",
       "      <th>5</th>\n",
       "      <td>+++hVY1rZox/33YtvDgmKA2Frg/2qhkz12B9ylCvh8o=</td>\n",
       "      <td>2017-02-24</td>\n",
       "      <td>3.0</td>\n",
       "      <td>1.0</td>\n",
       "      <td>2.0</td>\n",
       "      <td>0.0</td>\n",
       "      <td>2.0</td>\n",
       "      <td>7.0</td>\n",
       "      <td>1358.760010</td>\n",
       "      <td>num_100</td>\n",
       "      <td>num_75</td>\n",
       "      <td>8.0</td>\n",
       "      <td>0.875000</td>\n",
       "      <td>7.214328</td>\n",
       "      <td>0.375000</td>\n",
       "    </tr>\n",
       "    <tr>\n",
       "      <th>6</th>\n",
       "      <td>+++hVY1rZox/33YtvDgmKA2Frg/2qhkz12B9ylCvh8o=</td>\n",
       "      <td>2017-02-25</td>\n",
       "      <td>17.0</td>\n",
       "      <td>6.0</td>\n",
       "      <td>2.0</td>\n",
       "      <td>1.0</td>\n",
       "      <td>2.0</td>\n",
       "      <td>25.0</td>\n",
       "      <td>5207.749023</td>\n",
       "      <td>num_100</td>\n",
       "      <td>num_75</td>\n",
       "      <td>28.0</td>\n",
       "      <td>0.893066</td>\n",
       "      <td>8.557903</td>\n",
       "      <td>0.606934</td>\n",
       "    </tr>\n",
       "    <tr>\n",
       "      <th>7</th>\n",
       "      <td>+++hVY1rZox/33YtvDgmKA2Frg/2qhkz12B9ylCvh8o=</td>\n",
       "      <td>2017-02-26</td>\n",
       "      <td>4.0</td>\n",
       "      <td>1.0</td>\n",
       "      <td>0.0</td>\n",
       "      <td>0.0</td>\n",
       "      <td>1.0</td>\n",
       "      <td>6.0</td>\n",
       "      <td>1369.876953</td>\n",
       "      <td>num_100</td>\n",
       "      <td>num_50</td>\n",
       "      <td>6.0</td>\n",
       "      <td>1.000000</td>\n",
       "      <td>7.222476</td>\n",
       "      <td>0.666504</td>\n",
       "    </tr>\n",
       "    <tr>\n",
       "      <th>8</th>\n",
       "      <td>+++hVY1rZox/33YtvDgmKA2Frg/2qhkz12B9ylCvh8o=</td>\n",
       "      <td>2017-02-27</td>\n",
       "      <td>34.0</td>\n",
       "      <td>4.0</td>\n",
       "      <td>4.0</td>\n",
       "      <td>3.0</td>\n",
       "      <td>5.0</td>\n",
       "      <td>43.0</td>\n",
       "      <td>10490.561523</td>\n",
       "      <td>num_100</td>\n",
       "      <td>num_75</td>\n",
       "      <td>50.0</td>\n",
       "      <td>0.859863</td>\n",
       "      <td>9.258231</td>\n",
       "      <td>0.680176</td>\n",
       "    </tr>\n",
       "    <tr>\n",
       "      <th>9</th>\n",
       "      <td>+++hVY1rZox/33YtvDgmKA2Frg/2qhkz12B9ylCvh8o=</td>\n",
       "      <td>2017-02-28</td>\n",
       "      <td>42.0</td>\n",
       "      <td>13.0</td>\n",
       "      <td>3.0</td>\n",
       "      <td>1.0</td>\n",
       "      <td>2.0</td>\n",
       "      <td>49.0</td>\n",
       "      <td>11129.182617</td>\n",
       "      <td>num_100</td>\n",
       "      <td>num_75</td>\n",
       "      <td>61.0</td>\n",
       "      <td>0.803223</td>\n",
       "      <td>9.317326</td>\n",
       "      <td>0.688477</td>\n",
       "    </tr>\n",
       "    <tr>\n",
       "      <th>10</th>\n",
       "      <td>+++l/EXNMLTijfLBa8p2TUVVVp2aFGSuUI/h7mLmthw=</td>\n",
       "      <td>2017-02-19</td>\n",
       "      <td>54.0</td>\n",
       "      <td>2.0</td>\n",
       "      <td>1.0</td>\n",
       "      <td>0.0</td>\n",
       "      <td>3.0</td>\n",
       "      <td>59.0</td>\n",
       "      <td>13663.237305</td>\n",
       "      <td>num_100</td>\n",
       "      <td>num_75</td>\n",
       "      <td>60.0</td>\n",
       "      <td>0.983398</td>\n",
       "      <td>9.522464</td>\n",
       "      <td>0.899902</td>\n",
       "    </tr>\n",
       "    <tr>\n",
       "      <th>11</th>\n",
       "      <td>+++l/EXNMLTijfLBa8p2TUVVVp2aFGSuUI/h7mLmthw=</td>\n",
       "      <td>2017-02-20</td>\n",
       "      <td>10.0</td>\n",
       "      <td>0.0</td>\n",
       "      <td>3.0</td>\n",
       "      <td>0.0</td>\n",
       "      <td>2.0</td>\n",
       "      <td>14.0</td>\n",
       "      <td>3035.242920</td>\n",
       "      <td>num_100</td>\n",
       "      <td>num_25</td>\n",
       "      <td>15.0</td>\n",
       "      <td>0.933105</td>\n",
       "      <td>8.018046</td>\n",
       "      <td>0.666504</td>\n",
       "    </tr>\n",
       "    <tr>\n",
       "      <th>12</th>\n",
       "      <td>+++l/EXNMLTijfLBa8p2TUVVVp2aFGSuUI/h7mLmthw=</td>\n",
       "      <td>2017-02-21</td>\n",
       "      <td>20.0</td>\n",
       "      <td>0.0</td>\n",
       "      <td>1.0</td>\n",
       "      <td>1.0</td>\n",
       "      <td>0.0</td>\n",
       "      <td>21.0</td>\n",
       "      <td>5241.305176</td>\n",
       "      <td>num_100</td>\n",
       "      <td>num_25</td>\n",
       "      <td>22.0</td>\n",
       "      <td>0.954590</td>\n",
       "      <td>8.564326</td>\n",
       "      <td>0.909180</td>\n",
       "    </tr>\n",
       "    <tr>\n",
       "      <th>13</th>\n",
       "      <td>+++l/EXNMLTijfLBa8p2TUVVVp2aFGSuUI/h7mLmthw=</td>\n",
       "      <td>2017-02-22</td>\n",
       "      <td>7.0</td>\n",
       "      <td>1.0</td>\n",
       "      <td>0.0</td>\n",
       "      <td>0.0</td>\n",
       "      <td>0.0</td>\n",
       "      <td>8.0</td>\n",
       "      <td>1732.329956</td>\n",
       "      <td>num_100</td>\n",
       "      <td>num_50</td>\n",
       "      <td>8.0</td>\n",
       "      <td>1.000000</td>\n",
       "      <td>7.457222</td>\n",
       "      <td>0.875000</td>\n",
       "    </tr>\n",
       "    <tr>\n",
       "      <th>14</th>\n",
       "      <td>+++l/EXNMLTijfLBa8p2TUVVVp2aFGSuUI/h7mLmthw=</td>\n",
       "      <td>2017-02-23</td>\n",
       "      <td>20.0</td>\n",
       "      <td>3.0</td>\n",
       "      <td>1.0</td>\n",
       "      <td>1.0</td>\n",
       "      <td>3.0</td>\n",
       "      <td>8.0</td>\n",
       "      <td>4829.048828</td>\n",
       "      <td>num_100</td>\n",
       "      <td>num_50</td>\n",
       "      <td>28.0</td>\n",
       "      <td>0.285645</td>\n",
       "      <td>8.482405</td>\n",
       "      <td>0.714355</td>\n",
       "    </tr>\n",
       "    <tr>\n",
       "      <th>15</th>\n",
       "      <td>+++l/EXNMLTijfLBa8p2TUVVVp2aFGSuUI/h7mLmthw=</td>\n",
       "      <td>2017-02-24</td>\n",
       "      <td>3.0</td>\n",
       "      <td>1.0</td>\n",
       "      <td>0.0</td>\n",
       "      <td>1.0</td>\n",
       "      <td>0.0</td>\n",
       "      <td>3.0</td>\n",
       "      <td>718.607971</td>\n",
       "      <td>num_100</td>\n",
       "      <td>num_50</td>\n",
       "      <td>5.0</td>\n",
       "      <td>0.600098</td>\n",
       "      <td>6.577316</td>\n",
       "      <td>0.600098</td>\n",
       "    </tr>\n",
       "    <tr>\n",
       "      <th>16</th>\n",
       "      <td>+++l/EXNMLTijfLBa8p2TUVVVp2aFGSuUI/h7mLmthw=</td>\n",
       "      <td>2017-02-25</td>\n",
       "      <td>33.0</td>\n",
       "      <td>5.0</td>\n",
       "      <td>1.0</td>\n",
       "      <td>2.0</td>\n",
       "      <td>2.0</td>\n",
       "      <td>36.0</td>\n",
       "      <td>9008.969727</td>\n",
       "      <td>num_100</td>\n",
       "      <td>num_50</td>\n",
       "      <td>43.0</td>\n",
       "      <td>0.837402</td>\n",
       "      <td>9.105976</td>\n",
       "      <td>0.767578</td>\n",
       "    </tr>\n",
       "    <tr>\n",
       "      <th>17</th>\n",
       "      <td>+++l/EXNMLTijfLBa8p2TUVVVp2aFGSuUI/h7mLmthw=</td>\n",
       "      <td>2017-02-26</td>\n",
       "      <td>23.0</td>\n",
       "      <td>2.0</td>\n",
       "      <td>2.0</td>\n",
       "      <td>1.0</td>\n",
       "      <td>2.0</td>\n",
       "      <td>27.0</td>\n",
       "      <td>5798.979004</td>\n",
       "      <td>num_100</td>\n",
       "      <td>num_75</td>\n",
       "      <td>30.0</td>\n",
       "      <td>0.899902</td>\n",
       "      <td>8.665437</td>\n",
       "      <td>0.766602</td>\n",
       "    </tr>\n",
       "    <tr>\n",
       "      <th>18</th>\n",
       "      <td>+++l/EXNMLTijfLBa8p2TUVVVp2aFGSuUI/h7mLmthw=</td>\n",
       "      <td>2017-02-27</td>\n",
       "      <td>12.0</td>\n",
       "      <td>0.0</td>\n",
       "      <td>0.0</td>\n",
       "      <td>0.0</td>\n",
       "      <td>1.0</td>\n",
       "      <td>11.0</td>\n",
       "      <td>2932.499023</td>\n",
       "      <td>num_100</td>\n",
       "      <td>num_25</td>\n",
       "      <td>13.0</td>\n",
       "      <td>0.846191</td>\n",
       "      <td>7.983610</td>\n",
       "      <td>0.922852</td>\n",
       "    </tr>\n",
       "    <tr>\n",
       "      <th>19</th>\n",
       "      <td>+++l/EXNMLTijfLBa8p2TUVVVp2aFGSuUI/h7mLmthw=</td>\n",
       "      <td>2017-02-28</td>\n",
       "      <td>10.0</td>\n",
       "      <td>0.0</td>\n",
       "      <td>0.0</td>\n",
       "      <td>0.0</td>\n",
       "      <td>0.0</td>\n",
       "      <td>10.0</td>\n",
       "      <td>2282.189941</td>\n",
       "      <td>num_100</td>\n",
       "      <td>num_25</td>\n",
       "      <td>10.0</td>\n",
       "      <td>1.000000</td>\n",
       "      <td>7.732891</td>\n",
       "      <td>1.000000</td>\n",
       "    </tr>\n",
       "  </tbody>\n",
       "</table>\n",
       "</div>"
      ],
      "text/plain": [
       "                                            msno       date  num_100  num_25  \\\n",
       "0   +++hVY1rZox/33YtvDgmKA2Frg/2qhkz12B9ylCvh8o= 2017-02-19     17.0     3.0   \n",
       "1   +++hVY1rZox/33YtvDgmKA2Frg/2qhkz12B9ylCvh8o= 2017-02-20     21.0     5.0   \n",
       "2   +++hVY1rZox/33YtvDgmKA2Frg/2qhkz12B9ylCvh8o= 2017-02-21      5.0     4.0   \n",
       "3   +++hVY1rZox/33YtvDgmKA2Frg/2qhkz12B9ylCvh8o= 2017-02-22     28.0     4.0   \n",
       "4   +++hVY1rZox/33YtvDgmKA2Frg/2qhkz12B9ylCvh8o= 2017-02-23     19.0     3.0   \n",
       "5   +++hVY1rZox/33YtvDgmKA2Frg/2qhkz12B9ylCvh8o= 2017-02-24      3.0     1.0   \n",
       "6   +++hVY1rZox/33YtvDgmKA2Frg/2qhkz12B9ylCvh8o= 2017-02-25     17.0     6.0   \n",
       "7   +++hVY1rZox/33YtvDgmKA2Frg/2qhkz12B9ylCvh8o= 2017-02-26      4.0     1.0   \n",
       "8   +++hVY1rZox/33YtvDgmKA2Frg/2qhkz12B9ylCvh8o= 2017-02-27     34.0     4.0   \n",
       "9   +++hVY1rZox/33YtvDgmKA2Frg/2qhkz12B9ylCvh8o= 2017-02-28     42.0    13.0   \n",
       "10  +++l/EXNMLTijfLBa8p2TUVVVp2aFGSuUI/h7mLmthw= 2017-02-19     54.0     2.0   \n",
       "11  +++l/EXNMLTijfLBa8p2TUVVVp2aFGSuUI/h7mLmthw= 2017-02-20     10.0     0.0   \n",
       "12  +++l/EXNMLTijfLBa8p2TUVVVp2aFGSuUI/h7mLmthw= 2017-02-21     20.0     0.0   \n",
       "13  +++l/EXNMLTijfLBa8p2TUVVVp2aFGSuUI/h7mLmthw= 2017-02-22      7.0     1.0   \n",
       "14  +++l/EXNMLTijfLBa8p2TUVVVp2aFGSuUI/h7mLmthw= 2017-02-23     20.0     3.0   \n",
       "15  +++l/EXNMLTijfLBa8p2TUVVVp2aFGSuUI/h7mLmthw= 2017-02-24      3.0     1.0   \n",
       "16  +++l/EXNMLTijfLBa8p2TUVVVp2aFGSuUI/h7mLmthw= 2017-02-25     33.0     5.0   \n",
       "17  +++l/EXNMLTijfLBa8p2TUVVVp2aFGSuUI/h7mLmthw= 2017-02-26     23.0     2.0   \n",
       "18  +++l/EXNMLTijfLBa8p2TUVVVp2aFGSuUI/h7mLmthw= 2017-02-27     12.0     0.0   \n",
       "19  +++l/EXNMLTijfLBa8p2TUVVVp2aFGSuUI/h7mLmthw= 2017-02-28     10.0     0.0   \n",
       "\n",
       "    num_50  num_75  num_985  num_unq    total_secs max_column min_column  \\\n",
       "0      0.0     1.0      0.0     20.0   4788.622070    num_100     num_50   \n",
       "1      4.0     5.0      6.0     35.0   7344.375000    num_100     num_50   \n",
       "2      2.0     4.0      3.0     18.0   2634.316895    num_100     num_50   \n",
       "3      3.0     4.0      8.0     41.0   9460.650391    num_100     num_50   \n",
       "4      1.0     2.0     10.0     31.0   7201.288086    num_100     num_50   \n",
       "5      2.0     0.0      2.0      7.0   1358.760010    num_100     num_75   \n",
       "6      2.0     1.0      2.0     25.0   5207.749023    num_100     num_75   \n",
       "7      0.0     0.0      1.0      6.0   1369.876953    num_100     num_50   \n",
       "8      4.0     3.0      5.0     43.0  10490.561523    num_100     num_75   \n",
       "9      3.0     1.0      2.0     49.0  11129.182617    num_100     num_75   \n",
       "10     1.0     0.0      3.0     59.0  13663.237305    num_100     num_75   \n",
       "11     3.0     0.0      2.0     14.0   3035.242920    num_100     num_25   \n",
       "12     1.0     1.0      0.0     21.0   5241.305176    num_100     num_25   \n",
       "13     0.0     0.0      0.0      8.0   1732.329956    num_100     num_50   \n",
       "14     1.0     1.0      3.0      8.0   4829.048828    num_100     num_50   \n",
       "15     0.0     1.0      0.0      3.0    718.607971    num_100     num_50   \n",
       "16     1.0     2.0      2.0     36.0   9008.969727    num_100     num_50   \n",
       "17     2.0     1.0      2.0     27.0   5798.979004    num_100     num_75   \n",
       "18     0.0     0.0      1.0     11.0   2932.499023    num_100     num_25   \n",
       "19     0.0     0.0      0.0     10.0   2282.189941    num_100     num_25   \n",
       "\n",
       "    total_song  unique_song_ratio  log_tot_sec  100_to_total_song  \n",
       "0         21.0           0.952148     8.473998           0.809570  \n",
       "1         41.0           0.853516     8.901690           0.512207  \n",
       "2         18.0           1.000000     7.876379           0.277832  \n",
       "3         47.0           0.872559     9.154897           0.595703  \n",
       "4         35.0           0.885742     8.882015           0.542969  \n",
       "5          8.0           0.875000     7.214328           0.375000  \n",
       "6         28.0           0.893066     8.557903           0.606934  \n",
       "7          6.0           1.000000     7.222476           0.666504  \n",
       "8         50.0           0.859863     9.258231           0.680176  \n",
       "9         61.0           0.803223     9.317326           0.688477  \n",
       "10        60.0           0.983398     9.522464           0.899902  \n",
       "11        15.0           0.933105     8.018046           0.666504  \n",
       "12        22.0           0.954590     8.564326           0.909180  \n",
       "13         8.0           1.000000     7.457222           0.875000  \n",
       "14        28.0           0.285645     8.482405           0.714355  \n",
       "15         5.0           0.600098     6.577316           0.600098  \n",
       "16        43.0           0.837402     9.105976           0.767578  \n",
       "17        30.0           0.899902     8.665437           0.766602  \n",
       "18        13.0           0.846191     7.983610           0.922852  \n",
       "19        10.0           1.000000     7.732891           1.000000  "
      ]
     },
     "execution_count": 69,
     "metadata": {},
     "output_type": "execute_result"
    }
   ],
   "source": [
    "logs.head(20)"
   ]
  },
  {
   "cell_type": "code",
   "execution_count": 51,
   "metadata": {},
   "outputs": [
    {
     "data": {
      "text/plain": [
       "Index(['msno', 'date', 'num_100', 'num_25', 'num_50', 'num_75', 'num_985',\n",
       "       'num_unq', 'total_secs', 'max_column', 'min_column', 'total_song',\n",
       "       'unique_song_ratio', 'log_tot_sec', '100_to_total_song'],\n",
       "      dtype='object')"
      ]
     },
     "execution_count": 51,
     "metadata": {},
     "output_type": "execute_result"
    }
   ],
   "source": [
    "logs.columns"
   ]
  },
  {
   "cell_type": "markdown",
   "metadata": {},
   "source": [
    "**2.2.2 Variables for each 'msno':**\n",
    "+ Mean, std, skewness for all continours variables\n",
    "+ um of total songs listened\n",
    "+ Mode of max_column, min_column\n",
    "+ Average interval of last 10 logs, i.e., (last date - first date)/number of logs\n",
    "+ Number of logs in last 10 days from 2017/2/28"
   ]
  },
  {
   "cell_type": "code",
   "execution_count": 102,
   "metadata": {
    "collapsed": true,
    "jupyter": {
     "outputs_hidden": true
    }
   },
   "outputs": [],
   "source": [
    "for c in col:\n",
    "    logs[c]=logs[c].astype('float32') # make sure the column is in float32"
   ]
  },
  {
   "cell_type": "code",
   "execution_count": 104,
   "metadata": {
    "collapsed": true,
    "jupyter": {
     "outputs_hidden": true
    }
   },
   "outputs": [],
   "source": [
    "logs['total_song']=logs['total_song'].astype('float32')"
   ]
  },
  {
   "cell_type": "markdown",
   "metadata": {},
   "source": [
    "#### 2.2.2.1 Define customer aggregate functions\n",
    "\n",
    "Use pandas groupby aggregate method, we can process columns by each 'msno'. The basic syntax for .agg() is:\n",
    "\n",
    "> `groupby().agg({'column name1': [function1,function2, ...],'column name2':[function1,function2, ...],...})`\n",
    "\n",
    "Simply speaking, a dictionary should be passed to agg(), where the key is the column you want to process by groupby columns (here is 'msno'), and value is the function(s) that you want to use to process the column. The values that are passed to the functions are series by say 'msno'. For example, we want to calculate the mean of total songs in the last ten record of each msno, the values of number of total songs listened in the past 10 records are passed to sum() function as a series. \n",
    "\n",
    "Another trick is that you can use multiple functions to a single column, e.g., you can get mean, std, skewness for a column (say,total songs) by specify these functions in a list ['mean','std','skewness'], like:\n",
    "> `groupby('msno').agg({'total_song':['mean','std','skewness']})`\n",
    "\n",
    "By default, this will create mutilple index for columns, meaning that the names for the new created columns will be multilevel index, the names will be like 'total_song mean','total_song std',... To make all these more readable, you can even create the names for these columns by youselves, to construct another dictionary, such as:\n",
    "> `groupby('msno').agg({'total_song':{'Mean_of_total_song':'mean','Std_of_total_song':'std','Skewness_of_total_song':'skewness'}})`\n",
    "\n",
    "The last tip is that beside using strings to specify aggregate functions (e.g. 'mean','size','std',...) you can define customer functions to meet your needs."
   ]
  },
  {
   "cell_type": "code",
   "execution_count": 1,
   "metadata": {},
   "outputs": [],
   "source": [
    "def interval_d(x): #to get Average interval of last 10 logs, i.e., (last date - first date)/number of logs\n",
    "    f=((x.iloc[-1]-x.iloc[0]).days+1)/len(x)\n",
    "    return f\n",
    "\n",
    "def c_mode(x): #to get the mode, the string 'mode' does not work here, and mode function alwasys return a series, so we need only[0]\n",
    "    return x.mode()[0]\n",
    "\n",
    "def n_in_last10d(x): # 10 days before 2017/2/28 is 2017/2/19. So we just take the records < than 2/19, and count how many logs there.\n",
    "    return len(x[x>=datetime.datetime(2017,2,19)])"
   ]
  },
  {
   "cell_type": "markdown",
   "metadata": {},
   "source": [
    "#### 2.2.2.2 Get 'msno' level features"
   ]
  },
  {
   "cell_type": "code",
   "execution_count": 128,
   "metadata": {},
   "outputs": [
    {
     "name": "stdout",
     "output_type": "stream",
     "text": [
      "time.time()-s\n"
     ]
    }
   ],
   "source": [
    "s=time.time() #this takes a bit long, more than 10 minutes or so\n",
    "log_fea=logs.groupby('msno')\\\n",
    "       .agg({'num_100':['size','mean','std','skew'], 'num_25':['mean','std','skew'],'num_50':['mean','std','skew'],\n",
    "            'num_75':['mean','std','skew'],'num_985':['mean','std','skew'],'num_unq':['mean','std','skew'],\n",
    "             'total_song':['sum','mean','std','skew'],'unique_song_ratio':['mean','std','skew'],'log_tot_sec':['mean','std','skew'],\n",
    "             '100_to_total_song':['mean','std','skew'],'max_column':c_mode, 'min_column':c_mode,'date':[interval_d,n_in_last10d]\n",
    "            }).reset_index()\n",
    "\n",
    "print(time.time()-s)"
   ]
  },
  {
   "cell_type": "code",
   "execution_count": 130,
   "metadata": {
    "collapsed": true,
    "jupyter": {
     "outputs_hidden": true
    }
   },
   "outputs": [],
   "source": [
    "log_fea.columns = [' '.join(col).strip() for col in log_fea.columns.values] # convert to one level index"
   ]
  },
  {
   "cell_type": "code",
   "execution_count": 131,
   "metadata": {},
   "outputs": [
    {
     "data": {
      "text/html": [
       "<div>\n",
       "<style>\n",
       "    .dataframe thead tr:only-child th {\n",
       "        text-align: right;\n",
       "    }\n",
       "\n",
       "    .dataframe thead th {\n",
       "        text-align: left;\n",
       "    }\n",
       "\n",
       "    .dataframe tbody tr th {\n",
       "        vertical-align: top;\n",
       "    }\n",
       "</style>\n",
       "<table border=\"1\" class=\"dataframe\">\n",
       "  <thead>\n",
       "    <tr style=\"text-align: right;\">\n",
       "      <th></th>\n",
       "      <th>msno</th>\n",
       "      <th>num_100 size</th>\n",
       "      <th>num_100 mean</th>\n",
       "      <th>num_100 std</th>\n",
       "      <th>num_100 skew</th>\n",
       "      <th>num_25 mean</th>\n",
       "      <th>num_25 std</th>\n",
       "      <th>num_25 skew</th>\n",
       "      <th>num_50 mean</th>\n",
       "      <th>num_50 std</th>\n",
       "      <th>...</th>\n",
       "      <th>log_tot_sec mean</th>\n",
       "      <th>log_tot_sec std</th>\n",
       "      <th>log_tot_sec skew</th>\n",
       "      <th>100_to_total_song mean</th>\n",
       "      <th>100_to_total_song std</th>\n",
       "      <th>100_to_total_song skew</th>\n",
       "      <th>max_column c_mode</th>\n",
       "      <th>min_column c_mode</th>\n",
       "      <th>date interval_d</th>\n",
       "      <th>date n_in_last10d</th>\n",
       "    </tr>\n",
       "  </thead>\n",
       "  <tbody>\n",
       "    <tr>\n",
       "      <th>0</th>\n",
       "      <td>+++hVY1rZox/33YtvDgmKA2Frg/2qhkz12B9ylCvh8o=</td>\n",
       "      <td>10</td>\n",
       "      <td>19.000000</td>\n",
       "      <td>13.012814</td>\n",
       "      <td>0.381211</td>\n",
       "      <td>4.4</td>\n",
       "      <td>3.405877</td>\n",
       "      <td>1.954870</td>\n",
       "      <td>2.1</td>\n",
       "      <td>1.449138</td>\n",
       "      <td>...</td>\n",
       "      <td>8.485924</td>\n",
       "      <td>0.792681</td>\n",
       "      <td>-0.789240</td>\n",
       "      <td>0.575684</td>\n",
       "      <td>0.157104</td>\n",
       "      <td>-0.667969</td>\n",
       "      <td>num_100</td>\n",
       "      <td>num_50</td>\n",
       "      <td>1.0</td>\n",
       "      <td>10</td>\n",
       "    </tr>\n",
       "    <tr>\n",
       "      <th>1</th>\n",
       "      <td>+++l/EXNMLTijfLBa8p2TUVVVp2aFGSuUI/h7mLmthw=</td>\n",
       "      <td>10</td>\n",
       "      <td>19.200001</td>\n",
       "      <td>15.090837</td>\n",
       "      <td>1.488439</td>\n",
       "      <td>1.4</td>\n",
       "      <td>1.646545</td>\n",
       "      <td>1.247022</td>\n",
       "      <td>0.9</td>\n",
       "      <td>0.994429</td>\n",
       "      <td>...</td>\n",
       "      <td>8.210969</td>\n",
       "      <td>0.848565</td>\n",
       "      <td>-0.405889</td>\n",
       "      <td>0.812012</td>\n",
       "      <td>0.128418</td>\n",
       "      <td>-0.253174</td>\n",
       "      <td>num_100</td>\n",
       "      <td>num_25</td>\n",
       "      <td>1.0</td>\n",
       "      <td>10</td>\n",
       "    </tr>\n",
       "    <tr>\n",
       "      <th>2</th>\n",
       "      <td>+++snpr7pmobhLKUgSHTv/mpkqgBT0tQJ0zQj6qKrqc=</td>\n",
       "      <td>10</td>\n",
       "      <td>11.900000</td>\n",
       "      <td>10.450412</td>\n",
       "      <td>1.053608</td>\n",
       "      <td>10.2</td>\n",
       "      <td>8.148620</td>\n",
       "      <td>0.607687</td>\n",
       "      <td>4.6</td>\n",
       "      <td>5.929212</td>\n",
       "      <td>...</td>\n",
       "      <td>7.989280</td>\n",
       "      <td>1.077626</td>\n",
       "      <td>-1.309684</td>\n",
       "      <td>0.414551</td>\n",
       "      <td>0.247437</td>\n",
       "      <td>0.318604</td>\n",
       "      <td>num_100</td>\n",
       "      <td>num_50</td>\n",
       "      <td>1.4</td>\n",
       "      <td>8</td>\n",
       "    </tr>\n",
       "    <tr>\n",
       "      <th>3</th>\n",
       "      <td>++/9R3sX37CjxbY/AaGvbwr3QkwElKBCtSvVzhCBDOk=</td>\n",
       "      <td>10</td>\n",
       "      <td>8.700000</td>\n",
       "      <td>7.631077</td>\n",
       "      <td>0.521622</td>\n",
       "      <td>3.3</td>\n",
       "      <td>6.395311</td>\n",
       "      <td>2.855342</td>\n",
       "      <td>1.4</td>\n",
       "      <td>1.349897</td>\n",
       "      <td>...</td>\n",
       "      <td>7.418694</td>\n",
       "      <td>1.043146</td>\n",
       "      <td>-0.010053</td>\n",
       "      <td>0.632812</td>\n",
       "      <td>0.210083</td>\n",
       "      <td>0.097900</td>\n",
       "      <td>num_100</td>\n",
       "      <td>num_25</td>\n",
       "      <td>1.0</td>\n",
       "      <td>10</td>\n",
       "    </tr>\n",
       "    <tr>\n",
       "      <th>4</th>\n",
       "      <td>++/UDNo9DLrxT8QVGiDi1OnWfczAdEwThaVyD0fXO50=</td>\n",
       "      <td>10</td>\n",
       "      <td>12.100000</td>\n",
       "      <td>16.535820</td>\n",
       "      <td>2.016524</td>\n",
       "      <td>2.9</td>\n",
       "      <td>3.381321</td>\n",
       "      <td>1.659348</td>\n",
       "      <td>1.8</td>\n",
       "      <td>2.299758</td>\n",
       "      <td>...</td>\n",
       "      <td>7.429699</td>\n",
       "      <td>1.298021</td>\n",
       "      <td>0.136205</td>\n",
       "      <td>0.522949</td>\n",
       "      <td>0.322266</td>\n",
       "      <td>-0.260010</td>\n",
       "      <td>num_100</td>\n",
       "      <td>num_25</td>\n",
       "      <td>1.5</td>\n",
       "      <td>6</td>\n",
       "    </tr>\n",
       "  </tbody>\n",
       "</table>\n",
       "<p>5 rows × 37 columns</p>\n",
       "</div>"
      ],
      "text/plain": [
       "                                           msno  num_100 size  num_100 mean  \\\n",
       "0  +++hVY1rZox/33YtvDgmKA2Frg/2qhkz12B9ylCvh8o=            10     19.000000   \n",
       "1  +++l/EXNMLTijfLBa8p2TUVVVp2aFGSuUI/h7mLmthw=            10     19.200001   \n",
       "2  +++snpr7pmobhLKUgSHTv/mpkqgBT0tQJ0zQj6qKrqc=            10     11.900000   \n",
       "3  ++/9R3sX37CjxbY/AaGvbwr3QkwElKBCtSvVzhCBDOk=            10      8.700000   \n",
       "4  ++/UDNo9DLrxT8QVGiDi1OnWfczAdEwThaVyD0fXO50=            10     12.100000   \n",
       "\n",
       "   num_100 std  num_100 skew  num_25 mean  num_25 std  num_25 skew  \\\n",
       "0    13.012814      0.381211          4.4    3.405877     1.954870   \n",
       "1    15.090837      1.488439          1.4    1.646545     1.247022   \n",
       "2    10.450412      1.053608         10.2    8.148620     0.607687   \n",
       "3     7.631077      0.521622          3.3    6.395311     2.855342   \n",
       "4    16.535820      2.016524          2.9    3.381321     1.659348   \n",
       "\n",
       "   num_50 mean  num_50 std        ...          log_tot_sec mean  \\\n",
       "0          2.1    1.449138        ...                  8.485924   \n",
       "1          0.9    0.994429        ...                  8.210969   \n",
       "2          4.6    5.929212        ...                  7.989280   \n",
       "3          1.4    1.349897        ...                  7.418694   \n",
       "4          1.8    2.299758        ...                  7.429699   \n",
       "\n",
       "   log_tot_sec std  log_tot_sec skew  100_to_total_song mean  \\\n",
       "0         0.792681         -0.789240                0.575684   \n",
       "1         0.848565         -0.405889                0.812012   \n",
       "2         1.077626         -1.309684                0.414551   \n",
       "3         1.043146         -0.010053                0.632812   \n",
       "4         1.298021          0.136205                0.522949   \n",
       "\n",
       "   100_to_total_song std  100_to_total_song skew  max_column c_mode  \\\n",
       "0               0.157104               -0.667969            num_100   \n",
       "1               0.128418               -0.253174            num_100   \n",
       "2               0.247437                0.318604            num_100   \n",
       "3               0.210083                0.097900            num_100   \n",
       "4               0.322266               -0.260010            num_100   \n",
       "\n",
       "   min_column c_mode  date interval_d  date n_in_last10d  \n",
       "0             num_50              1.0                 10  \n",
       "1             num_25              1.0                 10  \n",
       "2             num_50              1.4                  8  \n",
       "3             num_25              1.0                 10  \n",
       "4             num_25              1.5                  6  \n",
       "\n",
       "[5 rows x 37 columns]"
      ]
     },
     "execution_count": 131,
     "metadata": {},
     "output_type": "execute_result"
    }
   ],
   "source": [
    "log_fea.head()"
   ]
  },
  {
   "cell_type": "code",
   "execution_count": 132,
   "metadata": {},
   "outputs": [
    {
     "data": {
      "text/plain": [
       "Index(['msno', 'num_100 size', 'num_100 mean', 'num_100 std', 'num_100 skew',\n",
       "       'num_25 mean', 'num_25 std', 'num_25 skew', 'num_50 mean', 'num_50 std',\n",
       "       'num_50 skew', 'num_75 mean', 'num_75 std', 'num_75 skew',\n",
       "       'num_985 mean', 'num_985 std', 'num_985 skew', 'num_unq mean',\n",
       "       'num_unq std', 'num_unq skew', 'total_song sum', 'total_song mean',\n",
       "       'total_song std', 'total_song skew', 'unique_song_ratio mean',\n",
       "       'unique_song_ratio std', 'unique_song_ratio skew', 'log_tot_sec mean',\n",
       "       'log_tot_sec std', 'log_tot_sec skew', '100_to_total_song mean',\n",
       "       '100_to_total_song std', '100_to_total_song skew', 'max_column c_mode',\n",
       "       'min_column c_mode', 'date interval_d', 'date n_in_last10d'],\n",
       "      dtype='object')"
      ]
     },
     "execution_count": 132,
     "metadata": {},
     "output_type": "execute_result"
    }
   ],
   "source": [
    "log_fea.columns"
   ]
  },
  {
   "cell_type": "code",
   "execution_count": 133,
   "metadata": {},
   "outputs": [
    {
     "data": {
      "text/plain": [
       "(869926, 37)"
      ]
     },
     "execution_count": 133,
     "metadata": {},
     "output_type": "execute_result"
    }
   ],
   "source": [
    "log_fea.shape"
   ]
  },
  {
   "cell_type": "code",
   "execution_count": 136,
   "metadata": {
    "collapsed": true,
    "jupyter": {
     "outputs_hidden": true
    }
   },
   "outputs": [],
   "source": [
    "log_fea.to_csv('../data/churn/log_fea.csv',index=False)"
   ]
  },
  {
   "cell_type": "code",
   "execution_count": 165,
   "metadata": {},
   "outputs": [
    {
     "data": {
      "text/plain": [
       "msno                          0\n",
       "num_100 size                  0\n",
       "num_100 mean                  0\n",
       "num_100 std                9860\n",
       "num_100 skew              17441\n",
       "num_25 mean                   0\n",
       "num_25 std                 9860\n",
       "num_25 skew               17441\n",
       "num_50 mean                   0\n",
       "num_50 std                 9860\n",
       "num_50 skew               17441\n",
       "num_75 mean                   0\n",
       "num_75 std                 9860\n",
       "num_75 skew               17441\n",
       "num_985 mean                  0\n",
       "num_985 std                9860\n",
       "num_985 skew              17441\n",
       "num_unq mean                  0\n",
       "num_unq std                9860\n",
       "num_unq skew              75057\n",
       "total_song sum                0\n",
       "total_song mean               0\n",
       "total_song std             9860\n",
       "total_song skew           17441\n",
       "unique_song_ratio mean        0\n",
       "unique_song_ratio std      9860\n",
       "unique_song_ratio skew    17441\n",
       "log_tot_sec mean              0\n",
       "log_tot_sec std            9860\n",
       "log_tot_sec skew          17441\n",
       "100_to_total_song mean        0\n",
       "100_to_total_song std      9860\n",
       "100_to_total_song skew    17441\n",
       "max_column c_mode             0\n",
       "min_column c_mode             0\n",
       "date interval_d               0\n",
       "date n_in_last10d             0\n",
       "dtype: int64"
      ]
     },
     "execution_count": 165,
     "metadata": {},
     "output_type": "execute_result"
    }
   ],
   "source": [
    "log_fea.isnull().sum()"
   ]
  },
  {
   "cell_type": "code",
   "execution_count": 142,
   "metadata": {},
   "outputs": [
    {
     "data": {
      "text/plain": [
       "10    820323\n",
       "1       9860\n",
       "2       7581\n",
       "3       6360\n",
       "4       5389\n",
       "5       4832\n",
       "6       4199\n",
       "7       4038\n",
       "8       3831\n",
       "9       3513\n",
       "Name: num_100 size, dtype: int64"
      ]
     },
     "execution_count": 142,
     "metadata": {},
     "output_type": "execute_result"
    }
   ],
   "source": [
    "log_fea['num_100 size'].value_counts()"
   ]
  },
  {
   "cell_type": "markdown",
   "metadata": {},
   "source": [
    "## 3. Merge with train"
   ]
  },
  {
   "cell_type": "code",
   "execution_count": 150,
   "metadata": {
    "collapsed": true,
    "jupyter": {
     "outputs_hidden": true
    }
   },
   "outputs": [],
   "source": [
    "train=pd.read_csv('../data/churn/train_mem_trans_fea.csv')"
   ]
  },
  {
   "cell_type": "code",
   "execution_count": 135,
   "metadata": {},
   "outputs": [
    {
     "data": {
      "text/plain": [
       "(992931, 39)"
      ]
     },
     "execution_count": 135,
     "metadata": {},
     "output_type": "execute_result"
    }
   ],
   "source": [
    "train.shape"
   ]
  },
  {
   "cell_type": "code",
   "execution_count": 137,
   "metadata": {
    "collapsed": true,
    "jupyter": {
     "outputs_hidden": true
    }
   },
   "outputs": [],
   "source": [
    "train=pd.merge(train,log_fea,how='left',on='msno')"
   ]
  },
  {
   "cell_type": "code",
   "execution_count": 151,
   "metadata": {},
   "outputs": [
    {
     "data": {
      "text/plain": [
       "(992931, 75)"
      ]
     },
     "execution_count": 151,
     "metadata": {},
     "output_type": "execute_result"
    }
   ],
   "source": [
    "train.shape"
   ]
  },
  {
   "cell_type": "code",
   "execution_count": 161,
   "metadata": {
    "collapsed": true,
    "jupyter": {
     "outputs_hidden": true
    }
   },
   "outputs": [],
   "source": [
    "train.drop(['registration_init_time','expiration_date','transaction_date','membership_expire_date','expiration_year','expiration_month','expiration_day'],axis=1,inplace=True)"
   ]
  },
  {
   "cell_type": "code",
   "execution_count": 173,
   "metadata": {
    "collapsed": true,
    "jupyter": {
     "outputs_hidden": true
    }
   },
   "outputs": [],
   "source": [
    "train['city']=train.city.fillna(0) #use 0 to stand for missing value\n",
    "train['registered_via']=train.registered_via.fillna('Unknown') # use \n",
    "train['bd_missing']=train['bd'].isnull()\n",
    "\n",
    "train=train.fillna(0)\n",
    "train.replace([np.inf,-np.inf],0,inplace=True)"
   ]
  },
  {
   "cell_type": "code",
   "execution_count": 181,
   "metadata": {
    "collapsed": true,
    "jupyter": {
     "outputs_hidden": true
    }
   },
   "outputs": [],
   "source": [
    "train['city']=train['city'].astype('category')\n",
    "train['registered_via']=train['registered_via'].astype('category')\n",
    "train['gender']=train['gender'].astype('category')\n",
    "train['max_column c_mode']=train['max_column c_mode'].astype('category')\n",
    "train['min_column c_mode']=train['min_column c_mode'].astype('category')"
   ]
  },
  {
   "cell_type": "code",
   "execution_count": 186,
   "metadata": {},
   "outputs": [
    {
     "data": {
      "text/plain": [
       "(992931, 69)"
      ]
     },
     "execution_count": 186,
     "metadata": {},
     "output_type": "execute_result"
    }
   ],
   "source": [
    "train.shape"
   ]
  },
  {
   "cell_type": "code",
   "execution_count": 185,
   "metadata": {},
   "outputs": [
    {
     "data": {
      "text/plain": [
       "Index(['msno', 'is_churn', 'city', 'bd', 'gender', 'registered_via',\n",
       "       'registration_year', 'registration_month', 'registration_day',\n",
       "       'payment_method_id', 'payment_plan_days', 'plan_list_price',\n",
       "       'actual_amount_paid', 'is_auto_renew', 'is_cancel', 'trans_year',\n",
       "       'trans_month', 'trans_day', 'trans_expiration_year',\n",
       "       'trans_expiration_month', 'trans_expiration_day', 'discount_value',\n",
       "       'discount_y', 'amount_per_day', 'day_from_last', 'trans_count',\n",
       "       'cancel_count', 'discount_freq', 'renew_freq', 'discount_std',\n",
       "       'cancel_freq', 'price_increase', 'num_100 size', 'num_100 mean',\n",
       "       'num_100 std', 'num_100 skew', 'num_25 mean', 'num_25 std',\n",
       "       'num_25 skew', 'num_50 mean', 'num_50 std', 'num_50 skew',\n",
       "       'num_75 mean', 'num_75 std', 'num_75 skew', 'num_985 mean',\n",
       "       'num_985 std', 'num_985 skew', 'num_unq mean', 'num_unq std',\n",
       "       'num_unq skew', 'total_song sum', 'total_song mean', 'total_song std',\n",
       "       'total_song skew', 'unique_song_ratio mean', 'unique_song_ratio std',\n",
       "       'unique_song_ratio skew', 'log_tot_sec mean', 'log_tot_sec std',\n",
       "       'log_tot_sec skew', '100_to_total_song mean', '100_to_total_song std',\n",
       "       '100_to_total_song skew', 'max_column c_mode', 'min_column c_mode',\n",
       "       'date interval_d', 'date n_in_last10d', 'bd_missing'],\n",
       "      dtype='object')"
      ]
     },
     "execution_count": 185,
     "metadata": {},
     "output_type": "execute_result"
    }
   ],
   "source": [
    "train.columns"
   ]
  },
  {
   "cell_type": "code",
   "execution_count": null,
   "metadata": {
    "collapsed": true,
    "jupyter": {
     "outputs_hidden": true
    }
   },
   "outputs": [],
   "source": [
    "train.to_csv('../data/churn/train_new_features_no_missing.csv',index=False)"
   ]
  },
  {
   "cell_type": "code",
   "execution_count": 3,
   "metadata": {
    "collapsed": true,
    "jupyter": {
     "outputs_hidden": true
    }
   },
   "outputs": [],
   "source": [
    "train=pd.read_csv('../data/churn/train_new_features_no_missing.csv')"
   ]
  },
  {
   "cell_type": "code",
   "execution_count": 4,
   "metadata": {},
   "outputs": [
    {
     "data": {
      "text/plain": [
       "msno                       object\n",
       "is_churn                     bool\n",
       "city                      float64\n",
       "bd                        float64\n",
       "gender                     object\n",
       "registered_via             object\n",
       "registration_year         float64\n",
       "registration_month        float64\n",
       "registration_day          float64\n",
       "payment_method_id           int64\n",
       "payment_plan_days           int64\n",
       "plan_list_price             int64\n",
       "actual_amount_paid          int64\n",
       "is_auto_renew                bool\n",
       "is_cancel                    bool\n",
       "trans_year                  int64\n",
       "trans_month                 int64\n",
       "trans_day                   int64\n",
       "trans_expiration_year       int64\n",
       "trans_expiration_month      int64\n",
       "trans_expiration_day        int64\n",
       "discount_value              int64\n",
       "discount_y                   bool\n",
       "amount_per_day            float64\n",
       "day_from_last               int64\n",
       "trans_count                 int64\n",
       "cancel_count              float64\n",
       "discount_freq             float64\n",
       "renew_freq                float64\n",
       "discount_std              float64\n",
       "                           ...   \n",
       "num_50 mean               float64\n",
       "num_50 std                float64\n",
       "num_50 skew               float64\n",
       "num_75 mean               float64\n",
       "num_75 std                float64\n",
       "num_75 skew               float64\n",
       "num_985 mean              float64\n",
       "num_985 std               float64\n",
       "num_985 skew              float64\n",
       "num_unq mean              float64\n",
       "num_unq std               float64\n",
       "num_unq skew              float64\n",
       "total_song sum            float64\n",
       "total_song mean           float64\n",
       "total_song std            float64\n",
       "total_song skew           float64\n",
       "unique_song_ratio mean    float64\n",
       "unique_song_ratio std     float64\n",
       "unique_song_ratio skew    float64\n",
       "log_tot_sec mean          float64\n",
       "log_tot_sec std           float64\n",
       "log_tot_sec skew          float64\n",
       "100_to_total_song mean    float64\n",
       "100_to_total_song std     float64\n",
       "100_to_total_song skew    float64\n",
       "max_column c_mode          object\n",
       "min_column c_mode          object\n",
       "date interval_d           float64\n",
       "date n_in_last10d         float64\n",
       "bd_missing                   bool\n",
       "Length: 69, dtype: object"
      ]
     },
     "execution_count": 4,
     "metadata": {},
     "output_type": "execute_result"
    }
   ],
   "source": [
    "train.dtypes"
   ]
  },
  {
   "cell_type": "code",
   "execution_count": 14,
   "metadata": {
    "collapsed": true,
    "jupyter": {
     "outputs_hidden": true
    }
   },
   "outputs": [],
   "source": [
    "for c in train.columns:\n",
    "    if train[c].dtype in [np.dtype('float64'),np.dtype('int64')]:\n",
    "        train[c]=train[c].astype('float32') # make sure the column is in float32"
   ]
  },
  {
   "cell_type": "code",
   "execution_count": 16,
   "metadata": {},
   "outputs": [
    {
     "data": {
      "text/plain": [
       "msno                       object\n",
       "is_churn                     bool\n",
       "city                      float32\n",
       "bd                        float32\n",
       "gender                     object\n",
       "registered_via             object\n",
       "registration_year         float32\n",
       "registration_month        float32\n",
       "registration_day          float32\n",
       "payment_method_id         float32\n",
       "payment_plan_days         float32\n",
       "plan_list_price           float32\n",
       "actual_amount_paid        float32\n",
       "is_auto_renew                bool\n",
       "is_cancel                    bool\n",
       "trans_year                float32\n",
       "trans_month               float32\n",
       "trans_day                 float32\n",
       "trans_expiration_year     float32\n",
       "trans_expiration_month    float32\n",
       "trans_expiration_day      float32\n",
       "discount_value            float32\n",
       "discount_y                   bool\n",
       "amount_per_day            float32\n",
       "day_from_last             float32\n",
       "trans_count               float32\n",
       "cancel_count              float32\n",
       "discount_freq             float32\n",
       "renew_freq                float32\n",
       "discount_std              float32\n",
       "                           ...   \n",
       "num_50 mean               float32\n",
       "num_50 std                float32\n",
       "num_50 skew               float32\n",
       "num_75 mean               float32\n",
       "num_75 std                float32\n",
       "num_75 skew               float32\n",
       "num_985 mean              float32\n",
       "num_985 std               float32\n",
       "num_985 skew              float32\n",
       "num_unq mean              float32\n",
       "num_unq std               float32\n",
       "num_unq skew              float32\n",
       "total_song sum            float32\n",
       "total_song mean           float32\n",
       "total_song std            float32\n",
       "total_song skew           float32\n",
       "unique_song_ratio mean    float32\n",
       "unique_song_ratio std     float32\n",
       "unique_song_ratio skew    float32\n",
       "log_tot_sec mean          float32\n",
       "log_tot_sec std           float32\n",
       "log_tot_sec skew          float32\n",
       "100_to_total_song mean    float32\n",
       "100_to_total_song std     float32\n",
       "100_to_total_song skew    float32\n",
       "max_column c_mode          object\n",
       "min_column c_mode          object\n",
       "date interval_d           float32\n",
       "date n_in_last10d         float32\n",
       "bd_missing                   bool\n",
       "Length: 69, dtype: object"
      ]
     },
     "execution_count": 16,
     "metadata": {},
     "output_type": "execute_result"
    }
   ],
   "source": [
    "train.dtypes"
   ]
  },
  {
   "cell_type": "markdown",
   "metadata": {},
   "source": [
    "## 4. Save the dtype and use next time when you re-read in the data, and you don't need to respecify the dtypes again!\n",
    "\n",
    "What you can do is to save the dtypes now to a dictionary and save it to a file, next time load this file as a dictionary and when you readin the csv file, specify the dtype with this dictionary."
   ]
  },
  {
   "cell_type": "code",
   "execution_count": null,
   "metadata": {
    "collapsed": true,
    "jupyter": {
     "outputs_hidden": true
    }
   },
   "outputs": [],
   "source": [
    "import pickle\n",
    "\n",
    "data_types = train.dtypes.to_dict()\n",
    "\n",
    "with open('../data/churn/data/read_in_dtypes.pkl', 'wb') as f:\n",
    "        pickle.dump(train_types, f, pickle.HIGHEST_PROTOCOL)"
   ]
  },
  {
   "cell_type": "markdown",
   "metadata": {},
   "source": [
    "### When you re-read in the csv file:"
   ]
  },
  {
   "cell_type": "code",
   "execution_count": null,
   "metadata": {
    "collapsed": true,
    "jupyter": {
     "outputs_hidden": true
    }
   },
   "outputs": [],
   "source": [
    "import pickle\n",
    "f=open('../data/churn/data/read_in_dtypes.pkl', 'rb') \n",
    "read_dtypes=pickle.load(f)"
   ]
  },
  {
   "cell_type": "code",
   "execution_count": null,
   "metadata": {
    "collapsed": true,
    "jupyter": {
     "outputs_hidden": true
    }
   },
   "outputs": [],
   "source": [
    "train=pd.read_csv('../data/churn/train_new_features_no_missing.csv',dtype=read_dtypes)"
   ]
  },
  {
   "cell_type": "markdown",
   "metadata": {},
   "source": [
    "## 5. A simple xgb model with these features resulted in a leaderboard score of 0.18\n",
    "\n",
    "The feature importance of this model:"
   ]
  },
  {
   "attachments": {
    "image.png": {
     "image/png": "[encoded data removed]"
    }
   },
   "cell_type": "markdown",
   "metadata": {},
   "source": [
    "![image.png](attachment:image.png)"
   ]
  },
  {
   "cell_type": "code",
   "execution_count": null,
   "metadata": {
    "collapsed": true,
    "jupyter": {
     "outputs_hidden": true
    }
   },
   "outputs": [],
   "source": []
  }
 ],
 "metadata": {
  "kernelspec": {
   "display_name": "Python 3",
   "language": "python",
   "name": "python3"
  },
  "language_info": {
   "codemirror_mode": {
    "name": "ipython",
    "version": 3
   },
   "file_extension": ".py",
   "mimetype": "text/x-python",
   "name": "python",
   "nbconvert_exporter": "python",
   "pygments_lexer": "ipython3",
   "version": "3.6.5"
  }
 },
 "nbformat": 4,
 "nbformat_minor": 4
}
