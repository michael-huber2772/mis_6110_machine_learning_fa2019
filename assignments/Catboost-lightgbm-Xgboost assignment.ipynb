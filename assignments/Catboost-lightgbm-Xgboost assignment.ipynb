{
 "cells": [
  {
   "cell_type": "markdown",
   "metadata": {},
   "source": [
    "# Redfin revisited"
   ]
  },
  {
   "cell_type": "code",
   "execution_count": 1,
   "metadata": {},
   "outputs": [],
   "source": [
    "%matplotlib notebook\n",
    "import pandas as pd\n",
    "import time\n",
    "import matplotlib.pyplot as plt\n",
    "\n",
    "from sklearn.model_selection import train_test_split\n",
    "from sklearn.linear_model import LinearRegression\n",
    "from sklearn.preprocessing import LabelEncoder\n",
    "from sklearn.metrics import mean_squared_error,r2_score\n",
    "from math import sqrt\n",
    "\n",
    "import catboost as cgb\n",
    "import xgboost as xgb\n",
    "import lightgbm as lgb"
   ]
  },
  {
   "cell_type": "markdown",
   "metadata": {},
   "source": [
    "### I have pre-processed the redfin data.\n",
    "\n",
    "keeping only the single family residential houses, filling missing values either 0 for continuous or \"unknown\" for categorical features, particular the missing values in walkscore, bikescore, and transitscore are filled with mean score for the same zip area. There are two new features created from \"property history records\", days from last sale, and number of historical records."
   ]
  },
  {
   "cell_type": "code",
   "execution_count": 2,
   "metadata": {},
   "outputs": [],
   "source": [
    "redfin = pd.read_csv('redfin_processed.csv',parse_dates=['SOLD DATE'])"
   ]
  },
  {
   "cell_type": "code",
   "execution_count": 3,
   "metadata": {},
   "outputs": [
    {
     "name": "stdout",
     "output_type": "stream",
     "text": [
      "<class 'pandas.core.frame.DataFrame'>\n",
      "RangeIndex: 7314 entries, 0 to 7313\n",
      "Data columns (total 26 columns):\n",
      "SOLD DATE              7314 non-null datetime64[ns]\n",
      "zip                    7314 non-null float64\n",
      "PRICE                  7314 non-null int64\n",
      "BEDS                   7314 non-null float64\n",
      "BATHS                  7314 non-null float64\n",
      "SQUARE FEET            7314 non-null float64\n",
      "LOT SIZE               7314 non-null float64\n",
      "YEAR BUILT             7314 non-null float64\n",
      "HOA/MONTH              7314 non-null float64\n",
      "propertyStyle          7314 non-null object\n",
      "garageCap              7314 non-null int64\n",
      "parkingCap             7314 non-null int64\n",
      "driveway               7314 non-null object\n",
      "roof                   7314 non-null object\n",
      "patio                  7314 non-null int64\n",
      "hasPool                7314 non-null object\n",
      "taxdue                 7314 non-null int64\n",
      "frontFaceDirection     7314 non-null object\n",
      "yearRemodled           7314 non-null float64\n",
      "propertyHistory        7314 non-null object\n",
      "schoolserving          7314 non-null object\n",
      "walkscore              7314 non-null float64\n",
      "bikescore              7314 non-null float64\n",
      "transitscore           7314 non-null float64\n",
      "days_from_last_sold    7314 non-null int64\n",
      "n_history              7314 non-null int64\n",
      "dtypes: datetime64[ns](1), float64(11), int64(7), object(7)\n",
      "memory usage: 1.5+ MB\n"
     ]
    }
   ],
   "source": [
    "redfin.info()"
   ]
  },
  {
   "cell_type": "code",
   "execution_count": 4,
   "metadata": {},
   "outputs": [
    {
     "data": {
      "text/plain": [
       "\"[('Sold (MLS)', 1493362800000), ('Pending', 1491341332920), ('Price Changed', 1489477470000), ('Listed', 1488851879646), ('Delisted', 1195027200000), ('Delisted', 1179173115000), ('Listed', 1179126000000), ('Listed', 1176274800000), ('Sold (MLS)', 947145600000), ('Listed', 945072000000), ('Sold (MLS)', 851328000000), ('Listed', 848908800000)]\""
      ]
     },
     "execution_count": 4,
     "metadata": {},
     "output_type": "execute_result"
    }
   ],
   "source": [
    "redfin['propertyHistory'][1000]"
   ]
  },
  {
   "cell_type": "code",
   "execution_count": 5,
   "metadata": {},
   "outputs": [],
   "source": [
    "redfin['sold_year'] = redfin['SOLD DATE'].dt.year\n",
    "redfin['sold_month'] = redfin['SOLD DATE'].dt.month\n",
    "redfin['sold_day'] = redfin['SOLD DATE'].dt.day"
   ]
  },
  {
   "cell_type": "markdown",
   "metadata": {},
   "source": [
    "**Since I used property history already, we need to drop it.**"
   ]
  },
  {
   "cell_type": "code",
   "execution_count": 6,
   "metadata": {},
   "outputs": [],
   "source": [
    "redfin.drop(columns=['propertyHistory','SOLD DATE'],inplace = True)"
   ]
  },
  {
   "cell_type": "code",
   "execution_count": 7,
   "metadata": {},
   "outputs": [
    {
     "data": {
      "text/html": [
       "<div>\n",
       "<style scoped>\n",
       "    .dataframe tbody tr th:only-of-type {\n",
       "        vertical-align: middle;\n",
       "    }\n",
       "\n",
       "    .dataframe tbody tr th {\n",
       "        vertical-align: top;\n",
       "    }\n",
       "\n",
       "    .dataframe thead th {\n",
       "        text-align: right;\n",
       "    }\n",
       "</style>\n",
       "<table border=\"1\" class=\"dataframe\">\n",
       "  <thead>\n",
       "    <tr style=\"text-align: right;\">\n",
       "      <th></th>\n",
       "      <th>zip</th>\n",
       "      <th>PRICE</th>\n",
       "      <th>BEDS</th>\n",
       "      <th>BATHS</th>\n",
       "      <th>SQUARE FEET</th>\n",
       "      <th>LOT SIZE</th>\n",
       "      <th>YEAR BUILT</th>\n",
       "      <th>HOA/MONTH</th>\n",
       "      <th>propertyStyle</th>\n",
       "      <th>garageCap</th>\n",
       "      <th>...</th>\n",
       "      <th>yearRemodled</th>\n",
       "      <th>schoolserving</th>\n",
       "      <th>walkscore</th>\n",
       "      <th>bikescore</th>\n",
       "      <th>transitscore</th>\n",
       "      <th>days_from_last_sold</th>\n",
       "      <th>n_history</th>\n",
       "      <th>sold_year</th>\n",
       "      <th>sold_month</th>\n",
       "      <th>sold_day</th>\n",
       "    </tr>\n",
       "  </thead>\n",
       "  <tbody>\n",
       "    <tr>\n",
       "      <th>0</th>\n",
       "      <td>84115.0</td>\n",
       "      <td>278000</td>\n",
       "      <td>3.0</td>\n",
       "      <td>2.0</td>\n",
       "      <td>1920.0</td>\n",
       "      <td>4791.0</td>\n",
       "      <td>1919.0</td>\n",
       "      <td>0.0</td>\n",
       "      <td>Bungalow/Cottage</td>\n",
       "      <td>0</td>\n",
       "      <td>...</td>\n",
       "      <td>1919.0</td>\n",
       "      <td>[]</td>\n",
       "      <td>70.0</td>\n",
       "      <td>89.0</td>\n",
       "      <td>49.0</td>\n",
       "      <td>0</td>\n",
       "      <td>0</td>\n",
       "      <td>2016</td>\n",
       "      <td>9</td>\n",
       "      <td>23</td>\n",
       "    </tr>\n",
       "    <tr>\n",
       "      <th>1</th>\n",
       "      <td>84118.0</td>\n",
       "      <td>154000</td>\n",
       "      <td>2.0</td>\n",
       "      <td>1.0</td>\n",
       "      <td>795.0</td>\n",
       "      <td>7405.0</td>\n",
       "      <td>1950.0</td>\n",
       "      <td>0.0</td>\n",
       "      <td>Rambler/Ranch</td>\n",
       "      <td>0</td>\n",
       "      <td>...</td>\n",
       "      <td>1950.0</td>\n",
       "      <td>[]</td>\n",
       "      <td>71.0</td>\n",
       "      <td>61.0</td>\n",
       "      <td>37.0</td>\n",
       "      <td>0</td>\n",
       "      <td>0</td>\n",
       "      <td>2016</td>\n",
       "      <td>9</td>\n",
       "      <td>23</td>\n",
       "    </tr>\n",
       "    <tr>\n",
       "      <th>2</th>\n",
       "      <td>84104.0</td>\n",
       "      <td>149734</td>\n",
       "      <td>3.0</td>\n",
       "      <td>2.0</td>\n",
       "      <td>1195.0</td>\n",
       "      <td>10018.0</td>\n",
       "      <td>1906.0</td>\n",
       "      <td>0.0</td>\n",
       "      <td>Rambler/Ranch</td>\n",
       "      <td>0</td>\n",
       "      <td>...</td>\n",
       "      <td>1994.0</td>\n",
       "      <td>[('Parkview School', 'Preschool to 6', 6), ('G...</td>\n",
       "      <td>50.0</td>\n",
       "      <td>80.0</td>\n",
       "      <td>34.0</td>\n",
       "      <td>3668</td>\n",
       "      <td>21</td>\n",
       "      <td>2016</td>\n",
       "      <td>9</td>\n",
       "      <td>23</td>\n",
       "    </tr>\n",
       "    <tr>\n",
       "      <th>3</th>\n",
       "      <td>84118.0</td>\n",
       "      <td>199900</td>\n",
       "      <td>4.0</td>\n",
       "      <td>2.0</td>\n",
       "      <td>1976.0</td>\n",
       "      <td>7840.0</td>\n",
       "      <td>1959.0</td>\n",
       "      <td>0.0</td>\n",
       "      <td>Rambler/Ranch</td>\n",
       "      <td>0</td>\n",
       "      <td>...</td>\n",
       "      <td>1959.0</td>\n",
       "      <td>[]</td>\n",
       "      <td>53.0</td>\n",
       "      <td>53.0</td>\n",
       "      <td>37.0</td>\n",
       "      <td>0</td>\n",
       "      <td>0</td>\n",
       "      <td>2016</td>\n",
       "      <td>9</td>\n",
       "      <td>23</td>\n",
       "    </tr>\n",
       "    <tr>\n",
       "      <th>4</th>\n",
       "      <td>84124.0</td>\n",
       "      <td>275000</td>\n",
       "      <td>3.0</td>\n",
       "      <td>1.0</td>\n",
       "      <td>1644.0</td>\n",
       "      <td>16988.0</td>\n",
       "      <td>1954.0</td>\n",
       "      <td>0.0</td>\n",
       "      <td>Rambler/Ranch</td>\n",
       "      <td>0</td>\n",
       "      <td>...</td>\n",
       "      <td>1954.0</td>\n",
       "      <td>[]</td>\n",
       "      <td>59.0</td>\n",
       "      <td>54.0</td>\n",
       "      <td>38.0</td>\n",
       "      <td>0</td>\n",
       "      <td>0</td>\n",
       "      <td>2016</td>\n",
       "      <td>9</td>\n",
       "      <td>23</td>\n",
       "    </tr>\n",
       "  </tbody>\n",
       "</table>\n",
       "<p>5 rows × 27 columns</p>\n",
       "</div>"
      ],
      "text/plain": [
       "       zip   PRICE  BEDS  BATHS  SQUARE FEET  LOT SIZE  YEAR BUILT  HOA/MONTH  \\\n",
       "0  84115.0  278000   3.0    2.0       1920.0    4791.0      1919.0        0.0   \n",
       "1  84118.0  154000   2.0    1.0        795.0    7405.0      1950.0        0.0   \n",
       "2  84104.0  149734   3.0    2.0       1195.0   10018.0      1906.0        0.0   \n",
       "3  84118.0  199900   4.0    2.0       1976.0    7840.0      1959.0        0.0   \n",
       "4  84124.0  275000   3.0    1.0       1644.0   16988.0      1954.0        0.0   \n",
       "\n",
       "      propertyStyle  garageCap  ...  yearRemodled  \\\n",
       "0  Bungalow/Cottage          0  ...        1919.0   \n",
       "1     Rambler/Ranch          0  ...        1950.0   \n",
       "2     Rambler/Ranch          0  ...        1994.0   \n",
       "3     Rambler/Ranch          0  ...        1959.0   \n",
       "4     Rambler/Ranch          0  ...        1954.0   \n",
       "\n",
       "                                       schoolserving walkscore  bikescore  \\\n",
       "0                                                 []      70.0       89.0   \n",
       "1                                                 []      71.0       61.0   \n",
       "2  [('Parkview School', 'Preschool to 6', 6), ('G...      50.0       80.0   \n",
       "3                                                 []      53.0       53.0   \n",
       "4                                                 []      59.0       54.0   \n",
       "\n",
       "  transitscore  days_from_last_sold n_history  sold_year sold_month  sold_day  \n",
       "0         49.0                    0         0       2016          9        23  \n",
       "1         37.0                    0         0       2016          9        23  \n",
       "2         34.0                 3668        21       2016          9        23  \n",
       "3         37.0                    0         0       2016          9        23  \n",
       "4         38.0                    0         0       2016          9        23  \n",
       "\n",
       "[5 rows x 27 columns]"
      ]
     },
     "execution_count": 7,
     "metadata": {},
     "output_type": "execute_result"
    }
   ],
   "source": [
    "redfin.head()"
   ]
  },
  {
   "cell_type": "code",
   "execution_count": 8,
   "metadata": {},
   "outputs": [
    {
     "data": {
      "text/plain": [
       "zip                    float64\n",
       "PRICE                    int64\n",
       "BEDS                   float64\n",
       "BATHS                  float64\n",
       "SQUARE FEET            float64\n",
       "LOT SIZE               float64\n",
       "YEAR BUILT             float64\n",
       "HOA/MONTH              float64\n",
       "propertyStyle           object\n",
       "garageCap                int64\n",
       "parkingCap               int64\n",
       "driveway                object\n",
       "roof                    object\n",
       "patio                    int64\n",
       "hasPool                 object\n",
       "taxdue                   int64\n",
       "frontFaceDirection      object\n",
       "yearRemodled           float64\n",
       "schoolserving           object\n",
       "walkscore              float64\n",
       "bikescore              float64\n",
       "transitscore           float64\n",
       "days_from_last_sold      int64\n",
       "n_history                int64\n",
       "sold_year                int64\n",
       "sold_month               int64\n",
       "sold_day                 int64\n",
       "dtype: object"
      ]
     },
     "execution_count": 8,
     "metadata": {},
     "output_type": "execute_result"
    }
   ],
   "source": [
    "redfin.dtypes"
   ]
  },
  {
   "cell_type": "markdown",
   "metadata": {},
   "source": [
    "## 0. Let define categorical features first"
   ]
  },
  {
   "cell_type": "code",
   "execution_count": 9,
   "metadata": {},
   "outputs": [],
   "source": [
    "cat_cols = redfin.dtypes[redfin.dtypes=='object'].index.to_list()+['zip']"
   ]
  },
  {
   "cell_type": "markdown",
   "metadata": {},
   "source": [
    "#### Q1. Define X and y to predict housing price. (1 point)"
   ]
  },
  {
   "cell_type": "code",
   "execution_count": 10,
   "metadata": {},
   "outputs": [],
   "source": [
    "col1 = redfin.iloc[:, 0]\n",
    "col2 = redfin.iloc[:, 2:]\n",
    "\n",
    "X = pd.concat([col1, col2], axis=1)\n",
    "y = redfin.iloc[:, 1]"
   ]
  },
  {
   "cell_type": "markdown",
   "metadata": {},
   "source": [
    "#### Q2. Split the data in to 80%/20% train/test, with random_state = 0. (1 point)"
   ]
  },
  {
   "cell_type": "code",
   "execution_count": 11,
   "metadata": {},
   "outputs": [],
   "source": [
    "X_train,X_test,y_train,y_test = train_test_split(X,y, train_size=0.8 ,test_size=0.2, random_state=0)"
   ]
  },
  {
   "cell_type": "markdown",
   "metadata": {},
   "source": [
    "#### Q3. Use label encoding on categorical features, if a feature is new in test, make it as unseen data, with special value of 99999. (6 points)\n",
    "The encoded data should be named as:\n",
    "\n",
    "`X_train_lab =\n",
    "X_test_lab =`\n",
    "\n",
    "**Hint: see catboost-lightgbm-xgboost notebook 3.3.1**"
   ]
  },
  {
   "cell_type": "code",
   "execution_count": 12,
   "metadata": {},
   "outputs": [],
   "source": [
    "label_encoder = LabelEncoder()\n",
    "X_train_lab = X_train.copy()\n",
    "X_test_lab =  X_test.copy()\n",
    "\n",
    "for col in cat_cols:\n",
    "    X_train_lab[col] = label_encoder.fit_transform(X_train_lab[col])\n",
    "    label_dict = dict(zip(label_encoder.classes_, label_encoder.transform(label_encoder.classes_)))\n",
    "    X_test_lab[col]=X_test_lab[col].apply(lambda x: label_dict.get(x, 99999))"
   ]
  },
  {
   "cell_type": "markdown",
   "metadata": {},
   "source": [
    "#### Q4. Use linear regression to fit the model without categorical features. (4 points)\n",
    "Use: \n",
    "> `X_train_lin = X_train[[x for x in X_train.columns if x not in cat_cols]]\n",
    "X_test_lin = X_test[[x for x in X_test.columns if x not in cat_cols]]`\n",
    "\n",
    "and calculate root mean squared error (RMSR) and $R^2$. \n",
    "\n",
    "To calculate mean squared error and $R^2$, use\n",
    "\n",
    "> `from math import sqrt\n",
    "RMSE = sqrt(mean_squared_error(y_true, y_pred))\n",
    "r2 = r2_score(y_true, y_pred)`\n",
    "\n",
    "see https://scikit-learn.org/stable/modules/model_evaluation.html#mean-squared-error\n",
    "\n",
    "**Please print out time used for training and RMSE and $R^2$**\n",
    "\n",
    "**Hint** You can use `%time` in the beginning of the statement, and it will print the time itself."
   ]
  },
  {
   "cell_type": "code",
   "execution_count": 13,
   "metadata": {},
   "outputs": [
    {
     "name": "stdout",
     "output_type": "stream",
     "text": [
      "time used for calculating sum of 0 to 100,000,000!: 5000000050000000\n",
      "Wall time: 11.1 s\n"
     ]
    }
   ],
   "source": [
    "import numpy as np\n",
    "%time print('time used for calculating sum of 0 to 100,000,000!:',sum([x for x in range(0,100000001)]))"
   ]
  },
  {
   "cell_type": "code",
   "execution_count": 14,
   "metadata": {},
   "outputs": [
    {
     "name": "stdout",
     "output_type": "stream",
     "text": [
      "Root Mean Squared Error: 108801.56087374304\n",
      "R-Squared: 0.7430084239940704\n"
     ]
    }
   ],
   "source": [
    "X_train_lin = X_train[[x for x in X_train.columns if x not in cat_cols]]\n",
    "X_test_lin = X_test[[x for x in X_test.columns if x not in cat_cols]]\n",
    "\n",
    "regressor = LinearRegression()  \n",
    "regressor.fit(X_train_lin, y_train)\n",
    "\n",
    "y_pred = regressor.predict(X_test_lin)\n",
    "y_true = y_test\n",
    "\n",
    "from math import sqrt\n",
    "RMSE = sqrt(mean_squared_error(y_true, y_pred))\n",
    "r2 = r2_score(y_true, y_pred)\n",
    "\n",
    "print(f'Root Mean Squared Error: {RMSE}')\n",
    "print(f'R-Squared: {r2}')\n",
    "\n",
    "# Reference: https://towardsdatascience.com/a-beginners-guide-to-linear-regression-in-python-with-scikit-learn-83a8f7ae2b4f"
   ]
  },
  {
   "cell_type": "markdown",
   "metadata": {},
   "source": [
    "### Use Xgboost . (18 points)\n",
    "\n",
    "#### Q5. use `xgb.DMatrix` to define training and test data as: (4 points)\n",
    "\n",
    "Use `X_train_lab, X_test_lab`\n",
    "\n",
    "> `dtrain = `\n",
    "\n",
    "> `dvalid = `"
   ]
  },
  {
   "cell_type": "code",
   "execution_count": 15,
   "metadata": {},
   "outputs": [
    {
     "name": "stderr",
     "output_type": "stream",
     "text": [
      "C:\\Users\\micha\\Anaconda3\\lib\\site-packages\\xgboost\\core.py:587: FutureWarning: Series.base is deprecated and will be removed in a future version\n",
      "  if getattr(data, 'base', None) is not None and \\\n"
     ]
    }
   ],
   "source": [
    "dtrain = xgb.DMatrix(X_train_lab, y_train)\n",
    "dvalid = xgb.DMatrix(X_test_lab, y_test)"
   ]
  },
  {
   "cell_type": "markdown",
   "metadata": {},
   "source": [
    "#### Q6. Setting hyperparameters in `params_xgb`. (2 points)\n",
    "\n",
    "This is a regression problem, \n",
    "+ the first parameter is `\"objective\"` to be `'reg:squarederror'`.\n",
    "+ Set 'learning_rate' or 'eta' to 0.2\n"
   ]
  },
  {
   "cell_type": "code",
   "execution_count": 16,
   "metadata": {},
   "outputs": [],
   "source": [
    "params_xgb = {\n",
    "    'objective': 'reg:squarederror',\n",
    "    'eta': 0.2,\n",
    "    'eval_metric': 'rmse'\n",
    "}"
   ]
  },
  {
   "cell_type": "markdown",
   "metadata": {},
   "source": [
    "#### Q7. Train the model (6 points)\n",
    "+ model name: model_xgb\n",
    "+ use 1000 boosting round\n",
    "+ set evals as [(dtrain,'train'),(dvalid,'valid')]\n",
    "+ early stopping round is 50\n",
    "+ verbose_eval is set to 25\n",
    "+ print training time"
   ]
  },
  {
   "cell_type": "code",
   "execution_count": 17,
   "metadata": {
    "scrolled": true
   },
   "outputs": [
    {
     "name": "stdout",
     "output_type": "stream",
     "text": [
      "[0]\ttrain-rmse:393786\tvalid-rmse:370154\n",
      "Multiple eval metrics have been passed: 'valid-rmse' will be used for early stopping.\n",
      "\n",
      "Will train until valid-rmse hasn't improved in 50 rounds.\n",
      "[25]\ttrain-rmse:57495.3\tvalid-rmse:82290.4\n",
      "[50]\ttrain-rmse:44168.4\tvalid-rmse:81194.2\n",
      "[75]\ttrain-rmse:37198.2\tvalid-rmse:80919.4\n",
      "[100]\ttrain-rmse:32820.5\tvalid-rmse:80481.2\n",
      "[125]\ttrain-rmse:28631.5\tvalid-rmse:80840.3\n",
      "Stopping. Best iteration:\n",
      "[98]\ttrain-rmse:33207.5\tvalid-rmse:80444.4\n",
      "\n",
      "Wall time: 896 ms\n",
      "<xgboost.core.Booster object at 0x000002243D064D30>\n"
     ]
    }
   ],
   "source": [
    "%time model_xgb = xgb.train(params_xgb, dtrain, 1000, evals=[(dtrain,'train'),(dvalid,'valid')], early_stopping_rounds=50, verbose_eval=25)\n",
    "print(model_xgb) # Should this be judged off log loss?"
   ]
  },
  {
   "cell_type": "markdown",
   "metadata": {},
   "source": [
    "#### Q8. Predict on X_test_lab, save prediction in y_pred_xgb. (2 points)\n",
    "\n",
    "Use `ntree_limit=bst.best_ntree_limit`"
   ]
  },
  {
   "cell_type": "code",
   "execution_count": 18,
   "metadata": {},
   "outputs": [
    {
     "name": "stdout",
     "output_type": "stream",
     "text": [
      "[554121.7  418133.44 219322.48 ... 192750.66 519513.88 883485.4 ]\n"
     ]
    }
   ],
   "source": [
    "y_pred_xgb = model_xgb.predict(dvalid, ntree_limit=model_xgb.best_ntree_limit)\n",
    "print(y_pred_xgb)"
   ]
  },
  {
   "cell_type": "markdown",
   "metadata": {},
   "source": [
    "#### Q9. Print MSE and R squared(2 points)"
   ]
  },
  {
   "cell_type": "code",
   "execution_count": 19,
   "metadata": {},
   "outputs": [
    {
     "name": "stdout",
     "output_type": "stream",
     "text": [
      "Root Mean Squared Error: 80444.43948429578\n",
      "R-Squared: 0.8595115257246546\n"
     ]
    }
   ],
   "source": [
    "RMSE_xgb = sqrt(mean_squared_error(y_true, y_pred_xgb))\n",
    "r2_xgb = r2_score(y_true, y_pred_xgb)\n",
    "\n",
    "print(f'Root Mean Squared Error: {RMSE_xgb}')\n",
    "print(f'R-Squared: {r2_xgb}')"
   ]
  },
  {
   "cell_type": "markdown",
   "metadata": {},
   "source": [
    "#### Q10. Plot feature importance (2 points)"
   ]
  },
  {
   "cell_type": "code",
   "execution_count": 20,
   "metadata": {},
   "outputs": [
    {
     "data": {
      "text/plain": [
       "<matplotlib.axes._subplots.AxesSubplot at 0x2243cfeee10>"
      ]
     },
     "execution_count": 20,
     "metadata": {},
     "output_type": "execute_result"
    },
    {
     "data": {
      "image/png": "[encoded data removed]",
      "text/plain": [
       "<Figure size 720x576 with 1 Axes>"
      ]
     },
     "metadata": {
      "needs_background": "light"
     },
     "output_type": "display_data"
    }
   ],
   "source": [
    "%matplotlib inline\n",
    "plt.rcParams['figure.figsize'] = [10, 8]\n",
    "xgb.plot_importance(model_xgb)"
   ]
  },
  {
   "cell_type": "markdown",
   "metadata": {},
   "source": [
    "## Use lightgbm\n",
    "\n",
    "#### Q11. define training and test data as (2 points)\n",
    "Use `X_train_lab, X_test_lab`\n",
    "\n",
    "**Note: Please add \"`free_raw_data = False`\" in the Dataset().**\n",
    "\n",
    "> `train_data = `\n",
    "\n",
    "> `validation_data =`"
   ]
  },
  {
   "cell_type": "code",
   "execution_count": 32,
   "metadata": {},
   "outputs": [],
   "source": [
    "train_data = lgb.Dataset(X_train_lab, label=y_train, free_raw_data=False)\n",
    "validation_data = lgb.Dataset(X_test_lab, label=y_test, free_raw_data=False)"
   ]
  },
  {
   "cell_type": "markdown",
   "metadata": {},
   "source": [
    "#### Q12. Setting model hyperparameters (2 points)\n",
    "\n",
    "+ parameter name is params_lgb\n",
    "+ Set 'objective' to 'regression'\n",
    "+ Set 'learning_rate' to 0.3\n",
    "+ Set 'metric' to 'mean_squared_error'"
   ]
  },
  {
   "cell_type": "code",
   "execution_count": 33,
   "metadata": {},
   "outputs": [],
   "source": [
    "params_lgb = {\"learning_rate\" : 0.3,\n",
    "             'objective': 'regression',\n",
    "             'metric':'mean_squared_error'\n",
    "             }"
   ]
  },
  {
   "cell_type": "markdown",
   "metadata": {},
   "source": [
    "#### Q13. Train the model without specifying categorical features. (4 points)\n",
    "+ model name: model_lgb\n",
    "+ use 10000 boosting round\n",
    "+ set valid_sets as validation_data\n",
    "+ early stopping round is 100\n",
    "+ verbose_eval is set to 100\n",
    "+ print training time"
   ]
  },
  {
   "cell_type": "code",
   "execution_count": 34,
   "metadata": {},
   "outputs": [
    {
     "name": "stdout",
     "output_type": "stream",
     "text": [
      "Training until validation scores don't improve for 100 rounds\n",
      "[100]\tvalid_0's l2: 7.5962e+09\n",
      "Early stopping, best iteration is:\n",
      "[46]\tvalid_0's l2: 7.33499e+09\n",
      "Wall time: 265 ms\n",
      "<lightgbm.basic.Booster object at 0x000002244159E550>\n"
     ]
    }
   ],
   "source": [
    "%time model_lgb = lgb.train(params_lgb, train_set=train_data, num_boost_round=10000, valid_sets=validation_data, early_stopping_rounds=100, verbose_eval=100)"
   ]
  },
  {
   "cell_type": "markdown",
   "metadata": {},
   "source": [
    "#### Q14. Predict on X_test_lab, save prediction in y_pred_lgb and print MSE. (2 points)\n",
    "use num_iteration=model_lgb.best_iteration"
   ]
  },
  {
   "cell_type": "code",
   "execution_count": 35,
   "metadata": {},
   "outputs": [
    {
     "name": "stdout",
     "output_type": "stream",
     "text": [
      "RMSE: 85644.54433206395\n"
     ]
    }
   ],
   "source": [
    "y_pred_lgb = model_lgb.predict(X_test_lab, num_iteration = model_lgb.best_iteration)\n",
    "\n",
    "r2_lgb_1 = r2_score(y_true, y_pred_lgb)\n",
    "print(f'RMSE: {sqrt(mean_squared_error(y_true, y_pred_lgb))}')  #RMSE or MSE\n",
    "print(f'R-Squared: {r2_lgb_1}')"
   ]
  },
  {
   "cell_type": "markdown",
   "metadata": {},
   "source": [
    "#### Q15. Re-train the model with specifying categorical features. (2 points)\n",
    "+ name the model as model_lgb_cat.\n",
    "+ use 10000 boosting round\n",
    "+ set valid_sets as validation_data\n",
    "+ early stopping round is 100\n",
    "+ verbose_eval is set to 100\n",
    "+ print training time"
   ]
  },
  {
   "cell_type": "code",
   "execution_count": 36,
   "metadata": {},
   "outputs": [
    {
     "name": "stderr",
     "output_type": "stream",
     "text": [
      "C:\\Users\\micha\\Anaconda3\\lib\\site-packages\\lightgbm\\basic.py:1247: UserWarning: categorical_feature in Dataset is overridden.\n",
      "New categorical_feature is ['driveway', 'frontFaceDirection', 'hasPool', 'propertyStyle', 'roof', 'schoolserving', 'zip']\n",
      "  'New categorical_feature is {}'.format(sorted(list(categorical_feature))))\n"
     ]
    },
    {
     "name": "stdout",
     "output_type": "stream",
     "text": [
      "Training until validation scores don't improve for 100 rounds\n",
      "[100]\tvalid_0's l2: 7.2282e+09\n",
      "Early stopping, best iteration is:\n",
      "[24]\tvalid_0's l2: 6.86648e+09\n",
      "Wall time: 224 ms\n"
     ]
    }
   ],
   "source": [
    "%time model_lgb_cat = lgb.train(params_lgb, train_set=train_data, num_boost_round=10000, valid_sets=validation_data, categorical_feature = cat_cols, early_stopping_rounds=100, verbose_eval=100)"
   ]
  },
  {
   "cell_type": "markdown",
   "metadata": {},
   "source": [
    "#### Q16. Predict on X_test_lab, save prediction in \"y_pred_lgb_cat\" and print RMSE and $R^2$. (2 points)\n",
    "use num_iteration=model_lgb_cat.best_iteration"
   ]
  },
  {
   "cell_type": "code",
   "execution_count": 37,
   "metadata": {},
   "outputs": [
    {
     "name": "stdout",
     "output_type": "stream",
     "text": [
      "RMSE: 82864.23784028692\n",
      "R-Sqaured: 0.8509325176859336\n"
     ]
    }
   ],
   "source": [
    "y_pred_lgb_cat = model_lgb_cat.predict(X_test_lab, num_iteration = model_lgb_cat.best_iteration)\n",
    "\n",
    "r2_lgb_cat = r2_score(y_true, y_pred_lgb_cat)\n",
    "\n",
    "print(f'RMSE: {sqrt(mean_squared_error(y_true, y_pred_lgb_cat))}')  #RMSE or MSE\n",
    "print(f'R-Sqaured: {r2_lgb_cat}')"
   ]
  },
  {
   "cell_type": "markdown",
   "metadata": {},
   "source": [
    "## Use Catboost\n",
    "\n",
    "### Using label encoding without specifying categorical features.\n",
    "\n",
    "#### Q17. Define dataset with Pool(). (2 points)\n",
    "Use `X_train_lab, X_test_lab`\n",
    "\n",
    "> `train_pool =` \n",
    "\n",
    "> `valid_pool = `"
   ]
  },
  {
   "cell_type": "code",
   "execution_count": 39,
   "metadata": {},
   "outputs": [],
   "source": [
    "from catboost import CatBoost, Pool\n",
    "train_pool = Pool(X_train_lab, y_train)\n",
    "\n",
    "valid_pool = Pool(X_test_lab, y_test)"
   ]
  },
  {
   "cell_type": "markdown",
   "metadata": {},
   "source": [
    "#### Q18. Setting the hyperparameters as params_cgb. (1 point)\n",
    "\n",
    "+ parameter name is params_cgb.\n",
    "+ Set 'objective' to 'RMSE'\n",
    "+ Set 'learning_rate' to 0.02\n",
    "+ Set 'iterations'  to 2000"
   ]
  },
  {
   "cell_type": "code",
   "execution_count": 40,
   "metadata": {},
   "outputs": [],
   "source": [
    "params_cgb = { 'objective' : 'RMSE',\n",
    "              'iterations':2000,\n",
    "              'learning_rate' : 0.02\n",
    "             }"
   ]
  },
  {
   "cell_type": "markdown",
   "metadata": {},
   "source": [
    "#### Q19. Train the model. (2 points)\n",
    "+ name the model as model_cgb.\n",
    "+ set eval_set as valid_pool\n",
    "+ early stopping round is 100\n",
    "+ verbose_eval is set to 100\n",
    "+ print training time"
   ]
  },
  {
   "cell_type": "code",
   "execution_count": 41,
   "metadata": {
    "scrolled": true
   },
   "outputs": [
    {
     "name": "stdout",
     "output_type": "stream",
     "text": [
      "0:\tlearn: 242511.8425792\ttest: 211951.1246688\tbest: 211951.1246688 (0)\ttotal: 87.2ms\tremaining: 2m 54s\n",
      "100:\tlearn: 122297.0734733\ttest: 103902.7547548\tbest: 103902.7547548 (100)\ttotal: 331ms\tremaining: 6.23s\n",
      "200:\tlearn: 98628.7677881\ttest: 92278.3581251\tbest: 92278.3581251 (200)\ttotal: 551ms\tremaining: 4.93s\n",
      "300:\tlearn: 88820.2074906\ttest: 88149.5814561\tbest: 88149.5814561 (300)\ttotal: 773ms\tremaining: 4.36s\n",
      "400:\tlearn: 82423.6103526\ttest: 85584.8349481\tbest: 85584.8349481 (400)\ttotal: 999ms\tremaining: 3.98s\n",
      "500:\tlearn: 77107.5083166\ttest: 83362.4065782\tbest: 83362.3563972 (497)\ttotal: 1.25s\tremaining: 3.75s\n",
      "600:\tlearn: 73349.7692819\ttest: 82049.1164726\tbest: 82049.1164726 (600)\ttotal: 1.49s\tremaining: 3.46s\n",
      "700:\tlearn: 69564.3677261\ttest: 80481.0618694\tbest: 80481.0618694 (700)\ttotal: 1.72s\tremaining: 3.19s\n",
      "800:\tlearn: 66481.9111548\ttest: 79664.6287091\tbest: 79654.6998144 (798)\ttotal: 1.96s\tremaining: 2.94s\n",
      "900:\tlearn: 63717.4745935\ttest: 78875.3295740\tbest: 78875.3295740 (900)\ttotal: 2.19s\tremaining: 2.67s\n",
      "1000:\tlearn: 61463.6786857\ttest: 78306.6240524\tbest: 78288.3016448 (999)\ttotal: 2.42s\tremaining: 2.42s\n",
      "1100:\tlearn: 59546.0070930\ttest: 77888.6495832\tbest: 77874.8289010 (1098)\ttotal: 2.65s\tremaining: 2.16s\n",
      "1200:\tlearn: 57606.5785161\ttest: 77555.3019318\tbest: 77555.3019318 (1200)\ttotal: 2.87s\tremaining: 1.91s\n",
      "1300:\tlearn: 55960.3849596\ttest: 77159.9206069\tbest: 77159.9206069 (1300)\ttotal: 3.12s\tremaining: 1.68s\n",
      "1400:\tlearn: 54467.5307311\ttest: 76883.0300191\tbest: 76879.6565105 (1396)\ttotal: 3.38s\tremaining: 1.44s\n",
      "1500:\tlearn: 53021.6179483\ttest: 76538.6612492\tbest: 76532.4995472 (1497)\ttotal: 3.63s\tremaining: 1.21s\n",
      "1600:\tlearn: 51712.5460906\ttest: 76218.6638014\tbest: 76218.6638014 (1600)\ttotal: 3.88s\tremaining: 967ms\n",
      "1700:\tlearn: 50547.7056883\ttest: 76129.6787182\tbest: 76098.5658662 (1684)\ttotal: 4.13s\tremaining: 726ms\n",
      "1800:\tlearn: 49459.9027019\ttest: 75885.4521741\tbest: 75885.4521741 (1800)\ttotal: 4.39s\tremaining: 486ms\n",
      "1900:\tlearn: 48454.5927883\ttest: 75748.9017414\tbest: 75732.3976215 (1876)\ttotal: 4.68s\tremaining: 244ms\n",
      "1999:\tlearn: 47473.9449552\ttest: 75658.8896801\tbest: 75652.0415979 (1949)\ttotal: 4.92s\tremaining: 0us\n",
      "\n",
      "bestTest = 75652.0416\n",
      "bestIteration = 1949\n",
      "\n",
      "Shrink model to first 1950 iterations.\n",
      "Wall time: 5.34 s\n"
     ]
    },
    {
     "data": {
      "text/plain": [
       "<catboost.core.CatBoost at 0x224417198d0>"
      ]
     },
     "execution_count": 41,
     "metadata": {},
     "output_type": "execute_result"
    }
   ],
   "source": [
    "model_cgb = CatBoost(params_cgb)\n",
    "\n",
    "%time model_cgb.fit(train_pool, eval_set=valid_pool,early_stopping_rounds=100,verbose_eval=100)"
   ]
  },
  {
   "cell_type": "markdown",
   "metadata": {},
   "source": [
    "#### Q20. Predict on valid_pool, save prediction in \"y_pred_cgb\" and print RMSE and $R^2$. (2 points)\n",
    "use prediction_type='RawFormulaVal'"
   ]
  },
  {
   "cell_type": "code",
   "execution_count": 48,
   "metadata": {},
   "outputs": [
    {
     "name": "stdout",
     "output_type": "stream",
     "text": [
      "RMSE: 75652.04159791277\n",
      "R-Sqaured: 0.8757518470129814\n"
     ]
    }
   ],
   "source": [
    "y_pred_cgb = model_cgb.predict(valid_pool, prediction_type='RawFormulaVal')\n",
    "\n",
    "r2_cgb = r2_score(y_true, y_pred_cgb)\n",
    "\n",
    "print(f'RMSE: {sqrt(mean_squared_error(y_true, y_pred_cgb))}')  #RMSE or MSE\n",
    "print(f'R-Sqaured: {r2_cgb}')"
   ]
  },
  {
   "cell_type": "markdown",
   "metadata": {},
   "source": [
    "### Using original data and specifying categorical features.\n",
    "\n",
    "+ We use same parameters set in `params_cgb`.\n",
    "+ We **do not** define data with Pool, instead, we just supply data when we fit the model.\n",
    "\n",
    "\n",
    "\n",
    "\n",
    "\n",
    "\n",
    "#### Q21. Change 'zip' feature data type from \"float 64\" into \"int64\". (2 points)\n",
    "Use original data `X_train, X_test` and copy them into\n",
    "\n",
    "> `X_train_cgb =`\n",
    "\n",
    "> `X_test_cgb =`\n",
    "\n",
    "**Note**, categorical features must be eith string or int, however, zip is in float, you need to first conver zip to int!"
   ]
  },
  {
   "cell_type": "code",
   "execution_count": 43,
   "metadata": {},
   "outputs": [
    {
     "data": {
      "text/plain": [
       "propertyStyle          object\n",
       "driveway               object\n",
       "roof                   object\n",
       "hasPool                object\n",
       "frontFaceDirection     object\n",
       "schoolserving          object\n",
       "zip                   float64\n",
       "dtype: object"
      ]
     },
     "execution_count": 43,
     "metadata": {},
     "output_type": "execute_result"
    }
   ],
   "source": [
    "X_train[cat_cols].dtypes"
   ]
  },
  {
   "cell_type": "code",
   "execution_count": 44,
   "metadata": {},
   "outputs": [],
   "source": [
    "X_train_cgb = X_train.copy()\n",
    "\n",
    "X_test_cgb = X_test.copy()"
   ]
  },
  {
   "cell_type": "code",
   "execution_count": 45,
   "metadata": {},
   "outputs": [],
   "source": [
    "X_train_cgb['zip'] = X_train_cgb['zip'].apply(int)\n",
    "X_test_cgb['zip'] = X_test_cgb['zip'].apply(int)"
   ]
  },
  {
   "cell_type": "markdown",
   "metadata": {},
   "source": [
    "#### Q22. Train the model with specifying categorical features. (6 points)\n",
    "\n",
    "+ name the model as model_cgb_cat \n",
    "+ use the same parameters params_cgb\n",
    "+ inside model_cgb_cat.fit(), set:\n",
    "   + X=X_train_cgb, \n",
    "   + y=y_train, \n",
    "   + eval_set = (X_test_cgb,y_test), \n",
    "   + cat_features = cat_cols,\n",
    "   + early_stopping_rounds=100,\n",
    "   + verbose_eval=100"
   ]
  },
  {
   "cell_type": "code",
   "execution_count": 46,
   "metadata": {
    "scrolled": true
   },
   "outputs": [
    {
     "name": "stdout",
     "output_type": "stream",
     "text": [
      "0:\tlearn: 242485.8482532\ttest: 211987.5135057\tbest: 211987.5135057 (0)\ttotal: 32.1ms\tremaining: 1m 4s\n",
      "100:\tlearn: 115301.9907759\ttest: 93935.2525651\tbest: 93935.2525651 (100)\ttotal: 2.44s\tremaining: 45.9s\n",
      "200:\tlearn: 94108.9818540\ttest: 85111.6401098\tbest: 85111.6401098 (200)\ttotal: 5.1s\tremaining: 45.7s\n",
      "300:\tlearn: 85504.3005795\ttest: 83064.8027124\tbest: 83022.2797369 (297)\ttotal: 7.79s\tremaining: 44s\n",
      "400:\tlearn: 79963.1057565\ttest: 80984.3253497\tbest: 80984.3253497 (400)\ttotal: 10.4s\tremaining: 41.5s\n",
      "500:\tlearn: 75725.1774407\ttest: 79394.5066816\tbest: 79394.5066816 (500)\ttotal: 12.8s\tremaining: 38.3s\n",
      "600:\tlearn: 71873.8694360\ttest: 77868.3868520\tbest: 77868.3868520 (600)\ttotal: 15.4s\tremaining: 35.8s\n",
      "700:\tlearn: 68852.7978592\ttest: 76722.6954733\tbest: 76722.6954733 (700)\ttotal: 17.9s\tremaining: 33.1s\n",
      "800:\tlearn: 66358.6971877\ttest: 75940.4794753\tbest: 75940.4794753 (800)\ttotal: 20.4s\tremaining: 30.5s\n",
      "900:\tlearn: 64266.4094886\ttest: 75513.6124171\tbest: 75513.6124171 (900)\ttotal: 23.2s\tremaining: 28.3s\n",
      "1000:\tlearn: 62587.9672046\ttest: 75100.6326210\tbest: 75100.6326210 (1000)\ttotal: 25.9s\tremaining: 25.8s\n",
      "1100:\tlearn: 60764.9977043\ttest: 74802.5265051\tbest: 74799.1603333 (1096)\ttotal: 28.8s\tremaining: 23.5s\n",
      "1200:\tlearn: 59140.8901081\ttest: 74511.1995655\tbest: 74495.3528429 (1196)\ttotal: 32s\tremaining: 21.3s\n",
      "1300:\tlearn: 57752.5414986\ttest: 74410.5361705\tbest: 74406.9596486 (1298)\ttotal: 34.8s\tremaining: 18.7s\n",
      "1400:\tlearn: 56467.1430131\ttest: 74261.9771985\tbest: 74250.9233980 (1368)\ttotal: 38s\tremaining: 16.2s\n",
      "1500:\tlearn: 55177.3795934\ttest: 74106.3796174\tbest: 74106.3796174 (1500)\ttotal: 41.1s\tremaining: 13.7s\n",
      "1600:\tlearn: 54102.8528645\ttest: 74039.1467659\tbest: 74037.8180532 (1599)\ttotal: 43.9s\tremaining: 10.9s\n",
      "1700:\tlearn: 52999.6232589\ttest: 73938.6554287\tbest: 73924.9881297 (1699)\ttotal: 46.4s\tremaining: 8.15s\n",
      "1800:\tlearn: 52036.2788378\ttest: 73851.0371056\tbest: 73850.8051774 (1799)\ttotal: 48.8s\tremaining: 5.39s\n",
      "1900:\tlearn: 51114.7208886\ttest: 73852.4609050\tbest: 73841.1109440 (1890)\ttotal: 51.4s\tremaining: 2.67s\n",
      "Stopped by overfitting detector  (100 iterations wait)\n",
      "\n",
      "bestTest = 73841.11094\n",
      "bestIteration = 1890\n",
      "\n",
      "Shrink model to first 1891 iterations.\n",
      "Wall time: 54.5 s\n"
     ]
    },
    {
     "data": {
      "text/plain": [
       "<catboost.core.CatBoost at 0x224413ec668>"
      ]
     },
     "execution_count": 46,
     "metadata": {},
     "output_type": "execute_result"
    }
   ],
   "source": [
    "model_cgb_cat = CatBoost(params_cgb)\n",
    "\n",
    "#train the model\n",
    "\n",
    "%time model_cgb_cat.fit(X = X_train_cgb, y = y_train, eval_set = (X_test_cgb, y_test), cat_features = cat_cols, early_stopping_rounds = 100, verbose_eval = 100)"
   ]
  },
  {
   "cell_type": "markdown",
   "metadata": {},
   "source": [
    "#### Q23. Predict on X_test_cgb, save prediction in \"y_pred_cgb_cat\" and print RMSE and $R^2$. (2 points)\n",
    "use prediction_type='RawFormulaVal'"
   ]
  },
  {
   "cell_type": "code",
   "execution_count": 54,
   "metadata": {},
   "outputs": [
    {
     "name": "stdout",
     "output_type": "stream",
     "text": [
      "RMSE: 73841.11094395407\n",
      "R-Sqaured: 0.8816290644269236\n"
     ]
    }
   ],
   "source": [
    "y_pred_cgb_cat =  model_cgb_cat.predict(X_test_cgb, prediction_type='RawFormulaVal')\n",
    "\n",
    "r2_cgb = r2_score(y_true, y_pred_cgb_cat)\n",
    "\n",
    "print(f'RMSE: {sqrt(mean_squared_error(y_true, y_pred_cgb_cat))}')  #RMSE or MSE\n",
    "print(f'R-Sqaured: {r2_cgb}')"
   ]
  },
  {
   "cell_type": "markdown",
   "metadata": {},
   "source": [
    "#### Q24. Compare the results of all the models. (2 points)\n",
    "\n",
    "Here are my results, you do not have to be exactly the same to get full credits, the random seeds may be different, the big picture should be the same though. \n",
    "\n",
    "You dont have to construct the results in tables in this notebook, the easiest way is to copy the results to excel or word, and then take a screenshot and past it here."
   ]
  },
  {
   "attachments": {
    "image.png": {
     "image/png": "[encoded data removed]"
    }
   },
   "cell_type": "markdown",
   "metadata": {},
   "source": [
    "![image.png](attachment:image.png)"
   ]
  },
  {
   "cell_type": "markdown",
   "metadata": {},
   "source": [
    "## What's next?\n",
    "\n",
    "This notebook only demonstrates the simple syntax of regression with Xgboost, lightgbm, and Catboost without any tunning of hyperparameters or cross validations. However, this serves as a starting point for you to learn about these three algorithms and you can al least run the basic models!\n",
    "\n",
    "Going further, you could:\n",
    "+ Check the documentations to see other available hyperparameters and play with them.\n",
    "+ Try using cross validation to make the model more reliable.\n",
    "+ Use grid search and trying to find the better models.\n",
    "+ Going back to the dataset, and do the data preprocssing yourselves, and see if you can create more features and try training different models again.\n",
    "+ Search online for more examples of using these algorithms, and you will see there are much more to learn!!!"
   ]
  },
  {
   "cell_type": "code",
   "execution_count": null,
   "metadata": {
    "collapsed": true,
    "jupyter": {
     "outputs_hidden": true
    }
   },
   "outputs": [],
   "source": []
  }
 ],
 "metadata": {
  "anaconda-cloud": {},
  "kernelspec": {
   "display_name": "Python 3",
   "language": "python",
   "name": "python3"
  },
  "language_info": {
   "codemirror_mode": {
    "name": "ipython",
    "version": 3
   },
   "file_extension": ".py",
   "mimetype": "text/x-python",
   "name": "python",
   "nbconvert_exporter": "python",
   "pygments_lexer": "ipython3",
   "version": "3.6.5"
  }
 },
 "nbformat": 4,
 "nbformat_minor": 4
}
