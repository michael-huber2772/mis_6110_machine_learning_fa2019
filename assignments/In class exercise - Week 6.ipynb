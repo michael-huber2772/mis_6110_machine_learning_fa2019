{
 "cells": [
  {
   "cell_type": "markdown",
   "metadata": {},
   "source": [
    "Loop over elements of a list,tuple"
   ]
  },
  {
   "cell_type": "code",
   "execution_count": 2,
   "metadata": {
    "collapsed": true
   },
   "outputs": [],
   "source": [
    "l = [(1,2),(3,4),(5,6),(7,8),(9,10)]"
   ]
  },
  {
   "cell_type": "code",
   "execution_count": 3,
   "metadata": {},
   "outputs": [
    {
     "name": "stdout",
     "output_type": "stream",
     "text": [
      "2\n",
      "4\n",
      "6\n",
      "8\n",
      "10\n"
     ]
    }
   ],
   "source": [
    "#print every second element of the tuple of all list items\n",
    "for x in l:\n",
    "    print(x[1])\n"
   ]
  },
  {
   "cell_type": "code",
   "execution_count": 19,
   "metadata": {
    "collapsed": true
   },
   "outputs": [],
   "source": [
    "l2 = [3,1,6,9,0,4,2,8,5,7]"
   ]
  },
  {
   "cell_type": "code",
   "execution_count": 20,
   "metadata": {},
   "outputs": [
    {
     "name": "stdout",
     "output_type": "stream",
     "text": [
      "[9, 8, 7, 6, 5, 4, 3, 2, 1, 0]\n",
      "index: 3 9\n",
      "index: 7 8\n",
      "index: 9 7\n",
      "index: 2 6\n",
      "index: 8 5\n",
      "index: 5 4\n",
      "index: 0 3\n",
      "index: 6 2\n",
      "index: 1 1\n",
      "index: 4 0\n"
     ]
    }
   ],
   "source": [
    "#print l2 elements in decending order and their indexes\n",
    "my = sorted(l2, reverse=True)\n",
    "print(my)\n",
    "for x in my:\n",
    "    print(f'index: {l2.index(x)}', x)"
   ]
  },
  {
   "cell_type": "markdown",
   "metadata": {},
   "source": [
    "Loop over elements of dictionary"
   ]
  },
  {
   "cell_type": "code",
   "execution_count": 11,
   "metadata": {
    "collapsed": true
   },
   "outputs": [],
   "source": [
    "d = {1:10,3:8,5:6,7:4,9:2}"
   ]
  },
  {
   "cell_type": "code",
   "execution_count": 15,
   "metadata": {
    "collapsed": true
   },
   "outputs": [
    {
     "name": "stdout",
     "output_type": "stream",
     "text": [
      "key:1, value: 10\n",
      "key:3, value: 8\n",
      "key:5, value: 6\n",
      "key:7, value: 4\n",
      "key:9, value: 2\n"
     ]
    }
   ],
   "source": [
    "#print each key, value pair\n",
    "for key, value in d.items():\n",
    "    print(f'key:{key}, value: {value}')\n"
   ]
  },
  {
   "cell_type": "code",
   "execution_count": 23,
   "metadata": {},
   "outputs": [
    {
     "data": {
      "text/plain": [
       "dict_items([(1, 10), (3, 8), (5, 6), (7, 4), (9, 2)])"
      ]
     },
     "execution_count": 23,
     "metadata": {},
     "output_type": "execute_result"
    }
   ],
   "source": [
    "d.values()\n",
    "d.items()"
   ]
  },
  {
   "cell_type": "code",
   "execution_count": 18,
   "metadata": {},
   "outputs": [
    {
     "name": "stdout",
     "output_type": "stream",
     "text": [
      "(9, 2)\n",
      "(7, 4)\n",
      "(5, 6)\n",
      "(3, 8)\n",
      "(1, 10)\n"
     ]
    }
   ],
   "source": [
    "#print each key, value pair sorted by key in decending order\n",
    "for key in sorted(d.keys(), reverse=True):\n",
    "    print((key, d[key]))\n"
   ]
  },
  {
   "cell_type": "code",
   "execution_count": 27,
   "metadata": {
    "collapsed": true
   },
   "outputs": [
    {
     "name": "stdout",
     "output_type": "stream",
     "text": [
      "key: 1, value: 10\n",
      "key: 3, value: 8\n",
      "key: 5, value: 6\n",
      "key: 7, value: 4\n",
      "key: 9, value: 2\n"
     ]
    }
   ],
   "source": [
    "#print each key, value pair sorted by value in decending order\n",
    "for k, v in sorted(d.items(), key=lambda kv: kv[1],reverse=True):\n",
    "    print(f'key: {k}, value: {v}')\n"
   ]
  },
  {
   "cell_type": "markdown",
   "metadata": {},
   "source": [
    "Loop over a string"
   ]
  },
  {
   "cell_type": "code",
   "execution_count": 28,
   "metadata": {
    "collapsed": true
   },
   "outputs": [],
   "source": [
    "s = \"This is a test string\""
   ]
  },
  {
   "cell_type": "code",
   "execution_count": 37,
   "metadata": {},
   "outputs": [
    {
     "name": "stdout",
     "output_type": "stream",
     "text": [
      "T\n",
      "h\n",
      "i\n",
      "s\n",
      " \n",
      "i\n",
      "s\n",
      " \n",
      "a\n",
      " \n",
      "t\n",
      "e\n",
      "s\n",
      "t\n",
      " \n",
      "s\n",
      "t\n",
      "r\n",
      "i\n",
      "n\n",
      "g\n"
     ]
    }
   ],
   "source": [
    "for x in s:\n",
    "    print(x)"
   ]
  },
  {
   "cell_type": "code",
   "execution_count": 31,
   "metadata": {
    "collapsed": true
   },
   "outputs": [
    {
     "name": "stdout",
     "output_type": "stream",
     "text": [
      "T\n",
      "h\n",
      "i\n",
      "s\n",
      " \n",
      "i\n",
      "s\n",
      " \n",
      "a\n",
      " \n",
      "t\n",
      "e\n",
      "s\n",
      "t\n",
      " \n",
      "s\n",
      "t\n",
      "r\n",
      "i\n",
      "n\n",
      "g\n"
     ]
    }
   ],
   "source": [
    "#print each character in s\n",
    "c = 0\n",
    "\n",
    "for x in s:\n",
    "    print(s[c])\n",
    "    \n",
    "    c += 1"
   ]
  },
  {
   "cell_type": "markdown",
   "metadata": {},
   "source": [
    "Loop over values of pd dataframe column"
   ]
  },
  {
   "cell_type": "code",
   "execution_count": 32,
   "metadata": {},
   "outputs": [],
   "source": [
    "import pandas as pd\n",
    "import numpy as np\n",
    "df = pd.DataFrame({'A': 1.,\n",
    "                   'B': pd.Timestamp('20130102'),\n",
    "                   'C': pd.Series(1, index=list(range(10)), dtype='float32'),\n",
    "                   'D': np.array([3] * 10, dtype='int32'),\n",
    "                   'E': pd.Categorical([\"test\", \"train\"]*5),\n",
    "                   'F': 'foo'})"
   ]
  },
  {
   "cell_type": "code",
   "execution_count": 33,
   "metadata": {},
   "outputs": [
    {
     "data": {
      "text/html": [
       "<div>\n",
       "<style scoped>\n",
       "    .dataframe tbody tr th:only-of-type {\n",
       "        vertical-align: middle;\n",
       "    }\n",
       "\n",
       "    .dataframe tbody tr th {\n",
       "        vertical-align: top;\n",
       "    }\n",
       "\n",
       "    .dataframe thead th {\n",
       "        text-align: right;\n",
       "    }\n",
       "</style>\n",
       "<table border=\"1\" class=\"dataframe\">\n",
       "  <thead>\n",
       "    <tr style=\"text-align: right;\">\n",
       "      <th></th>\n",
       "      <th>A</th>\n",
       "      <th>B</th>\n",
       "      <th>C</th>\n",
       "      <th>D</th>\n",
       "      <th>E</th>\n",
       "      <th>F</th>\n",
       "    </tr>\n",
       "  </thead>\n",
       "  <tbody>\n",
       "    <tr>\n",
       "      <th>0</th>\n",
       "      <td>1.0</td>\n",
       "      <td>2013-01-02</td>\n",
       "      <td>1.0</td>\n",
       "      <td>3</td>\n",
       "      <td>test</td>\n",
       "      <td>foo</td>\n",
       "    </tr>\n",
       "    <tr>\n",
       "      <th>1</th>\n",
       "      <td>1.0</td>\n",
       "      <td>2013-01-02</td>\n",
       "      <td>1.0</td>\n",
       "      <td>3</td>\n",
       "      <td>train</td>\n",
       "      <td>foo</td>\n",
       "    </tr>\n",
       "    <tr>\n",
       "      <th>2</th>\n",
       "      <td>1.0</td>\n",
       "      <td>2013-01-02</td>\n",
       "      <td>1.0</td>\n",
       "      <td>3</td>\n",
       "      <td>test</td>\n",
       "      <td>foo</td>\n",
       "    </tr>\n",
       "    <tr>\n",
       "      <th>3</th>\n",
       "      <td>1.0</td>\n",
       "      <td>2013-01-02</td>\n",
       "      <td>1.0</td>\n",
       "      <td>3</td>\n",
       "      <td>train</td>\n",
       "      <td>foo</td>\n",
       "    </tr>\n",
       "    <tr>\n",
       "      <th>4</th>\n",
       "      <td>1.0</td>\n",
       "      <td>2013-01-02</td>\n",
       "      <td>1.0</td>\n",
       "      <td>3</td>\n",
       "      <td>test</td>\n",
       "      <td>foo</td>\n",
       "    </tr>\n",
       "  </tbody>\n",
       "</table>\n",
       "</div>"
      ],
      "text/plain": [
       "     A          B    C  D      E    F\n",
       "0  1.0 2013-01-02  1.0  3   test  foo\n",
       "1  1.0 2013-01-02  1.0  3  train  foo\n",
       "2  1.0 2013-01-02  1.0  3   test  foo\n",
       "3  1.0 2013-01-02  1.0  3  train  foo\n",
       "4  1.0 2013-01-02  1.0  3   test  foo"
      ]
     },
     "execution_count": 33,
     "metadata": {},
     "output_type": "execute_result"
    }
   ],
   "source": [
    "df.head()"
   ]
  },
  {
   "cell_type": "code",
   "execution_count": 38,
   "metadata": {
    "collapsed": true
   },
   "outputs": [
    {
     "name": "stdout",
     "output_type": "stream",
     "text": [
      "2013-01-02 00:00:00\n",
      "2013-01-02 00:00:00\n",
      "2013-01-02 00:00:00\n",
      "2013-01-02 00:00:00\n",
      "2013-01-02 00:00:00\n",
      "2013-01-02 00:00:00\n",
      "2013-01-02 00:00:00\n",
      "2013-01-02 00:00:00\n",
      "2013-01-02 00:00:00\n",
      "2013-01-02 00:00:00\n"
     ]
    }
   ],
   "source": [
    "#print each element in column B\n",
    "for x in df['B']:\n",
    "    print(x)"
   ]
  },
  {
   "cell_type": "code",
   "execution_count": null,
   "metadata": {
    "collapsed": true
   },
   "outputs": [],
   "source": [
    "#print the last 5 element of column E"
   ]
  },
  {
   "cell_type": "code",
   "execution_count": 43,
   "metadata": {
    "collapsed": true
   },
   "outputs": [
    {
     "name": "stdout",
     "output_type": "stream",
     "text": [
      "train\n",
      "test\n",
      "train\n",
      "test\n",
      "train\n"
     ]
    }
   ],
   "source": [
    "for x in df['E'][-5:]:\n",
    "    print(x)"
   ]
  },
  {
   "cell_type": "markdown",
   "metadata": {},
   "source": [
    "Read txt file"
   ]
  },
  {
   "cell_type": "code",
   "execution_count": 46,
   "metadata": {
    "collapsed": true
   },
   "outputs": [
    {
     "name": "stdout",
     "output_type": "stream",
     "text": [
      "The iris example, on the other hand, is an example of a multiclass classification problem.\n",
      "Another example is predicting what language a website is in from the text on the\n",
      "website. The classes here would be a pre-defined list of possible languages.\n",
      "For regression tasks, the goal is to predict a continuous number, or a floating-point\n",
      "number in programming terms (or real number in mathematical terms). Predicting a\n",
      "personâ€™s annual income from their education, their age, and where they live is an\n",
      "example of a regression task. When predicting income, the predicted value is an\n",
      "amount, and can be any number in a given range. Another example of a regression\n",
      "task is predicting the yield of a corn farm given attributes such as previous yields,\n",
      "weather, and number of employees working on the farm. The yield again can be an\n",
      "arbitrary number.\n",
      "An easy way to distinguish between classification and regression tasks is to ask\n",
      "whether there is some kind of continuity in the output. If there is continuity between\n",
      "possible outcomes, then the problem is a regression problem. Think about predicting\n",
      "annual income. There is a clear continuity in the output. Whether a person makes\n",
      "$40,000 or $40,001 a year does not make a tangible difference, even though these are\n",
      "different amounts of money; if our algorithm predicts $39,999 or $40,001 when it\n",
      "should have predicted $40,000, we donâ€™t mind that much.\n",
      "By contrast, for the task of recognizing the language of a website (which is a classification\n",
      "problem), there is no matter of degree. A website is in one language, or it is in\n",
      "another. There is no continuity between languages, and there is no language that is\n",
      "between English and French.1\n",
      "Generalization, Overfitting, and Underfitting\n",
      "In supervised learning, we want to build a model on the training data and then be\n",
      "able to make accurate predictions on new, unseen data that has the same characteristics\n",
      "as the training set that we used. If a model is able to make accurate predictions on\n",
      "unseen data, we say it is able to generalize from the training set to the test set. We\n",
      "want to build a model that is able to generalize as accurately as possible.\n"
     ]
    }
   ],
   "source": [
    "#download file test 1.txt from canvase, print out the file\n",
    "with open('..\\\\data\\\\1.txt', 'r') as f:\n",
    "    print(f.read())\n"
   ]
  },
  {
   "cell_type": "code",
   "execution_count": 48,
   "metadata": {
    "collapsed": true
   },
   "outputs": [
    {
     "name": "stdout",
     "output_type": "stream",
     "text": [
      "The iris example, on the other hand, is an example of a multiclass classification problem.\n",
      "\n",
      "website. The classes here would be a pre-defined list of possible languages.\n",
      "\n",
      "number in programming terms (or real number in mathematical terms). Predicting a\n",
      "\n",
      "example of a regression task. When predicting income, the predicted value is an\n",
      "\n",
      "task is predicting the yield of a corn farm given attributes such as previous yields,\n",
      "\n",
      "arbitrary number.\n",
      "\n",
      "whether there is some kind of continuity in the output. If there is continuity between\n",
      "\n",
      "annual income. There is a clear continuity in the output. Whether a person makes\n",
      "\n",
      "different amounts of money; if our algorithm predicts $39,999 or $40,001 when it\n",
      "\n",
      "By contrast, for the task of recognizing the language of a website (which is a classification\n",
      "\n",
      "another. There is no continuity between languages, and there is no language that is\n",
      "\n",
      "Generalization, Overfitting, and Underfitting\n",
      "\n",
      "able to make accurate predictions on new, unseen data that has the same characteristics\n",
      "\n",
      "unseen data, we say it is able to generalize from the training set to the test set. We\n",
      "\n"
     ]
    }
   ],
   "source": [
    "#download file test 1.txt from canvase, print out the file of odd number lines\n",
    "with open('..\\\\data\\\\1.txt', 'r') as f:\n",
    "    for count, line in enumerate(f, start=1):\n",
    "        if count % 2 != 0:\n",
    "            print(line)\n"
   ]
  },
  {
   "cell_type": "code",
   "execution_count": null,
   "metadata": {
    "collapsed": true
   },
   "outputs": [],
   "source": [
    "#save the even number line of test 1.txt in to a new file named test 2.txt\n",
    "with open('..\\\\data\\\\1.txt', 'r') as f:\n",
    "    for count, line in enumerate(f, start=1):\n",
    "        if count % 2 != 0:\n",
    "            print(line)\n",
    "\n"
   ]
  },
  {
   "cell_type": "markdown",
   "metadata": {},
   "source": [
    "Basic flow of supervised learning"
   ]
  },
  {
   "cell_type": "code",
   "execution_count": null,
   "metadata": {
    "collapsed": true
   },
   "outputs": [],
   "source": [
    "from sklearn.model_selection import train_test_split\n",
    "%matplotlib inline"
   ]
  },
  {
   "cell_type": "code",
   "execution_count": null,
   "metadata": {
    "collapsed": true
   },
   "outputs": [],
   "source": [
    "#read in complete_redfin.csv  from canvase into pd dataframe\n",
    "\n",
    "\n"
   ]
  },
  {
   "cell_type": "code",
   "execution_count": null,
   "metadata": {
    "collapsed": true
   },
   "outputs": [],
   "source": [
    "#Define X,y for predicting sales price of homes"
   ]
  },
  {
   "cell_type": "code",
   "execution_count": null,
   "metadata": {
    "collapsed": true
   },
   "outputs": [],
   "source": []
  },
  {
   "cell_type": "code",
   "execution_count": null,
   "metadata": {
    "collapsed": true
   },
   "outputs": [],
   "source": [
    "#split the data into train (60%), test(40%), use 1000 for random state\n",
    "\n"
   ]
  },
  {
   "cell_type": "code",
   "execution_count": null,
   "metadata": {
    "collapsed": true
   },
   "outputs": [],
   "source": [
    "#inspect the shapes of all traing/test datasets.\n",
    "\n"
   ]
  },
  {
   "cell_type": "code",
   "execution_count": null,
   "metadata": {
    "collapsed": true
   },
   "outputs": [],
   "source": []
  }
 ],
 "metadata": {
  "anaconda-cloud": {},
  "kernelspec": {
   "display_name": "Python 3",
   "language": "python",
   "name": "python3"
  },
  "language_info": {
   "codemirror_mode": {
    "name": "ipython",
    "version": 3
   },
   "file_extension": ".py",
   "mimetype": "text/x-python",
   "name": "python",
   "nbconvert_exporter": "python",
   "pygments_lexer": "ipython3",
   "version": "3.6.5"
  }
 },
 "nbformat": 4,
 "nbformat_minor": 2
}
