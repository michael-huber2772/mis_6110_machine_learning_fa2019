{
 "cells": [
  {
   "cell_type": "markdown",
   "metadata": {},
   "source": [
    "# 10 Minutes to pandas\n",
    "\n",
    "This is a short introduction to pandas, geared mainly for new users. You can see more complex recipes in the [Cookbook](http://pandas.pydata.org/pandas-docs/stable/cookbook.html#cookbook) \n",
    "\n",
    "pandas is an open source, BSD-licensed library providing high-performance, easy-to-use data structures and data analysis tools for the Python programming language.\n",
    "\n",
    "pandas consists of the following elements\n",
    "\n",
    "+ A set of labeled array data structures, the primary of which are Series and DataFrame\n",
    "+ Index objects enabling both simple axis indexing and multi-level / hierarchical axis indexing\n",
    "+ An integrated group by engine for aggregating and transforming data sets\n",
    "+ Date range generation (date_range) and custom date offsets enabling the implementation of customized frequencies\n",
    "+ Input/Output tools: loading tabular data from flat files (CSV, delimited, Excel 2003), and saving and loading pandas objects from the fast and efficient PyTables/HDF5 format.\n",
    "+ Memory-efficient “sparse” versions of the standard data structures for storing data that is mostly missing or mostly constant (some fixed value)\n",
    "+ Moving window statistics (rolling mean, rolling standard deviation, etc.)\n",
    "\n",
    "#### Data Structures\n",
    "| Dimensions        | Name           | Description  |\n",
    "| :-------------: |:-------------:| :-----|\n",
    "| 1      | Series | 1D labeled homogeneously-typed array |\n",
    "| 2      | DataFrame  |   General 2D labeled, size-mutable tabular structure with potentially heterogeneously-typed column |\n"
   ]
  },
  {
   "cell_type": "markdown",
   "metadata": {},
   "source": [
    "Customarily, we import as follows:"
   ]
  },
  {
   "cell_type": "code",
   "execution_count": 1,
   "metadata": {},
   "outputs": [],
   "source": [
    "import pandas as pd # import module as nickname is to use short hand or nickname to represent the module, here pd refers to pandas\n",
    "import numpy as np #for linear algebra\n",
    "import matplotlib.pyplot as plt #for plotting\n",
    "%matplotlib inline "
   ]
  },
  {
   "cell_type": "markdown",
   "metadata": {},
   "source": [
    "## Object Creation\n",
    "\n",
    "See the [Data Structure Intro section](http://pandas.pydata.org/pandas-docs/stable/dsintro.html#dsintro) "
   ]
  },
  {
   "cell_type": "markdown",
   "metadata": {},
   "source": [
    "### Series\n",
    "**Series** is a one-dimensional labeled array capable of holding any data type (integers, strings, floating point numbers, Python objects, etc.). The axis labels are collectively referred to as the index. The basic method to create a Series is to call:\n",
    "\n",
    "> s = pd.Series(data, index=index)\n",
    "\n",
    "Here, data can be many different things:\n",
    "+ a Python dict\n",
    "+ an ndarray\n",
    "+ a scalar value (like 5)\n",
    "\n",
    "Creating a Series by passing a list of values, letting pandas create a **default integer index**:"
   ]
  },
  {
   "cell_type": "code",
   "execution_count": 2,
   "metadata": {},
   "outputs": [],
   "source": [
    "s = pd.Series([1,3,5,np.nan,6,8]) #nan means \"not a number\", np.nan can be regarded as a missing value"
   ]
  },
  {
   "cell_type": "code",
   "execution_count": 3,
   "metadata": {},
   "outputs": [
    {
     "data": {
      "text/plain": [
       "0    1.0\n",
       "1    3.0\n",
       "2    5.0\n",
       "3    NaN\n",
       "4    6.0\n",
       "5    8.0\n",
       "dtype: float64"
      ]
     },
     "execution_count": 3,
     "metadata": {},
     "output_type": "execute_result"
    }
   ],
   "source": [
    "s"
   ]
  },
  {
   "cell_type": "markdown",
   "metadata": {},
   "source": [
    "The first column in the output above is the \"index\", and the second column is the values, the last line indicates the data type.\n",
    "\n",
    "If data is a dictionary, if index is passed the values in data corresponding to the labels in the index will be pulled out. Otherwise, an index will be constructed from the sorted keys of the dict, if possible."
   ]
  },
  {
   "cell_type": "code",
   "execution_count": 4,
   "metadata": {},
   "outputs": [
    {
     "data": {
      "text/plain": [
       "a    0.0\n",
       "b    1.0\n",
       "c    2.0\n",
       "dtype: float64"
      ]
     },
     "execution_count": 4,
     "metadata": {},
     "output_type": "execute_result"
    }
   ],
   "source": [
    "d = {'a' : 0., 'b' : 1., 'c' : 2.}\n",
    "\n",
    "pd.Series(d)"
   ]
  },
  {
   "cell_type": "code",
   "execution_count": 5,
   "metadata": {},
   "outputs": [
    {
     "data": {
      "text/plain": [
       "b    1.0\n",
       "c    2.0\n",
       "d    NaN\n",
       "a    0.0\n",
       "dtype: float64"
      ]
     },
     "execution_count": 5,
     "metadata": {},
     "output_type": "execute_result"
    }
   ],
   "source": [
    "pd.Series(d, index=['b', 'c', 'd', 'a']) #There is no key 'd' in the dictionary, so the value is missing,or NaN"
   ]
  },
  {
   "cell_type": "markdown",
   "metadata": {},
   "source": [
    "### DataFrame\n",
    "**DataFrame** is a 2-dimensional labeled data structure with columns of potentially different types. You can think of it like a spreadsheet or SQL table, or a dict of Series objects. It is generally the most commonly used pandas object.  \n",
    "\n",
    "DataFrame accepts many different kinds of input:\n",
    "+ Dict of 1D ndarrays, lists, dicts, or Series\n",
    "+ 2-D numpy.ndarray\n",
    "+ Structured or record ndarray\n",
    "+ A Series\n",
    "+ Another DataFrame\n",
    "\n",
    "Along with the data, you can optionally pass index (row labels) and columns (column labels) arguments. If you pass an index and / or columns, you are guaranteeing the index and / or columns of the resulting DataFrame. Thus, a dict of Series plus a specific index will discard all data not matching up to the passed index.\n",
    "\n",
    "If axis labels are not passed, they will be constructed from the input data based on common sense rules.\n",
    "\n",
    "**Creating a DataFrame by passing a numpy array, with a datetime index and labeled columns:**"
   ]
  },
  {
   "cell_type": "code",
   "execution_count": 7,
   "metadata": {},
   "outputs": [],
   "source": [
    "dates = pd.date_range('20130101', periods=6) #create a list of dates, starting from Jan. 1, 2013, for 6 days."
   ]
  },
  {
   "cell_type": "code",
   "execution_count": 8,
   "metadata": {},
   "outputs": [
    {
     "data": {
      "text/plain": [
       "DatetimeIndex(['2013-01-01', '2013-01-02', '2013-01-03', '2013-01-04',\n",
       "               '2013-01-05', '2013-01-06'],\n",
       "              dtype='datetime64[ns]', freq='D')"
      ]
     },
     "execution_count": 8,
     "metadata": {},
     "output_type": "execute_result"
    }
   ],
   "source": [
    "dates"
   ]
  },
  {
   "cell_type": "code",
   "execution_count": 9,
   "metadata": {},
   "outputs": [],
   "source": [
    "df = pd.DataFrame(np.random.randn(6,4), index=dates, columns=list('ABCD'))\n",
    "# np.random.randn(6,4) generates 6 by 4 random numbers array (6 rows and 4 columns). \n",
    "# The index are set to dates, columns are a list, which is equivalent to ['A','B','C','D'].\n",
    "# If index is not specified, by default, it will be integers from 0 to number of rows minus one."
   ]
  },
  {
   "cell_type": "code",
   "execution_count": 10,
   "metadata": {},
   "outputs": [
    {
     "data": {
      "text/html": [
       "<div>\n",
       "<style scoped>\n",
       "    .dataframe tbody tr th:only-of-type {\n",
       "        vertical-align: middle;\n",
       "    }\n",
       "\n",
       "    .dataframe tbody tr th {\n",
       "        vertical-align: top;\n",
       "    }\n",
       "\n",
       "    .dataframe thead th {\n",
       "        text-align: right;\n",
       "    }\n",
       "</style>\n",
       "<table border=\"1\" class=\"dataframe\">\n",
       "  <thead>\n",
       "    <tr style=\"text-align: right;\">\n",
       "      <th></th>\n",
       "      <th>A</th>\n",
       "      <th>B</th>\n",
       "      <th>C</th>\n",
       "      <th>D</th>\n",
       "    </tr>\n",
       "  </thead>\n",
       "  <tbody>\n",
       "    <tr>\n",
       "      <th>2013-01-01</th>\n",
       "      <td>0.907936</td>\n",
       "      <td>-0.122517</td>\n",
       "      <td>-1.553779</td>\n",
       "      <td>0.609142</td>\n",
       "    </tr>\n",
       "    <tr>\n",
       "      <th>2013-01-02</th>\n",
       "      <td>0.651237</td>\n",
       "      <td>-0.225427</td>\n",
       "      <td>2.588120</td>\n",
       "      <td>-0.847819</td>\n",
       "    </tr>\n",
       "    <tr>\n",
       "      <th>2013-01-03</th>\n",
       "      <td>-0.276695</td>\n",
       "      <td>0.240938</td>\n",
       "      <td>0.161931</td>\n",
       "      <td>-0.238471</td>\n",
       "    </tr>\n",
       "    <tr>\n",
       "      <th>2013-01-04</th>\n",
       "      <td>0.403663</td>\n",
       "      <td>-0.781193</td>\n",
       "      <td>1.101208</td>\n",
       "      <td>0.930783</td>\n",
       "    </tr>\n",
       "    <tr>\n",
       "      <th>2013-01-05</th>\n",
       "      <td>-0.162495</td>\n",
       "      <td>-0.189044</td>\n",
       "      <td>0.124083</td>\n",
       "      <td>-1.728504</td>\n",
       "    </tr>\n",
       "    <tr>\n",
       "      <th>2013-01-06</th>\n",
       "      <td>1.284132</td>\n",
       "      <td>-0.519835</td>\n",
       "      <td>-0.763672</td>\n",
       "      <td>0.488156</td>\n",
       "    </tr>\n",
       "  </tbody>\n",
       "</table>\n",
       "</div>"
      ],
      "text/plain": [
       "                   A         B         C         D\n",
       "2013-01-01  0.907936 -0.122517 -1.553779  0.609142\n",
       "2013-01-02  0.651237 -0.225427  2.588120 -0.847819\n",
       "2013-01-03 -0.276695  0.240938  0.161931 -0.238471\n",
       "2013-01-04  0.403663 -0.781193  1.101208  0.930783\n",
       "2013-01-05 -0.162495 -0.189044  0.124083 -1.728504\n",
       "2013-01-06  1.284132 -0.519835 -0.763672  0.488156"
      ]
     },
     "execution_count": 10,
     "metadata": {},
     "output_type": "execute_result"
    }
   ],
   "source": [
    "df"
   ]
  },
  {
   "cell_type": "markdown",
   "metadata": {},
   "source": [
    "**Creating a DataFrame by passing a dict of objects that can be converted to series-like.**"
   ]
  },
  {
   "cell_type": "code",
   "execution_count": 11,
   "metadata": {},
   "outputs": [],
   "source": [
    "df2 = pd.DataFrame({'A':1.,\n",
    "                   'B':pd.Timestamp('20130102'),\n",
    "                   'C':pd.Series(1,index=list(range(4)),dtype='float32'),\n",
    "                   'D':np.array([3]*4,dtype='int32'),\n",
    "                   'E':pd.Categorical([\"test\",\"train\",\"test\",\"train\"]),\n",
    "                   'F':'foo'})"
   ]
  },
  {
   "cell_type": "code",
   "execution_count": 12,
   "metadata": {},
   "outputs": [
    {
     "data": {
      "text/html": [
       "<div>\n",
       "<style scoped>\n",
       "    .dataframe tbody tr th:only-of-type {\n",
       "        vertical-align: middle;\n",
       "    }\n",
       "\n",
       "    .dataframe tbody tr th {\n",
       "        vertical-align: top;\n",
       "    }\n",
       "\n",
       "    .dataframe thead th {\n",
       "        text-align: right;\n",
       "    }\n",
       "</style>\n",
       "<table border=\"1\" class=\"dataframe\">\n",
       "  <thead>\n",
       "    <tr style=\"text-align: right;\">\n",
       "      <th></th>\n",
       "      <th>A</th>\n",
       "      <th>B</th>\n",
       "      <th>C</th>\n",
       "      <th>D</th>\n",
       "      <th>E</th>\n",
       "      <th>F</th>\n",
       "    </tr>\n",
       "  </thead>\n",
       "  <tbody>\n",
       "    <tr>\n",
       "      <th>0</th>\n",
       "      <td>1.0</td>\n",
       "      <td>2013-01-02</td>\n",
       "      <td>1.0</td>\n",
       "      <td>3</td>\n",
       "      <td>test</td>\n",
       "      <td>foo</td>\n",
       "    </tr>\n",
       "    <tr>\n",
       "      <th>1</th>\n",
       "      <td>1.0</td>\n",
       "      <td>2013-01-02</td>\n",
       "      <td>1.0</td>\n",
       "      <td>3</td>\n",
       "      <td>train</td>\n",
       "      <td>foo</td>\n",
       "    </tr>\n",
       "    <tr>\n",
       "      <th>2</th>\n",
       "      <td>1.0</td>\n",
       "      <td>2013-01-02</td>\n",
       "      <td>1.0</td>\n",
       "      <td>3</td>\n",
       "      <td>test</td>\n",
       "      <td>foo</td>\n",
       "    </tr>\n",
       "    <tr>\n",
       "      <th>3</th>\n",
       "      <td>1.0</td>\n",
       "      <td>2013-01-02</td>\n",
       "      <td>1.0</td>\n",
       "      <td>3</td>\n",
       "      <td>train</td>\n",
       "      <td>foo</td>\n",
       "    </tr>\n",
       "  </tbody>\n",
       "</table>\n",
       "</div>"
      ],
      "text/plain": [
       "     A          B    C  D      E    F\n",
       "0  1.0 2013-01-02  1.0  3   test  foo\n",
       "1  1.0 2013-01-02  1.0  3  train  foo\n",
       "2  1.0 2013-01-02  1.0  3   test  foo\n",
       "3  1.0 2013-01-02  1.0  3  train  foo"
      ]
     },
     "execution_count": 12,
     "metadata": {},
     "output_type": "execute_result"
    }
   ],
   "source": [
    "df2"
   ]
  },
  {
   "cell_type": "markdown",
   "metadata": {},
   "source": [
    "#### Check the shape of the datafram\n",
    "df.shape returns two numbers, first number is the number of rows, second number is the number of columns"
   ]
  },
  {
   "cell_type": "code",
   "execution_count": 13,
   "metadata": {},
   "outputs": [
    {
     "data": {
      "text/plain": [
       "(6, 4)"
      ]
     },
     "execution_count": 13,
     "metadata": {},
     "output_type": "execute_result"
    }
   ],
   "source": [
    "df.shape"
   ]
  },
  {
   "cell_type": "markdown",
   "metadata": {},
   "source": [
    "Having specific [dtypes](http://pandas.pydata.org/pandas-docs/stable/basics.html#basics-dtypes)"
   ]
  },
  {
   "cell_type": "code",
   "execution_count": 14,
   "metadata": {},
   "outputs": [
    {
     "data": {
      "text/plain": [
       "A           float64\n",
       "B    datetime64[ns]\n",
       "C           float32\n",
       "D             int32\n",
       "E          category\n",
       "F            object\n",
       "dtype: object"
      ]
     },
     "execution_count": 14,
     "metadata": {},
     "output_type": "execute_result"
    }
   ],
   "source": [
    "df2.dtypes"
   ]
  },
  {
   "cell_type": "markdown",
   "metadata": {},
   "source": [
    "If you’re using IPython, tab completion for column names (as well as public attributes) is automatically enabled. Here’s a subset of the attributes that will be completed:"
   ]
  },
  {
   "cell_type": "code",
   "execution_count": 15,
   "metadata": {},
   "outputs": [],
   "source": [
    "# df2.<TAB>"
   ]
  },
  {
   "cell_type": "markdown",
   "metadata": {},
   "source": [
    "As you can see, the columns A, B, C, and D are automatically tab completed. E is there as well; the rest of the attributes have been truncated for brevity."
   ]
  },
  {
   "cell_type": "markdown",
   "metadata": {},
   "source": [
    "## Viewing Data\n",
    "\n",
    "See the [Basics section](http://pandas.pydata.org/pandas-docs/stable/basics.html#basics) "
   ]
  },
  {
   "cell_type": "markdown",
   "metadata": {},
   "source": [
    "See the top & bottom rows of the frame"
   ]
  },
  {
   "cell_type": "code",
   "execution_count": 16,
   "metadata": {},
   "outputs": [
    {
     "data": {
      "text/html": [
       "<div>\n",
       "<style scoped>\n",
       "    .dataframe tbody tr th:only-of-type {\n",
       "        vertical-align: middle;\n",
       "    }\n",
       "\n",
       "    .dataframe tbody tr th {\n",
       "        vertical-align: top;\n",
       "    }\n",
       "\n",
       "    .dataframe thead th {\n",
       "        text-align: right;\n",
       "    }\n",
       "</style>\n",
       "<table border=\"1\" class=\"dataframe\">\n",
       "  <thead>\n",
       "    <tr style=\"text-align: right;\">\n",
       "      <th></th>\n",
       "      <th>A</th>\n",
       "      <th>B</th>\n",
       "      <th>C</th>\n",
       "      <th>D</th>\n",
       "    </tr>\n",
       "  </thead>\n",
       "  <tbody>\n",
       "    <tr>\n",
       "      <th>2013-01-01</th>\n",
       "      <td>0.907936</td>\n",
       "      <td>-0.122517</td>\n",
       "      <td>-1.553779</td>\n",
       "      <td>0.609142</td>\n",
       "    </tr>\n",
       "    <tr>\n",
       "      <th>2013-01-02</th>\n",
       "      <td>0.651237</td>\n",
       "      <td>-0.225427</td>\n",
       "      <td>2.588120</td>\n",
       "      <td>-0.847819</td>\n",
       "    </tr>\n",
       "    <tr>\n",
       "      <th>2013-01-03</th>\n",
       "      <td>-0.276695</td>\n",
       "      <td>0.240938</td>\n",
       "      <td>0.161931</td>\n",
       "      <td>-0.238471</td>\n",
       "    </tr>\n",
       "    <tr>\n",
       "      <th>2013-01-04</th>\n",
       "      <td>0.403663</td>\n",
       "      <td>-0.781193</td>\n",
       "      <td>1.101208</td>\n",
       "      <td>0.930783</td>\n",
       "    </tr>\n",
       "    <tr>\n",
       "      <th>2013-01-05</th>\n",
       "      <td>-0.162495</td>\n",
       "      <td>-0.189044</td>\n",
       "      <td>0.124083</td>\n",
       "      <td>-1.728504</td>\n",
       "    </tr>\n",
       "  </tbody>\n",
       "</table>\n",
       "</div>"
      ],
      "text/plain": [
       "                   A         B         C         D\n",
       "2013-01-01  0.907936 -0.122517 -1.553779  0.609142\n",
       "2013-01-02  0.651237 -0.225427  2.588120 -0.847819\n",
       "2013-01-03 -0.276695  0.240938  0.161931 -0.238471\n",
       "2013-01-04  0.403663 -0.781193  1.101208  0.930783\n",
       "2013-01-05 -0.162495 -0.189044  0.124083 -1.728504"
      ]
     },
     "execution_count": 16,
     "metadata": {},
     "output_type": "execute_result"
    }
   ],
   "source": [
    "df.head() # by default, df.head() display the first 5 rows of data."
   ]
  },
  {
   "cell_type": "code",
   "execution_count": 17,
   "metadata": {},
   "outputs": [
    {
     "data": {
      "text/html": [
       "<div>\n",
       "<style scoped>\n",
       "    .dataframe tbody tr th:only-of-type {\n",
       "        vertical-align: middle;\n",
       "    }\n",
       "\n",
       "    .dataframe tbody tr th {\n",
       "        vertical-align: top;\n",
       "    }\n",
       "\n",
       "    .dataframe thead th {\n",
       "        text-align: right;\n",
       "    }\n",
       "</style>\n",
       "<table border=\"1\" class=\"dataframe\">\n",
       "  <thead>\n",
       "    <tr style=\"text-align: right;\">\n",
       "      <th></th>\n",
       "      <th>A</th>\n",
       "      <th>B</th>\n",
       "      <th>C</th>\n",
       "      <th>D</th>\n",
       "    </tr>\n",
       "  </thead>\n",
       "  <tbody>\n",
       "    <tr>\n",
       "      <th>2013-01-04</th>\n",
       "      <td>0.403663</td>\n",
       "      <td>-0.781193</td>\n",
       "      <td>1.101208</td>\n",
       "      <td>0.930783</td>\n",
       "    </tr>\n",
       "    <tr>\n",
       "      <th>2013-01-05</th>\n",
       "      <td>-0.162495</td>\n",
       "      <td>-0.189044</td>\n",
       "      <td>0.124083</td>\n",
       "      <td>-1.728504</td>\n",
       "    </tr>\n",
       "    <tr>\n",
       "      <th>2013-01-06</th>\n",
       "      <td>1.284132</td>\n",
       "      <td>-0.519835</td>\n",
       "      <td>-0.763672</td>\n",
       "      <td>0.488156</td>\n",
       "    </tr>\n",
       "  </tbody>\n",
       "</table>\n",
       "</div>"
      ],
      "text/plain": [
       "                   A         B         C         D\n",
       "2013-01-04  0.403663 -0.781193  1.101208  0.930783\n",
       "2013-01-05 -0.162495 -0.189044  0.124083 -1.728504\n",
       "2013-01-06  1.284132 -0.519835 -0.763672  0.488156"
      ]
     },
     "execution_count": 17,
     "metadata": {},
     "output_type": "execute_result"
    }
   ],
   "source": [
    "df.tail(3) # by default, df.tail() display the last 5 rows of data, but you can change how many to display."
   ]
  },
  {
   "cell_type": "markdown",
   "metadata": {},
   "source": [
    "**Display the index, columns, and the underlying numpy data**"
   ]
  },
  {
   "cell_type": "code",
   "execution_count": 18,
   "metadata": {},
   "outputs": [
    {
     "data": {
      "text/plain": [
       "DatetimeIndex(['2013-01-01', '2013-01-02', '2013-01-03', '2013-01-04',\n",
       "               '2013-01-05', '2013-01-06'],\n",
       "              dtype='datetime64[ns]', freq='D')"
      ]
     },
     "execution_count": 18,
     "metadata": {},
     "output_type": "execute_result"
    }
   ],
   "source": [
    "df.index"
   ]
  },
  {
   "cell_type": "code",
   "execution_count": 19,
   "metadata": {},
   "outputs": [
    {
     "data": {
      "text/plain": [
       "Index(['A', 'B', 'C', 'D'], dtype='object')"
      ]
     },
     "execution_count": 19,
     "metadata": {},
     "output_type": "execute_result"
    }
   ],
   "source": [
    "df.columns"
   ]
  },
  {
   "cell_type": "code",
   "execution_count": 20,
   "metadata": {
    "scrolled": true
   },
   "outputs": [
    {
     "data": {
      "text/plain": [
       "array([[ 0.90793566, -0.12251688, -1.55377876,  0.60914249],\n",
       "       [ 0.65123717, -0.22542743,  2.58812007, -0.84781946],\n",
       "       [-0.27669517,  0.24093838,  0.16193127, -0.23847055],\n",
       "       [ 0.40366264, -0.78119346,  1.10120751,  0.93078285],\n",
       "       [-0.16249516, -0.18904442,  0.12408349, -1.7285041 ],\n",
       "       [ 1.28413192, -0.51983529, -0.7636719 ,  0.48815563]])"
      ]
     },
     "execution_count": 20,
     "metadata": {},
     "output_type": "execute_result"
    }
   ],
   "source": [
    "df.values"
   ]
  },
  {
   "cell_type": "markdown",
   "metadata": {},
   "source": [
    "#### Describe shows a quick statistic summary of your data"
   ]
  },
  {
   "cell_type": "code",
   "execution_count": 21,
   "metadata": {},
   "outputs": [
    {
     "data": {
      "text/html": [
       "<div>\n",
       "<style scoped>\n",
       "    .dataframe tbody tr th:only-of-type {\n",
       "        vertical-align: middle;\n",
       "    }\n",
       "\n",
       "    .dataframe tbody tr th {\n",
       "        vertical-align: top;\n",
       "    }\n",
       "\n",
       "    .dataframe thead th {\n",
       "        text-align: right;\n",
       "    }\n",
       "</style>\n",
       "<table border=\"1\" class=\"dataframe\">\n",
       "  <thead>\n",
       "    <tr style=\"text-align: right;\">\n",
       "      <th></th>\n",
       "      <th>A</th>\n",
       "      <th>B</th>\n",
       "      <th>C</th>\n",
       "      <th>D</th>\n",
       "    </tr>\n",
       "  </thead>\n",
       "  <tbody>\n",
       "    <tr>\n",
       "      <th>count</th>\n",
       "      <td>6.000000</td>\n",
       "      <td>6.000000</td>\n",
       "      <td>6.000000</td>\n",
       "      <td>6.000000</td>\n",
       "    </tr>\n",
       "    <tr>\n",
       "      <th>mean</th>\n",
       "      <td>0.467963</td>\n",
       "      <td>-0.266180</td>\n",
       "      <td>0.276315</td>\n",
       "      <td>-0.131119</td>\n",
       "    </tr>\n",
       "    <tr>\n",
       "      <th>std</th>\n",
       "      <td>0.608182</td>\n",
       "      <td>0.350713</td>\n",
       "      <td>1.448583</td>\n",
       "      <td>1.013504</td>\n",
       "    </tr>\n",
       "    <tr>\n",
       "      <th>min</th>\n",
       "      <td>-0.276695</td>\n",
       "      <td>-0.781193</td>\n",
       "      <td>-1.553779</td>\n",
       "      <td>-1.728504</td>\n",
       "    </tr>\n",
       "    <tr>\n",
       "      <th>25%</th>\n",
       "      <td>-0.020956</td>\n",
       "      <td>-0.446233</td>\n",
       "      <td>-0.541733</td>\n",
       "      <td>-0.695482</td>\n",
       "    </tr>\n",
       "    <tr>\n",
       "      <th>50%</th>\n",
       "      <td>0.527450</td>\n",
       "      <td>-0.207236</td>\n",
       "      <td>0.143007</td>\n",
       "      <td>0.124843</td>\n",
       "    </tr>\n",
       "    <tr>\n",
       "      <th>75%</th>\n",
       "      <td>0.843761</td>\n",
       "      <td>-0.139149</td>\n",
       "      <td>0.866388</td>\n",
       "      <td>0.578896</td>\n",
       "    </tr>\n",
       "    <tr>\n",
       "      <th>max</th>\n",
       "      <td>1.284132</td>\n",
       "      <td>0.240938</td>\n",
       "      <td>2.588120</td>\n",
       "      <td>0.930783</td>\n",
       "    </tr>\n",
       "  </tbody>\n",
       "</table>\n",
       "</div>"
      ],
      "text/plain": [
       "              A         B         C         D\n",
       "count  6.000000  6.000000  6.000000  6.000000\n",
       "mean   0.467963 -0.266180  0.276315 -0.131119\n",
       "std    0.608182  0.350713  1.448583  1.013504\n",
       "min   -0.276695 -0.781193 -1.553779 -1.728504\n",
       "25%   -0.020956 -0.446233 -0.541733 -0.695482\n",
       "50%    0.527450 -0.207236  0.143007  0.124843\n",
       "75%    0.843761 -0.139149  0.866388  0.578896\n",
       "max    1.284132  0.240938  2.588120  0.930783"
      ]
     },
     "execution_count": 21,
     "metadata": {},
     "output_type": "execute_result"
    }
   ],
   "source": [
    "df.describe()"
   ]
  },
  {
   "cell_type": "markdown",
   "metadata": {},
   "source": [
    "**Transposing your data**"
   ]
  },
  {
   "cell_type": "code",
   "execution_count": 22,
   "metadata": {},
   "outputs": [
    {
     "data": {
      "text/html": [
       "<div>\n",
       "<style scoped>\n",
       "    .dataframe tbody tr th:only-of-type {\n",
       "        vertical-align: middle;\n",
       "    }\n",
       "\n",
       "    .dataframe tbody tr th {\n",
       "        vertical-align: top;\n",
       "    }\n",
       "\n",
       "    .dataframe thead th {\n",
       "        text-align: right;\n",
       "    }\n",
       "</style>\n",
       "<table border=\"1\" class=\"dataframe\">\n",
       "  <thead>\n",
       "    <tr style=\"text-align: right;\">\n",
       "      <th></th>\n",
       "      <th>2013-01-01 00:00:00</th>\n",
       "      <th>2013-01-02 00:00:00</th>\n",
       "      <th>2013-01-03 00:00:00</th>\n",
       "      <th>2013-01-04 00:00:00</th>\n",
       "      <th>2013-01-05 00:00:00</th>\n",
       "      <th>2013-01-06 00:00:00</th>\n",
       "    </tr>\n",
       "  </thead>\n",
       "  <tbody>\n",
       "    <tr>\n",
       "      <th>A</th>\n",
       "      <td>0.907936</td>\n",
       "      <td>0.651237</td>\n",
       "      <td>-0.276695</td>\n",
       "      <td>0.403663</td>\n",
       "      <td>-0.162495</td>\n",
       "      <td>1.284132</td>\n",
       "    </tr>\n",
       "    <tr>\n",
       "      <th>B</th>\n",
       "      <td>-0.122517</td>\n",
       "      <td>-0.225427</td>\n",
       "      <td>0.240938</td>\n",
       "      <td>-0.781193</td>\n",
       "      <td>-0.189044</td>\n",
       "      <td>-0.519835</td>\n",
       "    </tr>\n",
       "    <tr>\n",
       "      <th>C</th>\n",
       "      <td>-1.553779</td>\n",
       "      <td>2.588120</td>\n",
       "      <td>0.161931</td>\n",
       "      <td>1.101208</td>\n",
       "      <td>0.124083</td>\n",
       "      <td>-0.763672</td>\n",
       "    </tr>\n",
       "    <tr>\n",
       "      <th>D</th>\n",
       "      <td>0.609142</td>\n",
       "      <td>-0.847819</td>\n",
       "      <td>-0.238471</td>\n",
       "      <td>0.930783</td>\n",
       "      <td>-1.728504</td>\n",
       "      <td>0.488156</td>\n",
       "    </tr>\n",
       "  </tbody>\n",
       "</table>\n",
       "</div>"
      ],
      "text/plain": [
       "   2013-01-01  2013-01-02  2013-01-03  2013-01-04  2013-01-05  2013-01-06\n",
       "A    0.907936    0.651237   -0.276695    0.403663   -0.162495    1.284132\n",
       "B   -0.122517   -0.225427    0.240938   -0.781193   -0.189044   -0.519835\n",
       "C   -1.553779    2.588120    0.161931    1.101208    0.124083   -0.763672\n",
       "D    0.609142   -0.847819   -0.238471    0.930783   -1.728504    0.488156"
      ]
     },
     "execution_count": 22,
     "metadata": {},
     "output_type": "execute_result"
    }
   ],
   "source": [
    "df.T"
   ]
  },
  {
   "cell_type": "markdown",
   "metadata": {},
   "source": [
    "**Sorting by an axis**\n",
    "\n",
    "When axis=1 it refers to row-wise, and axis=0, it refers to colomn-wise\n",
    "\n",
    "sort_index is to sort on index or column names, **Not on value**"
   ]
  },
  {
   "cell_type": "code",
   "execution_count": 23,
   "metadata": {},
   "outputs": [
    {
     "data": {
      "text/html": [
       "<div>\n",
       "<style scoped>\n",
       "    .dataframe tbody tr th:only-of-type {\n",
       "        vertical-align: middle;\n",
       "    }\n",
       "\n",
       "    .dataframe tbody tr th {\n",
       "        vertical-align: top;\n",
       "    }\n",
       "\n",
       "    .dataframe thead th {\n",
       "        text-align: right;\n",
       "    }\n",
       "</style>\n",
       "<table border=\"1\" class=\"dataframe\">\n",
       "  <thead>\n",
       "    <tr style=\"text-align: right;\">\n",
       "      <th></th>\n",
       "      <th>D</th>\n",
       "      <th>C</th>\n",
       "      <th>B</th>\n",
       "      <th>A</th>\n",
       "    </tr>\n",
       "  </thead>\n",
       "  <tbody>\n",
       "    <tr>\n",
       "      <th>2013-01-01</th>\n",
       "      <td>0.609142</td>\n",
       "      <td>-1.553779</td>\n",
       "      <td>-0.122517</td>\n",
       "      <td>0.907936</td>\n",
       "    </tr>\n",
       "    <tr>\n",
       "      <th>2013-01-02</th>\n",
       "      <td>-0.847819</td>\n",
       "      <td>2.588120</td>\n",
       "      <td>-0.225427</td>\n",
       "      <td>0.651237</td>\n",
       "    </tr>\n",
       "    <tr>\n",
       "      <th>2013-01-03</th>\n",
       "      <td>-0.238471</td>\n",
       "      <td>0.161931</td>\n",
       "      <td>0.240938</td>\n",
       "      <td>-0.276695</td>\n",
       "    </tr>\n",
       "    <tr>\n",
       "      <th>2013-01-04</th>\n",
       "      <td>0.930783</td>\n",
       "      <td>1.101208</td>\n",
       "      <td>-0.781193</td>\n",
       "      <td>0.403663</td>\n",
       "    </tr>\n",
       "    <tr>\n",
       "      <th>2013-01-05</th>\n",
       "      <td>-1.728504</td>\n",
       "      <td>0.124083</td>\n",
       "      <td>-0.189044</td>\n",
       "      <td>-0.162495</td>\n",
       "    </tr>\n",
       "    <tr>\n",
       "      <th>2013-01-06</th>\n",
       "      <td>0.488156</td>\n",
       "      <td>-0.763672</td>\n",
       "      <td>-0.519835</td>\n",
       "      <td>1.284132</td>\n",
       "    </tr>\n",
       "  </tbody>\n",
       "</table>\n",
       "</div>"
      ],
      "text/plain": [
       "                   D         C         B         A\n",
       "2013-01-01  0.609142 -1.553779 -0.122517  0.907936\n",
       "2013-01-02 -0.847819  2.588120 -0.225427  0.651237\n",
       "2013-01-03 -0.238471  0.161931  0.240938 -0.276695\n",
       "2013-01-04  0.930783  1.101208 -0.781193  0.403663\n",
       "2013-01-05 -1.728504  0.124083 -0.189044 -0.162495\n",
       "2013-01-06  0.488156 -0.763672 -0.519835  1.284132"
      ]
     },
     "execution_count": 23,
     "metadata": {},
     "output_type": "execute_result"
    }
   ],
   "source": [
    "df.sort_index(axis=1, ascending=False) #by default sort is ascending"
   ]
  },
  {
   "cell_type": "code",
   "execution_count": 24,
   "metadata": {},
   "outputs": [
    {
     "data": {
      "text/html": [
       "<div>\n",
       "<style scoped>\n",
       "    .dataframe tbody tr th:only-of-type {\n",
       "        vertical-align: middle;\n",
       "    }\n",
       "\n",
       "    .dataframe tbody tr th {\n",
       "        vertical-align: top;\n",
       "    }\n",
       "\n",
       "    .dataframe thead th {\n",
       "        text-align: right;\n",
       "    }\n",
       "</style>\n",
       "<table border=\"1\" class=\"dataframe\">\n",
       "  <thead>\n",
       "    <tr style=\"text-align: right;\">\n",
       "      <th></th>\n",
       "      <th>A</th>\n",
       "      <th>B</th>\n",
       "      <th>C</th>\n",
       "      <th>D</th>\n",
       "    </tr>\n",
       "  </thead>\n",
       "  <tbody>\n",
       "    <tr>\n",
       "      <th>2013-01-06</th>\n",
       "      <td>1.284132</td>\n",
       "      <td>-0.519835</td>\n",
       "      <td>-0.763672</td>\n",
       "      <td>0.488156</td>\n",
       "    </tr>\n",
       "    <tr>\n",
       "      <th>2013-01-05</th>\n",
       "      <td>-0.162495</td>\n",
       "      <td>-0.189044</td>\n",
       "      <td>0.124083</td>\n",
       "      <td>-1.728504</td>\n",
       "    </tr>\n",
       "    <tr>\n",
       "      <th>2013-01-04</th>\n",
       "      <td>0.403663</td>\n",
       "      <td>-0.781193</td>\n",
       "      <td>1.101208</td>\n",
       "      <td>0.930783</td>\n",
       "    </tr>\n",
       "    <tr>\n",
       "      <th>2013-01-03</th>\n",
       "      <td>-0.276695</td>\n",
       "      <td>0.240938</td>\n",
       "      <td>0.161931</td>\n",
       "      <td>-0.238471</td>\n",
       "    </tr>\n",
       "    <tr>\n",
       "      <th>2013-01-02</th>\n",
       "      <td>0.651237</td>\n",
       "      <td>-0.225427</td>\n",
       "      <td>2.588120</td>\n",
       "      <td>-0.847819</td>\n",
       "    </tr>\n",
       "    <tr>\n",
       "      <th>2013-01-01</th>\n",
       "      <td>0.907936</td>\n",
       "      <td>-0.122517</td>\n",
       "      <td>-1.553779</td>\n",
       "      <td>0.609142</td>\n",
       "    </tr>\n",
       "  </tbody>\n",
       "</table>\n",
       "</div>"
      ],
      "text/plain": [
       "                   A         B         C         D\n",
       "2013-01-06  1.284132 -0.519835 -0.763672  0.488156\n",
       "2013-01-05 -0.162495 -0.189044  0.124083 -1.728504\n",
       "2013-01-04  0.403663 -0.781193  1.101208  0.930783\n",
       "2013-01-03 -0.276695  0.240938  0.161931 -0.238471\n",
       "2013-01-02  0.651237 -0.225427  2.588120 -0.847819\n",
       "2013-01-01  0.907936 -0.122517 -1.553779  0.609142"
      ]
     },
     "execution_count": 24,
     "metadata": {},
     "output_type": "execute_result"
    }
   ],
   "source": [
    "df.sort_index(axis=0, ascending=False)"
   ]
  },
  {
   "cell_type": "markdown",
   "metadata": {},
   "source": [
    "**Sorting by value**"
   ]
  },
  {
   "cell_type": "code",
   "execution_count": 25,
   "metadata": {},
   "outputs": [
    {
     "data": {
      "text/html": [
       "<div>\n",
       "<style scoped>\n",
       "    .dataframe tbody tr th:only-of-type {\n",
       "        vertical-align: middle;\n",
       "    }\n",
       "\n",
       "    .dataframe tbody tr th {\n",
       "        vertical-align: top;\n",
       "    }\n",
       "\n",
       "    .dataframe thead th {\n",
       "        text-align: right;\n",
       "    }\n",
       "</style>\n",
       "<table border=\"1\" class=\"dataframe\">\n",
       "  <thead>\n",
       "    <tr style=\"text-align: right;\">\n",
       "      <th></th>\n",
       "      <th>A</th>\n",
       "      <th>B</th>\n",
       "      <th>C</th>\n",
       "      <th>D</th>\n",
       "    </tr>\n",
       "  </thead>\n",
       "  <tbody>\n",
       "    <tr>\n",
       "      <th>2013-01-04</th>\n",
       "      <td>0.403663</td>\n",
       "      <td>-0.781193</td>\n",
       "      <td>1.101208</td>\n",
       "      <td>0.930783</td>\n",
       "    </tr>\n",
       "    <tr>\n",
       "      <th>2013-01-06</th>\n",
       "      <td>1.284132</td>\n",
       "      <td>-0.519835</td>\n",
       "      <td>-0.763672</td>\n",
       "      <td>0.488156</td>\n",
       "    </tr>\n",
       "    <tr>\n",
       "      <th>2013-01-02</th>\n",
       "      <td>0.651237</td>\n",
       "      <td>-0.225427</td>\n",
       "      <td>2.588120</td>\n",
       "      <td>-0.847819</td>\n",
       "    </tr>\n",
       "    <tr>\n",
       "      <th>2013-01-05</th>\n",
       "      <td>-0.162495</td>\n",
       "      <td>-0.189044</td>\n",
       "      <td>0.124083</td>\n",
       "      <td>-1.728504</td>\n",
       "    </tr>\n",
       "    <tr>\n",
       "      <th>2013-01-01</th>\n",
       "      <td>0.907936</td>\n",
       "      <td>-0.122517</td>\n",
       "      <td>-1.553779</td>\n",
       "      <td>0.609142</td>\n",
       "    </tr>\n",
       "    <tr>\n",
       "      <th>2013-01-03</th>\n",
       "      <td>-0.276695</td>\n",
       "      <td>0.240938</td>\n",
       "      <td>0.161931</td>\n",
       "      <td>-0.238471</td>\n",
       "    </tr>\n",
       "  </tbody>\n",
       "</table>\n",
       "</div>"
      ],
      "text/plain": [
       "                   A         B         C         D\n",
       "2013-01-04  0.403663 -0.781193  1.101208  0.930783\n",
       "2013-01-06  1.284132 -0.519835 -0.763672  0.488156\n",
       "2013-01-02  0.651237 -0.225427  2.588120 -0.847819\n",
       "2013-01-05 -0.162495 -0.189044  0.124083 -1.728504\n",
       "2013-01-01  0.907936 -0.122517 -1.553779  0.609142\n",
       "2013-01-03 -0.276695  0.240938  0.161931 -0.238471"
      ]
     },
     "execution_count": 25,
     "metadata": {},
     "output_type": "execute_result"
    }
   ],
   "source": [
    "df.sort_values(by='B')"
   ]
  },
  {
   "cell_type": "code",
   "execution_count": 26,
   "metadata": {},
   "outputs": [],
   "source": [
    "df['B']=[1,3,2,1,2,3] #change the value of column B to [1,3,2,1,2,3]"
   ]
  },
  {
   "cell_type": "code",
   "execution_count": 27,
   "metadata": {},
   "outputs": [
    {
     "data": {
      "text/html": [
       "<div>\n",
       "<style scoped>\n",
       "    .dataframe tbody tr th:only-of-type {\n",
       "        vertical-align: middle;\n",
       "    }\n",
       "\n",
       "    .dataframe tbody tr th {\n",
       "        vertical-align: top;\n",
       "    }\n",
       "\n",
       "    .dataframe thead th {\n",
       "        text-align: right;\n",
       "    }\n",
       "</style>\n",
       "<table border=\"1\" class=\"dataframe\">\n",
       "  <thead>\n",
       "    <tr style=\"text-align: right;\">\n",
       "      <th></th>\n",
       "      <th>A</th>\n",
       "      <th>B</th>\n",
       "      <th>C</th>\n",
       "      <th>D</th>\n",
       "    </tr>\n",
       "  </thead>\n",
       "  <tbody>\n",
       "    <tr>\n",
       "      <th>2013-01-01</th>\n",
       "      <td>0.907936</td>\n",
       "      <td>1</td>\n",
       "      <td>-1.553779</td>\n",
       "      <td>0.609142</td>\n",
       "    </tr>\n",
       "    <tr>\n",
       "      <th>2013-01-02</th>\n",
       "      <td>0.651237</td>\n",
       "      <td>3</td>\n",
       "      <td>2.588120</td>\n",
       "      <td>-0.847819</td>\n",
       "    </tr>\n",
       "    <tr>\n",
       "      <th>2013-01-03</th>\n",
       "      <td>-0.276695</td>\n",
       "      <td>2</td>\n",
       "      <td>0.161931</td>\n",
       "      <td>-0.238471</td>\n",
       "    </tr>\n",
       "    <tr>\n",
       "      <th>2013-01-04</th>\n",
       "      <td>0.403663</td>\n",
       "      <td>1</td>\n",
       "      <td>1.101208</td>\n",
       "      <td>0.930783</td>\n",
       "    </tr>\n",
       "    <tr>\n",
       "      <th>2013-01-05</th>\n",
       "      <td>-0.162495</td>\n",
       "      <td>2</td>\n",
       "      <td>0.124083</td>\n",
       "      <td>-1.728504</td>\n",
       "    </tr>\n",
       "    <tr>\n",
       "      <th>2013-01-06</th>\n",
       "      <td>1.284132</td>\n",
       "      <td>3</td>\n",
       "      <td>-0.763672</td>\n",
       "      <td>0.488156</td>\n",
       "    </tr>\n",
       "  </tbody>\n",
       "</table>\n",
       "</div>"
      ],
      "text/plain": [
       "                   A  B         C         D\n",
       "2013-01-01  0.907936  1 -1.553779  0.609142\n",
       "2013-01-02  0.651237  3  2.588120 -0.847819\n",
       "2013-01-03 -0.276695  2  0.161931 -0.238471\n",
       "2013-01-04  0.403663  1  1.101208  0.930783\n",
       "2013-01-05 -0.162495  2  0.124083 -1.728504\n",
       "2013-01-06  1.284132  3 -0.763672  0.488156"
      ]
     },
     "execution_count": 27,
     "metadata": {},
     "output_type": "execute_result"
    }
   ],
   "source": [
    "df"
   ]
  },
  {
   "cell_type": "code",
   "execution_count": 28,
   "metadata": {},
   "outputs": [
    {
     "data": {
      "text/html": [
       "<div>\n",
       "<style scoped>\n",
       "    .dataframe tbody tr th:only-of-type {\n",
       "        vertical-align: middle;\n",
       "    }\n",
       "\n",
       "    .dataframe tbody tr th {\n",
       "        vertical-align: top;\n",
       "    }\n",
       "\n",
       "    .dataframe thead th {\n",
       "        text-align: right;\n",
       "    }\n",
       "</style>\n",
       "<table border=\"1\" class=\"dataframe\">\n",
       "  <thead>\n",
       "    <tr style=\"text-align: right;\">\n",
       "      <th></th>\n",
       "      <th>A</th>\n",
       "      <th>B</th>\n",
       "      <th>C</th>\n",
       "      <th>D</th>\n",
       "    </tr>\n",
       "  </thead>\n",
       "  <tbody>\n",
       "    <tr>\n",
       "      <th>2013-01-04</th>\n",
       "      <td>0.403663</td>\n",
       "      <td>1</td>\n",
       "      <td>1.101208</td>\n",
       "      <td>0.930783</td>\n",
       "    </tr>\n",
       "    <tr>\n",
       "      <th>2013-01-01</th>\n",
       "      <td>0.907936</td>\n",
       "      <td>1</td>\n",
       "      <td>-1.553779</td>\n",
       "      <td>0.609142</td>\n",
       "    </tr>\n",
       "    <tr>\n",
       "      <th>2013-01-03</th>\n",
       "      <td>-0.276695</td>\n",
       "      <td>2</td>\n",
       "      <td>0.161931</td>\n",
       "      <td>-0.238471</td>\n",
       "    </tr>\n",
       "    <tr>\n",
       "      <th>2013-01-05</th>\n",
       "      <td>-0.162495</td>\n",
       "      <td>2</td>\n",
       "      <td>0.124083</td>\n",
       "      <td>-1.728504</td>\n",
       "    </tr>\n",
       "    <tr>\n",
       "      <th>2013-01-06</th>\n",
       "      <td>1.284132</td>\n",
       "      <td>3</td>\n",
       "      <td>-0.763672</td>\n",
       "      <td>0.488156</td>\n",
       "    </tr>\n",
       "    <tr>\n",
       "      <th>2013-01-02</th>\n",
       "      <td>0.651237</td>\n",
       "      <td>3</td>\n",
       "      <td>2.588120</td>\n",
       "      <td>-0.847819</td>\n",
       "    </tr>\n",
       "  </tbody>\n",
       "</table>\n",
       "</div>"
      ],
      "text/plain": [
       "                   A  B         C         D\n",
       "2013-01-04  0.403663  1  1.101208  0.930783\n",
       "2013-01-01  0.907936  1 -1.553779  0.609142\n",
       "2013-01-03 -0.276695  2  0.161931 -0.238471\n",
       "2013-01-05 -0.162495  2  0.124083 -1.728504\n",
       "2013-01-06  1.284132  3 -0.763672  0.488156\n",
       "2013-01-02  0.651237  3  2.588120 -0.847819"
      ]
     },
     "execution_count": 28,
     "metadata": {},
     "output_type": "execute_result"
    }
   ],
   "source": [
    "df.sort_values(by=['B','D'],ascending=[True,False]) # sort values first by column B ascendingly then by column D descendingly."
   ]
  },
  {
   "cell_type": "markdown",
   "metadata": {},
   "source": [
    "## Selection"
   ]
  },
  {
   "cell_type": "markdown",
   "metadata": {},
   "source": [
    "**Note:** While standard Python / Numpy expressions for selecting and setting are intuitive and come in handy for interactive work, for production code, we recommend the optimized pandas data access methods, .at, .iat, .loc, .iloc and .ix."
   ]
  },
  {
   "cell_type": "markdown",
   "metadata": {},
   "source": [
    "See the indexing documentation [Indexing and Selecting Data](http://pandas.pydata.org/pandas-docs/stable/indexing.html#indexing) and [MultiIndex / Advanced Indexing](http://pandas.pydata.org/pandas-docs/stable/advanced.html#advanced)"
   ]
  },
  {
   "cell_type": "markdown",
   "metadata": {},
   "source": [
    "### Getting"
   ]
  },
  {
   "cell_type": "markdown",
   "metadata": {},
   "source": [
    "Selecting a single column, which yields a Series, equivalent to df.A"
   ]
  },
  {
   "cell_type": "code",
   "execution_count": 34,
   "metadata": {},
   "outputs": [
    {
     "data": {
      "text/plain": [
       "2013-01-01    0.907936\n",
       "2013-01-02    0.651237\n",
       "2013-01-03   -0.276695\n",
       "2013-01-04    0.403663\n",
       "2013-01-05   -0.162495\n",
       "2013-01-06    1.284132\n",
       "Freq: D, Name: A, dtype: float64"
      ]
     },
     "execution_count": 34,
     "metadata": {},
     "output_type": "execute_result"
    }
   ],
   "source": [
    "df['A']"
   ]
  },
  {
   "cell_type": "markdown",
   "metadata": {},
   "source": [
    "Selecting more than one columns."
   ]
  },
  {
   "cell_type": "code",
   "execution_count": 37,
   "metadata": {},
   "outputs": [
    {
     "data": {
      "text/html": [
       "<div>\n",
       "<style scoped>\n",
       "    .dataframe tbody tr th:only-of-type {\n",
       "        vertical-align: middle;\n",
       "    }\n",
       "\n",
       "    .dataframe tbody tr th {\n",
       "        vertical-align: top;\n",
       "    }\n",
       "\n",
       "    .dataframe thead th {\n",
       "        text-align: right;\n",
       "    }\n",
       "</style>\n",
       "<table border=\"1\" class=\"dataframe\">\n",
       "  <thead>\n",
       "    <tr style=\"text-align: right;\">\n",
       "      <th></th>\n",
       "      <th>A</th>\n",
       "      <th>B</th>\n",
       "    </tr>\n",
       "  </thead>\n",
       "  <tbody>\n",
       "    <tr>\n",
       "      <th>2013-01-01</th>\n",
       "      <td>0.907936</td>\n",
       "      <td>1</td>\n",
       "    </tr>\n",
       "    <tr>\n",
       "      <th>2013-01-02</th>\n",
       "      <td>0.651237</td>\n",
       "      <td>3</td>\n",
       "    </tr>\n",
       "    <tr>\n",
       "      <th>2013-01-03</th>\n",
       "      <td>-0.276695</td>\n",
       "      <td>2</td>\n",
       "    </tr>\n",
       "    <tr>\n",
       "      <th>2013-01-04</th>\n",
       "      <td>0.403663</td>\n",
       "      <td>1</td>\n",
       "    </tr>\n",
       "    <tr>\n",
       "      <th>2013-01-05</th>\n",
       "      <td>-0.162495</td>\n",
       "      <td>2</td>\n",
       "    </tr>\n",
       "    <tr>\n",
       "      <th>2013-01-06</th>\n",
       "      <td>1.284132</td>\n",
       "      <td>3</td>\n",
       "    </tr>\n",
       "  </tbody>\n",
       "</table>\n",
       "</div>"
      ],
      "text/plain": [
       "                   A  B\n",
       "2013-01-01  0.907936  1\n",
       "2013-01-02  0.651237  3\n",
       "2013-01-03 -0.276695  2\n",
       "2013-01-04  0.403663  1\n",
       "2013-01-05 -0.162495  2\n",
       "2013-01-06  1.284132  3"
      ]
     },
     "execution_count": 37,
     "metadata": {},
     "output_type": "execute_result"
    }
   ],
   "source": [
    "df[['A','B']]"
   ]
  },
  {
   "cell_type": "markdown",
   "metadata": {},
   "source": [
    "Selecting via [], which slices the rows."
   ]
  },
  {
   "cell_type": "code",
   "execution_count": 35,
   "metadata": {},
   "outputs": [
    {
     "data": {
      "text/html": [
       "<div>\n",
       "<style scoped>\n",
       "    .dataframe tbody tr th:only-of-type {\n",
       "        vertical-align: middle;\n",
       "    }\n",
       "\n",
       "    .dataframe tbody tr th {\n",
       "        vertical-align: top;\n",
       "    }\n",
       "\n",
       "    .dataframe thead th {\n",
       "        text-align: right;\n",
       "    }\n",
       "</style>\n",
       "<table border=\"1\" class=\"dataframe\">\n",
       "  <thead>\n",
       "    <tr style=\"text-align: right;\">\n",
       "      <th></th>\n",
       "      <th>A</th>\n",
       "      <th>B</th>\n",
       "      <th>C</th>\n",
       "      <th>D</th>\n",
       "    </tr>\n",
       "  </thead>\n",
       "  <tbody>\n",
       "    <tr>\n",
       "      <th>2013-01-01</th>\n",
       "      <td>0.907936</td>\n",
       "      <td>1</td>\n",
       "      <td>-1.553779</td>\n",
       "      <td>0.609142</td>\n",
       "    </tr>\n",
       "    <tr>\n",
       "      <th>2013-01-02</th>\n",
       "      <td>0.651237</td>\n",
       "      <td>3</td>\n",
       "      <td>2.588120</td>\n",
       "      <td>-0.847819</td>\n",
       "    </tr>\n",
       "    <tr>\n",
       "      <th>2013-01-03</th>\n",
       "      <td>-0.276695</td>\n",
       "      <td>2</td>\n",
       "      <td>0.161931</td>\n",
       "      <td>-0.238471</td>\n",
       "    </tr>\n",
       "  </tbody>\n",
       "</table>\n",
       "</div>"
      ],
      "text/plain": [
       "                   A  B         C         D\n",
       "2013-01-01  0.907936  1 -1.553779  0.609142\n",
       "2013-01-02  0.651237  3  2.588120 -0.847819\n",
       "2013-01-03 -0.276695  2  0.161931 -0.238471"
      ]
     },
     "execution_count": 35,
     "metadata": {},
     "output_type": "execute_result"
    }
   ],
   "source": [
    "df[0:3]"
   ]
  },
  {
   "cell_type": "code",
   "execution_count": 38,
   "metadata": {},
   "outputs": [
    {
     "data": {
      "text/html": [
       "<div>\n",
       "<style scoped>\n",
       "    .dataframe tbody tr th:only-of-type {\n",
       "        vertical-align: middle;\n",
       "    }\n",
       "\n",
       "    .dataframe tbody tr th {\n",
       "        vertical-align: top;\n",
       "    }\n",
       "\n",
       "    .dataframe thead th {\n",
       "        text-align: right;\n",
       "    }\n",
       "</style>\n",
       "<table border=\"1\" class=\"dataframe\">\n",
       "  <thead>\n",
       "    <tr style=\"text-align: right;\">\n",
       "      <th></th>\n",
       "      <th>A</th>\n",
       "      <th>B</th>\n",
       "      <th>C</th>\n",
       "      <th>D</th>\n",
       "    </tr>\n",
       "  </thead>\n",
       "  <tbody>\n",
       "    <tr>\n",
       "      <th>2013-01-02</th>\n",
       "      <td>0.651237</td>\n",
       "      <td>3</td>\n",
       "      <td>2.588120</td>\n",
       "      <td>-0.847819</td>\n",
       "    </tr>\n",
       "    <tr>\n",
       "      <th>2013-01-03</th>\n",
       "      <td>-0.276695</td>\n",
       "      <td>2</td>\n",
       "      <td>0.161931</td>\n",
       "      <td>-0.238471</td>\n",
       "    </tr>\n",
       "    <tr>\n",
       "      <th>2013-01-04</th>\n",
       "      <td>0.403663</td>\n",
       "      <td>1</td>\n",
       "      <td>1.101208</td>\n",
       "      <td>0.930783</td>\n",
       "    </tr>\n",
       "  </tbody>\n",
       "</table>\n",
       "</div>"
      ],
      "text/plain": [
       "                   A  B         C         D\n",
       "2013-01-02  0.651237  3  2.588120 -0.847819\n",
       "2013-01-03 -0.276695  2  0.161931 -0.238471\n",
       "2013-01-04  0.403663  1  1.101208  0.930783"
      ]
     },
     "execution_count": 38,
     "metadata": {},
     "output_type": "execute_result"
    }
   ],
   "source": [
    "df['20130102':'20130104']"
   ]
  },
  {
   "cell_type": "markdown",
   "metadata": {},
   "source": [
    "### Selection by Label\n",
    "\n",
    "See more in [Selection by Label](Selection by Label)"
   ]
  },
  {
   "cell_type": "markdown",
   "metadata": {},
   "source": [
    "For getting a cross section using a label\n",
    "\n",
    "`df.loc[start:end]` selects the rows based on index, between start and end, **both endpoints are included.**"
   ]
  },
  {
   "cell_type": "code",
   "execution_count": 39,
   "metadata": {},
   "outputs": [
    {
     "data": {
      "text/plain": [
       "A    0.907936\n",
       "B    1.000000\n",
       "C   -1.553779\n",
       "D    0.609142\n",
       "Name: 2013-01-01 00:00:00, dtype: float64"
      ]
     },
     "execution_count": 39,
     "metadata": {},
     "output_type": "execute_result"
    }
   ],
   "source": [
    "df.loc[dates[0]]# select the row where the index is date[0], in our example, it is 2013-01-01."
   ]
  },
  {
   "cell_type": "markdown",
   "metadata": {},
   "source": [
    "Selection by Label\n",
    "`df.loc[,]` inside the [], before ',' you can specify index, after ',' you can specify columns to be selected."
   ]
  },
  {
   "cell_type": "code",
   "execution_count": 46,
   "metadata": {},
   "outputs": [
    {
     "data": {
      "text/html": [
       "<div>\n",
       "<style scoped>\n",
       "    .dataframe tbody tr th:only-of-type {\n",
       "        vertical-align: middle;\n",
       "    }\n",
       "\n",
       "    .dataframe tbody tr th {\n",
       "        vertical-align: top;\n",
       "    }\n",
       "\n",
       "    .dataframe thead th {\n",
       "        text-align: right;\n",
       "    }\n",
       "</style>\n",
       "<table border=\"1\" class=\"dataframe\">\n",
       "  <thead>\n",
       "    <tr style=\"text-align: right;\">\n",
       "      <th></th>\n",
       "      <th>A</th>\n",
       "      <th>B</th>\n",
       "    </tr>\n",
       "  </thead>\n",
       "  <tbody>\n",
       "    <tr>\n",
       "      <th>2013-01-01</th>\n",
       "      <td>0.907936</td>\n",
       "      <td>1</td>\n",
       "    </tr>\n",
       "    <tr>\n",
       "      <th>2013-01-02</th>\n",
       "      <td>0.651237</td>\n",
       "      <td>3</td>\n",
       "    </tr>\n",
       "    <tr>\n",
       "      <th>2013-01-03</th>\n",
       "      <td>-0.276695</td>\n",
       "      <td>2</td>\n",
       "    </tr>\n",
       "    <tr>\n",
       "      <th>2013-01-04</th>\n",
       "      <td>0.403663</td>\n",
       "      <td>1</td>\n",
       "    </tr>\n",
       "    <tr>\n",
       "      <th>2013-01-05</th>\n",
       "      <td>-0.162495</td>\n",
       "      <td>2</td>\n",
       "    </tr>\n",
       "    <tr>\n",
       "      <th>2013-01-06</th>\n",
       "      <td>1.284132</td>\n",
       "      <td>3</td>\n",
       "    </tr>\n",
       "  </tbody>\n",
       "</table>\n",
       "</div>"
      ],
      "text/plain": [
       "                   A  B\n",
       "2013-01-01  0.907936  1\n",
       "2013-01-02  0.651237  3\n",
       "2013-01-03 -0.276695  2\n",
       "2013-01-04  0.403663  1\n",
       "2013-01-05 -0.162495  2\n",
       "2013-01-06  1.284132  3"
      ]
     },
     "execution_count": 46,
     "metadata": {},
     "output_type": "execute_result"
    }
   ],
   "source": [
    "df.loc[:,['A','B']] #select all row, but only columns 'A' and \"B'."
   ]
  },
  {
   "cell_type": "markdown",
   "metadata": {},
   "source": [
    "Showing label slicing, **both endpoints are included**"
   ]
  },
  {
   "cell_type": "code",
   "execution_count": 47,
   "metadata": {},
   "outputs": [
    {
     "data": {
      "text/html": [
       "<div>\n",
       "<style scoped>\n",
       "    .dataframe tbody tr th:only-of-type {\n",
       "        vertical-align: middle;\n",
       "    }\n",
       "\n",
       "    .dataframe tbody tr th {\n",
       "        vertical-align: top;\n",
       "    }\n",
       "\n",
       "    .dataframe thead th {\n",
       "        text-align: right;\n",
       "    }\n",
       "</style>\n",
       "<table border=\"1\" class=\"dataframe\">\n",
       "  <thead>\n",
       "    <tr style=\"text-align: right;\">\n",
       "      <th></th>\n",
       "      <th>A</th>\n",
       "      <th>B</th>\n",
       "    </tr>\n",
       "  </thead>\n",
       "  <tbody>\n",
       "    <tr>\n",
       "      <th>2013-01-02</th>\n",
       "      <td>0.651237</td>\n",
       "      <td>3</td>\n",
       "    </tr>\n",
       "    <tr>\n",
       "      <th>2013-01-03</th>\n",
       "      <td>-0.276695</td>\n",
       "      <td>2</td>\n",
       "    </tr>\n",
       "    <tr>\n",
       "      <th>2013-01-04</th>\n",
       "      <td>0.403663</td>\n",
       "      <td>1</td>\n",
       "    </tr>\n",
       "  </tbody>\n",
       "</table>\n",
       "</div>"
      ],
      "text/plain": [
       "                   A  B\n",
       "2013-01-02  0.651237  3\n",
       "2013-01-03 -0.276695  2\n",
       "2013-01-04  0.403663  1"
      ]
     },
     "execution_count": 47,
     "metadata": {},
     "output_type": "execute_result"
    }
   ],
   "source": [
    "df.loc['20130102':'20130104',['A','B']] #select rows between 2013-01-02 to 2013-01-04,"
   ]
  },
  {
   "cell_type": "markdown",
   "metadata": {},
   "source": [
    "For getting a scalar value"
   ]
  },
  {
   "cell_type": "code",
   "execution_count": 48,
   "metadata": {},
   "outputs": [
    {
     "data": {
      "text/plain": [
       "0.9079356559372572"
      ]
     },
     "execution_count": 48,
     "metadata": {},
     "output_type": "execute_result"
    }
   ],
   "source": [
    "df.loc[dates[0],'A']"
   ]
  },
  {
   "cell_type": "markdown",
   "metadata": {},
   "source": [
    "### Selection by Position\n",
    "\n",
    "See more in [Selection by Position](http://pandas.pydata.org/pandas-docs/stable/indexing.html#indexing-integer)"
   ]
  },
  {
   "cell_type": "markdown",
   "metadata": {},
   "source": [
    "Select via the position of the passed integers\n",
    "\n",
    "`df.iloc[,]` selects rows/columns based on position of rows/columns, e.g., df.iloc[3,5] selects the fouth row and 6th column of the data, remember it starts at 0."
   ]
  },
  {
   "cell_type": "code",
   "execution_count": 52,
   "metadata": {},
   "outputs": [
    {
     "data": {
      "text/plain": [
       "A    0.403663\n",
       "B    1.000000\n",
       "C    1.101208\n",
       "D    0.930783\n",
       "Name: 2013-01-04 00:00:00, dtype: float64"
      ]
     },
     "execution_count": 52,
     "metadata": {},
     "output_type": "execute_result"
    }
   ],
   "source": [
    "df.iloc[3]"
   ]
  },
  {
   "cell_type": "markdown",
   "metadata": {},
   "source": [
    "By integer slices, acting similar to numpy/python\n",
    "\n",
    "**When use `df.iloc[start:end]`, end is NOT included, different from `df.loc[]`!**"
   ]
  },
  {
   "cell_type": "code",
   "execution_count": 53,
   "metadata": {},
   "outputs": [
    {
     "data": {
      "text/html": [
       "<div>\n",
       "<style scoped>\n",
       "    .dataframe tbody tr th:only-of-type {\n",
       "        vertical-align: middle;\n",
       "    }\n",
       "\n",
       "    .dataframe tbody tr th {\n",
       "        vertical-align: top;\n",
       "    }\n",
       "\n",
       "    .dataframe thead th {\n",
       "        text-align: right;\n",
       "    }\n",
       "</style>\n",
       "<table border=\"1\" class=\"dataframe\">\n",
       "  <thead>\n",
       "    <tr style=\"text-align: right;\">\n",
       "      <th></th>\n",
       "      <th>A</th>\n",
       "      <th>B</th>\n",
       "    </tr>\n",
       "  </thead>\n",
       "  <tbody>\n",
       "    <tr>\n",
       "      <th>2013-01-04</th>\n",
       "      <td>0.403663</td>\n",
       "      <td>1</td>\n",
       "    </tr>\n",
       "    <tr>\n",
       "      <th>2013-01-05</th>\n",
       "      <td>-0.162495</td>\n",
       "      <td>2</td>\n",
       "    </tr>\n",
       "  </tbody>\n",
       "</table>\n",
       "</div>"
      ],
      "text/plain": [
       "                   A  B\n",
       "2013-01-04  0.403663  1\n",
       "2013-01-05 -0.162495  2"
      ]
     },
     "execution_count": 53,
     "metadata": {},
     "output_type": "execute_result"
    }
   ],
   "source": [
    "df.iloc[3:5,0:2] #selects 4th and 5th rows, and first, second columns. "
   ]
  },
  {
   "cell_type": "markdown",
   "metadata": {},
   "source": [
    "By lists of integer position locations, similar to the numpy/python style"
   ]
  },
  {
   "cell_type": "code",
   "execution_count": 54,
   "metadata": {},
   "outputs": [
    {
     "data": {
      "text/html": [
       "<div>\n",
       "<style scoped>\n",
       "    .dataframe tbody tr th:only-of-type {\n",
       "        vertical-align: middle;\n",
       "    }\n",
       "\n",
       "    .dataframe tbody tr th {\n",
       "        vertical-align: top;\n",
       "    }\n",
       "\n",
       "    .dataframe thead th {\n",
       "        text-align: right;\n",
       "    }\n",
       "</style>\n",
       "<table border=\"1\" class=\"dataframe\">\n",
       "  <thead>\n",
       "    <tr style=\"text-align: right;\">\n",
       "      <th></th>\n",
       "      <th>A</th>\n",
       "      <th>C</th>\n",
       "    </tr>\n",
       "  </thead>\n",
       "  <tbody>\n",
       "    <tr>\n",
       "      <th>2013-01-02</th>\n",
       "      <td>0.651237</td>\n",
       "      <td>2.588120</td>\n",
       "    </tr>\n",
       "    <tr>\n",
       "      <th>2013-01-03</th>\n",
       "      <td>-0.276695</td>\n",
       "      <td>0.161931</td>\n",
       "    </tr>\n",
       "    <tr>\n",
       "      <th>2013-01-05</th>\n",
       "      <td>-0.162495</td>\n",
       "      <td>0.124083</td>\n",
       "    </tr>\n",
       "  </tbody>\n",
       "</table>\n",
       "</div>"
      ],
      "text/plain": [
       "                   A         C\n",
       "2013-01-02  0.651237  2.588120\n",
       "2013-01-03 -0.276695  0.161931\n",
       "2013-01-05 -0.162495  0.124083"
      ]
     },
     "execution_count": 54,
     "metadata": {},
     "output_type": "execute_result"
    }
   ],
   "source": [
    "df.iloc[[1,2,4],[0,2]] #select 2nd, 3rd, and 5th rows, and first, third columns"
   ]
  },
  {
   "cell_type": "markdown",
   "metadata": {},
   "source": [
    "For slicing rows explicitly"
   ]
  },
  {
   "cell_type": "code",
   "execution_count": 55,
   "metadata": {},
   "outputs": [
    {
     "data": {
      "text/html": [
       "<div>\n",
       "<style scoped>\n",
       "    .dataframe tbody tr th:only-of-type {\n",
       "        vertical-align: middle;\n",
       "    }\n",
       "\n",
       "    .dataframe tbody tr th {\n",
       "        vertical-align: top;\n",
       "    }\n",
       "\n",
       "    .dataframe thead th {\n",
       "        text-align: right;\n",
       "    }\n",
       "</style>\n",
       "<table border=\"1\" class=\"dataframe\">\n",
       "  <thead>\n",
       "    <tr style=\"text-align: right;\">\n",
       "      <th></th>\n",
       "      <th>A</th>\n",
       "      <th>B</th>\n",
       "      <th>C</th>\n",
       "      <th>D</th>\n",
       "    </tr>\n",
       "  </thead>\n",
       "  <tbody>\n",
       "    <tr>\n",
       "      <th>2013-01-02</th>\n",
       "      <td>0.651237</td>\n",
       "      <td>3</td>\n",
       "      <td>2.588120</td>\n",
       "      <td>-0.847819</td>\n",
       "    </tr>\n",
       "    <tr>\n",
       "      <th>2013-01-03</th>\n",
       "      <td>-0.276695</td>\n",
       "      <td>2</td>\n",
       "      <td>0.161931</td>\n",
       "      <td>-0.238471</td>\n",
       "    </tr>\n",
       "  </tbody>\n",
       "</table>\n",
       "</div>"
      ],
      "text/plain": [
       "                   A  B         C         D\n",
       "2013-01-02  0.651237  3  2.588120 -0.847819\n",
       "2013-01-03 -0.276695  2  0.161931 -0.238471"
      ]
     },
     "execution_count": 55,
     "metadata": {},
     "output_type": "execute_result"
    }
   ],
   "source": [
    "df.iloc[1:3,:] #select second, third rows and all columns."
   ]
  },
  {
   "cell_type": "markdown",
   "metadata": {},
   "source": [
    "For slicing columns explicitly"
   ]
  },
  {
   "cell_type": "code",
   "execution_count": 56,
   "metadata": {},
   "outputs": [
    {
     "data": {
      "text/html": [
       "<div>\n",
       "<style scoped>\n",
       "    .dataframe tbody tr th:only-of-type {\n",
       "        vertical-align: middle;\n",
       "    }\n",
       "\n",
       "    .dataframe tbody tr th {\n",
       "        vertical-align: top;\n",
       "    }\n",
       "\n",
       "    .dataframe thead th {\n",
       "        text-align: right;\n",
       "    }\n",
       "</style>\n",
       "<table border=\"1\" class=\"dataframe\">\n",
       "  <thead>\n",
       "    <tr style=\"text-align: right;\">\n",
       "      <th></th>\n",
       "      <th>B</th>\n",
       "      <th>C</th>\n",
       "    </tr>\n",
       "  </thead>\n",
       "  <tbody>\n",
       "    <tr>\n",
       "      <th>2013-01-01</th>\n",
       "      <td>1</td>\n",
       "      <td>-1.553779</td>\n",
       "    </tr>\n",
       "    <tr>\n",
       "      <th>2013-01-02</th>\n",
       "      <td>3</td>\n",
       "      <td>2.588120</td>\n",
       "    </tr>\n",
       "    <tr>\n",
       "      <th>2013-01-03</th>\n",
       "      <td>2</td>\n",
       "      <td>0.161931</td>\n",
       "    </tr>\n",
       "    <tr>\n",
       "      <th>2013-01-04</th>\n",
       "      <td>1</td>\n",
       "      <td>1.101208</td>\n",
       "    </tr>\n",
       "    <tr>\n",
       "      <th>2013-01-05</th>\n",
       "      <td>2</td>\n",
       "      <td>0.124083</td>\n",
       "    </tr>\n",
       "    <tr>\n",
       "      <th>2013-01-06</th>\n",
       "      <td>3</td>\n",
       "      <td>-0.763672</td>\n",
       "    </tr>\n",
       "  </tbody>\n",
       "</table>\n",
       "</div>"
      ],
      "text/plain": [
       "            B         C\n",
       "2013-01-01  1 -1.553779\n",
       "2013-01-02  3  2.588120\n",
       "2013-01-03  2  0.161931\n",
       "2013-01-04  1  1.101208\n",
       "2013-01-05  2  0.124083\n",
       "2013-01-06  3 -0.763672"
      ]
     },
     "execution_count": 56,
     "metadata": {},
     "output_type": "execute_result"
    }
   ],
   "source": [
    "df.iloc[:,1:3]"
   ]
  },
  {
   "cell_type": "markdown",
   "metadata": {},
   "source": [
    "For getting a value explicitly"
   ]
  },
  {
   "cell_type": "code",
   "execution_count": 57,
   "metadata": {},
   "outputs": [
    {
     "data": {
      "text/plain": [
       "3"
      ]
     },
     "execution_count": 57,
     "metadata": {},
     "output_type": "execute_result"
    }
   ],
   "source": [
    "df.iloc[1,1]"
   ]
  },
  {
   "cell_type": "markdown",
   "metadata": {},
   "source": [
    "For getting fast access to a scalar (equiv to the prior method)"
   ]
  },
  {
   "cell_type": "code",
   "execution_count": 58,
   "metadata": {},
   "outputs": [
    {
     "data": {
      "text/plain": [
       "3"
      ]
     },
     "execution_count": 58,
     "metadata": {},
     "output_type": "execute_result"
    }
   ],
   "source": [
    "df.iat[1,1]"
   ]
  },
  {
   "cell_type": "markdown",
   "metadata": {},
   "source": [
    "## Boolean Indexing"
   ]
  },
  {
   "cell_type": "markdown",
   "metadata": {},
   "source": [
    "Using a single column’s values to select data."
   ]
  },
  {
   "cell_type": "code",
   "execution_count": 59,
   "metadata": {
    "scrolled": true
   },
   "outputs": [
    {
     "data": {
      "text/html": [
       "<div>\n",
       "<style scoped>\n",
       "    .dataframe tbody tr th:only-of-type {\n",
       "        vertical-align: middle;\n",
       "    }\n",
       "\n",
       "    .dataframe tbody tr th {\n",
       "        vertical-align: top;\n",
       "    }\n",
       "\n",
       "    .dataframe thead th {\n",
       "        text-align: right;\n",
       "    }\n",
       "</style>\n",
       "<table border=\"1\" class=\"dataframe\">\n",
       "  <thead>\n",
       "    <tr style=\"text-align: right;\">\n",
       "      <th></th>\n",
       "      <th>A</th>\n",
       "      <th>B</th>\n",
       "      <th>C</th>\n",
       "      <th>D</th>\n",
       "    </tr>\n",
       "  </thead>\n",
       "  <tbody>\n",
       "    <tr>\n",
       "      <th>2013-01-01</th>\n",
       "      <td>0.907936</td>\n",
       "      <td>1</td>\n",
       "      <td>-1.553779</td>\n",
       "      <td>0.609142</td>\n",
       "    </tr>\n",
       "    <tr>\n",
       "      <th>2013-01-02</th>\n",
       "      <td>0.651237</td>\n",
       "      <td>3</td>\n",
       "      <td>2.588120</td>\n",
       "      <td>-0.847819</td>\n",
       "    </tr>\n",
       "    <tr>\n",
       "      <th>2013-01-04</th>\n",
       "      <td>0.403663</td>\n",
       "      <td>1</td>\n",
       "      <td>1.101208</td>\n",
       "      <td>0.930783</td>\n",
       "    </tr>\n",
       "    <tr>\n",
       "      <th>2013-01-06</th>\n",
       "      <td>1.284132</td>\n",
       "      <td>3</td>\n",
       "      <td>-0.763672</td>\n",
       "      <td>0.488156</td>\n",
       "    </tr>\n",
       "  </tbody>\n",
       "</table>\n",
       "</div>"
      ],
      "text/plain": [
       "                   A  B         C         D\n",
       "2013-01-01  0.907936  1 -1.553779  0.609142\n",
       "2013-01-02  0.651237  3  2.588120 -0.847819\n",
       "2013-01-04  0.403663  1  1.101208  0.930783\n",
       "2013-01-06  1.284132  3 -0.763672  0.488156"
      ]
     },
     "execution_count": 59,
     "metadata": {},
     "output_type": "execute_result"
    }
   ],
   "source": [
    "df[df.A > 0] #select rows where column A's value is greater than 0."
   ]
  },
  {
   "cell_type": "markdown",
   "metadata": {},
   "source": [
    "A where operation for getting."
   ]
  },
  {
   "cell_type": "code",
   "execution_count": 60,
   "metadata": {},
   "outputs": [
    {
     "data": {
      "text/html": [
       "<div>\n",
       "<style scoped>\n",
       "    .dataframe tbody tr th:only-of-type {\n",
       "        vertical-align: middle;\n",
       "    }\n",
       "\n",
       "    .dataframe tbody tr th {\n",
       "        vertical-align: top;\n",
       "    }\n",
       "\n",
       "    .dataframe thead th {\n",
       "        text-align: right;\n",
       "    }\n",
       "</style>\n",
       "<table border=\"1\" class=\"dataframe\">\n",
       "  <thead>\n",
       "    <tr style=\"text-align: right;\">\n",
       "      <th></th>\n",
       "      <th>A</th>\n",
       "      <th>B</th>\n",
       "      <th>C</th>\n",
       "      <th>D</th>\n",
       "    </tr>\n",
       "  </thead>\n",
       "  <tbody>\n",
       "    <tr>\n",
       "      <th>2013-01-01</th>\n",
       "      <td>0.907936</td>\n",
       "      <td>1</td>\n",
       "      <td>NaN</td>\n",
       "      <td>0.609142</td>\n",
       "    </tr>\n",
       "    <tr>\n",
       "      <th>2013-01-02</th>\n",
       "      <td>0.651237</td>\n",
       "      <td>3</td>\n",
       "      <td>2.588120</td>\n",
       "      <td>NaN</td>\n",
       "    </tr>\n",
       "    <tr>\n",
       "      <th>2013-01-03</th>\n",
       "      <td>NaN</td>\n",
       "      <td>2</td>\n",
       "      <td>0.161931</td>\n",
       "      <td>NaN</td>\n",
       "    </tr>\n",
       "    <tr>\n",
       "      <th>2013-01-04</th>\n",
       "      <td>0.403663</td>\n",
       "      <td>1</td>\n",
       "      <td>1.101208</td>\n",
       "      <td>0.930783</td>\n",
       "    </tr>\n",
       "    <tr>\n",
       "      <th>2013-01-05</th>\n",
       "      <td>NaN</td>\n",
       "      <td>2</td>\n",
       "      <td>0.124083</td>\n",
       "      <td>NaN</td>\n",
       "    </tr>\n",
       "    <tr>\n",
       "      <th>2013-01-06</th>\n",
       "      <td>1.284132</td>\n",
       "      <td>3</td>\n",
       "      <td>NaN</td>\n",
       "      <td>0.488156</td>\n",
       "    </tr>\n",
       "  </tbody>\n",
       "</table>\n",
       "</div>"
      ],
      "text/plain": [
       "                   A  B         C         D\n",
       "2013-01-01  0.907936  1       NaN  0.609142\n",
       "2013-01-02  0.651237  3  2.588120       NaN\n",
       "2013-01-03       NaN  2  0.161931       NaN\n",
       "2013-01-04  0.403663  1  1.101208  0.930783\n",
       "2013-01-05       NaN  2  0.124083       NaN\n",
       "2013-01-06  1.284132  3       NaN  0.488156"
      ]
     },
     "execution_count": 60,
     "metadata": {},
     "output_type": "execute_result"
    }
   ],
   "source": [
    "df[df > 0] #select values that are greater than 0, if smaller or equal to 0, then the value becomes NaN (not a number or missing)"
   ]
  },
  {
   "cell_type": "markdown",
   "metadata": {},
   "source": [
    "Using the isin() method for filtering:"
   ]
  },
  {
   "cell_type": "code",
   "execution_count": 61,
   "metadata": {
    "scrolled": true
   },
   "outputs": [],
   "source": [
    "df2 = df.copy()"
   ]
  },
  {
   "cell_type": "code",
   "execution_count": 62,
   "metadata": {},
   "outputs": [],
   "source": [
    "df2['E'] = ['one','one', 'two','three','four','three']"
   ]
  },
  {
   "cell_type": "code",
   "execution_count": 63,
   "metadata": {},
   "outputs": [
    {
     "data": {
      "text/html": [
       "<div>\n",
       "<style scoped>\n",
       "    .dataframe tbody tr th:only-of-type {\n",
       "        vertical-align: middle;\n",
       "    }\n",
       "\n",
       "    .dataframe tbody tr th {\n",
       "        vertical-align: top;\n",
       "    }\n",
       "\n",
       "    .dataframe thead th {\n",
       "        text-align: right;\n",
       "    }\n",
       "</style>\n",
       "<table border=\"1\" class=\"dataframe\">\n",
       "  <thead>\n",
       "    <tr style=\"text-align: right;\">\n",
       "      <th></th>\n",
       "      <th>A</th>\n",
       "      <th>B</th>\n",
       "      <th>C</th>\n",
       "      <th>D</th>\n",
       "      <th>E</th>\n",
       "    </tr>\n",
       "  </thead>\n",
       "  <tbody>\n",
       "    <tr>\n",
       "      <th>2013-01-01</th>\n",
       "      <td>0.907936</td>\n",
       "      <td>1</td>\n",
       "      <td>-1.553779</td>\n",
       "      <td>0.609142</td>\n",
       "      <td>one</td>\n",
       "    </tr>\n",
       "    <tr>\n",
       "      <th>2013-01-02</th>\n",
       "      <td>0.651237</td>\n",
       "      <td>3</td>\n",
       "      <td>2.588120</td>\n",
       "      <td>-0.847819</td>\n",
       "      <td>one</td>\n",
       "    </tr>\n",
       "    <tr>\n",
       "      <th>2013-01-03</th>\n",
       "      <td>-0.276695</td>\n",
       "      <td>2</td>\n",
       "      <td>0.161931</td>\n",
       "      <td>-0.238471</td>\n",
       "      <td>two</td>\n",
       "    </tr>\n",
       "    <tr>\n",
       "      <th>2013-01-04</th>\n",
       "      <td>0.403663</td>\n",
       "      <td>1</td>\n",
       "      <td>1.101208</td>\n",
       "      <td>0.930783</td>\n",
       "      <td>three</td>\n",
       "    </tr>\n",
       "    <tr>\n",
       "      <th>2013-01-05</th>\n",
       "      <td>-0.162495</td>\n",
       "      <td>2</td>\n",
       "      <td>0.124083</td>\n",
       "      <td>-1.728504</td>\n",
       "      <td>four</td>\n",
       "    </tr>\n",
       "    <tr>\n",
       "      <th>2013-01-06</th>\n",
       "      <td>1.284132</td>\n",
       "      <td>3</td>\n",
       "      <td>-0.763672</td>\n",
       "      <td>0.488156</td>\n",
       "      <td>three</td>\n",
       "    </tr>\n",
       "  </tbody>\n",
       "</table>\n",
       "</div>"
      ],
      "text/plain": [
       "                   A  B         C         D      E\n",
       "2013-01-01  0.907936  1 -1.553779  0.609142    one\n",
       "2013-01-02  0.651237  3  2.588120 -0.847819    one\n",
       "2013-01-03 -0.276695  2  0.161931 -0.238471    two\n",
       "2013-01-04  0.403663  1  1.101208  0.930783  three\n",
       "2013-01-05 -0.162495  2  0.124083 -1.728504   four\n",
       "2013-01-06  1.284132  3 -0.763672  0.488156  three"
      ]
     },
     "execution_count": 63,
     "metadata": {},
     "output_type": "execute_result"
    }
   ],
   "source": [
    "df2"
   ]
  },
  {
   "cell_type": "code",
   "execution_count": 64,
   "metadata": {},
   "outputs": [
    {
     "data": {
      "text/html": [
       "<div>\n",
       "<style scoped>\n",
       "    .dataframe tbody tr th:only-of-type {\n",
       "        vertical-align: middle;\n",
       "    }\n",
       "\n",
       "    .dataframe tbody tr th {\n",
       "        vertical-align: top;\n",
       "    }\n",
       "\n",
       "    .dataframe thead th {\n",
       "        text-align: right;\n",
       "    }\n",
       "</style>\n",
       "<table border=\"1\" class=\"dataframe\">\n",
       "  <thead>\n",
       "    <tr style=\"text-align: right;\">\n",
       "      <th></th>\n",
       "      <th>A</th>\n",
       "      <th>B</th>\n",
       "      <th>C</th>\n",
       "      <th>D</th>\n",
       "      <th>E</th>\n",
       "    </tr>\n",
       "  </thead>\n",
       "  <tbody>\n",
       "    <tr>\n",
       "      <th>2013-01-03</th>\n",
       "      <td>-0.276695</td>\n",
       "      <td>2</td>\n",
       "      <td>0.161931</td>\n",
       "      <td>-0.238471</td>\n",
       "      <td>two</td>\n",
       "    </tr>\n",
       "    <tr>\n",
       "      <th>2013-01-05</th>\n",
       "      <td>-0.162495</td>\n",
       "      <td>2</td>\n",
       "      <td>0.124083</td>\n",
       "      <td>-1.728504</td>\n",
       "      <td>four</td>\n",
       "    </tr>\n",
       "  </tbody>\n",
       "</table>\n",
       "</div>"
      ],
      "text/plain": [
       "                   A  B         C         D     E\n",
       "2013-01-03 -0.276695  2  0.161931 -0.238471   two\n",
       "2013-01-05 -0.162495  2  0.124083 -1.728504  four"
      ]
     },
     "execution_count": 64,
     "metadata": {},
     "output_type": "execute_result"
    }
   ],
   "source": [
    "df2[df2['E'].isin(['two','four'])]"
   ]
  },
  {
   "cell_type": "markdown",
   "metadata": {},
   "source": [
    "## Setting"
   ]
  },
  {
   "cell_type": "markdown",
   "metadata": {},
   "source": [
    "Setting a new column automatically aligns the data by the indexes"
   ]
  },
  {
   "cell_type": "code",
   "execution_count": 65,
   "metadata": {},
   "outputs": [],
   "source": [
    "s1 = pd.Series([1,2,3,4,5,6], index=pd.date_range('20130102',periods=6))"
   ]
  },
  {
   "cell_type": "code",
   "execution_count": 66,
   "metadata": {},
   "outputs": [
    {
     "data": {
      "text/plain": [
       "2013-01-02    1\n",
       "2013-01-03    2\n",
       "2013-01-04    3\n",
       "2013-01-05    4\n",
       "2013-01-06    5\n",
       "2013-01-07    6\n",
       "Freq: D, dtype: int64"
      ]
     },
     "execution_count": 66,
     "metadata": {},
     "output_type": "execute_result"
    }
   ],
   "source": [
    "s1"
   ]
  },
  {
   "cell_type": "code",
   "execution_count": 67,
   "metadata": {},
   "outputs": [],
   "source": [
    "df['F'] = s1 #Assign s1 to the F column of df"
   ]
  },
  {
   "cell_type": "code",
   "execution_count": 68,
   "metadata": {},
   "outputs": [
    {
     "data": {
      "text/html": [
       "<div>\n",
       "<style scoped>\n",
       "    .dataframe tbody tr th:only-of-type {\n",
       "        vertical-align: middle;\n",
       "    }\n",
       "\n",
       "    .dataframe tbody tr th {\n",
       "        vertical-align: top;\n",
       "    }\n",
       "\n",
       "    .dataframe thead th {\n",
       "        text-align: right;\n",
       "    }\n",
       "</style>\n",
       "<table border=\"1\" class=\"dataframe\">\n",
       "  <thead>\n",
       "    <tr style=\"text-align: right;\">\n",
       "      <th></th>\n",
       "      <th>A</th>\n",
       "      <th>B</th>\n",
       "      <th>C</th>\n",
       "      <th>D</th>\n",
       "      <th>F</th>\n",
       "    </tr>\n",
       "  </thead>\n",
       "  <tbody>\n",
       "    <tr>\n",
       "      <th>2013-01-01</th>\n",
       "      <td>0.907936</td>\n",
       "      <td>1</td>\n",
       "      <td>-1.553779</td>\n",
       "      <td>0.609142</td>\n",
       "      <td>NaN</td>\n",
       "    </tr>\n",
       "    <tr>\n",
       "      <th>2013-01-02</th>\n",
       "      <td>0.651237</td>\n",
       "      <td>3</td>\n",
       "      <td>2.588120</td>\n",
       "      <td>-0.847819</td>\n",
       "      <td>1.0</td>\n",
       "    </tr>\n",
       "    <tr>\n",
       "      <th>2013-01-03</th>\n",
       "      <td>-0.276695</td>\n",
       "      <td>2</td>\n",
       "      <td>0.161931</td>\n",
       "      <td>-0.238471</td>\n",
       "      <td>2.0</td>\n",
       "    </tr>\n",
       "    <tr>\n",
       "      <th>2013-01-04</th>\n",
       "      <td>0.403663</td>\n",
       "      <td>1</td>\n",
       "      <td>1.101208</td>\n",
       "      <td>0.930783</td>\n",
       "      <td>3.0</td>\n",
       "    </tr>\n",
       "    <tr>\n",
       "      <th>2013-01-05</th>\n",
       "      <td>-0.162495</td>\n",
       "      <td>2</td>\n",
       "      <td>0.124083</td>\n",
       "      <td>-1.728504</td>\n",
       "      <td>4.0</td>\n",
       "    </tr>\n",
       "    <tr>\n",
       "      <th>2013-01-06</th>\n",
       "      <td>1.284132</td>\n",
       "      <td>3</td>\n",
       "      <td>-0.763672</td>\n",
       "      <td>0.488156</td>\n",
       "      <td>5.0</td>\n",
       "    </tr>\n",
       "  </tbody>\n",
       "</table>\n",
       "</div>"
      ],
      "text/plain": [
       "                   A  B         C         D    F\n",
       "2013-01-01  0.907936  1 -1.553779  0.609142  NaN\n",
       "2013-01-02  0.651237  3  2.588120 -0.847819  1.0\n",
       "2013-01-03 -0.276695  2  0.161931 -0.238471  2.0\n",
       "2013-01-04  0.403663  1  1.101208  0.930783  3.0\n",
       "2013-01-05 -0.162495  2  0.124083 -1.728504  4.0\n",
       "2013-01-06  1.284132  3 -0.763672  0.488156  5.0"
      ]
     },
     "execution_count": 68,
     "metadata": {},
     "output_type": "execute_result"
    }
   ],
   "source": [
    "df"
   ]
  },
  {
   "cell_type": "markdown",
   "metadata": {},
   "source": [
    "Setting values by label"
   ]
  },
  {
   "cell_type": "code",
   "execution_count": 69,
   "metadata": {},
   "outputs": [],
   "source": [
    "df.at[dates[0],'A'] = 0"
   ]
  },
  {
   "cell_type": "markdown",
   "metadata": {},
   "source": [
    "Setting values by position"
   ]
  },
  {
   "cell_type": "code",
   "execution_count": 70,
   "metadata": {},
   "outputs": [],
   "source": [
    "df.iat[0,1] = 0"
   ]
  },
  {
   "cell_type": "code",
   "execution_count": 71,
   "metadata": {},
   "outputs": [
    {
     "data": {
      "text/html": [
       "<div>\n",
       "<style scoped>\n",
       "    .dataframe tbody tr th:only-of-type {\n",
       "        vertical-align: middle;\n",
       "    }\n",
       "\n",
       "    .dataframe tbody tr th {\n",
       "        vertical-align: top;\n",
       "    }\n",
       "\n",
       "    .dataframe thead th {\n",
       "        text-align: right;\n",
       "    }\n",
       "</style>\n",
       "<table border=\"1\" class=\"dataframe\">\n",
       "  <thead>\n",
       "    <tr style=\"text-align: right;\">\n",
       "      <th></th>\n",
       "      <th>A</th>\n",
       "      <th>B</th>\n",
       "      <th>C</th>\n",
       "      <th>D</th>\n",
       "      <th>F</th>\n",
       "    </tr>\n",
       "  </thead>\n",
       "  <tbody>\n",
       "    <tr>\n",
       "      <th>2013-01-01</th>\n",
       "      <td>0.000000</td>\n",
       "      <td>0</td>\n",
       "      <td>-1.553779</td>\n",
       "      <td>0.609142</td>\n",
       "      <td>NaN</td>\n",
       "    </tr>\n",
       "    <tr>\n",
       "      <th>2013-01-02</th>\n",
       "      <td>0.651237</td>\n",
       "      <td>3</td>\n",
       "      <td>2.588120</td>\n",
       "      <td>-0.847819</td>\n",
       "      <td>1.0</td>\n",
       "    </tr>\n",
       "    <tr>\n",
       "      <th>2013-01-03</th>\n",
       "      <td>-0.276695</td>\n",
       "      <td>2</td>\n",
       "      <td>0.161931</td>\n",
       "      <td>-0.238471</td>\n",
       "      <td>2.0</td>\n",
       "    </tr>\n",
       "    <tr>\n",
       "      <th>2013-01-04</th>\n",
       "      <td>0.403663</td>\n",
       "      <td>1</td>\n",
       "      <td>1.101208</td>\n",
       "      <td>0.930783</td>\n",
       "      <td>3.0</td>\n",
       "    </tr>\n",
       "    <tr>\n",
       "      <th>2013-01-05</th>\n",
       "      <td>-0.162495</td>\n",
       "      <td>2</td>\n",
       "      <td>0.124083</td>\n",
       "      <td>-1.728504</td>\n",
       "      <td>4.0</td>\n",
       "    </tr>\n",
       "    <tr>\n",
       "      <th>2013-01-06</th>\n",
       "      <td>1.284132</td>\n",
       "      <td>3</td>\n",
       "      <td>-0.763672</td>\n",
       "      <td>0.488156</td>\n",
       "      <td>5.0</td>\n",
       "    </tr>\n",
       "  </tbody>\n",
       "</table>\n",
       "</div>"
      ],
      "text/plain": [
       "                   A  B         C         D    F\n",
       "2013-01-01  0.000000  0 -1.553779  0.609142  NaN\n",
       "2013-01-02  0.651237  3  2.588120 -0.847819  1.0\n",
       "2013-01-03 -0.276695  2  0.161931 -0.238471  2.0\n",
       "2013-01-04  0.403663  1  1.101208  0.930783  3.0\n",
       "2013-01-05 -0.162495  2  0.124083 -1.728504  4.0\n",
       "2013-01-06  1.284132  3 -0.763672  0.488156  5.0"
      ]
     },
     "execution_count": 71,
     "metadata": {},
     "output_type": "execute_result"
    }
   ],
   "source": [
    "df"
   ]
  },
  {
   "cell_type": "markdown",
   "metadata": {},
   "source": [
    "Setting by assigning with a numpy array"
   ]
  },
  {
   "cell_type": "code",
   "execution_count": 72,
   "metadata": {},
   "outputs": [],
   "source": [
    "df.loc[:,'D'] = np.array([5] * len(df))"
   ]
  },
  {
   "cell_type": "markdown",
   "metadata": {},
   "source": [
    "The result of the prior setting operations"
   ]
  },
  {
   "cell_type": "code",
   "execution_count": 73,
   "metadata": {},
   "outputs": [
    {
     "data": {
      "text/html": [
       "<div>\n",
       "<style scoped>\n",
       "    .dataframe tbody tr th:only-of-type {\n",
       "        vertical-align: middle;\n",
       "    }\n",
       "\n",
       "    .dataframe tbody tr th {\n",
       "        vertical-align: top;\n",
       "    }\n",
       "\n",
       "    .dataframe thead th {\n",
       "        text-align: right;\n",
       "    }\n",
       "</style>\n",
       "<table border=\"1\" class=\"dataframe\">\n",
       "  <thead>\n",
       "    <tr style=\"text-align: right;\">\n",
       "      <th></th>\n",
       "      <th>A</th>\n",
       "      <th>B</th>\n",
       "      <th>C</th>\n",
       "      <th>D</th>\n",
       "      <th>F</th>\n",
       "    </tr>\n",
       "  </thead>\n",
       "  <tbody>\n",
       "    <tr>\n",
       "      <th>2013-01-01</th>\n",
       "      <td>0.000000</td>\n",
       "      <td>0</td>\n",
       "      <td>-1.553779</td>\n",
       "      <td>5</td>\n",
       "      <td>NaN</td>\n",
       "    </tr>\n",
       "    <tr>\n",
       "      <th>2013-01-02</th>\n",
       "      <td>0.651237</td>\n",
       "      <td>3</td>\n",
       "      <td>2.588120</td>\n",
       "      <td>5</td>\n",
       "      <td>1.0</td>\n",
       "    </tr>\n",
       "    <tr>\n",
       "      <th>2013-01-03</th>\n",
       "      <td>-0.276695</td>\n",
       "      <td>2</td>\n",
       "      <td>0.161931</td>\n",
       "      <td>5</td>\n",
       "      <td>2.0</td>\n",
       "    </tr>\n",
       "    <tr>\n",
       "      <th>2013-01-04</th>\n",
       "      <td>0.403663</td>\n",
       "      <td>1</td>\n",
       "      <td>1.101208</td>\n",
       "      <td>5</td>\n",
       "      <td>3.0</td>\n",
       "    </tr>\n",
       "    <tr>\n",
       "      <th>2013-01-05</th>\n",
       "      <td>-0.162495</td>\n",
       "      <td>2</td>\n",
       "      <td>0.124083</td>\n",
       "      <td>5</td>\n",
       "      <td>4.0</td>\n",
       "    </tr>\n",
       "    <tr>\n",
       "      <th>2013-01-06</th>\n",
       "      <td>1.284132</td>\n",
       "      <td>3</td>\n",
       "      <td>-0.763672</td>\n",
       "      <td>5</td>\n",
       "      <td>5.0</td>\n",
       "    </tr>\n",
       "  </tbody>\n",
       "</table>\n",
       "</div>"
      ],
      "text/plain": [
       "                   A  B         C  D    F\n",
       "2013-01-01  0.000000  0 -1.553779  5  NaN\n",
       "2013-01-02  0.651237  3  2.588120  5  1.0\n",
       "2013-01-03 -0.276695  2  0.161931  5  2.0\n",
       "2013-01-04  0.403663  1  1.101208  5  3.0\n",
       "2013-01-05 -0.162495  2  0.124083  5  4.0\n",
       "2013-01-06  1.284132  3 -0.763672  5  5.0"
      ]
     },
     "execution_count": 73,
     "metadata": {},
     "output_type": "execute_result"
    }
   ],
   "source": [
    "df"
   ]
  },
  {
   "cell_type": "markdown",
   "metadata": {},
   "source": [
    "**A where operation with setting.**"
   ]
  },
  {
   "cell_type": "code",
   "execution_count": 74,
   "metadata": {},
   "outputs": [],
   "source": [
    "df2 = df.copy() #make a copy of df"
   ]
  },
  {
   "cell_type": "code",
   "execution_count": 75,
   "metadata": {},
   "outputs": [],
   "source": [
    "df2[df2 > 0] = -df2 #change the sign of positive values of df to negative, where the vale is greater than 0."
   ]
  },
  {
   "cell_type": "code",
   "execution_count": 76,
   "metadata": {},
   "outputs": [
    {
     "data": {
      "text/html": [
       "<div>\n",
       "<style scoped>\n",
       "    .dataframe tbody tr th:only-of-type {\n",
       "        vertical-align: middle;\n",
       "    }\n",
       "\n",
       "    .dataframe tbody tr th {\n",
       "        vertical-align: top;\n",
       "    }\n",
       "\n",
       "    .dataframe thead th {\n",
       "        text-align: right;\n",
       "    }\n",
       "</style>\n",
       "<table border=\"1\" class=\"dataframe\">\n",
       "  <thead>\n",
       "    <tr style=\"text-align: right;\">\n",
       "      <th></th>\n",
       "      <th>A</th>\n",
       "      <th>B</th>\n",
       "      <th>C</th>\n",
       "      <th>D</th>\n",
       "      <th>F</th>\n",
       "    </tr>\n",
       "  </thead>\n",
       "  <tbody>\n",
       "    <tr>\n",
       "      <th>2013-01-01</th>\n",
       "      <td>0.000000</td>\n",
       "      <td>0</td>\n",
       "      <td>-1.553779</td>\n",
       "      <td>-5</td>\n",
       "      <td>NaN</td>\n",
       "    </tr>\n",
       "    <tr>\n",
       "      <th>2013-01-02</th>\n",
       "      <td>-0.651237</td>\n",
       "      <td>-3</td>\n",
       "      <td>-2.588120</td>\n",
       "      <td>-5</td>\n",
       "      <td>-1.0</td>\n",
       "    </tr>\n",
       "    <tr>\n",
       "      <th>2013-01-03</th>\n",
       "      <td>-0.276695</td>\n",
       "      <td>-2</td>\n",
       "      <td>-0.161931</td>\n",
       "      <td>-5</td>\n",
       "      <td>-2.0</td>\n",
       "    </tr>\n",
       "    <tr>\n",
       "      <th>2013-01-04</th>\n",
       "      <td>-0.403663</td>\n",
       "      <td>-1</td>\n",
       "      <td>-1.101208</td>\n",
       "      <td>-5</td>\n",
       "      <td>-3.0</td>\n",
       "    </tr>\n",
       "    <tr>\n",
       "      <th>2013-01-05</th>\n",
       "      <td>-0.162495</td>\n",
       "      <td>-2</td>\n",
       "      <td>-0.124083</td>\n",
       "      <td>-5</td>\n",
       "      <td>-4.0</td>\n",
       "    </tr>\n",
       "    <tr>\n",
       "      <th>2013-01-06</th>\n",
       "      <td>-1.284132</td>\n",
       "      <td>-3</td>\n",
       "      <td>-0.763672</td>\n",
       "      <td>-5</td>\n",
       "      <td>-5.0</td>\n",
       "    </tr>\n",
       "  </tbody>\n",
       "</table>\n",
       "</div>"
      ],
      "text/plain": [
       "                   A  B         C  D    F\n",
       "2013-01-01  0.000000  0 -1.553779 -5  NaN\n",
       "2013-01-02 -0.651237 -3 -2.588120 -5 -1.0\n",
       "2013-01-03 -0.276695 -2 -0.161931 -5 -2.0\n",
       "2013-01-04 -0.403663 -1 -1.101208 -5 -3.0\n",
       "2013-01-05 -0.162495 -2 -0.124083 -5 -4.0\n",
       "2013-01-06 -1.284132 -3 -0.763672 -5 -5.0"
      ]
     },
     "execution_count": 76,
     "metadata": {},
     "output_type": "execute_result"
    }
   ],
   "source": [
    "df2"
   ]
  },
  {
   "cell_type": "markdown",
   "metadata": {},
   "source": [
    "## Missing Data\n",
    "\n",
    "pandas primarily uses the value np.nan to represent missing data. It is by default not included in computations. See the Missing Data section"
   ]
  },
  {
   "cell_type": "markdown",
   "metadata": {
    "collapsed": true
   },
   "source": [
    "Reindexing allows you to change/add/delete the index on a specified axis. This returns a copy of the data."
   ]
  },
  {
   "cell_type": "code",
   "execution_count": 77,
   "metadata": {},
   "outputs": [],
   "source": [
    "df1 = df.reindex(index=dates[0:4], columns=list(df.columns) + ['E'])"
   ]
  },
  {
   "cell_type": "code",
   "execution_count": 78,
   "metadata": {},
   "outputs": [],
   "source": [
    "df1.loc[dates[0]:dates[1],'E'] = 1"
   ]
  },
  {
   "cell_type": "code",
   "execution_count": 79,
   "metadata": {},
   "outputs": [
    {
     "data": {
      "text/html": [
       "<div>\n",
       "<style scoped>\n",
       "    .dataframe tbody tr th:only-of-type {\n",
       "        vertical-align: middle;\n",
       "    }\n",
       "\n",
       "    .dataframe tbody tr th {\n",
       "        vertical-align: top;\n",
       "    }\n",
       "\n",
       "    .dataframe thead th {\n",
       "        text-align: right;\n",
       "    }\n",
       "</style>\n",
       "<table border=\"1\" class=\"dataframe\">\n",
       "  <thead>\n",
       "    <tr style=\"text-align: right;\">\n",
       "      <th></th>\n",
       "      <th>A</th>\n",
       "      <th>B</th>\n",
       "      <th>C</th>\n",
       "      <th>D</th>\n",
       "      <th>F</th>\n",
       "      <th>E</th>\n",
       "    </tr>\n",
       "  </thead>\n",
       "  <tbody>\n",
       "    <tr>\n",
       "      <th>2013-01-01</th>\n",
       "      <td>0.000000</td>\n",
       "      <td>0</td>\n",
       "      <td>-1.553779</td>\n",
       "      <td>5</td>\n",
       "      <td>NaN</td>\n",
       "      <td>1.0</td>\n",
       "    </tr>\n",
       "    <tr>\n",
       "      <th>2013-01-02</th>\n",
       "      <td>0.651237</td>\n",
       "      <td>3</td>\n",
       "      <td>2.588120</td>\n",
       "      <td>5</td>\n",
       "      <td>1.0</td>\n",
       "      <td>1.0</td>\n",
       "    </tr>\n",
       "    <tr>\n",
       "      <th>2013-01-03</th>\n",
       "      <td>-0.276695</td>\n",
       "      <td>2</td>\n",
       "      <td>0.161931</td>\n",
       "      <td>5</td>\n",
       "      <td>2.0</td>\n",
       "      <td>NaN</td>\n",
       "    </tr>\n",
       "    <tr>\n",
       "      <th>2013-01-04</th>\n",
       "      <td>0.403663</td>\n",
       "      <td>1</td>\n",
       "      <td>1.101208</td>\n",
       "      <td>5</td>\n",
       "      <td>3.0</td>\n",
       "      <td>NaN</td>\n",
       "    </tr>\n",
       "  </tbody>\n",
       "</table>\n",
       "</div>"
      ],
      "text/plain": [
       "                   A  B         C  D    F    E\n",
       "2013-01-01  0.000000  0 -1.553779  5  NaN  1.0\n",
       "2013-01-02  0.651237  3  2.588120  5  1.0  1.0\n",
       "2013-01-03 -0.276695  2  0.161931  5  2.0  NaN\n",
       "2013-01-04  0.403663  1  1.101208  5  3.0  NaN"
      ]
     },
     "execution_count": 79,
     "metadata": {},
     "output_type": "execute_result"
    }
   ],
   "source": [
    "df1"
   ]
  },
  {
   "cell_type": "markdown",
   "metadata": {},
   "source": [
    "To drop any rows that have missing data."
   ]
  },
  {
   "cell_type": "code",
   "execution_count": 80,
   "metadata": {},
   "outputs": [
    {
     "data": {
      "text/html": [
       "<div>\n",
       "<style scoped>\n",
       "    .dataframe tbody tr th:only-of-type {\n",
       "        vertical-align: middle;\n",
       "    }\n",
       "\n",
       "    .dataframe tbody tr th {\n",
       "        vertical-align: top;\n",
       "    }\n",
       "\n",
       "    .dataframe thead th {\n",
       "        text-align: right;\n",
       "    }\n",
       "</style>\n",
       "<table border=\"1\" class=\"dataframe\">\n",
       "  <thead>\n",
       "    <tr style=\"text-align: right;\">\n",
       "      <th></th>\n",
       "      <th>A</th>\n",
       "      <th>B</th>\n",
       "      <th>C</th>\n",
       "      <th>D</th>\n",
       "      <th>F</th>\n",
       "      <th>E</th>\n",
       "    </tr>\n",
       "  </thead>\n",
       "  <tbody>\n",
       "    <tr>\n",
       "      <th>2013-01-02</th>\n",
       "      <td>0.651237</td>\n",
       "      <td>3</td>\n",
       "      <td>2.58812</td>\n",
       "      <td>5</td>\n",
       "      <td>1.0</td>\n",
       "      <td>1.0</td>\n",
       "    </tr>\n",
       "  </tbody>\n",
       "</table>\n",
       "</div>"
      ],
      "text/plain": [
       "                   A  B        C  D    F    E\n",
       "2013-01-02  0.651237  3  2.58812  5  1.0  1.0"
      ]
     },
     "execution_count": 80,
     "metadata": {},
     "output_type": "execute_result"
    }
   ],
   "source": [
    "df1.dropna(how='any')"
   ]
  },
  {
   "cell_type": "markdown",
   "metadata": {},
   "source": [
    "Filling missing data"
   ]
  },
  {
   "cell_type": "code",
   "execution_count": 81,
   "metadata": {},
   "outputs": [
    {
     "data": {
      "text/html": [
       "<div>\n",
       "<style scoped>\n",
       "    .dataframe tbody tr th:only-of-type {\n",
       "        vertical-align: middle;\n",
       "    }\n",
       "\n",
       "    .dataframe tbody tr th {\n",
       "        vertical-align: top;\n",
       "    }\n",
       "\n",
       "    .dataframe thead th {\n",
       "        text-align: right;\n",
       "    }\n",
       "</style>\n",
       "<table border=\"1\" class=\"dataframe\">\n",
       "  <thead>\n",
       "    <tr style=\"text-align: right;\">\n",
       "      <th></th>\n",
       "      <th>A</th>\n",
       "      <th>B</th>\n",
       "      <th>C</th>\n",
       "      <th>D</th>\n",
       "      <th>F</th>\n",
       "      <th>E</th>\n",
       "    </tr>\n",
       "  </thead>\n",
       "  <tbody>\n",
       "    <tr>\n",
       "      <th>2013-01-01</th>\n",
       "      <td>0.000000</td>\n",
       "      <td>0</td>\n",
       "      <td>-1.553779</td>\n",
       "      <td>5</td>\n",
       "      <td>5.0</td>\n",
       "      <td>1.0</td>\n",
       "    </tr>\n",
       "    <tr>\n",
       "      <th>2013-01-02</th>\n",
       "      <td>0.651237</td>\n",
       "      <td>3</td>\n",
       "      <td>2.588120</td>\n",
       "      <td>5</td>\n",
       "      <td>1.0</td>\n",
       "      <td>1.0</td>\n",
       "    </tr>\n",
       "    <tr>\n",
       "      <th>2013-01-03</th>\n",
       "      <td>-0.276695</td>\n",
       "      <td>2</td>\n",
       "      <td>0.161931</td>\n",
       "      <td>5</td>\n",
       "      <td>2.0</td>\n",
       "      <td>5.0</td>\n",
       "    </tr>\n",
       "    <tr>\n",
       "      <th>2013-01-04</th>\n",
       "      <td>0.403663</td>\n",
       "      <td>1</td>\n",
       "      <td>1.101208</td>\n",
       "      <td>5</td>\n",
       "      <td>3.0</td>\n",
       "      <td>5.0</td>\n",
       "    </tr>\n",
       "  </tbody>\n",
       "</table>\n",
       "</div>"
      ],
      "text/plain": [
       "                   A  B         C  D    F    E\n",
       "2013-01-01  0.000000  0 -1.553779  5  5.0  1.0\n",
       "2013-01-02  0.651237  3  2.588120  5  1.0  1.0\n",
       "2013-01-03 -0.276695  2  0.161931  5  2.0  5.0\n",
       "2013-01-04  0.403663  1  1.101208  5  3.0  5.0"
      ]
     },
     "execution_count": 81,
     "metadata": {},
     "output_type": "execute_result"
    }
   ],
   "source": [
    "df1.fillna(value=5)"
   ]
  },
  {
   "cell_type": "markdown",
   "metadata": {},
   "source": [
    "To get the boolean mask where values are nan"
   ]
  },
  {
   "cell_type": "code",
   "execution_count": 82,
   "metadata": {},
   "outputs": [
    {
     "data": {
      "text/html": [
       "<div>\n",
       "<style scoped>\n",
       "    .dataframe tbody tr th:only-of-type {\n",
       "        vertical-align: middle;\n",
       "    }\n",
       "\n",
       "    .dataframe tbody tr th {\n",
       "        vertical-align: top;\n",
       "    }\n",
       "\n",
       "    .dataframe thead th {\n",
       "        text-align: right;\n",
       "    }\n",
       "</style>\n",
       "<table border=\"1\" class=\"dataframe\">\n",
       "  <thead>\n",
       "    <tr style=\"text-align: right;\">\n",
       "      <th></th>\n",
       "      <th>A</th>\n",
       "      <th>B</th>\n",
       "      <th>C</th>\n",
       "      <th>D</th>\n",
       "      <th>F</th>\n",
       "      <th>E</th>\n",
       "    </tr>\n",
       "  </thead>\n",
       "  <tbody>\n",
       "    <tr>\n",
       "      <th>2013-01-01</th>\n",
       "      <td>False</td>\n",
       "      <td>False</td>\n",
       "      <td>False</td>\n",
       "      <td>False</td>\n",
       "      <td>True</td>\n",
       "      <td>False</td>\n",
       "    </tr>\n",
       "    <tr>\n",
       "      <th>2013-01-02</th>\n",
       "      <td>False</td>\n",
       "      <td>False</td>\n",
       "      <td>False</td>\n",
       "      <td>False</td>\n",
       "      <td>False</td>\n",
       "      <td>False</td>\n",
       "    </tr>\n",
       "    <tr>\n",
       "      <th>2013-01-03</th>\n",
       "      <td>False</td>\n",
       "      <td>False</td>\n",
       "      <td>False</td>\n",
       "      <td>False</td>\n",
       "      <td>False</td>\n",
       "      <td>True</td>\n",
       "    </tr>\n",
       "    <tr>\n",
       "      <th>2013-01-04</th>\n",
       "      <td>False</td>\n",
       "      <td>False</td>\n",
       "      <td>False</td>\n",
       "      <td>False</td>\n",
       "      <td>False</td>\n",
       "      <td>True</td>\n",
       "    </tr>\n",
       "  </tbody>\n",
       "</table>\n",
       "</div>"
      ],
      "text/plain": [
       "                A      B      C      D      F      E\n",
       "2013-01-01  False  False  False  False   True  False\n",
       "2013-01-02  False  False  False  False  False  False\n",
       "2013-01-03  False  False  False  False  False   True\n",
       "2013-01-04  False  False  False  False  False   True"
      ]
     },
     "execution_count": 82,
     "metadata": {},
     "output_type": "execute_result"
    }
   ],
   "source": [
    "pd.isnull(df1)"
   ]
  },
  {
   "cell_type": "markdown",
   "metadata": {},
   "source": [
    "## Operations\n",
    "\n",
    "See the [Basic section on Binary Ops](http://pandas.pydata.org/pandas-docs/stable/basics.html#basics-binop)"
   ]
  },
  {
   "cell_type": "markdown",
   "metadata": {},
   "source": [
    "### Stats\n",
    "\n",
    "Operations in general exclude missing data."
   ]
  },
  {
   "cell_type": "markdown",
   "metadata": {},
   "source": [
    "**Performing a descriptive statistic**"
   ]
  },
  {
   "cell_type": "code",
   "execution_count": 83,
   "metadata": {},
   "outputs": [
    {
     "data": {
      "text/plain": [
       "A    0.316640\n",
       "B    1.833333\n",
       "C    0.276315\n",
       "D    5.000000\n",
       "F    3.000000\n",
       "dtype: float64"
      ]
     },
     "execution_count": 83,
     "metadata": {},
     "output_type": "execute_result"
    }
   ],
   "source": [
    "df.mean() #by default, it returns the mean along columns"
   ]
  },
  {
   "cell_type": "markdown",
   "metadata": {},
   "source": [
    "Same operation on the other axis\n",
    "\n",
    "When you specify axis=1, it returns the mean along rows, by default axis=0 which refers to column."
   ]
  },
  {
   "cell_type": "code",
   "execution_count": 84,
   "metadata": {},
   "outputs": [
    {
     "data": {
      "text/plain": [
       "2013-01-01    0.861555\n",
       "2013-01-02    2.447871\n",
       "2013-01-03    1.777047\n",
       "2013-01-04    2.100974\n",
       "2013-01-05    2.192318\n",
       "2013-01-06    2.704092\n",
       "Freq: D, dtype: float64"
      ]
     },
     "execution_count": 84,
     "metadata": {},
     "output_type": "execute_result"
    }
   ],
   "source": [
    "df.mean(axis=1)"
   ]
  },
  {
   "cell_type": "markdown",
   "metadata": {},
   "source": [
    "Operating with objects that have different dimensionality and need alignment. In addition, pandas automatically broadcasts along the specified dimension."
   ]
  },
  {
   "cell_type": "code",
   "execution_count": 85,
   "metadata": {},
   "outputs": [],
   "source": [
    "s = pd.Series([1,3,5,np.nan,6,8], index=dates).shift(2) #shift the value down 2 rows."
   ]
  },
  {
   "cell_type": "code",
   "execution_count": 86,
   "metadata": {},
   "outputs": [
    {
     "data": {
      "text/plain": [
       "2013-01-01    NaN\n",
       "2013-01-02    NaN\n",
       "2013-01-03    1.0\n",
       "2013-01-04    3.0\n",
       "2013-01-05    5.0\n",
       "2013-01-06    NaN\n",
       "Freq: D, dtype: float64"
      ]
     },
     "execution_count": 86,
     "metadata": {},
     "output_type": "execute_result"
    }
   ],
   "source": [
    "s"
   ]
  },
  {
   "cell_type": "code",
   "execution_count": 87,
   "metadata": {},
   "outputs": [
    {
     "data": {
      "text/html": [
       "<div>\n",
       "<style scoped>\n",
       "    .dataframe tbody tr th:only-of-type {\n",
       "        vertical-align: middle;\n",
       "    }\n",
       "\n",
       "    .dataframe tbody tr th {\n",
       "        vertical-align: top;\n",
       "    }\n",
       "\n",
       "    .dataframe thead th {\n",
       "        text-align: right;\n",
       "    }\n",
       "</style>\n",
       "<table border=\"1\" class=\"dataframe\">\n",
       "  <thead>\n",
       "    <tr style=\"text-align: right;\">\n",
       "      <th></th>\n",
       "      <th>A</th>\n",
       "      <th>B</th>\n",
       "      <th>C</th>\n",
       "      <th>D</th>\n",
       "      <th>F</th>\n",
       "    </tr>\n",
       "  </thead>\n",
       "  <tbody>\n",
       "    <tr>\n",
       "      <th>2013-01-01</th>\n",
       "      <td>NaN</td>\n",
       "      <td>NaN</td>\n",
       "      <td>NaN</td>\n",
       "      <td>NaN</td>\n",
       "      <td>NaN</td>\n",
       "    </tr>\n",
       "    <tr>\n",
       "      <th>2013-01-02</th>\n",
       "      <td>NaN</td>\n",
       "      <td>NaN</td>\n",
       "      <td>NaN</td>\n",
       "      <td>NaN</td>\n",
       "      <td>NaN</td>\n",
       "    </tr>\n",
       "    <tr>\n",
       "      <th>2013-01-03</th>\n",
       "      <td>-1.276695</td>\n",
       "      <td>1.0</td>\n",
       "      <td>-0.838069</td>\n",
       "      <td>4.0</td>\n",
       "      <td>1.0</td>\n",
       "    </tr>\n",
       "    <tr>\n",
       "      <th>2013-01-04</th>\n",
       "      <td>-2.596337</td>\n",
       "      <td>-2.0</td>\n",
       "      <td>-1.898792</td>\n",
       "      <td>2.0</td>\n",
       "      <td>0.0</td>\n",
       "    </tr>\n",
       "    <tr>\n",
       "      <th>2013-01-05</th>\n",
       "      <td>-5.162495</td>\n",
       "      <td>-3.0</td>\n",
       "      <td>-4.875917</td>\n",
       "      <td>0.0</td>\n",
       "      <td>-1.0</td>\n",
       "    </tr>\n",
       "    <tr>\n",
       "      <th>2013-01-06</th>\n",
       "      <td>NaN</td>\n",
       "      <td>NaN</td>\n",
       "      <td>NaN</td>\n",
       "      <td>NaN</td>\n",
       "      <td>NaN</td>\n",
       "    </tr>\n",
       "  </tbody>\n",
       "</table>\n",
       "</div>"
      ],
      "text/plain": [
       "                   A    B         C    D    F\n",
       "2013-01-01       NaN  NaN       NaN  NaN  NaN\n",
       "2013-01-02       NaN  NaN       NaN  NaN  NaN\n",
       "2013-01-03 -1.276695  1.0 -0.838069  4.0  1.0\n",
       "2013-01-04 -2.596337 -2.0 -1.898792  2.0  0.0\n",
       "2013-01-05 -5.162495 -3.0 -4.875917  0.0 -1.0\n",
       "2013-01-06       NaN  NaN       NaN  NaN  NaN"
      ]
     },
     "execution_count": 87,
     "metadata": {},
     "output_type": "execute_result"
    }
   ],
   "source": [
    "df.sub(s, axis='index')"
   ]
  },
  {
   "cell_type": "markdown",
   "metadata": {},
   "source": [
    "### Apply"
   ]
  },
  {
   "cell_type": "markdown",
   "metadata": {},
   "source": [
    "Applying functions to the data"
   ]
  },
  {
   "cell_type": "code",
   "execution_count": 88,
   "metadata": {},
   "outputs": [
    {
     "data": {
      "text/html": [
       "<div>\n",
       "<style scoped>\n",
       "    .dataframe tbody tr th:only-of-type {\n",
       "        vertical-align: middle;\n",
       "    }\n",
       "\n",
       "    .dataframe tbody tr th {\n",
       "        vertical-align: top;\n",
       "    }\n",
       "\n",
       "    .dataframe thead th {\n",
       "        text-align: right;\n",
       "    }\n",
       "</style>\n",
       "<table border=\"1\" class=\"dataframe\">\n",
       "  <thead>\n",
       "    <tr style=\"text-align: right;\">\n",
       "      <th></th>\n",
       "      <th>A</th>\n",
       "      <th>B</th>\n",
       "      <th>C</th>\n",
       "      <th>D</th>\n",
       "      <th>F</th>\n",
       "    </tr>\n",
       "  </thead>\n",
       "  <tbody>\n",
       "    <tr>\n",
       "      <th>2013-01-01</th>\n",
       "      <td>0.000000</td>\n",
       "      <td>0</td>\n",
       "      <td>-1.553779</td>\n",
       "      <td>5</td>\n",
       "      <td>NaN</td>\n",
       "    </tr>\n",
       "    <tr>\n",
       "      <th>2013-01-02</th>\n",
       "      <td>0.651237</td>\n",
       "      <td>3</td>\n",
       "      <td>2.588120</td>\n",
       "      <td>5</td>\n",
       "      <td>1.0</td>\n",
       "    </tr>\n",
       "    <tr>\n",
       "      <th>2013-01-03</th>\n",
       "      <td>-0.276695</td>\n",
       "      <td>2</td>\n",
       "      <td>0.161931</td>\n",
       "      <td>5</td>\n",
       "      <td>2.0</td>\n",
       "    </tr>\n",
       "    <tr>\n",
       "      <th>2013-01-04</th>\n",
       "      <td>0.403663</td>\n",
       "      <td>1</td>\n",
       "      <td>1.101208</td>\n",
       "      <td>5</td>\n",
       "      <td>3.0</td>\n",
       "    </tr>\n",
       "    <tr>\n",
       "      <th>2013-01-05</th>\n",
       "      <td>-0.162495</td>\n",
       "      <td>2</td>\n",
       "      <td>0.124083</td>\n",
       "      <td>5</td>\n",
       "      <td>4.0</td>\n",
       "    </tr>\n",
       "    <tr>\n",
       "      <th>2013-01-06</th>\n",
       "      <td>1.284132</td>\n",
       "      <td>3</td>\n",
       "      <td>-0.763672</td>\n",
       "      <td>5</td>\n",
       "      <td>5.0</td>\n",
       "    </tr>\n",
       "  </tbody>\n",
       "</table>\n",
       "</div>"
      ],
      "text/plain": [
       "                   A  B         C  D    F\n",
       "2013-01-01  0.000000  0 -1.553779  5  NaN\n",
       "2013-01-02  0.651237  3  2.588120  5  1.0\n",
       "2013-01-03 -0.276695  2  0.161931  5  2.0\n",
       "2013-01-04  0.403663  1  1.101208  5  3.0\n",
       "2013-01-05 -0.162495  2  0.124083  5  4.0\n",
       "2013-01-06  1.284132  3 -0.763672  5  5.0"
      ]
     },
     "execution_count": 88,
     "metadata": {},
     "output_type": "execute_result"
    }
   ],
   "source": [
    "df"
   ]
  },
  {
   "cell_type": "code",
   "execution_count": 89,
   "metadata": {},
   "outputs": [
    {
     "data": {
      "text/html": [
       "<div>\n",
       "<style scoped>\n",
       "    .dataframe tbody tr th:only-of-type {\n",
       "        vertical-align: middle;\n",
       "    }\n",
       "\n",
       "    .dataframe tbody tr th {\n",
       "        vertical-align: top;\n",
       "    }\n",
       "\n",
       "    .dataframe thead th {\n",
       "        text-align: right;\n",
       "    }\n",
       "</style>\n",
       "<table border=\"1\" class=\"dataframe\">\n",
       "  <thead>\n",
       "    <tr style=\"text-align: right;\">\n",
       "      <th></th>\n",
       "      <th>A</th>\n",
       "      <th>B</th>\n",
       "      <th>C</th>\n",
       "      <th>D</th>\n",
       "      <th>F</th>\n",
       "    </tr>\n",
       "  </thead>\n",
       "  <tbody>\n",
       "    <tr>\n",
       "      <th>2013-01-01</th>\n",
       "      <td>0.000000</td>\n",
       "      <td>0</td>\n",
       "      <td>-1.553779</td>\n",
       "      <td>5</td>\n",
       "      <td>NaN</td>\n",
       "    </tr>\n",
       "    <tr>\n",
       "      <th>2013-01-02</th>\n",
       "      <td>0.651237</td>\n",
       "      <td>3</td>\n",
       "      <td>1.034341</td>\n",
       "      <td>10</td>\n",
       "      <td>1.0</td>\n",
       "    </tr>\n",
       "    <tr>\n",
       "      <th>2013-01-03</th>\n",
       "      <td>0.374542</td>\n",
       "      <td>5</td>\n",
       "      <td>1.196273</td>\n",
       "      <td>15</td>\n",
       "      <td>3.0</td>\n",
       "    </tr>\n",
       "    <tr>\n",
       "      <th>2013-01-04</th>\n",
       "      <td>0.778205</td>\n",
       "      <td>6</td>\n",
       "      <td>2.297480</td>\n",
       "      <td>20</td>\n",
       "      <td>6.0</td>\n",
       "    </tr>\n",
       "    <tr>\n",
       "      <th>2013-01-05</th>\n",
       "      <td>0.615709</td>\n",
       "      <td>8</td>\n",
       "      <td>2.421564</td>\n",
       "      <td>25</td>\n",
       "      <td>10.0</td>\n",
       "    </tr>\n",
       "    <tr>\n",
       "      <th>2013-01-06</th>\n",
       "      <td>1.899841</td>\n",
       "      <td>11</td>\n",
       "      <td>1.657892</td>\n",
       "      <td>30</td>\n",
       "      <td>15.0</td>\n",
       "    </tr>\n",
       "  </tbody>\n",
       "</table>\n",
       "</div>"
      ],
      "text/plain": [
       "                   A   B         C   D     F\n",
       "2013-01-01  0.000000   0 -1.553779   5   NaN\n",
       "2013-01-02  0.651237   3  1.034341  10   1.0\n",
       "2013-01-03  0.374542   5  1.196273  15   3.0\n",
       "2013-01-04  0.778205   6  2.297480  20   6.0\n",
       "2013-01-05  0.615709   8  2.421564  25  10.0\n",
       "2013-01-06  1.899841  11  1.657892  30  15.0"
      ]
     },
     "execution_count": 89,
     "metadata": {},
     "output_type": "execute_result"
    }
   ],
   "source": [
    "df.apply(np.cumsum) # apply cumulative sum or rolling sum to each column"
   ]
  },
  {
   "cell_type": "markdown",
   "metadata": {},
   "source": [
    "## Merge"
   ]
  },
  {
   "cell_type": "markdown",
   "metadata": {},
   "source": [
    "### Concat\n",
    "\n",
    "pandas provides various facilities for easily combining together Series, DataFrame, and Panel objects with various kinds of set logic for the indexes and relational algebra functionality in the case of join / merge-type operations.\n",
    "\n",
    "See the [Merging section](http://pandas.pydata.org/pandas-docs/stable/merging.html#merging)"
   ]
  },
  {
   "cell_type": "markdown",
   "metadata": {},
   "source": [
    "Concatenating pandas objects together with concat():"
   ]
  },
  {
   "cell_type": "code",
   "execution_count": 90,
   "metadata": {},
   "outputs": [],
   "source": [
    "df = pd.DataFrame(np.random.randn(10, 4),columns=list('ABCD'))"
   ]
  },
  {
   "cell_type": "code",
   "execution_count": 91,
   "metadata": {},
   "outputs": [
    {
     "data": {
      "text/html": [
       "<div>\n",
       "<style scoped>\n",
       "    .dataframe tbody tr th:only-of-type {\n",
       "        vertical-align: middle;\n",
       "    }\n",
       "\n",
       "    .dataframe tbody tr th {\n",
       "        vertical-align: top;\n",
       "    }\n",
       "\n",
       "    .dataframe thead th {\n",
       "        text-align: right;\n",
       "    }\n",
       "</style>\n",
       "<table border=\"1\" class=\"dataframe\">\n",
       "  <thead>\n",
       "    <tr style=\"text-align: right;\">\n",
       "      <th></th>\n",
       "      <th>A</th>\n",
       "      <th>B</th>\n",
       "      <th>C</th>\n",
       "      <th>D</th>\n",
       "    </tr>\n",
       "  </thead>\n",
       "  <tbody>\n",
       "    <tr>\n",
       "      <th>0</th>\n",
       "      <td>-1.032842</td>\n",
       "      <td>0.201775</td>\n",
       "      <td>1.326715</td>\n",
       "      <td>0.937090</td>\n",
       "    </tr>\n",
       "    <tr>\n",
       "      <th>1</th>\n",
       "      <td>-0.641428</td>\n",
       "      <td>-0.319292</td>\n",
       "      <td>-1.108816</td>\n",
       "      <td>-0.481084</td>\n",
       "    </tr>\n",
       "    <tr>\n",
       "      <th>2</th>\n",
       "      <td>-0.291400</td>\n",
       "      <td>-1.547896</td>\n",
       "      <td>-0.062974</td>\n",
       "      <td>1.494303</td>\n",
       "    </tr>\n",
       "    <tr>\n",
       "      <th>3</th>\n",
       "      <td>-0.977754</td>\n",
       "      <td>1.787784</td>\n",
       "      <td>-0.880225</td>\n",
       "      <td>2.529095</td>\n",
       "    </tr>\n",
       "    <tr>\n",
       "      <th>4</th>\n",
       "      <td>0.203671</td>\n",
       "      <td>-0.854337</td>\n",
       "      <td>-0.121979</td>\n",
       "      <td>0.004917</td>\n",
       "    </tr>\n",
       "    <tr>\n",
       "      <th>5</th>\n",
       "      <td>-0.821354</td>\n",
       "      <td>0.288915</td>\n",
       "      <td>-0.152173</td>\n",
       "      <td>1.356295</td>\n",
       "    </tr>\n",
       "    <tr>\n",
       "      <th>6</th>\n",
       "      <td>-0.854381</td>\n",
       "      <td>0.120710</td>\n",
       "      <td>-1.251356</td>\n",
       "      <td>-1.126418</td>\n",
       "    </tr>\n",
       "    <tr>\n",
       "      <th>7</th>\n",
       "      <td>-1.764692</td>\n",
       "      <td>-0.240718</td>\n",
       "      <td>-0.073533</td>\n",
       "      <td>-0.334387</td>\n",
       "    </tr>\n",
       "    <tr>\n",
       "      <th>8</th>\n",
       "      <td>1.133242</td>\n",
       "      <td>-0.222516</td>\n",
       "      <td>-1.202734</td>\n",
       "      <td>-1.046592</td>\n",
       "    </tr>\n",
       "    <tr>\n",
       "      <th>9</th>\n",
       "      <td>-0.349882</td>\n",
       "      <td>-1.511684</td>\n",
       "      <td>0.501319</td>\n",
       "      <td>-1.518750</td>\n",
       "    </tr>\n",
       "  </tbody>\n",
       "</table>\n",
       "</div>"
      ],
      "text/plain": [
       "          A         B         C         D\n",
       "0 -1.032842  0.201775  1.326715  0.937090\n",
       "1 -0.641428 -0.319292 -1.108816 -0.481084\n",
       "2 -0.291400 -1.547896 -0.062974  1.494303\n",
       "3 -0.977754  1.787784 -0.880225  2.529095\n",
       "4  0.203671 -0.854337 -0.121979  0.004917\n",
       "5 -0.821354  0.288915 -0.152173  1.356295\n",
       "6 -0.854381  0.120710 -1.251356 -1.126418\n",
       "7 -1.764692 -0.240718 -0.073533 -0.334387\n",
       "8  1.133242 -0.222516 -1.202734 -1.046592\n",
       "9 -0.349882 -1.511684  0.501319 -1.518750"
      ]
     },
     "execution_count": 91,
     "metadata": {},
     "output_type": "execute_result"
    }
   ],
   "source": [
    "df"
   ]
  },
  {
   "cell_type": "code",
   "execution_count": 92,
   "metadata": {},
   "outputs": [],
   "source": [
    "# break it into pieces\n",
    "a = df[:3]\n",
    "b = df[3:7]\n",
    "c = df[7:]\n",
    "pieces = [a,b,c]"
   ]
  },
  {
   "cell_type": "code",
   "execution_count": 93,
   "metadata": {},
   "outputs": [
    {
     "data": {
      "text/html": [
       "<div>\n",
       "<style scoped>\n",
       "    .dataframe tbody tr th:only-of-type {\n",
       "        vertical-align: middle;\n",
       "    }\n",
       "\n",
       "    .dataframe tbody tr th {\n",
       "        vertical-align: top;\n",
       "    }\n",
       "\n",
       "    .dataframe thead th {\n",
       "        text-align: right;\n",
       "    }\n",
       "</style>\n",
       "<table border=\"1\" class=\"dataframe\">\n",
       "  <thead>\n",
       "    <tr style=\"text-align: right;\">\n",
       "      <th></th>\n",
       "      <th>A</th>\n",
       "      <th>B</th>\n",
       "      <th>C</th>\n",
       "      <th>D</th>\n",
       "    </tr>\n",
       "  </thead>\n",
       "  <tbody>\n",
       "    <tr>\n",
       "      <th>0</th>\n",
       "      <td>-1.032842</td>\n",
       "      <td>0.201775</td>\n",
       "      <td>1.326715</td>\n",
       "      <td>0.937090</td>\n",
       "    </tr>\n",
       "    <tr>\n",
       "      <th>1</th>\n",
       "      <td>-0.641428</td>\n",
       "      <td>-0.319292</td>\n",
       "      <td>-1.108816</td>\n",
       "      <td>-0.481084</td>\n",
       "    </tr>\n",
       "    <tr>\n",
       "      <th>2</th>\n",
       "      <td>-0.291400</td>\n",
       "      <td>-1.547896</td>\n",
       "      <td>-0.062974</td>\n",
       "      <td>1.494303</td>\n",
       "    </tr>\n",
       "    <tr>\n",
       "      <th>3</th>\n",
       "      <td>-0.977754</td>\n",
       "      <td>1.787784</td>\n",
       "      <td>-0.880225</td>\n",
       "      <td>2.529095</td>\n",
       "    </tr>\n",
       "    <tr>\n",
       "      <th>4</th>\n",
       "      <td>0.203671</td>\n",
       "      <td>-0.854337</td>\n",
       "      <td>-0.121979</td>\n",
       "      <td>0.004917</td>\n",
       "    </tr>\n",
       "    <tr>\n",
       "      <th>5</th>\n",
       "      <td>-0.821354</td>\n",
       "      <td>0.288915</td>\n",
       "      <td>-0.152173</td>\n",
       "      <td>1.356295</td>\n",
       "    </tr>\n",
       "    <tr>\n",
       "      <th>6</th>\n",
       "      <td>-0.854381</td>\n",
       "      <td>0.120710</td>\n",
       "      <td>-1.251356</td>\n",
       "      <td>-1.126418</td>\n",
       "    </tr>\n",
       "    <tr>\n",
       "      <th>7</th>\n",
       "      <td>-1.764692</td>\n",
       "      <td>-0.240718</td>\n",
       "      <td>-0.073533</td>\n",
       "      <td>-0.334387</td>\n",
       "    </tr>\n",
       "    <tr>\n",
       "      <th>8</th>\n",
       "      <td>1.133242</td>\n",
       "      <td>-0.222516</td>\n",
       "      <td>-1.202734</td>\n",
       "      <td>-1.046592</td>\n",
       "    </tr>\n",
       "    <tr>\n",
       "      <th>9</th>\n",
       "      <td>-0.349882</td>\n",
       "      <td>-1.511684</td>\n",
       "      <td>0.501319</td>\n",
       "      <td>-1.518750</td>\n",
       "    </tr>\n",
       "  </tbody>\n",
       "</table>\n",
       "</div>"
      ],
      "text/plain": [
       "          A         B         C         D\n",
       "0 -1.032842  0.201775  1.326715  0.937090\n",
       "1 -0.641428 -0.319292 -1.108816 -0.481084\n",
       "2 -0.291400 -1.547896 -0.062974  1.494303\n",
       "3 -0.977754  1.787784 -0.880225  2.529095\n",
       "4  0.203671 -0.854337 -0.121979  0.004917\n",
       "5 -0.821354  0.288915 -0.152173  1.356295\n",
       "6 -0.854381  0.120710 -1.251356 -1.126418\n",
       "7 -1.764692 -0.240718 -0.073533 -0.334387\n",
       "8  1.133242 -0.222516 -1.202734 -1.046592\n",
       "9 -0.349882 -1.511684  0.501319 -1.518750"
      ]
     },
     "execution_count": 93,
     "metadata": {},
     "output_type": "execute_result"
    }
   ],
   "source": [
    "df2=pd.concat(pieces)\n",
    "df2"
   ]
  },
  {
   "cell_type": "markdown",
   "metadata": {},
   "source": [
    "### Join\n",
    "\n",
    "SQL style merges. See the [Database style joining](http://pandas.pydata.org/pandas-docs/stable/merging.html#merging-join)"
   ]
  },
  {
   "cell_type": "code",
   "execution_count": 94,
   "metadata": {},
   "outputs": [],
   "source": [
    "left = pd.DataFrame({'key': ['foo', 'foo','boo','boo','coo'], 'lval': [1, 2,3,4,5]})"
   ]
  },
  {
   "cell_type": "code",
   "execution_count": 95,
   "metadata": {},
   "outputs": [],
   "source": [
    "right = pd.DataFrame({'key': ['foo', 'boo','doo'], 'rval': [6,7,8]})"
   ]
  },
  {
   "cell_type": "code",
   "execution_count": 96,
   "metadata": {},
   "outputs": [
    {
     "data": {
      "text/html": [
       "<div>\n",
       "<style scoped>\n",
       "    .dataframe tbody tr th:only-of-type {\n",
       "        vertical-align: middle;\n",
       "    }\n",
       "\n",
       "    .dataframe tbody tr th {\n",
       "        vertical-align: top;\n",
       "    }\n",
       "\n",
       "    .dataframe thead th {\n",
       "        text-align: right;\n",
       "    }\n",
       "</style>\n",
       "<table border=\"1\" class=\"dataframe\">\n",
       "  <thead>\n",
       "    <tr style=\"text-align: right;\">\n",
       "      <th></th>\n",
       "      <th>key</th>\n",
       "      <th>lval</th>\n",
       "    </tr>\n",
       "  </thead>\n",
       "  <tbody>\n",
       "    <tr>\n",
       "      <th>0</th>\n",
       "      <td>foo</td>\n",
       "      <td>1</td>\n",
       "    </tr>\n",
       "    <tr>\n",
       "      <th>1</th>\n",
       "      <td>foo</td>\n",
       "      <td>2</td>\n",
       "    </tr>\n",
       "    <tr>\n",
       "      <th>2</th>\n",
       "      <td>boo</td>\n",
       "      <td>3</td>\n",
       "    </tr>\n",
       "    <tr>\n",
       "      <th>3</th>\n",
       "      <td>boo</td>\n",
       "      <td>4</td>\n",
       "    </tr>\n",
       "    <tr>\n",
       "      <th>4</th>\n",
       "      <td>coo</td>\n",
       "      <td>5</td>\n",
       "    </tr>\n",
       "  </tbody>\n",
       "</table>\n",
       "</div>"
      ],
      "text/plain": [
       "   key  lval\n",
       "0  foo     1\n",
       "1  foo     2\n",
       "2  boo     3\n",
       "3  boo     4\n",
       "4  coo     5"
      ]
     },
     "execution_count": 96,
     "metadata": {},
     "output_type": "execute_result"
    }
   ],
   "source": [
    "left"
   ]
  },
  {
   "cell_type": "code",
   "execution_count": 97,
   "metadata": {},
   "outputs": [
    {
     "data": {
      "text/html": [
       "<div>\n",
       "<style scoped>\n",
       "    .dataframe tbody tr th:only-of-type {\n",
       "        vertical-align: middle;\n",
       "    }\n",
       "\n",
       "    .dataframe tbody tr th {\n",
       "        vertical-align: top;\n",
       "    }\n",
       "\n",
       "    .dataframe thead th {\n",
       "        text-align: right;\n",
       "    }\n",
       "</style>\n",
       "<table border=\"1\" class=\"dataframe\">\n",
       "  <thead>\n",
       "    <tr style=\"text-align: right;\">\n",
       "      <th></th>\n",
       "      <th>key</th>\n",
       "      <th>rval</th>\n",
       "    </tr>\n",
       "  </thead>\n",
       "  <tbody>\n",
       "    <tr>\n",
       "      <th>0</th>\n",
       "      <td>foo</td>\n",
       "      <td>6</td>\n",
       "    </tr>\n",
       "    <tr>\n",
       "      <th>1</th>\n",
       "      <td>boo</td>\n",
       "      <td>7</td>\n",
       "    </tr>\n",
       "    <tr>\n",
       "      <th>2</th>\n",
       "      <td>doo</td>\n",
       "      <td>8</td>\n",
       "    </tr>\n",
       "  </tbody>\n",
       "</table>\n",
       "</div>"
      ],
      "text/plain": [
       "   key  rval\n",
       "0  foo     6\n",
       "1  boo     7\n",
       "2  doo     8"
      ]
     },
     "execution_count": 97,
     "metadata": {},
     "output_type": "execute_result"
    }
   ],
   "source": [
    "right"
   ]
  },
  {
   "cell_type": "code",
   "execution_count": 98,
   "metadata": {},
   "outputs": [
    {
     "data": {
      "text/html": [
       "<div>\n",
       "<style scoped>\n",
       "    .dataframe tbody tr th:only-of-type {\n",
       "        vertical-align: middle;\n",
       "    }\n",
       "\n",
       "    .dataframe tbody tr th {\n",
       "        vertical-align: top;\n",
       "    }\n",
       "\n",
       "    .dataframe thead th {\n",
       "        text-align: right;\n",
       "    }\n",
       "</style>\n",
       "<table border=\"1\" class=\"dataframe\">\n",
       "  <thead>\n",
       "    <tr style=\"text-align: right;\">\n",
       "      <th></th>\n",
       "      <th>key</th>\n",
       "      <th>lval</th>\n",
       "      <th>rval</th>\n",
       "    </tr>\n",
       "  </thead>\n",
       "  <tbody>\n",
       "    <tr>\n",
       "      <th>0</th>\n",
       "      <td>foo</td>\n",
       "      <td>1</td>\n",
       "      <td>6.0</td>\n",
       "    </tr>\n",
       "    <tr>\n",
       "      <th>1</th>\n",
       "      <td>foo</td>\n",
       "      <td>2</td>\n",
       "      <td>6.0</td>\n",
       "    </tr>\n",
       "    <tr>\n",
       "      <th>2</th>\n",
       "      <td>boo</td>\n",
       "      <td>3</td>\n",
       "      <td>7.0</td>\n",
       "    </tr>\n",
       "    <tr>\n",
       "      <th>3</th>\n",
       "      <td>boo</td>\n",
       "      <td>4</td>\n",
       "      <td>7.0</td>\n",
       "    </tr>\n",
       "    <tr>\n",
       "      <th>4</th>\n",
       "      <td>coo</td>\n",
       "      <td>5</td>\n",
       "      <td>NaN</td>\n",
       "    </tr>\n",
       "  </tbody>\n",
       "</table>\n",
       "</div>"
      ],
      "text/plain": [
       "   key  lval  rval\n",
       "0  foo     1   6.0\n",
       "1  foo     2   6.0\n",
       "2  boo     3   7.0\n",
       "3  boo     4   7.0\n",
       "4  coo     5   NaN"
      ]
     },
     "execution_count": 98,
     "metadata": {},
     "output_type": "execute_result"
    }
   ],
   "source": [
    "pd.merge(left, right, on='key',how='left')"
   ]
  },
  {
   "cell_type": "code",
   "execution_count": 99,
   "metadata": {},
   "outputs": [
    {
     "data": {
      "text/html": [
       "<div>\n",
       "<style scoped>\n",
       "    .dataframe tbody tr th:only-of-type {\n",
       "        vertical-align: middle;\n",
       "    }\n",
       "\n",
       "    .dataframe tbody tr th {\n",
       "        vertical-align: top;\n",
       "    }\n",
       "\n",
       "    .dataframe thead th {\n",
       "        text-align: right;\n",
       "    }\n",
       "</style>\n",
       "<table border=\"1\" class=\"dataframe\">\n",
       "  <thead>\n",
       "    <tr style=\"text-align: right;\">\n",
       "      <th></th>\n",
       "      <th>key</th>\n",
       "      <th>lval</th>\n",
       "      <th>rval</th>\n",
       "    </tr>\n",
       "  </thead>\n",
       "  <tbody>\n",
       "    <tr>\n",
       "      <th>0</th>\n",
       "      <td>foo</td>\n",
       "      <td>1.0</td>\n",
       "      <td>6</td>\n",
       "    </tr>\n",
       "    <tr>\n",
       "      <th>1</th>\n",
       "      <td>foo</td>\n",
       "      <td>2.0</td>\n",
       "      <td>6</td>\n",
       "    </tr>\n",
       "    <tr>\n",
       "      <th>2</th>\n",
       "      <td>boo</td>\n",
       "      <td>3.0</td>\n",
       "      <td>7</td>\n",
       "    </tr>\n",
       "    <tr>\n",
       "      <th>3</th>\n",
       "      <td>boo</td>\n",
       "      <td>4.0</td>\n",
       "      <td>7</td>\n",
       "    </tr>\n",
       "    <tr>\n",
       "      <th>4</th>\n",
       "      <td>doo</td>\n",
       "      <td>NaN</td>\n",
       "      <td>8</td>\n",
       "    </tr>\n",
       "  </tbody>\n",
       "</table>\n",
       "</div>"
      ],
      "text/plain": [
       "   key  lval  rval\n",
       "0  foo   1.0     6\n",
       "1  foo   2.0     6\n",
       "2  boo   3.0     7\n",
       "3  boo   4.0     7\n",
       "4  doo   NaN     8"
      ]
     },
     "execution_count": 99,
     "metadata": {},
     "output_type": "execute_result"
    }
   ],
   "source": [
    "pd.merge(left, right, on='key',how='right')"
   ]
  },
  {
   "cell_type": "code",
   "execution_count": 100,
   "metadata": {},
   "outputs": [
    {
     "data": {
      "text/html": [
       "<div>\n",
       "<style scoped>\n",
       "    .dataframe tbody tr th:only-of-type {\n",
       "        vertical-align: middle;\n",
       "    }\n",
       "\n",
       "    .dataframe tbody tr th {\n",
       "        vertical-align: top;\n",
       "    }\n",
       "\n",
       "    .dataframe thead th {\n",
       "        text-align: right;\n",
       "    }\n",
       "</style>\n",
       "<table border=\"1\" class=\"dataframe\">\n",
       "  <thead>\n",
       "    <tr style=\"text-align: right;\">\n",
       "      <th></th>\n",
       "      <th>key</th>\n",
       "      <th>lval</th>\n",
       "      <th>rval</th>\n",
       "    </tr>\n",
       "  </thead>\n",
       "  <tbody>\n",
       "    <tr>\n",
       "      <th>0</th>\n",
       "      <td>foo</td>\n",
       "      <td>1.0</td>\n",
       "      <td>6.0</td>\n",
       "    </tr>\n",
       "    <tr>\n",
       "      <th>1</th>\n",
       "      <td>foo</td>\n",
       "      <td>2.0</td>\n",
       "      <td>6.0</td>\n",
       "    </tr>\n",
       "    <tr>\n",
       "      <th>2</th>\n",
       "      <td>boo</td>\n",
       "      <td>3.0</td>\n",
       "      <td>7.0</td>\n",
       "    </tr>\n",
       "    <tr>\n",
       "      <th>3</th>\n",
       "      <td>boo</td>\n",
       "      <td>4.0</td>\n",
       "      <td>7.0</td>\n",
       "    </tr>\n",
       "    <tr>\n",
       "      <th>4</th>\n",
       "      <td>coo</td>\n",
       "      <td>5.0</td>\n",
       "      <td>NaN</td>\n",
       "    </tr>\n",
       "    <tr>\n",
       "      <th>5</th>\n",
       "      <td>doo</td>\n",
       "      <td>NaN</td>\n",
       "      <td>8.0</td>\n",
       "    </tr>\n",
       "  </tbody>\n",
       "</table>\n",
       "</div>"
      ],
      "text/plain": [
       "   key  lval  rval\n",
       "0  foo   1.0   6.0\n",
       "1  foo   2.0   6.0\n",
       "2  boo   3.0   7.0\n",
       "3  boo   4.0   7.0\n",
       "4  coo   5.0   NaN\n",
       "5  doo   NaN   8.0"
      ]
     },
     "execution_count": 100,
     "metadata": {},
     "output_type": "execute_result"
    }
   ],
   "source": [
    "pd.merge(left, right, on='key',how='outer')"
   ]
  },
  {
   "cell_type": "code",
   "execution_count": 101,
   "metadata": {},
   "outputs": [
    {
     "data": {
      "text/html": [
       "<div>\n",
       "<style scoped>\n",
       "    .dataframe tbody tr th:only-of-type {\n",
       "        vertical-align: middle;\n",
       "    }\n",
       "\n",
       "    .dataframe tbody tr th {\n",
       "        vertical-align: top;\n",
       "    }\n",
       "\n",
       "    .dataframe thead th {\n",
       "        text-align: right;\n",
       "    }\n",
       "</style>\n",
       "<table border=\"1\" class=\"dataframe\">\n",
       "  <thead>\n",
       "    <tr style=\"text-align: right;\">\n",
       "      <th></th>\n",
       "      <th>key</th>\n",
       "      <th>lval</th>\n",
       "      <th>rval</th>\n",
       "    </tr>\n",
       "  </thead>\n",
       "  <tbody>\n",
       "    <tr>\n",
       "      <th>0</th>\n",
       "      <td>foo</td>\n",
       "      <td>1</td>\n",
       "      <td>6</td>\n",
       "    </tr>\n",
       "    <tr>\n",
       "      <th>1</th>\n",
       "      <td>foo</td>\n",
       "      <td>2</td>\n",
       "      <td>6</td>\n",
       "    </tr>\n",
       "    <tr>\n",
       "      <th>2</th>\n",
       "      <td>boo</td>\n",
       "      <td>3</td>\n",
       "      <td>7</td>\n",
       "    </tr>\n",
       "    <tr>\n",
       "      <th>3</th>\n",
       "      <td>boo</td>\n",
       "      <td>4</td>\n",
       "      <td>7</td>\n",
       "    </tr>\n",
       "  </tbody>\n",
       "</table>\n",
       "</div>"
      ],
      "text/plain": [
       "   key  lval  rval\n",
       "0  foo     1     6\n",
       "1  foo     2     6\n",
       "2  boo     3     7\n",
       "3  boo     4     7"
      ]
     },
     "execution_count": 101,
     "metadata": {},
     "output_type": "execute_result"
    }
   ],
   "source": [
    "pd.merge(left, right, on='key',how='inner')"
   ]
  },
  {
   "cell_type": "markdown",
   "metadata": {},
   "source": [
    "## Plotting\n",
    "[Plotting](http://pandas.pydata.org/pandas-docs/stable/visualization.html#visualization) docs."
   ]
  },
  {
   "cell_type": "code",
   "execution_count": 102,
   "metadata": {},
   "outputs": [],
   "source": [
    "ts = pd.Series(np.random.randn(1000), index=pd.date_range('1/1/2000', periods=1000))"
   ]
  },
  {
   "cell_type": "code",
   "execution_count": 103,
   "metadata": {},
   "outputs": [],
   "source": [
    "ts = ts.cumsum()"
   ]
  },
  {
   "cell_type": "code",
   "execution_count": 104,
   "metadata": {},
   "outputs": [
    {
     "data": {
      "text/plain": [
       "<matplotlib.axes._subplots.AxesSubplot at 0x1ed1bcf97b8>"
      ]
     },
     "execution_count": 104,
     "metadata": {},
     "output_type": "execute_result"
    },
    {
     "data": {
      "image/png": "[encoded data removed]",
      "text/plain": [
       "<Figure size 432x288 with 1 Axes>"
      ]
     },
     "metadata": {
      "needs_background": "light"
     },
     "output_type": "display_data"
    }
   ],
   "source": [
    "ts.plot()"
   ]
  },
  {
   "cell_type": "markdown",
   "metadata": {},
   "source": [
    "On DataFrame, plot() is a convenience to plot all of the columns with labels:"
   ]
  },
  {
   "cell_type": "code",
   "execution_count": 105,
   "metadata": {},
   "outputs": [],
   "source": [
    "df = pd.DataFrame(np.random.randn(1000, 4), index=ts.index,\n",
    "                  columns=['A', 'B', 'C', 'D'])"
   ]
  },
  {
   "cell_type": "code",
   "execution_count": 106,
   "metadata": {},
   "outputs": [],
   "source": [
    "df = df.cumsum()"
   ]
  },
  {
   "cell_type": "code",
   "execution_count": 107,
   "metadata": {},
   "outputs": [
    {
     "data": {
      "text/plain": [
       "<matplotlib.legend.Legend at 0x1ed1ba2bfd0>"
      ]
     },
     "execution_count": 107,
     "metadata": {},
     "output_type": "execute_result"
    },
    {
     "data": {
      "text/plain": [
       "<Figure size 432x288 with 0 Axes>"
      ]
     },
     "metadata": {},
     "output_type": "display_data"
    },
    {
     "data": {
      "image/png": "[encoded data removed]",
      "text/plain": [
       "<Figure size 432x288 with 1 Axes>"
      ]
     },
     "metadata": {
      "needs_background": "light"
     },
     "output_type": "display_data"
    }
   ],
   "source": [
    "plt.figure(); df.plot(); plt.legend(loc='best')"
   ]
  },
  {
   "cell_type": "markdown",
   "metadata": {},
   "source": [
    "## Getting Data In/Out"
   ]
  },
  {
   "cell_type": "markdown",
   "metadata": {},
   "source": [
    "### CSV\n",
    "[Writing to a csv file](http://pandas.pydata.org/pandas-docs/stable/io.html#io-store-in-csv)"
   ]
  },
  {
   "cell_type": "code",
   "execution_count": 108,
   "metadata": {},
   "outputs": [],
   "source": [
    "df.to_csv('foo.csv',index=False)"
   ]
  },
  {
   "cell_type": "code",
   "execution_count": 109,
   "metadata": {},
   "outputs": [
    {
     "data": {
      "text/html": [
       "<div>\n",
       "<style scoped>\n",
       "    .dataframe tbody tr th:only-of-type {\n",
       "        vertical-align: middle;\n",
       "    }\n",
       "\n",
       "    .dataframe tbody tr th {\n",
       "        vertical-align: top;\n",
       "    }\n",
       "\n",
       "    .dataframe thead th {\n",
       "        text-align: right;\n",
       "    }\n",
       "</style>\n",
       "<table border=\"1\" class=\"dataframe\">\n",
       "  <thead>\n",
       "    <tr style=\"text-align: right;\">\n",
       "      <th></th>\n",
       "      <th>A</th>\n",
       "      <th>B</th>\n",
       "      <th>C</th>\n",
       "      <th>D</th>\n",
       "    </tr>\n",
       "  </thead>\n",
       "  <tbody>\n",
       "    <tr>\n",
       "      <th>2000-01-01</th>\n",
       "      <td>-1.207826</td>\n",
       "      <td>0.487519</td>\n",
       "      <td>0.434231</td>\n",
       "      <td>-1.038355</td>\n",
       "    </tr>\n",
       "    <tr>\n",
       "      <th>2000-01-02</th>\n",
       "      <td>-0.536955</td>\n",
       "      <td>0.833874</td>\n",
       "      <td>-1.116938</td>\n",
       "      <td>-0.899863</td>\n",
       "    </tr>\n",
       "    <tr>\n",
       "      <th>2000-01-03</th>\n",
       "      <td>0.349789</td>\n",
       "      <td>0.929620</td>\n",
       "      <td>-1.495501</td>\n",
       "      <td>-1.684342</td>\n",
       "    </tr>\n",
       "    <tr>\n",
       "      <th>2000-01-04</th>\n",
       "      <td>-0.806949</td>\n",
       "      <td>1.248057</td>\n",
       "      <td>-0.741148</td>\n",
       "      <td>-0.120837</td>\n",
       "    </tr>\n",
       "    <tr>\n",
       "      <th>2000-01-05</th>\n",
       "      <td>-1.852329</td>\n",
       "      <td>2.292696</td>\n",
       "      <td>-2.264131</td>\n",
       "      <td>-0.619205</td>\n",
       "    </tr>\n",
       "    <tr>\n",
       "      <th>2000-01-06</th>\n",
       "      <td>-1.292691</td>\n",
       "      <td>4.623331</td>\n",
       "      <td>-2.834600</td>\n",
       "      <td>-0.237234</td>\n",
       "    </tr>\n",
       "    <tr>\n",
       "      <th>2000-01-07</th>\n",
       "      <td>0.384531</td>\n",
       "      <td>5.406718</td>\n",
       "      <td>-1.710399</td>\n",
       "      <td>-1.226784</td>\n",
       "    </tr>\n",
       "    <tr>\n",
       "      <th>2000-01-08</th>\n",
       "      <td>-0.841059</td>\n",
       "      <td>5.824120</td>\n",
       "      <td>-1.801215</td>\n",
       "      <td>-2.245401</td>\n",
       "    </tr>\n",
       "    <tr>\n",
       "      <th>2000-01-09</th>\n",
       "      <td>-0.837966</td>\n",
       "      <td>3.026029</td>\n",
       "      <td>0.340976</td>\n",
       "      <td>-3.486138</td>\n",
       "    </tr>\n",
       "    <tr>\n",
       "      <th>2000-01-10</th>\n",
       "      <td>0.883985</td>\n",
       "      <td>3.268889</td>\n",
       "      <td>-0.298830</td>\n",
       "      <td>-3.362193</td>\n",
       "    </tr>\n",
       "    <tr>\n",
       "      <th>2000-01-11</th>\n",
       "      <td>0.653387</td>\n",
       "      <td>5.418391</td>\n",
       "      <td>1.054690</td>\n",
       "      <td>-1.931437</td>\n",
       "    </tr>\n",
       "    <tr>\n",
       "      <th>2000-01-12</th>\n",
       "      <td>-1.860970</td>\n",
       "      <td>7.160167</td>\n",
       "      <td>-0.702636</td>\n",
       "      <td>-0.468613</td>\n",
       "    </tr>\n",
       "    <tr>\n",
       "      <th>2000-01-13</th>\n",
       "      <td>-0.642525</td>\n",
       "      <td>8.394142</td>\n",
       "      <td>-0.754678</td>\n",
       "      <td>-1.586133</td>\n",
       "    </tr>\n",
       "    <tr>\n",
       "      <th>2000-01-14</th>\n",
       "      <td>-1.831385</td>\n",
       "      <td>9.651047</td>\n",
       "      <td>-1.210122</td>\n",
       "      <td>-2.392809</td>\n",
       "    </tr>\n",
       "    <tr>\n",
       "      <th>2000-01-15</th>\n",
       "      <td>-2.344853</td>\n",
       "      <td>8.351759</td>\n",
       "      <td>-0.374795</td>\n",
       "      <td>-2.250634</td>\n",
       "    </tr>\n",
       "    <tr>\n",
       "      <th>2000-01-16</th>\n",
       "      <td>-2.737460</td>\n",
       "      <td>7.749126</td>\n",
       "      <td>0.466478</td>\n",
       "      <td>-0.667949</td>\n",
       "    </tr>\n",
       "    <tr>\n",
       "      <th>2000-01-17</th>\n",
       "      <td>-1.908834</td>\n",
       "      <td>8.806884</td>\n",
       "      <td>-0.233110</td>\n",
       "      <td>-0.199971</td>\n",
       "    </tr>\n",
       "    <tr>\n",
       "      <th>2000-01-18</th>\n",
       "      <td>-1.249042</td>\n",
       "      <td>8.957085</td>\n",
       "      <td>-1.711529</td>\n",
       "      <td>0.635471</td>\n",
       "    </tr>\n",
       "    <tr>\n",
       "      <th>2000-01-19</th>\n",
       "      <td>-0.384444</td>\n",
       "      <td>11.242955</td>\n",
       "      <td>-3.092352</td>\n",
       "      <td>-0.763045</td>\n",
       "    </tr>\n",
       "    <tr>\n",
       "      <th>2000-01-20</th>\n",
       "      <td>-0.839098</td>\n",
       "      <td>10.704612</td>\n",
       "      <td>-3.188045</td>\n",
       "      <td>-0.871866</td>\n",
       "    </tr>\n",
       "    <tr>\n",
       "      <th>2000-01-21</th>\n",
       "      <td>-1.281091</td>\n",
       "      <td>11.306781</td>\n",
       "      <td>-3.548254</td>\n",
       "      <td>-0.182546</td>\n",
       "    </tr>\n",
       "    <tr>\n",
       "      <th>2000-01-22</th>\n",
       "      <td>-0.725513</td>\n",
       "      <td>11.313558</td>\n",
       "      <td>-3.029797</td>\n",
       "      <td>-1.735232</td>\n",
       "    </tr>\n",
       "    <tr>\n",
       "      <th>2000-01-23</th>\n",
       "      <td>-1.298945</td>\n",
       "      <td>10.399563</td>\n",
       "      <td>-4.542651</td>\n",
       "      <td>0.571793</td>\n",
       "    </tr>\n",
       "    <tr>\n",
       "      <th>2000-01-24</th>\n",
       "      <td>-0.883682</td>\n",
       "      <td>9.325908</td>\n",
       "      <td>-4.876772</td>\n",
       "      <td>0.872796</td>\n",
       "    </tr>\n",
       "    <tr>\n",
       "      <th>2000-01-25</th>\n",
       "      <td>-0.918409</td>\n",
       "      <td>8.882065</td>\n",
       "      <td>-3.632049</td>\n",
       "      <td>0.964022</td>\n",
       "    </tr>\n",
       "    <tr>\n",
       "      <th>2000-01-26</th>\n",
       "      <td>0.316902</td>\n",
       "      <td>9.936673</td>\n",
       "      <td>-4.382772</td>\n",
       "      <td>0.734558</td>\n",
       "    </tr>\n",
       "    <tr>\n",
       "      <th>2000-01-27</th>\n",
       "      <td>1.842555</td>\n",
       "      <td>9.899160</td>\n",
       "      <td>-6.115941</td>\n",
       "      <td>1.438643</td>\n",
       "    </tr>\n",
       "    <tr>\n",
       "      <th>2000-01-28</th>\n",
       "      <td>1.682233</td>\n",
       "      <td>9.798868</td>\n",
       "      <td>-6.718052</td>\n",
       "      <td>0.721763</td>\n",
       "    </tr>\n",
       "    <tr>\n",
       "      <th>2000-01-29</th>\n",
       "      <td>2.050190</td>\n",
       "      <td>10.647106</td>\n",
       "      <td>-5.725607</td>\n",
       "      <td>1.580448</td>\n",
       "    </tr>\n",
       "    <tr>\n",
       "      <th>2000-01-30</th>\n",
       "      <td>2.124172</td>\n",
       "      <td>11.177415</td>\n",
       "      <td>-4.266263</td>\n",
       "      <td>3.351084</td>\n",
       "    </tr>\n",
       "    <tr>\n",
       "      <th>...</th>\n",
       "      <td>...</td>\n",
       "      <td>...</td>\n",
       "      <td>...</td>\n",
       "      <td>...</td>\n",
       "    </tr>\n",
       "    <tr>\n",
       "      <th>2002-08-28</th>\n",
       "      <td>-5.118962</td>\n",
       "      <td>36.974640</td>\n",
       "      <td>35.257227</td>\n",
       "      <td>19.823202</td>\n",
       "    </tr>\n",
       "    <tr>\n",
       "      <th>2002-08-29</th>\n",
       "      <td>-5.403463</td>\n",
       "      <td>35.701251</td>\n",
       "      <td>34.990272</td>\n",
       "      <td>18.921969</td>\n",
       "    </tr>\n",
       "    <tr>\n",
       "      <th>2002-08-30</th>\n",
       "      <td>-5.230485</td>\n",
       "      <td>35.289029</td>\n",
       "      <td>33.427174</td>\n",
       "      <td>20.126893</td>\n",
       "    </tr>\n",
       "    <tr>\n",
       "      <th>2002-08-31</th>\n",
       "      <td>-5.796942</td>\n",
       "      <td>34.747800</td>\n",
       "      <td>33.091379</td>\n",
       "      <td>21.126460</td>\n",
       "    </tr>\n",
       "    <tr>\n",
       "      <th>2002-09-01</th>\n",
       "      <td>-6.956612</td>\n",
       "      <td>33.752174</td>\n",
       "      <td>33.418446</td>\n",
       "      <td>20.716418</td>\n",
       "    </tr>\n",
       "    <tr>\n",
       "      <th>2002-09-02</th>\n",
       "      <td>-7.651509</td>\n",
       "      <td>33.743130</td>\n",
       "      <td>32.693222</td>\n",
       "      <td>21.308346</td>\n",
       "    </tr>\n",
       "    <tr>\n",
       "      <th>2002-09-03</th>\n",
       "      <td>-7.143139</td>\n",
       "      <td>33.389388</td>\n",
       "      <td>32.722840</td>\n",
       "      <td>22.849662</td>\n",
       "    </tr>\n",
       "    <tr>\n",
       "      <th>2002-09-04</th>\n",
       "      <td>-7.133536</td>\n",
       "      <td>32.839201</td>\n",
       "      <td>31.088789</td>\n",
       "      <td>21.956470</td>\n",
       "    </tr>\n",
       "    <tr>\n",
       "      <th>2002-09-05</th>\n",
       "      <td>-8.419738</td>\n",
       "      <td>32.881178</td>\n",
       "      <td>31.235119</td>\n",
       "      <td>22.170214</td>\n",
       "    </tr>\n",
       "    <tr>\n",
       "      <th>2002-09-06</th>\n",
       "      <td>-8.274404</td>\n",
       "      <td>32.453563</td>\n",
       "      <td>31.506086</td>\n",
       "      <td>20.140599</td>\n",
       "    </tr>\n",
       "    <tr>\n",
       "      <th>2002-09-07</th>\n",
       "      <td>-10.478395</td>\n",
       "      <td>32.511552</td>\n",
       "      <td>32.738353</td>\n",
       "      <td>20.787416</td>\n",
       "    </tr>\n",
       "    <tr>\n",
       "      <th>2002-09-08</th>\n",
       "      <td>-10.635845</td>\n",
       "      <td>30.185930</td>\n",
       "      <td>33.236326</td>\n",
       "      <td>21.511942</td>\n",
       "    </tr>\n",
       "    <tr>\n",
       "      <th>2002-09-09</th>\n",
       "      <td>-10.362013</td>\n",
       "      <td>30.367559</td>\n",
       "      <td>32.156012</td>\n",
       "      <td>20.101287</td>\n",
       "    </tr>\n",
       "    <tr>\n",
       "      <th>2002-09-10</th>\n",
       "      <td>-10.719909</td>\n",
       "      <td>30.812237</td>\n",
       "      <td>33.826107</td>\n",
       "      <td>20.418961</td>\n",
       "    </tr>\n",
       "    <tr>\n",
       "      <th>2002-09-11</th>\n",
       "      <td>-12.270139</td>\n",
       "      <td>30.275061</td>\n",
       "      <td>33.519360</td>\n",
       "      <td>19.811016</td>\n",
       "    </tr>\n",
       "    <tr>\n",
       "      <th>2002-09-12</th>\n",
       "      <td>-10.671214</td>\n",
       "      <td>32.609389</td>\n",
       "      <td>33.242730</td>\n",
       "      <td>20.474338</td>\n",
       "    </tr>\n",
       "    <tr>\n",
       "      <th>2002-09-13</th>\n",
       "      <td>-11.047382</td>\n",
       "      <td>32.366152</td>\n",
       "      <td>33.062091</td>\n",
       "      <td>22.091042</td>\n",
       "    </tr>\n",
       "    <tr>\n",
       "      <th>2002-09-14</th>\n",
       "      <td>-11.036700</td>\n",
       "      <td>31.214439</td>\n",
       "      <td>34.354671</td>\n",
       "      <td>23.864960</td>\n",
       "    </tr>\n",
       "    <tr>\n",
       "      <th>2002-09-15</th>\n",
       "      <td>-12.036719</td>\n",
       "      <td>31.413006</td>\n",
       "      <td>33.319564</td>\n",
       "      <td>23.634014</td>\n",
       "    </tr>\n",
       "    <tr>\n",
       "      <th>2002-09-16</th>\n",
       "      <td>-12.400106</td>\n",
       "      <td>33.425279</td>\n",
       "      <td>32.363988</td>\n",
       "      <td>23.371502</td>\n",
       "    </tr>\n",
       "    <tr>\n",
       "      <th>2002-09-17</th>\n",
       "      <td>-11.850724</td>\n",
       "      <td>32.325559</td>\n",
       "      <td>32.645632</td>\n",
       "      <td>22.683858</td>\n",
       "    </tr>\n",
       "    <tr>\n",
       "      <th>2002-09-18</th>\n",
       "      <td>-11.430526</td>\n",
       "      <td>31.459807</td>\n",
       "      <td>32.366829</td>\n",
       "      <td>23.792311</td>\n",
       "    </tr>\n",
       "    <tr>\n",
       "      <th>2002-09-19</th>\n",
       "      <td>-10.997579</td>\n",
       "      <td>31.963968</td>\n",
       "      <td>32.891211</td>\n",
       "      <td>26.127389</td>\n",
       "    </tr>\n",
       "    <tr>\n",
       "      <th>2002-09-20</th>\n",
       "      <td>-8.324010</td>\n",
       "      <td>30.732170</td>\n",
       "      <td>32.677336</td>\n",
       "      <td>25.361080</td>\n",
       "    </tr>\n",
       "    <tr>\n",
       "      <th>2002-09-21</th>\n",
       "      <td>-8.893971</td>\n",
       "      <td>29.933527</td>\n",
       "      <td>32.755834</td>\n",
       "      <td>23.418596</td>\n",
       "    </tr>\n",
       "    <tr>\n",
       "      <th>2002-09-22</th>\n",
       "      <td>-10.869524</td>\n",
       "      <td>30.328462</td>\n",
       "      <td>32.433207</td>\n",
       "      <td>23.016158</td>\n",
       "    </tr>\n",
       "    <tr>\n",
       "      <th>2002-09-23</th>\n",
       "      <td>-11.025845</td>\n",
       "      <td>28.771976</td>\n",
       "      <td>32.028953</td>\n",
       "      <td>23.563183</td>\n",
       "    </tr>\n",
       "    <tr>\n",
       "      <th>2002-09-24</th>\n",
       "      <td>-10.632177</td>\n",
       "      <td>29.096133</td>\n",
       "      <td>30.486827</td>\n",
       "      <td>20.934722</td>\n",
       "    </tr>\n",
       "    <tr>\n",
       "      <th>2002-09-25</th>\n",
       "      <td>-10.704846</td>\n",
       "      <td>29.763874</td>\n",
       "      <td>30.762116</td>\n",
       "      <td>23.391536</td>\n",
       "    </tr>\n",
       "    <tr>\n",
       "      <th>2002-09-26</th>\n",
       "      <td>-11.510977</td>\n",
       "      <td>30.687155</td>\n",
       "      <td>29.522402</td>\n",
       "      <td>25.084525</td>\n",
       "    </tr>\n",
       "  </tbody>\n",
       "</table>\n",
       "<p>1000 rows × 4 columns</p>\n",
       "</div>"
      ],
      "text/plain": [
       "                    A          B          C          D\n",
       "2000-01-01  -1.207826   0.487519   0.434231  -1.038355\n",
       "2000-01-02  -0.536955   0.833874  -1.116938  -0.899863\n",
       "2000-01-03   0.349789   0.929620  -1.495501  -1.684342\n",
       "2000-01-04  -0.806949   1.248057  -0.741148  -0.120837\n",
       "2000-01-05  -1.852329   2.292696  -2.264131  -0.619205\n",
       "2000-01-06  -1.292691   4.623331  -2.834600  -0.237234\n",
       "2000-01-07   0.384531   5.406718  -1.710399  -1.226784\n",
       "2000-01-08  -0.841059   5.824120  -1.801215  -2.245401\n",
       "2000-01-09  -0.837966   3.026029   0.340976  -3.486138\n",
       "2000-01-10   0.883985   3.268889  -0.298830  -3.362193\n",
       "2000-01-11   0.653387   5.418391   1.054690  -1.931437\n",
       "2000-01-12  -1.860970   7.160167  -0.702636  -0.468613\n",
       "2000-01-13  -0.642525   8.394142  -0.754678  -1.586133\n",
       "2000-01-14  -1.831385   9.651047  -1.210122  -2.392809\n",
       "2000-01-15  -2.344853   8.351759  -0.374795  -2.250634\n",
       "2000-01-16  -2.737460   7.749126   0.466478  -0.667949\n",
       "2000-01-17  -1.908834   8.806884  -0.233110  -0.199971\n",
       "2000-01-18  -1.249042   8.957085  -1.711529   0.635471\n",
       "2000-01-19  -0.384444  11.242955  -3.092352  -0.763045\n",
       "2000-01-20  -0.839098  10.704612  -3.188045  -0.871866\n",
       "2000-01-21  -1.281091  11.306781  -3.548254  -0.182546\n",
       "2000-01-22  -0.725513  11.313558  -3.029797  -1.735232\n",
       "2000-01-23  -1.298945  10.399563  -4.542651   0.571793\n",
       "2000-01-24  -0.883682   9.325908  -4.876772   0.872796\n",
       "2000-01-25  -0.918409   8.882065  -3.632049   0.964022\n",
       "2000-01-26   0.316902   9.936673  -4.382772   0.734558\n",
       "2000-01-27   1.842555   9.899160  -6.115941   1.438643\n",
       "2000-01-28   1.682233   9.798868  -6.718052   0.721763\n",
       "2000-01-29   2.050190  10.647106  -5.725607   1.580448\n",
       "2000-01-30   2.124172  11.177415  -4.266263   3.351084\n",
       "...               ...        ...        ...        ...\n",
       "2002-08-28  -5.118962  36.974640  35.257227  19.823202\n",
       "2002-08-29  -5.403463  35.701251  34.990272  18.921969\n",
       "2002-08-30  -5.230485  35.289029  33.427174  20.126893\n",
       "2002-08-31  -5.796942  34.747800  33.091379  21.126460\n",
       "2002-09-01  -6.956612  33.752174  33.418446  20.716418\n",
       "2002-09-02  -7.651509  33.743130  32.693222  21.308346\n",
       "2002-09-03  -7.143139  33.389388  32.722840  22.849662\n",
       "2002-09-04  -7.133536  32.839201  31.088789  21.956470\n",
       "2002-09-05  -8.419738  32.881178  31.235119  22.170214\n",
       "2002-09-06  -8.274404  32.453563  31.506086  20.140599\n",
       "2002-09-07 -10.478395  32.511552  32.738353  20.787416\n",
       "2002-09-08 -10.635845  30.185930  33.236326  21.511942\n",
       "2002-09-09 -10.362013  30.367559  32.156012  20.101287\n",
       "2002-09-10 -10.719909  30.812237  33.826107  20.418961\n",
       "2002-09-11 -12.270139  30.275061  33.519360  19.811016\n",
       "2002-09-12 -10.671214  32.609389  33.242730  20.474338\n",
       "2002-09-13 -11.047382  32.366152  33.062091  22.091042\n",
       "2002-09-14 -11.036700  31.214439  34.354671  23.864960\n",
       "2002-09-15 -12.036719  31.413006  33.319564  23.634014\n",
       "2002-09-16 -12.400106  33.425279  32.363988  23.371502\n",
       "2002-09-17 -11.850724  32.325559  32.645632  22.683858\n",
       "2002-09-18 -11.430526  31.459807  32.366829  23.792311\n",
       "2002-09-19 -10.997579  31.963968  32.891211  26.127389\n",
       "2002-09-20  -8.324010  30.732170  32.677336  25.361080\n",
       "2002-09-21  -8.893971  29.933527  32.755834  23.418596\n",
       "2002-09-22 -10.869524  30.328462  32.433207  23.016158\n",
       "2002-09-23 -11.025845  28.771976  32.028953  23.563183\n",
       "2002-09-24 -10.632177  29.096133  30.486827  20.934722\n",
       "2002-09-25 -10.704846  29.763874  30.762116  23.391536\n",
       "2002-09-26 -11.510977  30.687155  29.522402  25.084525\n",
       "\n",
       "[1000 rows x 4 columns]"
      ]
     },
     "execution_count": 109,
     "metadata": {},
     "output_type": "execute_result"
    }
   ],
   "source": [
    "df"
   ]
  },
  {
   "cell_type": "markdown",
   "metadata": {},
   "source": [
    "[Reading from a csv file](http://pandas.pydata.org/pandas-docs/stable/io.html#io-read-csv-table)"
   ]
  },
  {
   "cell_type": "code",
   "execution_count": 110,
   "metadata": {},
   "outputs": [
    {
     "data": {
      "text/html": [
       "<div>\n",
       "<style scoped>\n",
       "    .dataframe tbody tr th:only-of-type {\n",
       "        vertical-align: middle;\n",
       "    }\n",
       "\n",
       "    .dataframe tbody tr th {\n",
       "        vertical-align: top;\n",
       "    }\n",
       "\n",
       "    .dataframe thead th {\n",
       "        text-align: right;\n",
       "    }\n",
       "</style>\n",
       "<table border=\"1\" class=\"dataframe\">\n",
       "  <thead>\n",
       "    <tr style=\"text-align: right;\">\n",
       "      <th></th>\n",
       "      <th>A</th>\n",
       "      <th>B</th>\n",
       "      <th>C</th>\n",
       "      <th>D</th>\n",
       "    </tr>\n",
       "  </thead>\n",
       "  <tbody>\n",
       "    <tr>\n",
       "      <th>0</th>\n",
       "      <td>-1.207826</td>\n",
       "      <td>0.487519</td>\n",
       "      <td>0.434231</td>\n",
       "      <td>-1.038355</td>\n",
       "    </tr>\n",
       "    <tr>\n",
       "      <th>1</th>\n",
       "      <td>-0.536955</td>\n",
       "      <td>0.833874</td>\n",
       "      <td>-1.116938</td>\n",
       "      <td>-0.899863</td>\n",
       "    </tr>\n",
       "    <tr>\n",
       "      <th>2</th>\n",
       "      <td>0.349789</td>\n",
       "      <td>0.929620</td>\n",
       "      <td>-1.495501</td>\n",
       "      <td>-1.684342</td>\n",
       "    </tr>\n",
       "    <tr>\n",
       "      <th>3</th>\n",
       "      <td>-0.806949</td>\n",
       "      <td>1.248057</td>\n",
       "      <td>-0.741148</td>\n",
       "      <td>-0.120837</td>\n",
       "    </tr>\n",
       "    <tr>\n",
       "      <th>4</th>\n",
       "      <td>-1.852329</td>\n",
       "      <td>2.292696</td>\n",
       "      <td>-2.264131</td>\n",
       "      <td>-0.619205</td>\n",
       "    </tr>\n",
       "    <tr>\n",
       "      <th>5</th>\n",
       "      <td>-1.292691</td>\n",
       "      <td>4.623331</td>\n",
       "      <td>-2.834600</td>\n",
       "      <td>-0.237234</td>\n",
       "    </tr>\n",
       "    <tr>\n",
       "      <th>6</th>\n",
       "      <td>0.384531</td>\n",
       "      <td>5.406718</td>\n",
       "      <td>-1.710399</td>\n",
       "      <td>-1.226784</td>\n",
       "    </tr>\n",
       "    <tr>\n",
       "      <th>7</th>\n",
       "      <td>-0.841059</td>\n",
       "      <td>5.824120</td>\n",
       "      <td>-1.801215</td>\n",
       "      <td>-2.245401</td>\n",
       "    </tr>\n",
       "    <tr>\n",
       "      <th>8</th>\n",
       "      <td>-0.837966</td>\n",
       "      <td>3.026029</td>\n",
       "      <td>0.340976</td>\n",
       "      <td>-3.486138</td>\n",
       "    </tr>\n",
       "    <tr>\n",
       "      <th>9</th>\n",
       "      <td>0.883985</td>\n",
       "      <td>3.268889</td>\n",
       "      <td>-0.298830</td>\n",
       "      <td>-3.362193</td>\n",
       "    </tr>\n",
       "    <tr>\n",
       "      <th>10</th>\n",
       "      <td>0.653387</td>\n",
       "      <td>5.418391</td>\n",
       "      <td>1.054690</td>\n",
       "      <td>-1.931437</td>\n",
       "    </tr>\n",
       "    <tr>\n",
       "      <th>11</th>\n",
       "      <td>-1.860970</td>\n",
       "      <td>7.160167</td>\n",
       "      <td>-0.702636</td>\n",
       "      <td>-0.468613</td>\n",
       "    </tr>\n",
       "    <tr>\n",
       "      <th>12</th>\n",
       "      <td>-0.642525</td>\n",
       "      <td>8.394142</td>\n",
       "      <td>-0.754678</td>\n",
       "      <td>-1.586133</td>\n",
       "    </tr>\n",
       "    <tr>\n",
       "      <th>13</th>\n",
       "      <td>-1.831385</td>\n",
       "      <td>9.651047</td>\n",
       "      <td>-1.210122</td>\n",
       "      <td>-2.392809</td>\n",
       "    </tr>\n",
       "    <tr>\n",
       "      <th>14</th>\n",
       "      <td>-2.344853</td>\n",
       "      <td>8.351759</td>\n",
       "      <td>-0.374795</td>\n",
       "      <td>-2.250634</td>\n",
       "    </tr>\n",
       "    <tr>\n",
       "      <th>15</th>\n",
       "      <td>-2.737460</td>\n",
       "      <td>7.749126</td>\n",
       "      <td>0.466478</td>\n",
       "      <td>-0.667949</td>\n",
       "    </tr>\n",
       "    <tr>\n",
       "      <th>16</th>\n",
       "      <td>-1.908834</td>\n",
       "      <td>8.806884</td>\n",
       "      <td>-0.233110</td>\n",
       "      <td>-0.199971</td>\n",
       "    </tr>\n",
       "    <tr>\n",
       "      <th>17</th>\n",
       "      <td>-1.249042</td>\n",
       "      <td>8.957085</td>\n",
       "      <td>-1.711529</td>\n",
       "      <td>0.635471</td>\n",
       "    </tr>\n",
       "    <tr>\n",
       "      <th>18</th>\n",
       "      <td>-0.384444</td>\n",
       "      <td>11.242955</td>\n",
       "      <td>-3.092352</td>\n",
       "      <td>-0.763045</td>\n",
       "    </tr>\n",
       "    <tr>\n",
       "      <th>19</th>\n",
       "      <td>-0.839098</td>\n",
       "      <td>10.704612</td>\n",
       "      <td>-3.188045</td>\n",
       "      <td>-0.871866</td>\n",
       "    </tr>\n",
       "    <tr>\n",
       "      <th>20</th>\n",
       "      <td>-1.281091</td>\n",
       "      <td>11.306781</td>\n",
       "      <td>-3.548254</td>\n",
       "      <td>-0.182546</td>\n",
       "    </tr>\n",
       "    <tr>\n",
       "      <th>21</th>\n",
       "      <td>-0.725513</td>\n",
       "      <td>11.313558</td>\n",
       "      <td>-3.029797</td>\n",
       "      <td>-1.735232</td>\n",
       "    </tr>\n",
       "    <tr>\n",
       "      <th>22</th>\n",
       "      <td>-1.298945</td>\n",
       "      <td>10.399563</td>\n",
       "      <td>-4.542651</td>\n",
       "      <td>0.571793</td>\n",
       "    </tr>\n",
       "    <tr>\n",
       "      <th>23</th>\n",
       "      <td>-0.883682</td>\n",
       "      <td>9.325908</td>\n",
       "      <td>-4.876772</td>\n",
       "      <td>0.872796</td>\n",
       "    </tr>\n",
       "    <tr>\n",
       "      <th>24</th>\n",
       "      <td>-0.918409</td>\n",
       "      <td>8.882065</td>\n",
       "      <td>-3.632049</td>\n",
       "      <td>0.964022</td>\n",
       "    </tr>\n",
       "    <tr>\n",
       "      <th>25</th>\n",
       "      <td>0.316902</td>\n",
       "      <td>9.936673</td>\n",
       "      <td>-4.382772</td>\n",
       "      <td>0.734558</td>\n",
       "    </tr>\n",
       "    <tr>\n",
       "      <th>26</th>\n",
       "      <td>1.842555</td>\n",
       "      <td>9.899160</td>\n",
       "      <td>-6.115941</td>\n",
       "      <td>1.438643</td>\n",
       "    </tr>\n",
       "    <tr>\n",
       "      <th>27</th>\n",
       "      <td>1.682233</td>\n",
       "      <td>9.798868</td>\n",
       "      <td>-6.718052</td>\n",
       "      <td>0.721763</td>\n",
       "    </tr>\n",
       "    <tr>\n",
       "      <th>28</th>\n",
       "      <td>2.050190</td>\n",
       "      <td>10.647106</td>\n",
       "      <td>-5.725607</td>\n",
       "      <td>1.580448</td>\n",
       "    </tr>\n",
       "    <tr>\n",
       "      <th>29</th>\n",
       "      <td>2.124172</td>\n",
       "      <td>11.177415</td>\n",
       "      <td>-4.266263</td>\n",
       "      <td>3.351084</td>\n",
       "    </tr>\n",
       "    <tr>\n",
       "      <th>...</th>\n",
       "      <td>...</td>\n",
       "      <td>...</td>\n",
       "      <td>...</td>\n",
       "      <td>...</td>\n",
       "    </tr>\n",
       "    <tr>\n",
       "      <th>970</th>\n",
       "      <td>-5.118962</td>\n",
       "      <td>36.974640</td>\n",
       "      <td>35.257227</td>\n",
       "      <td>19.823202</td>\n",
       "    </tr>\n",
       "    <tr>\n",
       "      <th>971</th>\n",
       "      <td>-5.403463</td>\n",
       "      <td>35.701251</td>\n",
       "      <td>34.990272</td>\n",
       "      <td>18.921969</td>\n",
       "    </tr>\n",
       "    <tr>\n",
       "      <th>972</th>\n",
       "      <td>-5.230485</td>\n",
       "      <td>35.289029</td>\n",
       "      <td>33.427174</td>\n",
       "      <td>20.126893</td>\n",
       "    </tr>\n",
       "    <tr>\n",
       "      <th>973</th>\n",
       "      <td>-5.796942</td>\n",
       "      <td>34.747800</td>\n",
       "      <td>33.091379</td>\n",
       "      <td>21.126460</td>\n",
       "    </tr>\n",
       "    <tr>\n",
       "      <th>974</th>\n",
       "      <td>-6.956612</td>\n",
       "      <td>33.752174</td>\n",
       "      <td>33.418446</td>\n",
       "      <td>20.716418</td>\n",
       "    </tr>\n",
       "    <tr>\n",
       "      <th>975</th>\n",
       "      <td>-7.651509</td>\n",
       "      <td>33.743130</td>\n",
       "      <td>32.693222</td>\n",
       "      <td>21.308346</td>\n",
       "    </tr>\n",
       "    <tr>\n",
       "      <th>976</th>\n",
       "      <td>-7.143139</td>\n",
       "      <td>33.389388</td>\n",
       "      <td>32.722840</td>\n",
       "      <td>22.849662</td>\n",
       "    </tr>\n",
       "    <tr>\n",
       "      <th>977</th>\n",
       "      <td>-7.133536</td>\n",
       "      <td>32.839201</td>\n",
       "      <td>31.088789</td>\n",
       "      <td>21.956470</td>\n",
       "    </tr>\n",
       "    <tr>\n",
       "      <th>978</th>\n",
       "      <td>-8.419738</td>\n",
       "      <td>32.881178</td>\n",
       "      <td>31.235119</td>\n",
       "      <td>22.170214</td>\n",
       "    </tr>\n",
       "    <tr>\n",
       "      <th>979</th>\n",
       "      <td>-8.274404</td>\n",
       "      <td>32.453563</td>\n",
       "      <td>31.506086</td>\n",
       "      <td>20.140599</td>\n",
       "    </tr>\n",
       "    <tr>\n",
       "      <th>980</th>\n",
       "      <td>-10.478395</td>\n",
       "      <td>32.511552</td>\n",
       "      <td>32.738353</td>\n",
       "      <td>20.787416</td>\n",
       "    </tr>\n",
       "    <tr>\n",
       "      <th>981</th>\n",
       "      <td>-10.635845</td>\n",
       "      <td>30.185930</td>\n",
       "      <td>33.236326</td>\n",
       "      <td>21.511942</td>\n",
       "    </tr>\n",
       "    <tr>\n",
       "      <th>982</th>\n",
       "      <td>-10.362013</td>\n",
       "      <td>30.367559</td>\n",
       "      <td>32.156012</td>\n",
       "      <td>20.101287</td>\n",
       "    </tr>\n",
       "    <tr>\n",
       "      <th>983</th>\n",
       "      <td>-10.719909</td>\n",
       "      <td>30.812237</td>\n",
       "      <td>33.826107</td>\n",
       "      <td>20.418961</td>\n",
       "    </tr>\n",
       "    <tr>\n",
       "      <th>984</th>\n",
       "      <td>-12.270139</td>\n",
       "      <td>30.275061</td>\n",
       "      <td>33.519360</td>\n",
       "      <td>19.811016</td>\n",
       "    </tr>\n",
       "    <tr>\n",
       "      <th>985</th>\n",
       "      <td>-10.671214</td>\n",
       "      <td>32.609389</td>\n",
       "      <td>33.242730</td>\n",
       "      <td>20.474338</td>\n",
       "    </tr>\n",
       "    <tr>\n",
       "      <th>986</th>\n",
       "      <td>-11.047382</td>\n",
       "      <td>32.366152</td>\n",
       "      <td>33.062091</td>\n",
       "      <td>22.091042</td>\n",
       "    </tr>\n",
       "    <tr>\n",
       "      <th>987</th>\n",
       "      <td>-11.036700</td>\n",
       "      <td>31.214439</td>\n",
       "      <td>34.354671</td>\n",
       "      <td>23.864960</td>\n",
       "    </tr>\n",
       "    <tr>\n",
       "      <th>988</th>\n",
       "      <td>-12.036719</td>\n",
       "      <td>31.413006</td>\n",
       "      <td>33.319564</td>\n",
       "      <td>23.634014</td>\n",
       "    </tr>\n",
       "    <tr>\n",
       "      <th>989</th>\n",
       "      <td>-12.400106</td>\n",
       "      <td>33.425279</td>\n",
       "      <td>32.363988</td>\n",
       "      <td>23.371502</td>\n",
       "    </tr>\n",
       "    <tr>\n",
       "      <th>990</th>\n",
       "      <td>-11.850724</td>\n",
       "      <td>32.325559</td>\n",
       "      <td>32.645632</td>\n",
       "      <td>22.683858</td>\n",
       "    </tr>\n",
       "    <tr>\n",
       "      <th>991</th>\n",
       "      <td>-11.430526</td>\n",
       "      <td>31.459807</td>\n",
       "      <td>32.366829</td>\n",
       "      <td>23.792311</td>\n",
       "    </tr>\n",
       "    <tr>\n",
       "      <th>992</th>\n",
       "      <td>-10.997579</td>\n",
       "      <td>31.963968</td>\n",
       "      <td>32.891211</td>\n",
       "      <td>26.127389</td>\n",
       "    </tr>\n",
       "    <tr>\n",
       "      <th>993</th>\n",
       "      <td>-8.324010</td>\n",
       "      <td>30.732170</td>\n",
       "      <td>32.677336</td>\n",
       "      <td>25.361080</td>\n",
       "    </tr>\n",
       "    <tr>\n",
       "      <th>994</th>\n",
       "      <td>-8.893971</td>\n",
       "      <td>29.933527</td>\n",
       "      <td>32.755834</td>\n",
       "      <td>23.418596</td>\n",
       "    </tr>\n",
       "    <tr>\n",
       "      <th>995</th>\n",
       "      <td>-10.869524</td>\n",
       "      <td>30.328462</td>\n",
       "      <td>32.433207</td>\n",
       "      <td>23.016158</td>\n",
       "    </tr>\n",
       "    <tr>\n",
       "      <th>996</th>\n",
       "      <td>-11.025845</td>\n",
       "      <td>28.771976</td>\n",
       "      <td>32.028953</td>\n",
       "      <td>23.563183</td>\n",
       "    </tr>\n",
       "    <tr>\n",
       "      <th>997</th>\n",
       "      <td>-10.632177</td>\n",
       "      <td>29.096133</td>\n",
       "      <td>30.486827</td>\n",
       "      <td>20.934722</td>\n",
       "    </tr>\n",
       "    <tr>\n",
       "      <th>998</th>\n",
       "      <td>-10.704846</td>\n",
       "      <td>29.763874</td>\n",
       "      <td>30.762116</td>\n",
       "      <td>23.391536</td>\n",
       "    </tr>\n",
       "    <tr>\n",
       "      <th>999</th>\n",
       "      <td>-11.510977</td>\n",
       "      <td>30.687155</td>\n",
       "      <td>29.522402</td>\n",
       "      <td>25.084525</td>\n",
       "    </tr>\n",
       "  </tbody>\n",
       "</table>\n",
       "<p>1000 rows × 4 columns</p>\n",
       "</div>"
      ],
      "text/plain": [
       "             A          B          C          D\n",
       "0    -1.207826   0.487519   0.434231  -1.038355\n",
       "1    -0.536955   0.833874  -1.116938  -0.899863\n",
       "2     0.349789   0.929620  -1.495501  -1.684342\n",
       "3    -0.806949   1.248057  -0.741148  -0.120837\n",
       "4    -1.852329   2.292696  -2.264131  -0.619205\n",
       "5    -1.292691   4.623331  -2.834600  -0.237234\n",
       "6     0.384531   5.406718  -1.710399  -1.226784\n",
       "7    -0.841059   5.824120  -1.801215  -2.245401\n",
       "8    -0.837966   3.026029   0.340976  -3.486138\n",
       "9     0.883985   3.268889  -0.298830  -3.362193\n",
       "10    0.653387   5.418391   1.054690  -1.931437\n",
       "11   -1.860970   7.160167  -0.702636  -0.468613\n",
       "12   -0.642525   8.394142  -0.754678  -1.586133\n",
       "13   -1.831385   9.651047  -1.210122  -2.392809\n",
       "14   -2.344853   8.351759  -0.374795  -2.250634\n",
       "15   -2.737460   7.749126   0.466478  -0.667949\n",
       "16   -1.908834   8.806884  -0.233110  -0.199971\n",
       "17   -1.249042   8.957085  -1.711529   0.635471\n",
       "18   -0.384444  11.242955  -3.092352  -0.763045\n",
       "19   -0.839098  10.704612  -3.188045  -0.871866\n",
       "20   -1.281091  11.306781  -3.548254  -0.182546\n",
       "21   -0.725513  11.313558  -3.029797  -1.735232\n",
       "22   -1.298945  10.399563  -4.542651   0.571793\n",
       "23   -0.883682   9.325908  -4.876772   0.872796\n",
       "24   -0.918409   8.882065  -3.632049   0.964022\n",
       "25    0.316902   9.936673  -4.382772   0.734558\n",
       "26    1.842555   9.899160  -6.115941   1.438643\n",
       "27    1.682233   9.798868  -6.718052   0.721763\n",
       "28    2.050190  10.647106  -5.725607   1.580448\n",
       "29    2.124172  11.177415  -4.266263   3.351084\n",
       "..         ...        ...        ...        ...\n",
       "970  -5.118962  36.974640  35.257227  19.823202\n",
       "971  -5.403463  35.701251  34.990272  18.921969\n",
       "972  -5.230485  35.289029  33.427174  20.126893\n",
       "973  -5.796942  34.747800  33.091379  21.126460\n",
       "974  -6.956612  33.752174  33.418446  20.716418\n",
       "975  -7.651509  33.743130  32.693222  21.308346\n",
       "976  -7.143139  33.389388  32.722840  22.849662\n",
       "977  -7.133536  32.839201  31.088789  21.956470\n",
       "978  -8.419738  32.881178  31.235119  22.170214\n",
       "979  -8.274404  32.453563  31.506086  20.140599\n",
       "980 -10.478395  32.511552  32.738353  20.787416\n",
       "981 -10.635845  30.185930  33.236326  21.511942\n",
       "982 -10.362013  30.367559  32.156012  20.101287\n",
       "983 -10.719909  30.812237  33.826107  20.418961\n",
       "984 -12.270139  30.275061  33.519360  19.811016\n",
       "985 -10.671214  32.609389  33.242730  20.474338\n",
       "986 -11.047382  32.366152  33.062091  22.091042\n",
       "987 -11.036700  31.214439  34.354671  23.864960\n",
       "988 -12.036719  31.413006  33.319564  23.634014\n",
       "989 -12.400106  33.425279  32.363988  23.371502\n",
       "990 -11.850724  32.325559  32.645632  22.683858\n",
       "991 -11.430526  31.459807  32.366829  23.792311\n",
       "992 -10.997579  31.963968  32.891211  26.127389\n",
       "993  -8.324010  30.732170  32.677336  25.361080\n",
       "994  -8.893971  29.933527  32.755834  23.418596\n",
       "995 -10.869524  30.328462  32.433207  23.016158\n",
       "996 -11.025845  28.771976  32.028953  23.563183\n",
       "997 -10.632177  29.096133  30.486827  20.934722\n",
       "998 -10.704846  29.763874  30.762116  23.391536\n",
       "999 -11.510977  30.687155  29.522402  25.084525\n",
       "\n",
       "[1000 rows x 4 columns]"
      ]
     },
     "execution_count": 110,
     "metadata": {},
     "output_type": "execute_result"
    }
   ],
   "source": [
    "pd.read_csv('foo.csv')"
   ]
  }
 ],
 "metadata": {
  "kernelspec": {
   "display_name": "Python 3",
   "language": "python",
   "name": "python3"
  },
  "language_info": {
   "codemirror_mode": {
    "name": "ipython",
    "version": 3
   },
   "file_extension": ".py",
   "mimetype": "text/x-python",
   "name": "python",
   "nbconvert_exporter": "python",
   "pygments_lexer": "ipython3",
   "version": "3.6.5"
  }
 },
 "nbformat": 4,
 "nbformat_minor": 1
}
