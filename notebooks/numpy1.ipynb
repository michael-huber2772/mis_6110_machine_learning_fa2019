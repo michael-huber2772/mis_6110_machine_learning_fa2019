{
 "cells": [
  {
   "cell_type": "code",
   "execution_count": 1,
   "metadata": {},
   "outputs": [
    {
     "name": "stdout",
     "output_type": "stream",
     "text": [
      "(3,)\n",
      "10 25 350\n"
     ]
    }
   ],
   "source": [
    "#import numpy library\n",
    "import numpy\n",
    "\n",
    "#create a rank 1 array\n",
    "d = numpy.array([10, 25, 350])\n",
    "\n",
    "\n",
    "#Print the shape of the array\n",
    "print(d.shape)\n",
    "\n",
    "#Print the elements \n",
    "print(d[0], d[1], d[2])\n"
   ]
  },
  {
   "cell_type": "code",
   "execution_count": 4,
   "metadata": {},
   "outputs": [
    {
     "name": "stdout",
     "output_type": "stream",
     "text": [
      "[ 10  30 350]\n"
     ]
    }
   ],
   "source": [
    "#change an element of the array\n",
    "d[1] = 30\n",
    "\n",
    "\n",
    "#print the updated array\n",
    "print(d)"
   ]
  },
  {
   "cell_type": "code",
   "execution_count": 5,
   "metadata": {},
   "outputs": [
    {
     "name": "stdout",
     "output_type": "stream",
     "text": [
      "[10]\n"
     ]
    }
   ],
   "source": [
    "#array slicing is how to access a certain element of an array, this will print 10 (the first element)\n",
    "#(d[start:stop:step])\n",
    "\n",
    "print(d[0:1:1]) "
   ]
  },
  {
   "cell_type": "code",
   "execution_count": 8,
   "metadata": {},
   "outputs": [
    {
     "name": "stdout",
     "output_type": "stream",
     "text": [
      "[350]\n"
     ]
    }
   ],
   "source": [
    "print(d[-1:])"
   ]
  },
  {
   "cell_type": "code",
   "execution_count": 13,
   "metadata": {},
   "outputs": [
    {
     "name": "stdout",
     "output_type": "stream",
     "text": [
      "[10 30]\n"
     ]
    }
   ],
   "source": [
    "print(d[0:2])"
   ]
  },
  {
   "cell_type": "code",
   "execution_count": 17,
   "metadata": {},
   "outputs": [
    {
     "name": "stdout",
     "output_type": "stream",
     "text": [
      "[350  30  10]\n"
     ]
    }
   ],
   "source": [
    "print(d[ : :-1])"
   ]
  },
  {
   "cell_type": "code",
   "execution_count": 18,
   "metadata": {},
   "outputs": [
    {
     "name": "stdout",
     "output_type": "stream",
     "text": [
      "[ 10  30 350]\n"
     ]
    }
   ],
   "source": [
    "print(d[:])"
   ]
  },
  {
   "cell_type": "code",
   "execution_count": 22,
   "metadata": {},
   "outputs": [],
   "source": [
    "#import numpy library\n",
    "import numpy\n",
    "\n",
    "#create a rank 1 array\n",
    "d = numpy.array([10, 25, 350])"
   ]
  },
  {
   "cell_type": "code",
   "execution_count": 25,
   "metadata": {},
   "outputs": [
    {
     "name": "stdout",
     "output_type": "stream",
     "text": [
      "[350  25  10]\n"
     ]
    }
   ],
   "source": [
    "print(d[ : :-1])"
   ]
  },
  {
   "cell_type": "code",
   "execution_count": null,
   "metadata": {},
   "outputs": [],
   "source": []
  }
 ],
 "metadata": {
  "kernelspec": {
   "display_name": "Python 3",
   "language": "python",
   "name": "python3"
  },
  "language_info": {
   "codemirror_mode": {
    "name": "ipython",
    "version": 3
   },
   "file_extension": ".py",
   "mimetype": "text/x-python",
   "name": "python",
   "nbconvert_exporter": "python",
   "pygments_lexer": "ipython3",
   "version": "3.6.5"
  }
 },
 "nbformat": 4,
 "nbformat_minor": 2
}
