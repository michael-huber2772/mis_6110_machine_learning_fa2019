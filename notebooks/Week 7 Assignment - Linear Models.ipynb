{
 "cells": [
  {
   "cell_type": "markdown",
   "metadata": {},
   "source": [
    "# Week 7 Assignment - Linear Models\n",
    "\n",
    "In this assignment you'll explore the relationship between model complexity and generalization performance, by adjusting key parameters of various supervised learning models. Part 1 of this assignment will look at regression and Part 2 will look at classification.\n",
    "\n",
    "## Part 1 - Regression"
   ]
  },
  {
   "cell_type": "code",
   "execution_count": 1,
   "metadata": {},
   "outputs": [
    {
     "data": {
      "image/png": "[encoded data removed]",
      "text/plain": [
       "<Figure size 432x288 with 1 Axes>"
      ]
     },
     "metadata": {
      "needs_background": "light"
     },
     "output_type": "display_data"
    }
   ],
   "source": [
    "%matplotlib notebook\n",
    "%matplotlib inline\n",
    "\n",
    "import numpy as np\n",
    "import pandas as pd\n",
    "import matplotlib.pyplot as plt\n",
    "from sklearn.model_selection import train_test_split\n",
    "\n",
    "\n",
    "np.random.seed(0)#set the random seed.\n",
    "n = 15\n",
    "x = np.linspace(0,10,n) + np.random.randn(n)/5 \n",
    "#np.linspace(s,e,n) to generate n numbers from the range(s,e) with equal intervals. \n",
    "#np.random.randn(n) to generate n random numbers.\n",
    "y = np.sin(x)+x/6 + np.random.randn(n)/10 # create the 'real model'\n",
    "\n",
    "\n",
    "X_train, X_test, y_train, y_test = train_test_split(x, y, random_state=0)\n",
    "\n",
    "plt.figure()\n",
    "plt.scatter(X_train, y_train, label='training data')\n",
    "plt.scatter(X_test, y_test, label='test data')\n",
    "plt.legend(loc=4);\n"
   ]
  },
  {
   "cell_type": "markdown",
   "metadata": {},
   "source": [
    "### Question 1\n",
    "\n",
    "Write code that fits a polynomial LinearRegression model on the *training data* `X_train` for degrees 1, 3, 6, and 9. \n",
    "\n",
    "(Use for loop.)\n",
    "\n",
    "(Use PolynomialFeatures in sklearn.preprocessing to create the polynomial features and then fit a linear regression model)\n",
    "\n",
    "> `poly = PolynomialFeatures(degree=n)`\n",
    "\n",
    "> `X_train_poly = poly.fit_transform(X_train.reshape(-1,1))`\n",
    "\n",
    "> `linreg=LinearRegression().fit(X_train_poly, y_train)`\n",
    "\n",
    "**2D data should be passed to polynomialfeature transformation and prediction, so you need use `.reshape(-1,1)` to X_train.**\n",
    "\n",
    "For each model (degree 1,3,6,9), find 100 predicted values over the interval x = 0 to 10 (e.g. `np.linspace(0,10,100)`).  \n",
    "> `p=np.linspace(0,10,100)`\n",
    "\n",
    "** Remember you need use poly transform on new data too.**\n",
    "\n",
    "> `p_poly=poly.fit_transform(p.reshape(-1,1))`\n",
    "\n",
    "> `pred_y=linreg.predict(p_poly)`\n",
    "\n",
    "Store the prediction in a numpy array. The first row of this array should correspond to the output from the model trained on degree 1, the second row degree 3, the third row degree 6, and the fourth row degree 9.\n",
    "\n",
    "The shape of pred_y is (100,)\n",
    "\n",
    "There are many ways to do this, here is one way, easier understood by beginners.\n",
    "\n",
    "use a list to append pred_y, say, \n",
    "\n",
    "> `answer=[]# you need put this in right place`\n",
    "\n",
    "> `answer.append(pred_y)`\n",
    "\n",
    "and then use \n",
    "\n",
    "> answer_1=np.stack(answer)\n",
    "\n",
    "> answer_1.shape\n",
    "\n",
    "**This code should return a numpy array with shape `(4, 100)`**"
   ]
  },
  {
   "cell_type": "markdown",
   "metadata": {},
   "source": [
    "Check the shape of X_train"
   ]
  },
  {
   "cell_type": "code",
   "execution_count": 2,
   "metadata": {},
   "outputs": [
    {
     "data": {
      "text/plain": [
       "(11,)"
      ]
     },
     "execution_count": 2,
     "metadata": {},
     "output_type": "execute_result"
    }
   ],
   "source": [
    "X_train.shape"
   ]
  },
  {
   "cell_type": "markdown",
   "metadata": {},
   "source": [
    "Check the shape of X_train.reshape(-1,1)"
   ]
  },
  {
   "cell_type": "code",
   "execution_count": 3,
   "metadata": {},
   "outputs": [
    {
     "data": {
      "text/plain": [
       "(11, 1)"
      ]
     },
     "execution_count": 3,
     "metadata": {},
     "output_type": "execute_result"
    }
   ],
   "source": [
    "X_train.reshape(-1,1).shape"
   ]
  },
  {
   "cell_type": "code",
   "execution_count": 4,
   "metadata": {},
   "outputs": [
    {
     "name": "stdout",
     "output_type": "stream",
     "text": [
      "<class 'numpy.ndarray'>\n"
     ]
    }
   ],
   "source": [
    "print(type(X_train))"
   ]
  },
  {
   "cell_type": "markdown",
   "metadata": {},
   "source": [
    "### Type Your code below, use answer_1 to store the predicted values."
   ]
  },
  {
   "cell_type": "code",
   "execution_count": 6,
   "metadata": {},
   "outputs": [
    {
     "data": {
      "text/plain": [
       "array([[ 2.53040195e-01,  2.69201547e-01,  2.85362899e-01,\n",
       "         3.01524251e-01,  3.17685603e-01,  3.33846955e-01,\n",
       "         3.50008306e-01,  3.66169658e-01,  3.82331010e-01,\n",
       "         3.98492362e-01,  4.14653714e-01,  4.30815066e-01,\n",
       "         4.46976417e-01,  4.63137769e-01,  4.79299121e-01,\n",
       "         4.95460473e-01,  5.11621825e-01,  5.27783177e-01,\n",
       "         5.43944529e-01,  5.60105880e-01,  5.76267232e-01,\n",
       "         5.92428584e-01,  6.08589936e-01,  6.24751288e-01,\n",
       "         6.40912640e-01,  6.57073992e-01,  6.73235343e-01,\n",
       "         6.89396695e-01,  7.05558047e-01,  7.21719399e-01,\n",
       "         7.37880751e-01,  7.54042103e-01,  7.70203454e-01,\n",
       "         7.86364806e-01,  8.02526158e-01,  8.18687510e-01,\n",
       "         8.34848862e-01,  8.51010214e-01,  8.67171566e-01,\n",
       "         8.83332917e-01,  8.99494269e-01,  9.15655621e-01,\n",
       "         9.31816973e-01,  9.47978325e-01,  9.64139677e-01,\n",
       "         9.80301028e-01,  9.96462380e-01,  1.01262373e+00,\n",
       "         1.02878508e+00,  1.04494644e+00,  1.06110779e+00,\n",
       "         1.07726914e+00,  1.09343049e+00,  1.10959184e+00,\n",
       "         1.12575320e+00,  1.14191455e+00,  1.15807590e+00,\n",
       "         1.17423725e+00,  1.19039860e+00,  1.20655995e+00,\n",
       "         1.22272131e+00,  1.23888266e+00,  1.25504401e+00,\n",
       "         1.27120536e+00,  1.28736671e+00,  1.30352807e+00,\n",
       "         1.31968942e+00,  1.33585077e+00,  1.35201212e+00,\n",
       "         1.36817347e+00,  1.38433482e+00,  1.40049618e+00,\n",
       "         1.41665753e+00,  1.43281888e+00,  1.44898023e+00,\n",
       "         1.46514158e+00,  1.48130294e+00,  1.49746429e+00,\n",
       "         1.51362564e+00,  1.52978699e+00,  1.54594834e+00,\n",
       "         1.56210969e+00,  1.57827105e+00,  1.59443240e+00,\n",
       "         1.61059375e+00,  1.62675510e+00,  1.64291645e+00,\n",
       "         1.65907781e+00,  1.67523916e+00,  1.69140051e+00,\n",
       "         1.70756186e+00,  1.72372321e+00,  1.73988457e+00,\n",
       "         1.75604592e+00,  1.77220727e+00,  1.78836862e+00,\n",
       "         1.80452997e+00,  1.82069132e+00,  1.83685268e+00,\n",
       "         1.85301403e+00],\n",
       "       [ 1.22989539e+00,  1.15143628e+00,  1.07722393e+00,\n",
       "         1.00717881e+00,  9.41221419e-01,  8.79272234e-01,\n",
       "         8.21251741e-01,  7.67080426e-01,  7.16678772e-01,\n",
       "         6.69967266e-01,  6.26866391e-01,  5.87296632e-01,\n",
       "         5.51178474e-01,  5.18432402e-01,  4.88978901e-01,\n",
       "         4.62738455e-01,  4.39631549e-01,  4.19578668e-01,\n",
       "         4.02500297e-01,  3.88316920e-01,  3.76949022e-01,\n",
       "         3.68317088e-01,  3.62341603e-01,  3.58943051e-01,\n",
       "         3.58041918e-01,  3.59558687e-01,  3.63413845e-01,\n",
       "         3.69527874e-01,  3.77821261e-01,  3.88214491e-01,\n",
       "         4.00628046e-01,  4.14982414e-01,  4.31198078e-01,\n",
       "         4.49195522e-01,  4.68895233e-01,  4.90217694e-01,\n",
       "         5.13083391e-01,  5.37412808e-01,  5.63126429e-01,\n",
       "         5.90144741e-01,  6.18388226e-01,  6.47777371e-01,\n",
       "         6.78232660e-01,  7.09674578e-01,  7.42023609e-01,\n",
       "         7.75200238e-01,  8.09124950e-01,  8.43718230e-01,\n",
       "         8.78900563e-01,  9.14592432e-01,  9.50714324e-01,\n",
       "         9.87186723e-01,  1.02393011e+00,  1.06086498e+00,\n",
       "         1.09791181e+00,  1.13499108e+00,  1.17202328e+00,\n",
       "         1.20892890e+00,  1.24562842e+00,  1.28204233e+00,\n",
       "         1.31809110e+00,  1.35369523e+00,  1.38877520e+00,\n",
       "         1.42325149e+00,  1.45704459e+00,  1.49007498e+00,\n",
       "         1.52226316e+00,  1.55352959e+00,  1.58379478e+00,\n",
       "         1.61297919e+00,  1.64100332e+00,  1.66778766e+00,\n",
       "         1.69325268e+00,  1.71731887e+00,  1.73990672e+00,\n",
       "         1.76093671e+00,  1.78032933e+00,  1.79800506e+00,\n",
       "         1.81388438e+00,  1.82788778e+00,  1.83993575e+00,\n",
       "         1.84994877e+00,  1.85784732e+00,  1.86355189e+00,\n",
       "         1.86698296e+00,  1.86806103e+00,  1.86670656e+00,\n",
       "         1.86284006e+00,  1.85638200e+00,  1.84725286e+00,\n",
       "         1.83537314e+00,  1.82066332e+00,  1.80304388e+00,\n",
       "         1.78243530e+00,  1.75875808e+00,  1.73193269e+00,\n",
       "         1.70187963e+00,  1.66851936e+00,  1.63177240e+00,\n",
       "         1.59155920e+00],\n",
       "       [-1.99554310e-01, -3.95192728e-03,  1.79851752e-01,\n",
       "         3.51005136e-01,  5.08831706e-01,  6.52819233e-01,\n",
       "         7.82609240e-01,  8.97986721e-01,  9.98870117e-01,\n",
       "         1.08530155e+00,  1.15743729e+00,  1.21553852e+00,\n",
       "         1.25996233e+00,  1.29115292e+00,  1.30963316e+00,\n",
       "         1.31599632e+00,  1.31089811e+00,  1.29504889e+00,\n",
       "         1.26920626e+00,  1.23416782e+00,  1.19076415e+00,\n",
       "         1.13985218e+00,  1.08230867e+00,  1.01902405e+00,\n",
       "         9.50896441e-01,  8.78825970e-01,  8.03709344e-01,\n",
       "         7.26434655e-01,  6.47876457e-01,  5.68891088e-01,\n",
       "         4.90312256e-01,  4.12946874e-01,  3.37571147e-01,\n",
       "         2.64926923e-01,  1.95718291e-01,  1.30608438e-01,\n",
       "         7.02167560e-02,  1.51162118e-02, -3.41690366e-02,\n",
       "        -7.71657636e-02, -1.13453547e-01, -1.42666382e-01,\n",
       "        -1.64494044e-01, -1.78683194e-01, -1.85038228e-01,\n",
       "        -1.83421873e-01, -1.73755533e-01, -1.56019368e-01,\n",
       "        -1.30252132e-01, -9.65507462e-02, -5.50696232e-02,\n",
       "        -6.01973201e-03,  5.03325883e-02,  1.13667071e-01,\n",
       "         1.83611221e-01,  2.59742264e-01,  3.41589357e-01,\n",
       "         4.28636046e-01,  5.20322987e-01,  6.16050916e-01,\n",
       "         7.15183874e-01,  8.17052690e-01,  9.20958717e-01,\n",
       "         1.02617782e+00,  1.13196463e+00,  1.23755703e+00,\n",
       "         1.34218093e+00,  1.44505526e+00,  1.54539723e+00,\n",
       "         1.64242789e+00,  1.73537785e+00,  1.82349336e+00,\n",
       "         1.90604254e+00,  1.98232198e+00,  2.05166348e+00,\n",
       "         2.11344114e+00,  2.16707864e+00,  2.21205680e+00,\n",
       "         2.24792141e+00,  2.27429129e+00,  2.29086658e+00,\n",
       "         2.29743739e+00,  2.29389257e+00,  2.28022881e+00,\n",
       "         2.25656001e+00,  2.22312684e+00,  2.18030664e+00,\n",
       "         2.12862347e+00,  2.06875850e+00,  2.00156065e+00,\n",
       "         1.92805743e+00,  1.84946605e+00,  1.76720485e+00,\n",
       "         1.68290491e+00,  1.59842194e+00,  1.51584842e+00,\n",
       "         1.43752602e+00,  1.36605824e+00,  1.30432333e+00,\n",
       "         1.25548743e+00],\n",
       "       [ 6.79500612e+00,  4.14318998e+00,  2.23122867e+00,\n",
       "         9.10494377e-01,  5.49813276e-02, -4.41342236e-01,\n",
       "        -6.66947662e-01, -6.94940004e-01, -5.85046923e-01,\n",
       "        -3.85416091e-01, -1.34234180e-01,  1.38819992e-01,\n",
       "         4.11276218e-01,  6.66716104e-01,  8.93747846e-01,\n",
       "         1.08510221e+00,  1.23683987e+00,  1.34766072e+00,\n",
       "         1.41830637e+00,  1.45104735e+00,  1.44924714e+00,\n",
       "         1.41699564e+00,  1.35880484e+00,  1.27936035e+00,\n",
       "         1.18332239e+00,  1.07517056e+00,  9.59087037e-01,\n",
       "         8.38873059e-01,  7.17894199e-01,  5.99050039e-01,\n",
       "         4.84764363e-01,  3.76992216e-01,  2.77240570e-01,\n",
       "         1.86599593e-01,  1.05781836e-01,  3.51669308e-02,\n",
       "        -2.51503343e-02, -7.53104392e-02, -1.15639691e-01,\n",
       "        -1.46602307e-01, -1.68755204e-01, -1.82706444e-01,\n",
       "        -1.89078113e-01, -1.88474202e-01, -1.81453906e-01,\n",
       "        -1.68510572e-01, -1.50056387e-01, -1.26412780e-01,\n",
       "        -9.78063396e-02, -6.43699860e-02, -2.61489964e-02,\n",
       "         1.68885845e-02,  6.48377042e-02,  1.17838850e-01,\n",
       "         1.76058056e-01,  2.39665079e-01,  3.08810491e-01,\n",
       "         3.83602438e-01,  4.64083831e-01,  5.50210732e-01,\n",
       "         6.41832652e-01,  7.38675488e-01,  8.40327741e-01,\n",
       "         9.46230632e-01,  1.05567264e+00,  1.16778895e+00,\n",
       "         1.28156611e+00,  1.39585223e+00,  1.50937286e+00,\n",
       "         1.62075248e+00,  1.72854158e+00,  1.83124901e+00,\n",
       "         1.92737915e+00,  2.01547329e+00,  2.09415438e+00,\n",
       "         2.16217430e+00,  2.21846210e+00,  2.26217218e+00,\n",
       "         2.29273035e+00,  2.30987610e+00,  2.31369872e+00,\n",
       "         2.30466493e+00,  2.28363515e+00,  2.25186546e+00,\n",
       "         2.21099178e+00,  2.16299270e+00,  2.11012689e+00,\n",
       "         2.05484069e+00,  1.99964122e+00,  1.94692990e+00,\n",
       "         1.89879087e+00,  1.85672849e+00,  1.82134767e+00,\n",
       "         1.79197016e+00,  1.76617995e+00,  1.73928997e+00,\n",
       "         1.70372222e+00,  1.64829275e+00,  1.55739256e+00,\n",
       "         1.41005493e+00]])"
      ]
     },
     "execution_count": 6,
     "metadata": {},
     "output_type": "execute_result"
    }
   ],
   "source": [
    "from sklearn.linear_model import LinearRegression\n",
    "from sklearn.preprocessing import PolynomialFeatures\n",
    "\n",
    "# Type Your code below, use answer_1 to store the predicted values.\n",
    "\n",
    "answer=[]\n",
    "\n",
    "for n in [1, 3, 6, 9]:\n",
    "    poly = PolynomialFeatures(degree=n)\n",
    "    X_train_poly = poly.fit_transform(X_train.reshape(-1,1))\n",
    "    linreg=LinearRegression().fit(X_train_poly, y_train)\n",
    "    p=np.linspace(0,10,100)\n",
    "    p_poly=poly.fit_transform(p.reshape(-1,1))\n",
    "    pred_y=linreg.predict(p_poly)\n",
    "    \n",
    "    p_poly=poly.fit_transform(p.reshape(-1,1))\n",
    "    answer.append(pred_y)\n",
    "    \n",
    "    answer_1=np.stack(answer)\n",
    "    answer_1.shape\n",
    "\n",
    "\n",
    "\n",
    "\n",
    "answer_1        \n"
   ]
  },
  {
   "cell_type": "markdown",
   "metadata": {},
   "source": [
    "Check the shape of answer_1"
   ]
  },
  {
   "cell_type": "code",
   "execution_count": 7,
   "metadata": {},
   "outputs": [
    {
     "data": {
      "text/plain": [
       "(4, 100)"
      ]
     },
     "execution_count": 7,
     "metadata": {},
     "output_type": "execute_result"
    }
   ],
   "source": [
    "answer_1.shape"
   ]
  },
  {
   "cell_type": "markdown",
   "metadata": {},
   "source": [
    "### Plot the prediction use the following function, make sure type the right numpy array name in the function"
   ]
  },
  {
   "cell_type": "code",
   "execution_count": 8,
   "metadata": {},
   "outputs": [
    {
     "data": {
      "image/png": "[encoded data removed]",
      "text/plain": [
       "<Figure size 720x360 with 1 Axes>"
      ]
     },
     "metadata": {
      "needs_background": "light"
     },
     "output_type": "display_data"
    }
   ],
   "source": [
    "def plot_one(degree_predictions):\n",
    "    plt.figure(figsize=(10,5))\n",
    "    plt.plot(X_train, y_train, 'o', label='training data', markersize=10)\n",
    "    plt.plot(X_test, y_test, 'o', label='test data', markersize=10)\n",
    "    for i,degree in enumerate([1,3,6,9]):\n",
    "        plt.plot(np.linspace(0,10,100), degree_predictions[i], alpha=0.8, lw=2, label='degree={}'.format(degree))\n",
    "    plt.ylim(-1,2.5)\n",
    "    plt.legend(loc=4)\n",
    "\n",
    "plot_one(answer_1)"
   ]
  },
  {
   "cell_type": "markdown",
   "metadata": {},
   "source": [
    "#### What can you tell from the picture above? Which models are overfitting, and which ones are underfitting? type below"
   ]
  },
  {
   "cell_type": "markdown",
   "metadata": {},
   "source": [
    "degree = 1 is underfits the model by a lot. All it does is draw a line with a similar slope of the overall graph.\n",
    "\n",
    "degree = 3 also underfits the model. It starts off curving in the wrong direction.\n",
    "\n",
    "degree = 6 seems to be the best fit to the model. Most of the test data falls on the plotted path or is near to the path along with following the path of the training data as well.\n",
    "\n",
    "degree = 9 over fits the data, and seems to be more fit to the training data."
   ]
  },
  {
   "cell_type": "markdown",
   "metadata": {},
   "source": [
    "### Question 2\n",
    "\n",
    "Write code that fits a polynomial LinearRegression model on the training data `X_train` for degrees 0 through 9. For each model compute the $R^2$ (coefficient of determination) regression score on the training data as well as the the test data,save the results into a pandas dataframe, use colomn names `['n degree','R2 on train','R2 on test']`\n",
    "\n",
    "Remeber to reshape X_train, and X_test as in question 1\n",
    "\n",
    "To get $R^2$, you can use\n",
    "> `linreg.score(X_train_poly,y_train)`\n",
    "\n",
    "Sort descendingly on 'R2 on test'"
   ]
  },
  {
   "cell_type": "code",
   "execution_count": 27,
   "metadata": {},
   "outputs": [
    {
     "data": {
      "text/html": [
       "<div>\n",
       "<style scoped>\n",
       "    .dataframe tbody tr th:only-of-type {\n",
       "        vertical-align: middle;\n",
       "    }\n",
       "\n",
       "    .dataframe tbody tr th {\n",
       "        vertical-align: top;\n",
       "    }\n",
       "\n",
       "    .dataframe thead th {\n",
       "        text-align: right;\n",
       "    }\n",
       "</style>\n",
       "<table border=\"1\" class=\"dataframe\">\n",
       "  <thead>\n",
       "    <tr style=\"text-align: right;\">\n",
       "      <th></th>\n",
       "      <th>n degree</th>\n",
       "      <th>R2 on train</th>\n",
       "      <th>R2 on test</th>\n",
       "    </tr>\n",
       "  </thead>\n",
       "  <tbody>\n",
       "    <tr>\n",
       "      <th>0</th>\n",
       "      <td>0</td>\n",
       "      <td>0.000000</td>\n",
       "      <td>-0.478086</td>\n",
       "    </tr>\n",
       "    <tr>\n",
       "      <th>1</th>\n",
       "      <td>1</td>\n",
       "      <td>0.429246</td>\n",
       "      <td>-0.452371</td>\n",
       "    </tr>\n",
       "    <tr>\n",
       "      <th>2</th>\n",
       "      <td>2</td>\n",
       "      <td>0.451100</td>\n",
       "      <td>-0.068570</td>\n",
       "    </tr>\n",
       "    <tr>\n",
       "      <th>3</th>\n",
       "      <td>3</td>\n",
       "      <td>0.587200</td>\n",
       "      <td>0.005331</td>\n",
       "    </tr>\n",
       "    <tr>\n",
       "      <th>4</th>\n",
       "      <td>4</td>\n",
       "      <td>0.919419</td>\n",
       "      <td>0.730049</td>\n",
       "    </tr>\n",
       "    <tr>\n",
       "      <th>5</th>\n",
       "      <td>5</td>\n",
       "      <td>0.975786</td>\n",
       "      <td>0.877083</td>\n",
       "    </tr>\n",
       "    <tr>\n",
       "      <th>6</th>\n",
       "      <td>6</td>\n",
       "      <td>0.990182</td>\n",
       "      <td>0.921409</td>\n",
       "    </tr>\n",
       "    <tr>\n",
       "      <th>7</th>\n",
       "      <td>7</td>\n",
       "      <td>0.993525</td>\n",
       "      <td>0.920215</td>\n",
       "    </tr>\n",
       "    <tr>\n",
       "      <th>8</th>\n",
       "      <td>8</td>\n",
       "      <td>0.996375</td>\n",
       "      <td>0.632480</td>\n",
       "    </tr>\n",
       "    <tr>\n",
       "      <th>9</th>\n",
       "      <td>9</td>\n",
       "      <td>0.998037</td>\n",
       "      <td>-0.645248</td>\n",
       "    </tr>\n",
       "  </tbody>\n",
       "</table>\n",
       "</div>"
      ],
      "text/plain": [
       "   n degree  R2 on train  R2 on test\n",
       "0         0     0.000000   -0.478086\n",
       "1         1     0.429246   -0.452371\n",
       "2         2     0.451100   -0.068570\n",
       "3         3     0.587200    0.005331\n",
       "4         4     0.919419    0.730049\n",
       "5         5     0.975786    0.877083\n",
       "6         6     0.990182    0.921409\n",
       "7         7     0.993525    0.920215\n",
       "8         8     0.996375    0.632480\n",
       "9         9     0.998037   -0.645248"
      ]
     },
     "execution_count": 27,
     "metadata": {},
     "output_type": "execute_result"
    }
   ],
   "source": [
    "from sklearn.linear_model import LinearRegression\n",
    "from sklearn.preprocessing import PolynomialFeatures\n",
    "import pandas as pd\n",
    "\n",
    "# Your code here\n",
    "# X_train.reshape(-1,1)\n",
    "# X_test.reshape(-1,1)\n",
    "answer=[]\n",
    "\n",
    "for n in range(10):\n",
    "    poly = PolynomialFeatures(degree=n)\n",
    "    X_train_poly = poly.fit_transform(X_train.reshape(-1,1))\n",
    "    X_test_poly = poly.fit_transform(X_test.reshape(-1,1))\n",
    "    linreg=LinearRegression().fit(X_train_poly, y_train)\n",
    "    answer.append((n, linreg.score(X_train_poly,y_train), linreg.score(X_test_poly,y_test))) \n",
    "    answer_2 = pd.DataFrame(answer,columns=['n degree','R2 on train','R2 on test']) \n",
    "\n",
    "answer_2 "
   ]
  },
  {
   "cell_type": "code",
   "execution_count": 28,
   "metadata": {},
   "outputs": [
    {
     "data": {
      "text/html": [
       "<div>\n",
       "<style scoped>\n",
       "    .dataframe tbody tr th:only-of-type {\n",
       "        vertical-align: middle;\n",
       "    }\n",
       "\n",
       "    .dataframe tbody tr th {\n",
       "        vertical-align: top;\n",
       "    }\n",
       "\n",
       "    .dataframe thead th {\n",
       "        text-align: right;\n",
       "    }\n",
       "</style>\n",
       "<table border=\"1\" class=\"dataframe\">\n",
       "  <thead>\n",
       "    <tr style=\"text-align: right;\">\n",
       "      <th></th>\n",
       "      <th>n degree</th>\n",
       "      <th>R2 on train</th>\n",
       "      <th>R2 on test</th>\n",
       "    </tr>\n",
       "  </thead>\n",
       "  <tbody>\n",
       "    <tr>\n",
       "      <th>6</th>\n",
       "      <td>6</td>\n",
       "      <td>0.990182</td>\n",
       "      <td>0.921409</td>\n",
       "    </tr>\n",
       "    <tr>\n",
       "      <th>7</th>\n",
       "      <td>7</td>\n",
       "      <td>0.993525</td>\n",
       "      <td>0.920215</td>\n",
       "    </tr>\n",
       "    <tr>\n",
       "      <th>5</th>\n",
       "      <td>5</td>\n",
       "      <td>0.975786</td>\n",
       "      <td>0.877083</td>\n",
       "    </tr>\n",
       "    <tr>\n",
       "      <th>4</th>\n",
       "      <td>4</td>\n",
       "      <td>0.919419</td>\n",
       "      <td>0.730049</td>\n",
       "    </tr>\n",
       "    <tr>\n",
       "      <th>8</th>\n",
       "      <td>8</td>\n",
       "      <td>0.996375</td>\n",
       "      <td>0.632480</td>\n",
       "    </tr>\n",
       "    <tr>\n",
       "      <th>3</th>\n",
       "      <td>3</td>\n",
       "      <td>0.587200</td>\n",
       "      <td>0.005331</td>\n",
       "    </tr>\n",
       "    <tr>\n",
       "      <th>2</th>\n",
       "      <td>2</td>\n",
       "      <td>0.451100</td>\n",
       "      <td>-0.068570</td>\n",
       "    </tr>\n",
       "    <tr>\n",
       "      <th>1</th>\n",
       "      <td>1</td>\n",
       "      <td>0.429246</td>\n",
       "      <td>-0.452371</td>\n",
       "    </tr>\n",
       "    <tr>\n",
       "      <th>0</th>\n",
       "      <td>0</td>\n",
       "      <td>0.000000</td>\n",
       "      <td>-0.478086</td>\n",
       "    </tr>\n",
       "    <tr>\n",
       "      <th>9</th>\n",
       "      <td>9</td>\n",
       "      <td>0.998037</td>\n",
       "      <td>-0.645248</td>\n",
       "    </tr>\n",
       "  </tbody>\n",
       "</table>\n",
       "</div>"
      ],
      "text/plain": [
       "   n degree  R2 on train  R2 on test\n",
       "6         6     0.990182    0.921409\n",
       "7         7     0.993525    0.920215\n",
       "5         5     0.975786    0.877083\n",
       "4         4     0.919419    0.730049\n",
       "8         8     0.996375    0.632480\n",
       "3         3     0.587200    0.005331\n",
       "2         2     0.451100   -0.068570\n",
       "1         1     0.429246   -0.452371\n",
       "0         0     0.000000   -0.478086\n",
       "9         9     0.998037   -0.645248"
      ]
     },
     "execution_count": 28,
     "metadata": {},
     "output_type": "execute_result"
    }
   ],
   "source": [
    "answer_2.sort_values(['R2 on test'],ascending=[0])"
   ]
  },
  {
   "cell_type": "markdown",
   "metadata": {},
   "source": [
    "### Question 3\n",
    "\n",
    "Based on the $R^2$ scores from question 2 (degree levels 0 through 9), what degree level corresponds to a model that is underfitting? What degree level corresponds to a model that is overfitting? What choice of degree level would provide a model with good generalization performance on this dataset? Note: there may be multiple correct solutions to this question.\n",
    "\n",
    "Type answer below\n",
    "\n",
    "\n"
   ]
  },
  {
   "cell_type": "markdown",
   "metadata": {},
   "source": [
    "Degree levels that are underfitting: 0, 1, 2, 3\n",
    "\n",
    "Degree levels that are overfitting: 9, 8, 4\n",
    "\n",
    "Degree level 6 appears to be the best fit for the model overall. But 7 is close as well and then 5 is not that far off either."
   ]
  },
  {
   "cell_type": "markdown",
   "metadata": {},
   "source": [
    "### Bonus (2 points)\n",
    "Try plotting the $R^2$ scores from question 2 to visualize the relationship."
   ]
  },
  {
   "cell_type": "code",
   "execution_count": 32,
   "metadata": {},
   "outputs": [
    {
     "data": {
      "text/plain": [
       "<matplotlib.collections.PathCollection at 0x2ae78fa05c0>"
      ]
     },
     "execution_count": 32,
     "metadata": {},
     "output_type": "execute_result"
    },
    {
     "data": {
      "image/png": "[encoded data removed]",
      "text/plain": [
       "<Figure size 432x288 with 1 Axes>"
      ]
     },
     "metadata": {
      "needs_background": "light"
     },
     "output_type": "display_data"
    }
   ],
   "source": [
    "plt.scatter(answer_2['R2 on train'], answer_2['R2 on test'])"
   ]
  },
  {
   "cell_type": "markdown",
   "metadata": {},
   "source": [
    "### Question 4\n",
    "\n",
    "Training models on high degree polynomial features can result in overfitting. Train two models: a non-regularized LinearRegression model and a Lasso Regression model (with parameters `alpha=0.01`, `max_iter=10000`) on polynomial features of degree 12. Return the $R^2$ score for LinearRegression and Lasso model's test sets.\n",
    "\n",
    "**Note, $R^2$ could be negative here, meaning it can be arbitrarily worse.**"
   ]
  },
  {
   "cell_type": "code",
   "execution_count": 92,
   "metadata": {},
   "outputs": [
    {
     "name": "stdout",
     "output_type": "stream",
     "text": [
      "LinearRegression R^2 value: -4.311980555741178, Lasso R^2 value0.8406625614750356\n"
     ]
    },
    {
     "name": "stderr",
     "output_type": "stream",
     "text": [
      "C:\\Users\\micha\\Anaconda3\\lib\\site-packages\\sklearn\\linear_model\\coordinate_descent.py:491: ConvergenceWarning: Objective did not converge. You might want to increase the number of iterations. Fitting data with very small alpha may cause precision problems.\n",
      "  ConvergenceWarning)\n"
     ]
    }
   ],
   "source": [
    "from sklearn.preprocessing import PolynomialFeatures\n",
    "from sklearn.linear_model import Lasso, LinearRegression\n",
    "from sklearn.metrics.regression import r2_score\n",
    "\n",
    "# Your code here\n",
    "poly = PolynomialFeatures(degree=12)\n",
    "X_train_poly = poly.fit_transform(X_train.reshape(-1,1))\n",
    "X_test_poly = poly.fit_transform(X_test.reshape(-1,1))\n",
    "linreg = LinearRegression().fit(X_train_poly, y_train)\n",
    "lin_score = linreg.score(X_test_poly, y_test)\n",
    "\n",
    "\n",
    "linlasso = Lasso(alpha=0.01, max_iter = 10000).fit(X_train_poly, y_train)\n",
    "lasso_score = linlasso.score(X_test_poly, y_test)\n",
    "\n",
    "answer_4 = (f'LinearRegression R^2 value: {lin_score}, Lasso R^2 value{lasso_score}')# Your answer here\n",
    "print(answer_4)\n"
   ]
  },
  {
   "cell_type": "code",
   "execution_count": null,
   "metadata": {},
   "outputs": [],
   "source": []
  }
 ],
 "metadata": {
  "coursera": {
   "course_slug": "python-machine-learning",
   "graded_item_id": "eWYHL",
   "launcher_item_id": "BAqef",
   "part_id": "fXXRp"
  },
  "kernelspec": {
   "display_name": "Python 3",
   "language": "python",
   "name": "python3"
  },
  "language_info": {
   "codemirror_mode": {
    "name": "ipython",
    "version": 3
   },
   "file_extension": ".py",
   "mimetype": "text/x-python",
   "name": "python",
   "nbconvert_exporter": "python",
   "pygments_lexer": "ipython3",
   "version": "3.6.5"
  }
 },
 "nbformat": 4,
 "nbformat_minor": 4
}
