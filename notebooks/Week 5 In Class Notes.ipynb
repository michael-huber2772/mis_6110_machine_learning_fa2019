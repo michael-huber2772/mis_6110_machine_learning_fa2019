{
 "cells": [
  {
   "cell_type": "markdown",
   "metadata": {},
   "source": [
    "## Zillow Example"
   ]
  },
  {
   "cell_type": "markdown",
   "metadata": {},
   "source": [
    "1. Business Understanding: The goal is to predict the sales price of properties in Salt Lake City, UT\n",
    "\n",
    "2. Getting the data: what data doo we need?\n",
    "\n",
    "3. Prprocessing the data\n",
    "\n",
    "4. Analyzing the data/data modeling\n",
    "\n",
    "5. Evaluating the model"
   ]
  },
  {
   "cell_type": "markdown",
   "metadata": {},
   "source": [
    "**Step 2: getting the data**\n",
    "    - What?\n",
    "    - Where?\n",
    "    - How Many?\n",
    "    - How?"
   ]
  },
  {
   "cell_type": "markdown",
   "metadata": {},
   "source": [
    "collect the data for October and november\n",
    "\n",
    "What variables do I need?\n",
    "    - Address\n",
    "    - Days on the Market\n",
    "    - Number of Bedrooms\n",
    "    - Number of Bathrooms\n",
    "    - Square footage\n",
    "    - Neighborhood\n",
    "    - Crime Rate\n",
    "    - Month of the sale\n",
    "    - Nearby schools\n",
    "    - School Rating"
   ]
  },
  {
   "cell_type": "code",
   "execution_count": 2,
   "metadata": {},
   "outputs": [],
   "source": [
    "import requests\n",
    "from bs4 import BeautifulSoup\n",
    "import pandas as pd\n",
    "import json\n",
    "import time"
   ]
  },
  {
   "cell_type": "code",
   "execution_count": null,
   "metadata": {},
   "outputs": [],
   "source": [
    "url=\"https://www.zillow.com/salt-lake-city-ut/sold/\"\n",
    "headers = {'user-agent': 'Mozilla/5.0 (Macintosh; Intel Mac OS X 10_10_1) AppleWebKit/537.36 (KHTML, like Gecko)'}\n",
    "r = requests.get(url, headers=headers)\n",
    "soup = BeautifulSoup(r.text, 'html.parser')"
   ]
  }
 ],
 "metadata": {
  "kernelspec": {
   "display_name": "Python 3",
   "language": "python",
   "name": "python3"
  },
  "language_info": {
   "codemirror_mode": {
    "name": "ipython",
    "version": 3
   },
   "file_extension": ".py",
   "mimetype": "text/x-python",
   "name": "python",
   "nbconvert_exporter": "python",
   "pygments_lexer": "ipython3",
   "version": "3.6.5"
  }
 },
 "nbformat": 4,
 "nbformat_minor": 2
}
